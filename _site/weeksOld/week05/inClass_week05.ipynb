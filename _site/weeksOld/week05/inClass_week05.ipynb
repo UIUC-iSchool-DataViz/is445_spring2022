{
 "cells": [
  {
   "cell_type": "markdown",
   "id": "respective-store",
   "metadata": {},
   "source": [
    "# In Class Notebook, Week 05"
   ]
  },
  {
   "cell_type": "markdown",
   "id": "2a597611",
   "metadata": {},
   "source": [
    "You can always paste the URL of this notebook (https://github.com/UIUC-iSchool-DataViz/is445_AOUAOG_fall2021/blob/master/week05/inClass_week05.ipynb ) into the nbviewer interface for a plain-text rendering:\n",
    "\n",
    "https://kokes.github.io/nbviewer.js/viewer.html"
   ]
  },
  {
   "cell_type": "markdown",
   "id": "1e5591aa",
   "metadata": {},
   "source": [
    "## Review from last week"
   ]
  },
  {
   "cell_type": "code",
   "execution_count": 1,
   "id": "3e6d8caf",
   "metadata": {},
   "outputs": [],
   "source": [
    "# import usual things:\n",
    "import matplotlib.pyplot as plt\n",
    "import numpy as np\n",
    "import pandas as pd\n",
    "# newest library\n",
    "import ipywidgets"
   ]
  },
  {
   "cell_type": "code",
   "execution_count": 2,
   "id": "60cc5bc0",
   "metadata": {},
   "outputs": [],
   "source": [
    "buildings = pd.read_csv('https://uiuc-ischool-dataviz.github.io/is445_AOUAOG_fall2021/week02/data/building_inventory.csv',\n",
    "               na_values={'Square Footage': 0, \n",
    "                         'Year Acquired': 0,\n",
    "                         'Year Constructed': 0, \n",
    "                         'Floors':0}) # specifying what 'Column Name': Value is NaN"
   ]
  },
  {
   "cell_type": "code",
   "execution_count": 3,
   "id": "30693fe3",
   "metadata": {},
   "outputs": [
    {
     "data": {
      "text/html": [
       "<div>\n",
       "<style scoped>\n",
       "    .dataframe tbody tr th:only-of-type {\n",
       "        vertical-align: middle;\n",
       "    }\n",
       "\n",
       "    .dataframe tbody tr th {\n",
       "        vertical-align: top;\n",
       "    }\n",
       "\n",
       "    .dataframe thead th {\n",
       "        text-align: right;\n",
       "    }\n",
       "</style>\n",
       "<table border=\"1\" class=\"dataframe\">\n",
       "  <thead>\n",
       "    <tr style=\"text-align: right;\">\n",
       "      <th></th>\n",
       "      <th>Agency Name</th>\n",
       "      <th>Location Name</th>\n",
       "      <th>Address</th>\n",
       "      <th>City</th>\n",
       "      <th>Zip code</th>\n",
       "      <th>County</th>\n",
       "      <th>Congress Dist</th>\n",
       "      <th>Congressional Full Name</th>\n",
       "      <th>Rep Dist</th>\n",
       "      <th>Rep Full Name</th>\n",
       "      <th>...</th>\n",
       "      <th>Bldg Status</th>\n",
       "      <th>Year Acquired</th>\n",
       "      <th>Year Constructed</th>\n",
       "      <th>Square Footage</th>\n",
       "      <th>Total Floors</th>\n",
       "      <th>Floors Above Grade</th>\n",
       "      <th>Floors Below Grade</th>\n",
       "      <th>Usage Description</th>\n",
       "      <th>Usage Description 2</th>\n",
       "      <th>Usage Description 3</th>\n",
       "    </tr>\n",
       "  </thead>\n",
       "  <tbody>\n",
       "    <tr>\n",
       "      <th>0</th>\n",
       "      <td>Department of Natural Resources</td>\n",
       "      <td>Anderson Lake Conservation Area - Fulton County</td>\n",
       "      <td>Anderson Lake C.a.</td>\n",
       "      <td>Astoria</td>\n",
       "      <td>61501</td>\n",
       "      <td>Fulton</td>\n",
       "      <td>17</td>\n",
       "      <td>Cheri Bustos</td>\n",
       "      <td>93</td>\n",
       "      <td>Hammond Norine K.</td>\n",
       "      <td>...</td>\n",
       "      <td>In Use</td>\n",
       "      <td>1975.0</td>\n",
       "      <td>1975.0</td>\n",
       "      <td>144.0</td>\n",
       "      <td>1</td>\n",
       "      <td>1</td>\n",
       "      <td>0</td>\n",
       "      <td>Unusual</td>\n",
       "      <td>Unusual</td>\n",
       "      <td>Not provided</td>\n",
       "    </tr>\n",
       "    <tr>\n",
       "      <th>1</th>\n",
       "      <td>Department of Natural Resources</td>\n",
       "      <td>Anderson Lake Conservation Area - Fulton County</td>\n",
       "      <td>Anderson Lake C.a.</td>\n",
       "      <td>Astoria</td>\n",
       "      <td>61501</td>\n",
       "      <td>Fulton</td>\n",
       "      <td>17</td>\n",
       "      <td>Cheri Bustos</td>\n",
       "      <td>93</td>\n",
       "      <td>Hammond Norine K.</td>\n",
       "      <td>...</td>\n",
       "      <td>In Use</td>\n",
       "      <td>2004.0</td>\n",
       "      <td>2004.0</td>\n",
       "      <td>144.0</td>\n",
       "      <td>1</td>\n",
       "      <td>1</td>\n",
       "      <td>0</td>\n",
       "      <td>Unusual</td>\n",
       "      <td>Unusual</td>\n",
       "      <td>Not provided</td>\n",
       "    </tr>\n",
       "    <tr>\n",
       "      <th>2</th>\n",
       "      <td>Department of Natural Resources</td>\n",
       "      <td>Anderson Lake Conservation Area - Fulton County</td>\n",
       "      <td>Anderson Lake C.a.</td>\n",
       "      <td>Astoria</td>\n",
       "      <td>61501</td>\n",
       "      <td>Fulton</td>\n",
       "      <td>17</td>\n",
       "      <td>Cheri Bustos</td>\n",
       "      <td>93</td>\n",
       "      <td>Hammond Norine K.</td>\n",
       "      <td>...</td>\n",
       "      <td>In Use</td>\n",
       "      <td>2004.0</td>\n",
       "      <td>2004.0</td>\n",
       "      <td>144.0</td>\n",
       "      <td>1</td>\n",
       "      <td>1</td>\n",
       "      <td>0</td>\n",
       "      <td>Unusual</td>\n",
       "      <td>Unusual</td>\n",
       "      <td>Not provided</td>\n",
       "    </tr>\n",
       "    <tr>\n",
       "      <th>3</th>\n",
       "      <td>Department of Natural Resources</td>\n",
       "      <td>Anderson Lake Conservation Area - Fulton County</td>\n",
       "      <td>Anderson Lake C.a.</td>\n",
       "      <td>Astoria</td>\n",
       "      <td>61501</td>\n",
       "      <td>Fulton</td>\n",
       "      <td>17</td>\n",
       "      <td>Cheri Bustos</td>\n",
       "      <td>93</td>\n",
       "      <td>Hammond Norine K.</td>\n",
       "      <td>...</td>\n",
       "      <td>In Use</td>\n",
       "      <td>2004.0</td>\n",
       "      <td>2004.0</td>\n",
       "      <td>144.0</td>\n",
       "      <td>1</td>\n",
       "      <td>1</td>\n",
       "      <td>0</td>\n",
       "      <td>Unusual</td>\n",
       "      <td>Unusual</td>\n",
       "      <td>Not provided</td>\n",
       "    </tr>\n",
       "    <tr>\n",
       "      <th>4</th>\n",
       "      <td>Department of Natural Resources</td>\n",
       "      <td>Anderson Lake Conservation Area - Fulton County</td>\n",
       "      <td>Anderson Lake C.a.</td>\n",
       "      <td>Astoria</td>\n",
       "      <td>61501</td>\n",
       "      <td>Fulton</td>\n",
       "      <td>17</td>\n",
       "      <td>Cheri Bustos</td>\n",
       "      <td>93</td>\n",
       "      <td>Hammond Norine K.</td>\n",
       "      <td>...</td>\n",
       "      <td>In Use</td>\n",
       "      <td>2004.0</td>\n",
       "      <td>2004.0</td>\n",
       "      <td>144.0</td>\n",
       "      <td>1</td>\n",
       "      <td>1</td>\n",
       "      <td>0</td>\n",
       "      <td>Unusual</td>\n",
       "      <td>Unusual</td>\n",
       "      <td>Not provided</td>\n",
       "    </tr>\n",
       "    <tr>\n",
       "      <th>...</th>\n",
       "      <td>...</td>\n",
       "      <td>...</td>\n",
       "      <td>...</td>\n",
       "      <td>...</td>\n",
       "      <td>...</td>\n",
       "      <td>...</td>\n",
       "      <td>...</td>\n",
       "      <td>...</td>\n",
       "      <td>...</td>\n",
       "      <td>...</td>\n",
       "      <td>...</td>\n",
       "      <td>...</td>\n",
       "      <td>...</td>\n",
       "      <td>...</td>\n",
       "      <td>...</td>\n",
       "      <td>...</td>\n",
       "      <td>...</td>\n",
       "      <td>...</td>\n",
       "      <td>...</td>\n",
       "      <td>...</td>\n",
       "      <td>...</td>\n",
       "    </tr>\n",
       "    <tr>\n",
       "      <th>8857</th>\n",
       "      <td>Department of Transportation</td>\n",
       "      <td>Belvidere Maintenance Storage Facility - Boone...</td>\n",
       "      <td>9797 Illinois Rte. 76</td>\n",
       "      <td>Belvidere</td>\n",
       "      <td>61008</td>\n",
       "      <td>Boone</td>\n",
       "      <td>16</td>\n",
       "      <td>Adam Kinzinger</td>\n",
       "      <td>69</td>\n",
       "      <td>Sosnowski Joe</td>\n",
       "      <td>...</td>\n",
       "      <td>In Use</td>\n",
       "      <td>NaN</td>\n",
       "      <td>NaN</td>\n",
       "      <td>432.0</td>\n",
       "      <td>1</td>\n",
       "      <td>0</td>\n",
       "      <td>0</td>\n",
       "      <td>Storage</td>\n",
       "      <td>NaN</td>\n",
       "      <td>NaN</td>\n",
       "    </tr>\n",
       "    <tr>\n",
       "      <th>8858</th>\n",
       "      <td>Department of Transportation</td>\n",
       "      <td>Belvidere Maintenance Storage Facility - Boone...</td>\n",
       "      <td>9797 Illinois Rte 76</td>\n",
       "      <td>Belvidere</td>\n",
       "      <td>61008</td>\n",
       "      <td>Boone</td>\n",
       "      <td>16</td>\n",
       "      <td>Adam Kinzinger</td>\n",
       "      <td>69</td>\n",
       "      <td>Sosnowski Joe</td>\n",
       "      <td>...</td>\n",
       "      <td>In Use</td>\n",
       "      <td>NaN</td>\n",
       "      <td>NaN</td>\n",
       "      <td>330.0</td>\n",
       "      <td>1</td>\n",
       "      <td>0</td>\n",
       "      <td>0</td>\n",
       "      <td>Storage</td>\n",
       "      <td>NaN</td>\n",
       "      <td>NaN</td>\n",
       "    </tr>\n",
       "    <tr>\n",
       "      <th>8859</th>\n",
       "      <td>Department of Transportation</td>\n",
       "      <td>Quincy Maintenance Storage Facility</td>\n",
       "      <td>800 Koch's Lane</td>\n",
       "      <td>Quincy</td>\n",
       "      <td>62305</td>\n",
       "      <td>Adams</td>\n",
       "      <td>18</td>\n",
       "      <td>Darin M. LaHood</td>\n",
       "      <td>94</td>\n",
       "      <td>Frese Randy E.</td>\n",
       "      <td>...</td>\n",
       "      <td>In Use</td>\n",
       "      <td>NaN</td>\n",
       "      <td>1987.0</td>\n",
       "      <td>130.0</td>\n",
       "      <td>1</td>\n",
       "      <td>0</td>\n",
       "      <td>0</td>\n",
       "      <td>Storage</td>\n",
       "      <td>High Hazard</td>\n",
       "      <td>NaN</td>\n",
       "    </tr>\n",
       "    <tr>\n",
       "      <th>8860</th>\n",
       "      <td>Illinois Community College Board</td>\n",
       "      <td>Illinois Valley Community College - Oglesby</td>\n",
       "      <td>815 North Orlando Smith Avenue</td>\n",
       "      <td>Oglesby</td>\n",
       "      <td>61348</td>\n",
       "      <td>LaSalle</td>\n",
       "      <td>16</td>\n",
       "      <td>Adam Kinzinger</td>\n",
       "      <td>76</td>\n",
       "      <td>Long Jerry Lee</td>\n",
       "      <td>...</td>\n",
       "      <td>In Use</td>\n",
       "      <td>1971.0</td>\n",
       "      <td>1971.0</td>\n",
       "      <td>49552.0</td>\n",
       "      <td>1</td>\n",
       "      <td>1</td>\n",
       "      <td>0</td>\n",
       "      <td>Education</td>\n",
       "      <td>Education</td>\n",
       "      <td>Not provided</td>\n",
       "    </tr>\n",
       "    <tr>\n",
       "      <th>8861</th>\n",
       "      <td>Department of Military Affairs</td>\n",
       "      <td>Peoria Army Aviation Support Facility</td>\n",
       "      <td>2323 S. Airport Rd</td>\n",
       "      <td>Peoria</td>\n",
       "      <td>61607</td>\n",
       "      <td>Peoria</td>\n",
       "      <td>17</td>\n",
       "      <td>Cheri Bustos</td>\n",
       "      <td>92</td>\n",
       "      <td>Gordon-Booth Jehan</td>\n",
       "      <td>...</td>\n",
       "      <td>In Progress</td>\n",
       "      <td>NaN</td>\n",
       "      <td>2017.0</td>\n",
       "      <td>288.0</td>\n",
       "      <td>1</td>\n",
       "      <td>0</td>\n",
       "      <td>0</td>\n",
       "      <td>Utiility &amp; Miscellan</td>\n",
       "      <td>Utiility &amp; Miscellan</td>\n",
       "      <td>NaN</td>\n",
       "    </tr>\n",
       "  </tbody>\n",
       "</table>\n",
       "<p>8862 rows × 22 columns</p>\n",
       "</div>"
      ],
      "text/plain": [
       "                           Agency Name  \\\n",
       "0      Department of Natural Resources   \n",
       "1      Department of Natural Resources   \n",
       "2      Department of Natural Resources   \n",
       "3      Department of Natural Resources   \n",
       "4      Department of Natural Resources   \n",
       "...                                ...   \n",
       "8857      Department of Transportation   \n",
       "8858      Department of Transportation   \n",
       "8859      Department of Transportation   \n",
       "8860  Illinois Community College Board   \n",
       "8861    Department of Military Affairs   \n",
       "\n",
       "                                          Location Name  \\\n",
       "0       Anderson Lake Conservation Area - Fulton County   \n",
       "1       Anderson Lake Conservation Area - Fulton County   \n",
       "2       Anderson Lake Conservation Area - Fulton County   \n",
       "3       Anderson Lake Conservation Area - Fulton County   \n",
       "4       Anderson Lake Conservation Area - Fulton County   \n",
       "...                                                 ...   \n",
       "8857  Belvidere Maintenance Storage Facility - Boone...   \n",
       "8858  Belvidere Maintenance Storage Facility - Boone...   \n",
       "8859                Quincy Maintenance Storage Facility   \n",
       "8860        Illinois Valley Community College - Oglesby   \n",
       "8861              Peoria Army Aviation Support Facility   \n",
       "\n",
       "                             Address       City  Zip code   County  \\\n",
       "0                 Anderson Lake C.a.    Astoria     61501   Fulton   \n",
       "1                 Anderson Lake C.a.    Astoria     61501   Fulton   \n",
       "2                 Anderson Lake C.a.    Astoria     61501   Fulton   \n",
       "3                 Anderson Lake C.a.    Astoria     61501   Fulton   \n",
       "4                 Anderson Lake C.a.    Astoria     61501   Fulton   \n",
       "...                              ...        ...       ...      ...   \n",
       "8857           9797 Illinois Rte. 76  Belvidere     61008    Boone   \n",
       "8858            9797 Illinois Rte 76  Belvidere     61008    Boone   \n",
       "8859                 800 Koch's Lane     Quincy     62305    Adams   \n",
       "8860  815 North Orlando Smith Avenue    Oglesby     61348  LaSalle   \n",
       "8861              2323 S. Airport Rd     Peoria     61607   Peoria   \n",
       "\n",
       "      Congress Dist Congressional Full Name  Rep Dist       Rep Full Name  \\\n",
       "0                17            Cheri Bustos        93   Hammond Norine K.   \n",
       "1                17            Cheri Bustos        93   Hammond Norine K.   \n",
       "2                17            Cheri Bustos        93   Hammond Norine K.   \n",
       "3                17            Cheri Bustos        93   Hammond Norine K.   \n",
       "4                17            Cheri Bustos        93   Hammond Norine K.   \n",
       "...             ...                     ...       ...                 ...   \n",
       "8857             16          Adam Kinzinger        69       Sosnowski Joe   \n",
       "8858             16          Adam Kinzinger        69       Sosnowski Joe   \n",
       "8859             18         Darin M. LaHood        94      Frese Randy E.   \n",
       "8860             16          Adam Kinzinger        76      Long Jerry Lee   \n",
       "8861             17            Cheri Bustos        92  Gordon-Booth Jehan   \n",
       "\n",
       "      ...  Bldg Status Year Acquired Year Constructed  Square Footage  \\\n",
       "0     ...       In Use        1975.0           1975.0           144.0   \n",
       "1     ...       In Use        2004.0           2004.0           144.0   \n",
       "2     ...       In Use        2004.0           2004.0           144.0   \n",
       "3     ...       In Use        2004.0           2004.0           144.0   \n",
       "4     ...       In Use        2004.0           2004.0           144.0   \n",
       "...   ...          ...           ...              ...             ...   \n",
       "8857  ...       In Use           NaN              NaN           432.0   \n",
       "8858  ...       In Use           NaN              NaN           330.0   \n",
       "8859  ...       In Use           NaN           1987.0           130.0   \n",
       "8860  ...       In Use        1971.0           1971.0         49552.0   \n",
       "8861  ...  In Progress           NaN           2017.0           288.0   \n",
       "\n",
       "      Total Floors  Floors Above Grade  Floors Below Grade  \\\n",
       "0                1                   1                   0   \n",
       "1                1                   1                   0   \n",
       "2                1                   1                   0   \n",
       "3                1                   1                   0   \n",
       "4                1                   1                   0   \n",
       "...            ...                 ...                 ...   \n",
       "8857             1                   0                   0   \n",
       "8858             1                   0                   0   \n",
       "8859             1                   0                   0   \n",
       "8860             1                   1                   0   \n",
       "8861             1                   0                   0   \n",
       "\n",
       "         Usage Description   Usage Description 2 Usage Description 3  \n",
       "0                  Unusual               Unusual        Not provided  \n",
       "1                  Unusual               Unusual        Not provided  \n",
       "2                  Unusual               Unusual        Not provided  \n",
       "3                  Unusual               Unusual        Not provided  \n",
       "4                  Unusual               Unusual        Not provided  \n",
       "...                    ...                   ...                 ...  \n",
       "8857               Storage                   NaN                 NaN  \n",
       "8858               Storage                   NaN                 NaN  \n",
       "8859               Storage           High Hazard                 NaN  \n",
       "8860             Education             Education        Not provided  \n",
       "8861  Utiility & Miscellan  Utiility & Miscellan                 NaN  \n",
       "\n",
       "[8862 rows x 22 columns]"
      ]
     },
     "execution_count": 3,
     "metadata": {},
     "output_type": "execute_result"
    }
   ],
   "source": [
    "buildings"
   ]
  },
  {
   "cell_type": "code",
   "execution_count": 8,
   "id": "3c7562f6",
   "metadata": {},
   "outputs": [],
   "source": [
    "#stats = buildings.groupby(\"Year Acquired\")[\"Congress Dist\"].describe() # Congress dist is numbers, but categorical\n",
    "stats = buildings.groupby(\"Year Acquired\")[\"Square Footage\"].describe() # square footage is numerical"
   ]
  },
  {
   "cell_type": "code",
   "execution_count": 9,
   "id": "09358ecb",
   "metadata": {},
   "outputs": [
    {
     "data": {
      "text/html": [
       "<div>\n",
       "<style scoped>\n",
       "    .dataframe tbody tr th:only-of-type {\n",
       "        vertical-align: middle;\n",
       "    }\n",
       "\n",
       "    .dataframe tbody tr th {\n",
       "        vertical-align: top;\n",
       "    }\n",
       "\n",
       "    .dataframe thead th {\n",
       "        text-align: right;\n",
       "    }\n",
       "</style>\n",
       "<table border=\"1\" class=\"dataframe\">\n",
       "  <thead>\n",
       "    <tr style=\"text-align: right;\">\n",
       "      <th></th>\n",
       "      <th>count</th>\n",
       "      <th>mean</th>\n",
       "      <th>std</th>\n",
       "      <th>min</th>\n",
       "      <th>25%</th>\n",
       "      <th>50%</th>\n",
       "      <th>75%</th>\n",
       "      <th>max</th>\n",
       "    </tr>\n",
       "    <tr>\n",
       "      <th>Year Acquired</th>\n",
       "      <th></th>\n",
       "      <th></th>\n",
       "      <th></th>\n",
       "      <th></th>\n",
       "      <th></th>\n",
       "      <th></th>\n",
       "      <th></th>\n",
       "      <th></th>\n",
       "    </tr>\n",
       "  </thead>\n",
       "  <tbody>\n",
       "    <tr>\n",
       "      <th>1753.0</th>\n",
       "      <td>1.0</td>\n",
       "      <td>1200.000000</td>\n",
       "      <td>NaN</td>\n",
       "      <td>1200.0</td>\n",
       "      <td>1200.0</td>\n",
       "      <td>1200.0</td>\n",
       "      <td>1200.00</td>\n",
       "      <td>1200.0</td>\n",
       "    </tr>\n",
       "    <tr>\n",
       "      <th>1802.0</th>\n",
       "      <td>2.0</td>\n",
       "      <td>2220.000000</td>\n",
       "      <td>1943.129435</td>\n",
       "      <td>846.0</td>\n",
       "      <td>1533.0</td>\n",
       "      <td>2220.0</td>\n",
       "      <td>2907.00</td>\n",
       "      <td>3594.0</td>\n",
       "    </tr>\n",
       "    <tr>\n",
       "      <th>1810.0</th>\n",
       "      <td>3.0</td>\n",
       "      <td>1344.333333</td>\n",
       "      <td>1809.945948</td>\n",
       "      <td>216.0</td>\n",
       "      <td>300.5</td>\n",
       "      <td>385.0</td>\n",
       "      <td>1908.50</td>\n",
       "      <td>3432.0</td>\n",
       "    </tr>\n",
       "    <tr>\n",
       "      <th>1832.0</th>\n",
       "      <td>1.0</td>\n",
       "      <td>120000.000000</td>\n",
       "      <td>NaN</td>\n",
       "      <td>120000.0</td>\n",
       "      <td>120000.0</td>\n",
       "      <td>120000.0</td>\n",
       "      <td>120000.00</td>\n",
       "      <td>120000.0</td>\n",
       "    </tr>\n",
       "    <tr>\n",
       "      <th>1837.0</th>\n",
       "      <td>1.0</td>\n",
       "      <td>10302.000000</td>\n",
       "      <td>NaN</td>\n",
       "      <td>10302.0</td>\n",
       "      <td>10302.0</td>\n",
       "      <td>10302.0</td>\n",
       "      <td>10302.00</td>\n",
       "      <td>10302.0</td>\n",
       "    </tr>\n",
       "    <tr>\n",
       "      <th>...</th>\n",
       "      <td>...</td>\n",
       "      <td>...</td>\n",
       "      <td>...</td>\n",
       "      <td>...</td>\n",
       "      <td>...</td>\n",
       "      <td>...</td>\n",
       "      <td>...</td>\n",
       "      <td>...</td>\n",
       "    </tr>\n",
       "    <tr>\n",
       "      <th>2015.0</th>\n",
       "      <td>20.0</td>\n",
       "      <td>15254.650000</td>\n",
       "      <td>29153.085290</td>\n",
       "      <td>144.0</td>\n",
       "      <td>696.0</td>\n",
       "      <td>3152.0</td>\n",
       "      <td>10590.25</td>\n",
       "      <td>105000.0</td>\n",
       "    </tr>\n",
       "    <tr>\n",
       "      <th>2016.0</th>\n",
       "      <td>10.0</td>\n",
       "      <td>30483.900000</td>\n",
       "      <td>61864.180491</td>\n",
       "      <td>1152.0</td>\n",
       "      <td>2464.0</td>\n",
       "      <td>3352.5</td>\n",
       "      <td>3793.00</td>\n",
       "      <td>184000.0</td>\n",
       "    </tr>\n",
       "    <tr>\n",
       "      <th>2017.0</th>\n",
       "      <td>1.0</td>\n",
       "      <td>6720.000000</td>\n",
       "      <td>NaN</td>\n",
       "      <td>6720.0</td>\n",
       "      <td>6720.0</td>\n",
       "      <td>6720.0</td>\n",
       "      <td>6720.00</td>\n",
       "      <td>6720.0</td>\n",
       "    </tr>\n",
       "    <tr>\n",
       "      <th>2018.0</th>\n",
       "      <td>4.0</td>\n",
       "      <td>4290.000000</td>\n",
       "      <td>5153.644342</td>\n",
       "      <td>1455.0</td>\n",
       "      <td>1455.0</td>\n",
       "      <td>1852.5</td>\n",
       "      <td>4687.50</td>\n",
       "      <td>12000.0</td>\n",
       "    </tr>\n",
       "    <tr>\n",
       "      <th>2019.0</th>\n",
       "      <td>2.0</td>\n",
       "      <td>760.000000</td>\n",
       "      <td>0.000000</td>\n",
       "      <td>760.0</td>\n",
       "      <td>760.0</td>\n",
       "      <td>760.0</td>\n",
       "      <td>760.00</td>\n",
       "      <td>760.0</td>\n",
       "    </tr>\n",
       "  </tbody>\n",
       "</table>\n",
       "<p>171 rows × 8 columns</p>\n",
       "</div>"
      ],
      "text/plain": [
       "               count           mean           std       min       25%  \\\n",
       "Year Acquired                                                           \n",
       "1753.0           1.0    1200.000000           NaN    1200.0    1200.0   \n",
       "1802.0           2.0    2220.000000   1943.129435     846.0    1533.0   \n",
       "1810.0           3.0    1344.333333   1809.945948     216.0     300.5   \n",
       "1832.0           1.0  120000.000000           NaN  120000.0  120000.0   \n",
       "1837.0           1.0   10302.000000           NaN   10302.0   10302.0   \n",
       "...              ...            ...           ...       ...       ...   \n",
       "2015.0          20.0   15254.650000  29153.085290     144.0     696.0   \n",
       "2016.0          10.0   30483.900000  61864.180491    1152.0    2464.0   \n",
       "2017.0           1.0    6720.000000           NaN    6720.0    6720.0   \n",
       "2018.0           4.0    4290.000000   5153.644342    1455.0    1455.0   \n",
       "2019.0           2.0     760.000000      0.000000     760.0     760.0   \n",
       "\n",
       "                    50%        75%       max  \n",
       "Year Acquired                                 \n",
       "1753.0           1200.0    1200.00    1200.0  \n",
       "1802.0           2220.0    2907.00    3594.0  \n",
       "1810.0            385.0    1908.50    3432.0  \n",
       "1832.0         120000.0  120000.00  120000.0  \n",
       "1837.0          10302.0   10302.00   10302.0  \n",
       "...                 ...        ...       ...  \n",
       "2015.0           3152.0   10590.25  105000.0  \n",
       "2016.0           3352.5    3793.00  184000.0  \n",
       "2017.0           6720.0    6720.00    6720.0  \n",
       "2018.0           1852.5    4687.50   12000.0  \n",
       "2019.0            760.0     760.00     760.0  \n",
       "\n",
       "[171 rows x 8 columns]"
      ]
     },
     "execution_count": 9,
     "metadata": {},
     "output_type": "execute_result"
    }
   ],
   "source": [
    "stats"
   ]
  },
  {
   "cell_type": "code",
   "execution_count": 13,
   "id": "63cbc4de",
   "metadata": {},
   "outputs": [
    {
     "data": {
      "image/png": "[encoded data removed]",
      "text/plain": [
       "<Figure size 432x216 with 1 Axes>"
      ]
     },
     "metadata": {
      "needs_background": "light"
     },
     "output_type": "display_data"
    }
   ],
   "source": [
    "# Step 1: quick plot\n",
    "fig, ax = plt.subplots(1,1,figsize=(6,3))\n",
    "ax.plot(stats[\"max\"], marker='.')\n",
    "ax.plot(stats[\"min\"], marker='.')\n",
    "ax.set_xlabel(\"Year\")\n",
    "ax.set_ylabel(\"Min/Max Square footage\")\n",
    "ax.set_yscale('log')"
   ]
  },
  {
   "cell_type": "code",
   "execution_count": 17,
   "id": "518fe517",
   "metadata": {},
   "outputs": [
    {
     "data": {
      "image/png": "[encoded data removed]",
      "text/plain": [
       "<Figure size 432x216 with 1 Axes>"
      ]
     },
     "metadata": {},
     "output_type": "display_data"
    }
   ],
   "source": [
    "# Step 2: use a fixed value of some parameter I want to change\n",
    "#. this case: style of the plot\n",
    "with plt.style.context('fivethirtyeight'): # this style is applied ONLY to this plot and not following\n",
    "    fig, ax = plt.subplots(1,1,figsize=(6,3))\n",
    "    ax.plot(stats[\"max\"], marker='.')\n",
    "    ax.plot(stats[\"min\"], marker='.')\n",
    "    ax.set_xlabel(\"Year\")\n",
    "    ax.set_ylabel(\"Min/Max Square footage\")\n",
    "    ax.set_yscale('log')    "
   ]
  },
  {
   "cell_type": "code",
   "execution_count": 18,
   "id": "83b0c982",
   "metadata": {},
   "outputs": [],
   "source": [
    "#plt.style.available"
   ]
  },
  {
   "cell_type": "code",
   "execution_count": 19,
   "id": "8f36ed89",
   "metadata": {},
   "outputs": [],
   "source": [
    "# Step 3: make our fixed parameter an input to a function\n",
    "def make_plot(style):\n",
    "    with plt.style.context(style): # this style is applied ONLY to this plot and not following\n",
    "        fig, ax = plt.subplots(1,1,figsize=(6,3))\n",
    "        ax.plot(stats[\"max\"], marker='.')\n",
    "        ax.plot(stats[\"min\"], marker='.')\n",
    "        ax.set_xlabel(\"Year\")\n",
    "        ax.set_ylabel(\"Min/Max Square footage\")\n",
    "        ax.set_yscale('log')"
   ]
  },
  {
   "cell_type": "code",
   "execution_count": 20,
   "id": "a72bb64f",
   "metadata": {},
   "outputs": [
    {
     "data": {
      "image/png": "[encoded data removed]",
      "text/plain": [
       "<Figure size 432x216 with 1 Axes>"
      ]
     },
     "metadata": {},
     "output_type": "display_data"
    }
   ],
   "source": [
    "# step 3.5 -- test the function\n",
    "make_plot(\"ggplot\")"
   ]
  },
  {
   "cell_type": "code",
   "execution_count": 21,
   "id": "e5888fd4",
   "metadata": {},
   "outputs": [
    {
     "data": {
      "image/png": "[encoded data removed]",
      "text/plain": [
       "<Figure size 480x240 with 1 Axes>"
      ]
     },
     "metadata": {},
     "output_type": "display_data"
    }
   ],
   "source": [
    "make_plot(\"classic\")"
   ]
  },
  {
   "cell_type": "code",
   "execution_count": 73,
   "id": "ef79444d",
   "metadata": {},
   "outputs": [
    {
     "data": {
      "application/vnd.jupyter.widget-view+json": {
       "model_id": "f545f1544a7746fca059ce88e8d3835b",
       "version_major": 2,
       "version_minor": 0
      },
      "text/plain": [
       "interactive(children=(Dropdown(description='style', options=('Solarize_Light2', '_classic_test_patch', 'bmh', …"
      ]
     },
     "metadata": {},
     "output_type": "display_data"
    }
   ],
   "source": [
    "# Step 4: make the function interactive with a ipywidget decorator\n",
    "@ipywidgets.interact(style=plt.style.available)\n",
    "def make_plot(style):\n",
    "    with plt.style.context(style): # this style is applied ONLY to this plot and not following\n",
    "        fig, ax = plt.subplots(1,1,figsize=(6,3))\n",
    "        ax.plot(stats[\"max\"], marker='.')\n",
    "        ax.plot(stats[\"min\"], marker='.')\n",
    "        ax.set_xlabel(\"Year\")\n",
    "        ax.set_ylabel(\"Min/Max Square footage\")\n",
    "        ax.set_yscale('log')\n",
    "    plt.show()"
   ]
  },
  {
   "cell_type": "code",
   "execution_count": 74,
   "id": "452b29a8",
   "metadata": {},
   "outputs": [
    {
     "data": {
      "application/vnd.jupyter.widget-view+json": {
       "model_id": "35700d405d84488683eaeb3b0ef7234a",
       "version_major": 2,
       "version_minor": 0
      },
      "text/plain": [
       "interactive(children=(Dropdown(description='style', options=('Solarize_Light2', '_classic_test_patch', 'bmh', …"
      ]
     },
     "metadata": {},
     "output_type": "display_data"
    }
   ],
   "source": [
    "# HW hint:\n",
    "@ipywidgets.interact(style=plt.style.available, marker_style=['.','o','s'])\n",
    "def make_plot(style, marker_style):\n",
    "    with plt.style.context(style): # this style is applied ONLY to this plot and not following\n",
    "        fig, ax = plt.subplots(1,1,figsize=(6,3))\n",
    "        ax.plot(stats[\"max\"], marker=marker_style)\n",
    "        ax.plot(stats[\"min\"], marker=marker_style)\n",
    "        ax.set_xlabel(\"Year\")\n",
    "        ax.set_ylabel(\"Min/Max Square footage\")\n",
    "        ax.set_yscale('log')\n",
    "    plt.show()"
   ]
  },
  {
   "cell_type": "markdown",
   "id": "31498cec",
   "metadata": {},
   "source": [
    "## More with widgets"
   ]
  },
  {
   "cell_type": "code",
   "execution_count": 24,
   "id": "ad1efcc9",
   "metadata": {},
   "outputs": [
    {
     "data": {
      "application/vnd.jupyter.widget-view+json": {
       "model_id": "316a167840f14334a96e0fb43ffbb4ab",
       "version_major": 2,
       "version_minor": 0
      },
      "text/plain": [
       "IntText(value=0)"
      ]
     },
     "metadata": {},
     "output_type": "display_data"
    }
   ],
   "source": [
    "itext = ipywidgets.IntText()\n",
    "itext"
   ]
  },
  {
   "cell_type": "markdown",
   "id": "fbbb5149",
   "metadata": {},
   "source": [
    "Some tips if this doesn't display:\n",
    "1. refresh your browser (save first!)\n",
    "1. close and reopen your jupyter notebook\n",
    "1. worst case:\n",
    "\n",
    "```{python}\n",
    "from IPython.display import display\n",
    "display(itext)\n",
    "```"
   ]
  },
  {
   "cell_type": "code",
   "execution_count": 25,
   "id": "6352855b",
   "metadata": {},
   "outputs": [],
   "source": [
    "#!jupyter nbextension enable --py widgetsnbextension"
   ]
  },
  {
   "cell_type": "code",
   "execution_count": 27,
   "id": "ae20dc8a",
   "metadata": {},
   "outputs": [
    {
     "data": {
      "text/plain": [
       "11"
      ]
     },
     "execution_count": 27,
     "metadata": {},
     "output_type": "execute_result"
    }
   ],
   "source": [
    "itext.value"
   ]
  },
  {
   "cell_type": "code",
   "execution_count": 29,
   "id": "381aa8ce",
   "metadata": {},
   "outputs": [],
   "source": [
    "itext.value = 8"
   ]
  },
  {
   "cell_type": "code",
   "execution_count": 31,
   "id": "a08b2571",
   "metadata": {},
   "outputs": [
    {
     "data": {
      "application/vnd.jupyter.widget-view+json": {
       "model_id": "0d6f5c45737a4a33b4fe10a41e11f2e6",
       "version_major": 2,
       "version_minor": 0
      },
      "text/plain": [
       "IntProgress(value=70)"
      ]
     },
     "metadata": {},
     "output_type": "display_data"
    }
   ],
   "source": [
    "ip = ipywidgets.IntProgress(value=70)\n",
    "ip"
   ]
  },
  {
   "cell_type": "code",
   "execution_count": 32,
   "id": "a53f6428",
   "metadata": {},
   "outputs": [
    {
     "data": {
      "application/vnd.jupyter.widget-view+json": {
       "model_id": "d47b238ca62549e88def397ef3a3f07c",
       "version_major": 2,
       "version_minor": 0
      },
      "text/plain": [
       "IntSlider(value=0)"
      ]
     },
     "metadata": {},
     "output_type": "display_data"
    }
   ],
   "source": [
    "irange = ipywidgets.IntSlider(min=0, max=100, step=1)\n",
    "irange"
   ]
  },
  {
   "cell_type": "code",
   "execution_count": 33,
   "id": "609db99c",
   "metadata": {},
   "outputs": [
    {
     "data": {
      "text/plain": [
       "['_dom_classes',\n",
       " '_model_module',\n",
       " '_model_module_version',\n",
       " '_model_name',\n",
       " '_view_count',\n",
       " '_view_module',\n",
       " '_view_module_version',\n",
       " '_view_name',\n",
       " 'bar_style',\n",
       " 'description',\n",
       " 'description_tooltip',\n",
       " 'layout',\n",
       " 'max',\n",
       " 'min',\n",
       " 'orientation',\n",
       " 'style',\n",
       " 'value']"
      ]
     },
     "execution_count": 33,
     "metadata": {},
     "output_type": "execute_result"
    }
   ],
   "source": [
    "ip.keys"
   ]
  },
  {
   "cell_type": "code",
   "execution_count": 34,
   "id": "bb45e7ce",
   "metadata": {},
   "outputs": [
    {
     "data": {
      "text/plain": [
       "['_dom_classes',\n",
       " '_model_module',\n",
       " '_model_module_version',\n",
       " '_model_name',\n",
       " '_view_count',\n",
       " '_view_module',\n",
       " '_view_module_version',\n",
       " '_view_name',\n",
       " 'continuous_update',\n",
       " 'description',\n",
       " 'description_tooltip',\n",
       " 'disabled',\n",
       " 'layout',\n",
       " 'max',\n",
       " 'min',\n",
       " 'orientation',\n",
       " 'readout',\n",
       " 'readout_format',\n",
       " 'step',\n",
       " 'style',\n",
       " 'value']"
      ]
     },
     "execution_count": 34,
     "metadata": {},
     "output_type": "execute_result"
    }
   ],
   "source": [
    "irange.keys"
   ]
  },
  {
   "cell_type": "code",
   "execution_count": 35,
   "id": "877321e2",
   "metadata": {},
   "outputs": [
    {
     "data": {
      "text/plain": [
       "70"
      ]
     },
     "execution_count": 35,
     "metadata": {},
     "output_type": "execute_result"
    }
   ],
   "source": [
    "# want to link:\n",
    "ip.value"
   ]
  },
  {
   "cell_type": "code",
   "execution_count": 36,
   "id": "50b12084",
   "metadata": {},
   "outputs": [
    {
     "data": {
      "text/plain": [
       "72"
      ]
     },
     "execution_count": 36,
     "metadata": {},
     "output_type": "execute_result"
    }
   ],
   "source": [
    "# to:\n",
    "irange.value"
   ]
  },
  {
   "cell_type": "code",
   "execution_count": 37,
   "id": "9c46eee1",
   "metadata": {},
   "outputs": [],
   "source": [
    "ipywidgets.jslink?"
   ]
  },
  {
   "cell_type": "code",
   "execution_count": 38,
   "id": "11766ff8",
   "metadata": {},
   "outputs": [
    {
     "data": {
      "text/plain": [
       "Link(source=(IntProgress(value=70), 'value'), target=(IntSlider(value=72), 'value'))"
      ]
     },
     "metadata": {},
     "output_type": "display_data"
    }
   ],
   "source": [
    "ipywidgets.jslink((ip,'value'),(irange,'value'))"
   ]
  },
  {
   "cell_type": "code",
   "execution_count": 39,
   "id": "f1e0e234",
   "metadata": {},
   "outputs": [
    {
     "data": {
      "application/vnd.jupyter.widget-view+json": {
       "model_id": "0d6f5c45737a4a33b4fe10a41e11f2e6",
       "version_major": 2,
       "version_minor": 0
      },
      "text/plain": [
       "IntProgress(value=70)"
      ]
     },
     "metadata": {},
     "output_type": "display_data"
    }
   ],
   "source": [
    "ip"
   ]
  },
  {
   "cell_type": "code",
   "execution_count": 40,
   "id": "194b3387",
   "metadata": {},
   "outputs": [
    {
     "data": {
      "application/vnd.jupyter.widget-view+json": {
       "model_id": "d47b238ca62549e88def397ef3a3f07c",
       "version_major": 2,
       "version_minor": 0
      },
      "text/plain": [
       "IntSlider(value=70)"
      ]
     },
     "metadata": {},
     "output_type": "display_data"
    }
   ],
   "source": [
    "irange"
   ]
  },
  {
   "cell_type": "code",
   "execution_count": 41,
   "id": "ab5dc47c",
   "metadata": {},
   "outputs": [
    {
     "data": {
      "application/vnd.jupyter.widget-view+json": {
       "model_id": "0d6f05de11ea44c39e1fff684e89f27d",
       "version_major": 2,
       "version_minor": 0
      },
      "text/plain": [
       "VBox(children=(IntProgress(value=100), IntSlider(value=100)))"
      ]
     },
     "metadata": {},
     "output_type": "display_data"
    }
   ],
   "source": [
    "ipywidgets.VBox([ip,irange])"
   ]
  },
  {
   "cell_type": "code",
   "execution_count": 42,
   "id": "de0b9cc2",
   "metadata": {},
   "outputs": [],
   "source": [
    "ipywidgets.jslink?"
   ]
  },
  {
   "cell_type": "code",
   "execution_count": 43,
   "id": "da021500",
   "metadata": {},
   "outputs": [
    {
     "data": {
      "text/plain": [
       "11"
      ]
     },
     "execution_count": 43,
     "metadata": {},
     "output_type": "execute_result"
    }
   ],
   "source": [
    "5+6"
   ]
  },
  {
   "cell_type": "markdown",
   "id": "53b7509f",
   "metadata": {},
   "source": [
    "Redo this whole interface with linking on the backend (Python):"
   ]
  },
  {
   "cell_type": "code",
   "execution_count": 44,
   "id": "30753fc1",
   "metadata": {},
   "outputs": [],
   "source": [
    "ip2 = ipywidgets.IntProgress(value=90)\n",
    "irange2 = ipywidgets.IntSlider(min=0,max=100,step=1)"
   ]
  },
  {
   "cell_type": "code",
   "execution_count": 45,
   "id": "e935894c",
   "metadata": {},
   "outputs": [
    {
     "data": {
      "text/plain": [
       "<traitlets.traitlets.link at 0x7fb9e8520990>"
      ]
     },
     "execution_count": 45,
     "metadata": {},
     "output_type": "execute_result"
    }
   ],
   "source": [
    "ipywidgets.link((ip2,'value'),(irange2,'value'))"
   ]
  },
  {
   "cell_type": "code",
   "execution_count": 46,
   "id": "fafc0e7d",
   "metadata": {},
   "outputs": [
    {
     "data": {
      "application/vnd.jupyter.widget-view+json": {
       "model_id": "7e32539566244d78a8efad40a3e1acc5",
       "version_major": 2,
       "version_minor": 0
      },
      "text/plain": [
       "VBox(children=(IntProgress(value=90), IntSlider(value=90)))"
      ]
     },
     "metadata": {},
     "output_type": "display_data"
    }
   ],
   "source": [
    "ipywidgets.VBox([ip2,irange2])"
   ]
  },
  {
   "cell_type": "code",
   "execution_count": 47,
   "id": "459274a0",
   "metadata": {},
   "outputs": [],
   "source": [
    "ipywidgets.link?"
   ]
  },
  {
   "cell_type": "markdown",
   "id": "17a78df6",
   "metadata": {},
   "source": [
    "More complex example:"
   ]
  },
  {
   "cell_type": "code",
   "execution_count": 56,
   "id": "2d3f6b0f",
   "metadata": {},
   "outputs": [
    {
     "data": {
      "application/vnd.jupyter.widget-view+json": {
       "model_id": "00fb31bb4104442da16fc8fd11f177b6",
       "version_major": 2,
       "version_minor": 0
      },
      "text/plain": [
       "Button(description='I am a button!', style=ButtonStyle())"
      ]
     },
     "metadata": {},
     "output_type": "display_data"
    },
    {
     "name": "stdout",
     "output_type": "stream",
     "text": [
      "I have clicked\n"
     ]
    }
   ],
   "source": [
    "button = ipywidgets.Button(description=\"I am a button!\")\n",
    "button"
   ]
  },
  {
   "cell_type": "code",
   "execution_count": 57,
   "id": "ce65e833",
   "metadata": {},
   "outputs": [],
   "source": [
    "def say_click(event): \n",
    "    print(\"I have clicked\")"
   ]
  },
  {
   "cell_type": "code",
   "execution_count": 58,
   "id": "1df1225d",
   "metadata": {},
   "outputs": [],
   "source": [
    "button.on_click?"
   ]
  },
  {
   "cell_type": "code",
   "execution_count": 59,
   "id": "1465c352",
   "metadata": {},
   "outputs": [],
   "source": [
    "button.on_click(say_click) # the function we want to have run is the input"
   ]
  },
  {
   "cell_type": "code",
   "execution_count": 75,
   "id": "3df6d71b",
   "metadata": {},
   "outputs": [
    {
     "data": {
      "text/plain": [
       "['_dom_classes',\n",
       " '_model_module',\n",
       " '_model_module_version',\n",
       " '_model_name',\n",
       " '_view_count',\n",
       " '_view_module',\n",
       " '_view_module_version',\n",
       " '_view_name',\n",
       " 'button_style',\n",
       " 'description',\n",
       " 'disabled',\n",
       " 'icon',\n",
       " 'layout',\n",
       " 'style',\n",
       " 'tooltip']"
      ]
     },
     "execution_count": 75,
     "metadata": {},
     "output_type": "execute_result"
    }
   ],
   "source": [
    "button.keys"
   ]
  },
  {
   "cell_type": "code",
   "execution_count": 76,
   "id": "8f8904ac",
   "metadata": {},
   "outputs": [
    {
     "data": {
      "text/plain": [
       "'I am a button!'"
      ]
     },
     "execution_count": 76,
     "metadata": {},
     "output_type": "execute_result"
    }
   ],
   "source": [
    "button.description"
   ]
  },
  {
   "cell_type": "code",
   "execution_count": 60,
   "id": "01835088",
   "metadata": {},
   "outputs": [],
   "source": [
    "#button.on_click(print(\"hi\"))"
   ]
  },
  {
   "cell_type": "code",
   "execution_count": 61,
   "id": "be3bee26",
   "metadata": {},
   "outputs": [
    {
     "data": {
      "application/vnd.jupyter.widget-view+json": {
       "model_id": "5e0b38bafa4941159551d0f15b9ef1b2",
       "version_major": 2,
       "version_minor": 0
      },
      "text/plain": [
       "IntSlider(value=0, orientation='vertical')"
      ]
     },
     "metadata": {},
     "output_type": "display_data"
    }
   ],
   "source": [
    "islider = ipywidgets.IntSlider(min=0,max=100,step=1, orientation='vertical')\n",
    "islider"
   ]
  },
  {
   "cell_type": "code",
   "execution_count": 62,
   "id": "d581748a",
   "metadata": {},
   "outputs": [
    {
     "data": {
      "text/plain": [
       "['_dom_classes',\n",
       " '_model_module',\n",
       " '_model_module_version',\n",
       " '_model_name',\n",
       " '_view_count',\n",
       " '_view_module',\n",
       " '_view_module_version',\n",
       " '_view_name',\n",
       " 'continuous_update',\n",
       " 'description',\n",
       " 'description_tooltip',\n",
       " 'disabled',\n",
       " 'layout',\n",
       " 'max',\n",
       " 'min',\n",
       " 'orientation',\n",
       " 'readout',\n",
       " 'readout_format',\n",
       " 'step',\n",
       " 'style',\n",
       " 'value']"
      ]
     },
     "execution_count": 62,
     "metadata": {},
     "output_type": "execute_result"
    }
   ],
   "source": [
    "islider.keys"
   ]
  },
  {
   "cell_type": "code",
   "execution_count": 63,
   "id": "ada4bacd",
   "metadata": {},
   "outputs": [
    {
     "data": {
      "text/plain": [
       "['_model_module',\n",
       " '_model_module_version',\n",
       " '_model_name',\n",
       " '_view_count',\n",
       " '_view_module',\n",
       " '_view_module_version',\n",
       " '_view_name',\n",
       " 'description_width',\n",
       " 'handle_color']"
      ]
     },
     "execution_count": 63,
     "metadata": {},
     "output_type": "execute_result"
    }
   ],
   "source": [
    "islider.style.keys"
   ]
  },
  {
   "cell_type": "code",
   "execution_count": 64,
   "id": "97b50db5",
   "metadata": {},
   "outputs": [],
   "source": [
    "islider.style.handle_color=\"#750075\""
   ]
  },
  {
   "cell_type": "code",
   "execution_count": 65,
   "id": "0326f40a",
   "metadata": {},
   "outputs": [
    {
     "data": {
      "application/vnd.jupyter.widget-view+json": {
       "model_id": "5e0b38bafa4941159551d0f15b9ef1b2",
       "version_major": 2,
       "version_minor": 0
      },
      "text/plain": [
       "IntSlider(value=38, orientation='vertical', style=SliderStyle(handle_color='#750075'))"
      ]
     },
     "metadata": {},
     "output_type": "display_data"
    }
   ],
   "source": [
    "islider"
   ]
  },
  {
   "cell_type": "code",
   "execution_count": 66,
   "id": "692b01b7",
   "metadata": {},
   "outputs": [
    {
     "data": {
      "application/vnd.jupyter.widget-view+json": {
       "model_id": "64efe5c090b143daa7d4a589e7d3f0b7",
       "version_major": 2,
       "version_minor": 0
      },
      "text/plain": [
       "ColorPicker(value='black')"
      ]
     },
     "metadata": {},
     "output_type": "display_data"
    }
   ],
   "source": [
    "cp = ipywidgets.ColorPicker()\n",
    "cp"
   ]
  },
  {
   "cell_type": "code",
   "execution_count": 67,
   "id": "75d2d5dc",
   "metadata": {},
   "outputs": [
    {
     "data": {
      "text/plain": [
       "<traitlets.traitlets.link at 0x7fb9d07fe950>"
      ]
     },
     "execution_count": 67,
     "metadata": {},
     "output_type": "execute_result"
    }
   ],
   "source": [
    "ipywidgets.link((cp,'value'),(islider.style,'handle_color'))"
   ]
  },
  {
   "cell_type": "code",
   "execution_count": 68,
   "id": "558dbac8",
   "metadata": {},
   "outputs": [
    {
     "data": {
      "application/vnd.jupyter.widget-view+json": {
       "model_id": "67253aed40d847ccb356531b43996e06",
       "version_major": 2,
       "version_minor": 0
      },
      "text/plain": [
       "VBox(children=(ColorPicker(value='#28863f'), IntSlider(value=77, orientation='vertical', style=SliderStyle(han…"
      ]
     },
     "metadata": {},
     "output_type": "display_data"
    }
   ],
   "source": [
    "ipywidgets.VBox([cp,islider])"
   ]
  },
  {
   "cell_type": "markdown",
   "id": "00d7a208",
   "metadata": {},
   "source": [
    "## Traitlets"
   ]
  },
  {
   "cell_type": "code",
   "execution_count": 77,
   "id": "0135c6da",
   "metadata": {},
   "outputs": [],
   "source": [
    "class MyObject():\n",
    "    name = 'unnamed'\n",
    "    age = 0"
   ]
  },
  {
   "cell_type": "code",
   "execution_count": 78,
   "id": "e5eda29c",
   "metadata": {},
   "outputs": [],
   "source": [
    "my_obj = MyObject() # new variable of MyObject class"
   ]
  },
  {
   "cell_type": "code",
   "execution_count": 79,
   "id": "61a4d70b",
   "metadata": {},
   "outputs": [
    {
     "data": {
      "text/plain": [
       "'unnamed'"
      ]
     },
     "execution_count": 79,
     "metadata": {},
     "output_type": "execute_result"
    }
   ],
   "source": [
    "my_obj.name"
   ]
  },
  {
   "cell_type": "code",
   "execution_count": 80,
   "id": "8271df25",
   "metadata": {},
   "outputs": [
    {
     "data": {
      "text/plain": [
       "0"
      ]
     },
     "execution_count": 80,
     "metadata": {},
     "output_type": "execute_result"
    }
   ],
   "source": [
    "my_obj.age"
   ]
  },
  {
   "cell_type": "code",
   "execution_count": 81,
   "id": "5d888a67",
   "metadata": {},
   "outputs": [],
   "source": [
    "my_obj.name = \"Bob\""
   ]
  },
  {
   "cell_type": "code",
   "execution_count": 82,
   "id": "d51237da",
   "metadata": {},
   "outputs": [],
   "source": [
    "my_obj.age = 47"
   ]
  },
  {
   "cell_type": "code",
   "execution_count": 83,
   "id": "ecda3bc7",
   "metadata": {},
   "outputs": [
    {
     "name": "stdout",
     "output_type": "stream",
     "text": [
      "Hello, my name is Bob and I am 47 years old\n"
     ]
    }
   ],
   "source": [
    "print(\"Hello, my name is\", my_obj.name, \"and I am\", my_obj.age, \"years old\")"
   ]
  },
  {
   "cell_type": "code",
   "execution_count": 84,
   "id": "4a8d9d53",
   "metadata": {},
   "outputs": [],
   "source": [
    "my_obj.name = \"Linda\"; my_obj.age = 45"
   ]
  },
  {
   "cell_type": "code",
   "execution_count": 85,
   "id": "ce0ceb9f",
   "metadata": {},
   "outputs": [
    {
     "name": "stdout",
     "output_type": "stream",
     "text": [
      "Hello, my name is Linda and I am 45 years old\n"
     ]
    }
   ],
   "source": [
    "print(\"Hello, my name is\", my_obj.name, \"and I am\", my_obj.age, \"years old\")"
   ]
  },
  {
   "cell_type": "code",
   "execution_count": 86,
   "id": "c9736dbc",
   "metadata": {},
   "outputs": [],
   "source": [
    "import traitlets"
   ]
  },
  {
   "cell_type": "code",
   "execution_count": 88,
   "id": "661fd3cb",
   "metadata": {},
   "outputs": [],
   "source": [
    "class MyTraitletObject(traitlets.HasTraits):\n",
    "    name = traitlets.Unicode(\"unnamed\") # traitlets version of a \"string\"\n",
    "    age = traitlets.Int(0) # integer, value = 0"
   ]
  },
  {
   "cell_type": "code",
   "execution_count": 89,
   "id": "2b028214",
   "metadata": {},
   "outputs": [],
   "source": [
    "my_t_obj = MyTraitletObject()\n",
    "my_t_obj.age = 47\n",
    "my_t_obj.name = \"Bob\""
   ]
  },
  {
   "cell_type": "code",
   "execution_count": 90,
   "id": "f530b120",
   "metadata": {},
   "outputs": [
    {
     "name": "stdout",
     "output_type": "stream",
     "text": [
      "Hello, my name is Bob and I am 47 years old\n"
     ]
    }
   ],
   "source": [
    "print(\"Hello, my name is\", my_t_obj.name, \"and I am\", my_t_obj.age, \"years old\")"
   ]
  },
  {
   "cell_type": "code",
   "execution_count": 91,
   "id": "e939ae38",
   "metadata": {},
   "outputs": [],
   "source": [
    "def name_changed(change): # action/observation function\n",
    "    print(change)"
   ]
  },
  {
   "cell_type": "code",
   "execution_count": 93,
   "id": "de6b4055",
   "metadata": {},
   "outputs": [],
   "source": [
    "my_t_obj.observe(name_changed,['name'])\n",
    "# whenever the trait \"name\" is changed, run the name_changed function"
   ]
  },
  {
   "cell_type": "code",
   "execution_count": 94,
   "id": "4d9c180f",
   "metadata": {},
   "outputs": [
    {
     "name": "stdout",
     "output_type": "stream",
     "text": [
      "{'name': 'name', 'old': 'Bob', 'new': 'Linda', 'owner': <__main__.MyTraitletObject object at 0x7fba08f4db90>, 'type': 'change'}\n"
     ]
    }
   ],
   "source": [
    "my_t_obj.name = \"Linda\""
   ]
  },
  {
   "cell_type": "code",
   "execution_count": 95,
   "id": "428fea91",
   "metadata": {},
   "outputs": [],
   "source": [
    "def name_changed2(change): # action/observation function\n",
    "    #print(change)\n",
    "    print(\"Hello, my name is\", change['new'], \"and I am\", change['owner'].age, \"years old\")"
   ]
  },
  {
   "cell_type": "code",
   "execution_count": 96,
   "id": "ec917f2c",
   "metadata": {},
   "outputs": [],
   "source": [
    "my_t_obj.observe(name_changed2, ['name'])"
   ]
  },
  {
   "cell_type": "code",
   "execution_count": 97,
   "id": "42b993cb",
   "metadata": {},
   "outputs": [
    {
     "name": "stdout",
     "output_type": "stream",
     "text": [
      "{'name': 'name', 'old': 'Linda', 'new': 'Bob', 'owner': <__main__.MyTraitletObject object at 0x7fba08f4db90>, 'type': 'change'}\n",
      "Hello, my name is Bob and I am 47 years old\n"
     ]
    }
   ],
   "source": [
    "my_t_obj.name = 'Bob'"
   ]
  },
  {
   "cell_type": "code",
   "execution_count": 98,
   "id": "104dd9cf",
   "metadata": {},
   "outputs": [],
   "source": [
    "my_t_obj.unobserve(name_changed, ['name'])"
   ]
  },
  {
   "cell_type": "code",
   "execution_count": 99,
   "id": "ede209e1",
   "metadata": {},
   "outputs": [
    {
     "name": "stdout",
     "output_type": "stream",
     "text": [
      "Hello, my name is Linda and I am 47 years old\n"
     ]
    }
   ],
   "source": [
    "my_t_obj.name = 'Linda'"
   ]
  },
  {
   "cell_type": "code",
   "execution_count": 100,
   "id": "67acea4b",
   "metadata": {},
   "outputs": [],
   "source": [
    "# 1. We have an object with traits -- my_t_obj\n",
    "# 2. Make a function that does *something* when a trait is updated\n",
    "# 3. Link function and trait with a .observe call"
   ]
  },
  {
   "cell_type": "code",
   "execution_count": 101,
   "id": "25f3a9ea",
   "metadata": {},
   "outputs": [],
   "source": [
    "# 2. -- a function that re-prints out our statement when age changes\n",
    "def age_changed(change):\n",
    "    #print(\"Hello, my name is\", change['new'], \"and I am\", change['owner'].age, \"years old\")\n",
    "    print(\"Hello, my name is\", change['owner'].name, \"and I am\", change['new'], \"years old\")"
   ]
  },
  {
   "cell_type": "code",
   "execution_count": 102,
   "id": "243094a9",
   "metadata": {},
   "outputs": [],
   "source": [
    "# 3. link change in *age* to this age_changed function\n",
    "my_t_obj.observe(age_changed, ['age'])"
   ]
  },
  {
   "cell_type": "code",
   "execution_count": 103,
   "id": "27b3d929",
   "metadata": {},
   "outputs": [
    {
     "name": "stdout",
     "output_type": "stream",
     "text": [
      "Hello, my name is Linda and I am 45 years old\n"
     ]
    }
   ],
   "source": [
    "my_t_obj.age = 45"
   ]
  },
  {
   "cell_type": "code",
   "execution_count": 104,
   "id": "29958d70",
   "metadata": {},
   "outputs": [
    {
     "name": "stdout",
     "output_type": "stream",
     "text": [
      "Hello, my name is Louise and I am 45 years old\n",
      "Hello, my name is Louise and I am 8 years old\n"
     ]
    }
   ],
   "source": [
    "my_t_obj.name, my_t_obj.age = 'Louise', 8"
   ]
  },
  {
   "cell_type": "markdown",
   "id": "526c0f9a",
   "metadata": {},
   "source": [
    "## Few more notes about the homework"
   ]
  },
  {
   "cell_type": "code",
   "execution_count": 105,
   "id": "2c6258a9",
   "metadata": {},
   "outputs": [],
   "source": [
    "ufos = pd.read_csv(\"https://github.com/UIUC-iSchool-DataViz/is445_AOUAOG_fall2021/raw/master/week05/data/ufo-scrubbed-geocoded-time-standardized-00.csv\",\n",
    "                  names = [\"date\", \"city\", \"state\", \"country\",\n",
    "                          \"shape\", \"duration_seconds\", \"duration\",\n",
    "                          \"comment\", \"report_date\", \"latitude\", \"longitude\"],\n",
    "                  parse_dates = [\"date\", \"report_date\"])"
   ]
  },
  {
   "cell_type": "code",
   "execution_count": 106,
   "id": "17e88957",
   "metadata": {},
   "outputs": [
    {
     "data": {
      "text/html": [
       "<div>\n",
       "<style scoped>\n",
       "    .dataframe tbody tr th:only-of-type {\n",
       "        vertical-align: middle;\n",
       "    }\n",
       "\n",
       "    .dataframe tbody tr th {\n",
       "        vertical-align: top;\n",
       "    }\n",
       "\n",
       "    .dataframe thead th {\n",
       "        text-align: right;\n",
       "    }\n",
       "</style>\n",
       "<table border=\"1\" class=\"dataframe\">\n",
       "  <thead>\n",
       "    <tr style=\"text-align: right;\">\n",
       "      <th></th>\n",
       "      <th>date</th>\n",
       "      <th>city</th>\n",
       "      <th>state</th>\n",
       "      <th>country</th>\n",
       "      <th>shape</th>\n",
       "      <th>duration_seconds</th>\n",
       "      <th>duration</th>\n",
       "      <th>comment</th>\n",
       "      <th>report_date</th>\n",
       "      <th>latitude</th>\n",
       "      <th>longitude</th>\n",
       "    </tr>\n",
       "  </thead>\n",
       "  <tbody>\n",
       "    <tr>\n",
       "      <th>0</th>\n",
       "      <td>1949-10-10 20:30:00</td>\n",
       "      <td>san marcos</td>\n",
       "      <td>tx</td>\n",
       "      <td>us</td>\n",
       "      <td>cylinder</td>\n",
       "      <td>2700.0</td>\n",
       "      <td>45 minutes</td>\n",
       "      <td>This event took place in early fall around 194...</td>\n",
       "      <td>2004-04-27</td>\n",
       "      <td>29.883056</td>\n",
       "      <td>-97.941111</td>\n",
       "    </tr>\n",
       "    <tr>\n",
       "      <th>1</th>\n",
       "      <td>1949-10-10 21:00:00</td>\n",
       "      <td>lackland afb</td>\n",
       "      <td>tx</td>\n",
       "      <td>NaN</td>\n",
       "      <td>light</td>\n",
       "      <td>7200.0</td>\n",
       "      <td>1-2 hrs</td>\n",
       "      <td>1949 Lackland AFB&amp;#44 TX.  Lights racing acros...</td>\n",
       "      <td>2005-12-16</td>\n",
       "      <td>29.384210</td>\n",
       "      <td>-98.581082</td>\n",
       "    </tr>\n",
       "    <tr>\n",
       "      <th>2</th>\n",
       "      <td>1955-10-10 17:00:00</td>\n",
       "      <td>chester (uk/england)</td>\n",
       "      <td>NaN</td>\n",
       "      <td>gb</td>\n",
       "      <td>circle</td>\n",
       "      <td>20.0</td>\n",
       "      <td>20 seconds</td>\n",
       "      <td>Green/Orange circular disc over Chester&amp;#44 En...</td>\n",
       "      <td>2008-01-21</td>\n",
       "      <td>53.200000</td>\n",
       "      <td>-2.916667</td>\n",
       "    </tr>\n",
       "    <tr>\n",
       "      <th>3</th>\n",
       "      <td>1956-10-10 21:00:00</td>\n",
       "      <td>edna</td>\n",
       "      <td>tx</td>\n",
       "      <td>us</td>\n",
       "      <td>circle</td>\n",
       "      <td>20.0</td>\n",
       "      <td>1/2 hour</td>\n",
       "      <td>My older brother and twin sister were leaving ...</td>\n",
       "      <td>2004-01-17</td>\n",
       "      <td>28.978333</td>\n",
       "      <td>-96.645833</td>\n",
       "    </tr>\n",
       "    <tr>\n",
       "      <th>4</th>\n",
       "      <td>1960-10-10 20:00:00</td>\n",
       "      <td>kaneohe</td>\n",
       "      <td>hi</td>\n",
       "      <td>us</td>\n",
       "      <td>light</td>\n",
       "      <td>900.0</td>\n",
       "      <td>15 minutes</td>\n",
       "      <td>AS a Marine 1st Lt. flying an FJ4B fighter/att...</td>\n",
       "      <td>2004-01-22</td>\n",
       "      <td>21.418056</td>\n",
       "      <td>-157.803611</td>\n",
       "    </tr>\n",
       "    <tr>\n",
       "      <th>...</th>\n",
       "      <td>...</td>\n",
       "      <td>...</td>\n",
       "      <td>...</td>\n",
       "      <td>...</td>\n",
       "      <td>...</td>\n",
       "      <td>...</td>\n",
       "      <td>...</td>\n",
       "      <td>...</td>\n",
       "      <td>...</td>\n",
       "      <td>...</td>\n",
       "      <td>...</td>\n",
       "    </tr>\n",
       "    <tr>\n",
       "      <th>80327</th>\n",
       "      <td>2013-09-09 21:15:00</td>\n",
       "      <td>nashville</td>\n",
       "      <td>tn</td>\n",
       "      <td>us</td>\n",
       "      <td>light</td>\n",
       "      <td>600.0</td>\n",
       "      <td>10 minutes</td>\n",
       "      <td>Round from the distance/slowly changing colors...</td>\n",
       "      <td>2013-09-30</td>\n",
       "      <td>36.165833</td>\n",
       "      <td>-86.784444</td>\n",
       "    </tr>\n",
       "    <tr>\n",
       "      <th>80328</th>\n",
       "      <td>2013-09-09 22:00:00</td>\n",
       "      <td>boise</td>\n",
       "      <td>id</td>\n",
       "      <td>us</td>\n",
       "      <td>circle</td>\n",
       "      <td>1200.0</td>\n",
       "      <td>20 minutes</td>\n",
       "      <td>Boise&amp;#44 ID&amp;#44 spherical&amp;#44 20 min&amp;#44 10 r...</td>\n",
       "      <td>2013-09-30</td>\n",
       "      <td>43.613611</td>\n",
       "      <td>-116.202500</td>\n",
       "    </tr>\n",
       "    <tr>\n",
       "      <th>80329</th>\n",
       "      <td>2013-09-09 22:00:00</td>\n",
       "      <td>napa</td>\n",
       "      <td>ca</td>\n",
       "      <td>us</td>\n",
       "      <td>other</td>\n",
       "      <td>1200.0</td>\n",
       "      <td>hour</td>\n",
       "      <td>Napa UFO&amp;#44</td>\n",
       "      <td>2013-09-30</td>\n",
       "      <td>38.297222</td>\n",
       "      <td>-122.284444</td>\n",
       "    </tr>\n",
       "    <tr>\n",
       "      <th>80330</th>\n",
       "      <td>2013-09-09 22:20:00</td>\n",
       "      <td>vienna</td>\n",
       "      <td>va</td>\n",
       "      <td>us</td>\n",
       "      <td>circle</td>\n",
       "      <td>5.0</td>\n",
       "      <td>5 seconds</td>\n",
       "      <td>Saw a five gold lit cicular craft moving fastl...</td>\n",
       "      <td>2013-09-30</td>\n",
       "      <td>38.901111</td>\n",
       "      <td>-77.265556</td>\n",
       "    </tr>\n",
       "    <tr>\n",
       "      <th>80331</th>\n",
       "      <td>2013-09-09 23:00:00</td>\n",
       "      <td>edmond</td>\n",
       "      <td>ok</td>\n",
       "      <td>us</td>\n",
       "      <td>cigar</td>\n",
       "      <td>1020.0</td>\n",
       "      <td>17 minutes</td>\n",
       "      <td>2 witnesses 2  miles apart&amp;#44 Red &amp;amp; White...</td>\n",
       "      <td>2013-09-30</td>\n",
       "      <td>35.652778</td>\n",
       "      <td>-97.477778</td>\n",
       "    </tr>\n",
       "  </tbody>\n",
       "</table>\n",
       "<p>80332 rows × 11 columns</p>\n",
       "</div>"
      ],
      "text/plain": [
       "                     date                  city state country     shape  \\\n",
       "0     1949-10-10 20:30:00            san marcos    tx      us  cylinder   \n",
       "1     1949-10-10 21:00:00          lackland afb    tx     NaN     light   \n",
       "2     1955-10-10 17:00:00  chester (uk/england)   NaN      gb    circle   \n",
       "3     1956-10-10 21:00:00                  edna    tx      us    circle   \n",
       "4     1960-10-10 20:00:00               kaneohe    hi      us     light   \n",
       "...                   ...                   ...   ...     ...       ...   \n",
       "80327 2013-09-09 21:15:00             nashville    tn      us     light   \n",
       "80328 2013-09-09 22:00:00                 boise    id      us    circle   \n",
       "80329 2013-09-09 22:00:00                  napa    ca      us     other   \n",
       "80330 2013-09-09 22:20:00                vienna    va      us    circle   \n",
       "80331 2013-09-09 23:00:00                edmond    ok      us     cigar   \n",
       "\n",
       "       duration_seconds    duration  \\\n",
       "0                2700.0  45 minutes   \n",
       "1                7200.0     1-2 hrs   \n",
       "2                  20.0  20 seconds   \n",
       "3                  20.0    1/2 hour   \n",
       "4                 900.0  15 minutes   \n",
       "...                 ...         ...   \n",
       "80327             600.0  10 minutes   \n",
       "80328            1200.0  20 minutes   \n",
       "80329            1200.0        hour   \n",
       "80330               5.0   5 seconds   \n",
       "80331            1020.0  17 minutes   \n",
       "\n",
       "                                                 comment report_date  \\\n",
       "0      This event took place in early fall around 194...  2004-04-27   \n",
       "1      1949 Lackland AFB&#44 TX.  Lights racing acros...  2005-12-16   \n",
       "2      Green/Orange circular disc over Chester&#44 En...  2008-01-21   \n",
       "3      My older brother and twin sister were leaving ...  2004-01-17   \n",
       "4      AS a Marine 1st Lt. flying an FJ4B fighter/att...  2004-01-22   \n",
       "...                                                  ...         ...   \n",
       "80327  Round from the distance/slowly changing colors...  2013-09-30   \n",
       "80328  Boise&#44 ID&#44 spherical&#44 20 min&#44 10 r...  2013-09-30   \n",
       "80329                                       Napa UFO&#44  2013-09-30   \n",
       "80330  Saw a five gold lit cicular craft moving fastl...  2013-09-30   \n",
       "80331  2 witnesses 2  miles apart&#44 Red &amp; White...  2013-09-30   \n",
       "\n",
       "        latitude   longitude  \n",
       "0      29.883056  -97.941111  \n",
       "1      29.384210  -98.581082  \n",
       "2      53.200000   -2.916667  \n",
       "3      28.978333  -96.645833  \n",
       "4      21.418056 -157.803611  \n",
       "...          ...         ...  \n",
       "80327  36.165833  -86.784444  \n",
       "80328  43.613611 -116.202500  \n",
       "80329  38.297222 -122.284444  \n",
       "80330  38.901111  -77.265556  \n",
       "80331  35.652778  -97.477778  \n",
       "\n",
       "[80332 rows x 11 columns]"
      ]
     },
     "execution_count": 106,
     "metadata": {},
     "output_type": "execute_result"
    }
   ],
   "source": [
    "ufos # Unidentifed Flying Objects"
   ]
  },
  {
   "cell_type": "code",
   "execution_count": 107,
   "id": "8b975270",
   "metadata": {},
   "outputs": [],
   "source": [
    "# a bit of data cleaning -- filling NaN's\n",
    "ufos = ufos.fillna({'country':'unknown','state':'unknown', 'shape':'unknown'})"
   ]
  },
  {
   "cell_type": "code",
   "execution_count": 108,
   "id": "19a9b7cd",
   "metadata": {},
   "outputs": [
    {
     "data": {
      "text/html": [
       "<div>\n",
       "<style scoped>\n",
       "    .dataframe tbody tr th:only-of-type {\n",
       "        vertical-align: middle;\n",
       "    }\n",
       "\n",
       "    .dataframe tbody tr th {\n",
       "        vertical-align: top;\n",
       "    }\n",
       "\n",
       "    .dataframe thead th {\n",
       "        text-align: right;\n",
       "    }\n",
       "</style>\n",
       "<table border=\"1\" class=\"dataframe\">\n",
       "  <thead>\n",
       "    <tr style=\"text-align: right;\">\n",
       "      <th></th>\n",
       "      <th>date</th>\n",
       "      <th>city</th>\n",
       "      <th>state</th>\n",
       "      <th>country</th>\n",
       "      <th>shape</th>\n",
       "      <th>duration_seconds</th>\n",
       "      <th>duration</th>\n",
       "      <th>comment</th>\n",
       "      <th>report_date</th>\n",
       "      <th>latitude</th>\n",
       "      <th>longitude</th>\n",
       "    </tr>\n",
       "  </thead>\n",
       "  <tbody>\n",
       "    <tr>\n",
       "      <th>0</th>\n",
       "      <td>1949-10-10 20:30:00</td>\n",
       "      <td>san marcos</td>\n",
       "      <td>tx</td>\n",
       "      <td>us</td>\n",
       "      <td>cylinder</td>\n",
       "      <td>2700.0</td>\n",
       "      <td>45 minutes</td>\n",
       "      <td>This event took place in early fall around 194...</td>\n",
       "      <td>2004-04-27</td>\n",
       "      <td>29.883056</td>\n",
       "      <td>-97.941111</td>\n",
       "    </tr>\n",
       "    <tr>\n",
       "      <th>1</th>\n",
       "      <td>1949-10-10 21:00:00</td>\n",
       "      <td>lackland afb</td>\n",
       "      <td>tx</td>\n",
       "      <td>unknown</td>\n",
       "      <td>light</td>\n",
       "      <td>7200.0</td>\n",
       "      <td>1-2 hrs</td>\n",
       "      <td>1949 Lackland AFB&amp;#44 TX.  Lights racing acros...</td>\n",
       "      <td>2005-12-16</td>\n",
       "      <td>29.384210</td>\n",
       "      <td>-98.581082</td>\n",
       "    </tr>\n",
       "    <tr>\n",
       "      <th>2</th>\n",
       "      <td>1955-10-10 17:00:00</td>\n",
       "      <td>chester (uk/england)</td>\n",
       "      <td>unknown</td>\n",
       "      <td>gb</td>\n",
       "      <td>circle</td>\n",
       "      <td>20.0</td>\n",
       "      <td>20 seconds</td>\n",
       "      <td>Green/Orange circular disc over Chester&amp;#44 En...</td>\n",
       "      <td>2008-01-21</td>\n",
       "      <td>53.200000</td>\n",
       "      <td>-2.916667</td>\n",
       "    </tr>\n",
       "    <tr>\n",
       "      <th>3</th>\n",
       "      <td>1956-10-10 21:00:00</td>\n",
       "      <td>edna</td>\n",
       "      <td>tx</td>\n",
       "      <td>us</td>\n",
       "      <td>circle</td>\n",
       "      <td>20.0</td>\n",
       "      <td>1/2 hour</td>\n",
       "      <td>My older brother and twin sister were leaving ...</td>\n",
       "      <td>2004-01-17</td>\n",
       "      <td>28.978333</td>\n",
       "      <td>-96.645833</td>\n",
       "    </tr>\n",
       "    <tr>\n",
       "      <th>4</th>\n",
       "      <td>1960-10-10 20:00:00</td>\n",
       "      <td>kaneohe</td>\n",
       "      <td>hi</td>\n",
       "      <td>us</td>\n",
       "      <td>light</td>\n",
       "      <td>900.0</td>\n",
       "      <td>15 minutes</td>\n",
       "      <td>AS a Marine 1st Lt. flying an FJ4B fighter/att...</td>\n",
       "      <td>2004-01-22</td>\n",
       "      <td>21.418056</td>\n",
       "      <td>-157.803611</td>\n",
       "    </tr>\n",
       "    <tr>\n",
       "      <th>...</th>\n",
       "      <td>...</td>\n",
       "      <td>...</td>\n",
       "      <td>...</td>\n",
       "      <td>...</td>\n",
       "      <td>...</td>\n",
       "      <td>...</td>\n",
       "      <td>...</td>\n",
       "      <td>...</td>\n",
       "      <td>...</td>\n",
       "      <td>...</td>\n",
       "      <td>...</td>\n",
       "    </tr>\n",
       "    <tr>\n",
       "      <th>80327</th>\n",
       "      <td>2013-09-09 21:15:00</td>\n",
       "      <td>nashville</td>\n",
       "      <td>tn</td>\n",
       "      <td>us</td>\n",
       "      <td>light</td>\n",
       "      <td>600.0</td>\n",
       "      <td>10 minutes</td>\n",
       "      <td>Round from the distance/slowly changing colors...</td>\n",
       "      <td>2013-09-30</td>\n",
       "      <td>36.165833</td>\n",
       "      <td>-86.784444</td>\n",
       "    </tr>\n",
       "    <tr>\n",
       "      <th>80328</th>\n",
       "      <td>2013-09-09 22:00:00</td>\n",
       "      <td>boise</td>\n",
       "      <td>id</td>\n",
       "      <td>us</td>\n",
       "      <td>circle</td>\n",
       "      <td>1200.0</td>\n",
       "      <td>20 minutes</td>\n",
       "      <td>Boise&amp;#44 ID&amp;#44 spherical&amp;#44 20 min&amp;#44 10 r...</td>\n",
       "      <td>2013-09-30</td>\n",
       "      <td>43.613611</td>\n",
       "      <td>-116.202500</td>\n",
       "    </tr>\n",
       "    <tr>\n",
       "      <th>80329</th>\n",
       "      <td>2013-09-09 22:00:00</td>\n",
       "      <td>napa</td>\n",
       "      <td>ca</td>\n",
       "      <td>us</td>\n",
       "      <td>other</td>\n",
       "      <td>1200.0</td>\n",
       "      <td>hour</td>\n",
       "      <td>Napa UFO&amp;#44</td>\n",
       "      <td>2013-09-30</td>\n",
       "      <td>38.297222</td>\n",
       "      <td>-122.284444</td>\n",
       "    </tr>\n",
       "    <tr>\n",
       "      <th>80330</th>\n",
       "      <td>2013-09-09 22:20:00</td>\n",
       "      <td>vienna</td>\n",
       "      <td>va</td>\n",
       "      <td>us</td>\n",
       "      <td>circle</td>\n",
       "      <td>5.0</td>\n",
       "      <td>5 seconds</td>\n",
       "      <td>Saw a five gold lit cicular craft moving fastl...</td>\n",
       "      <td>2013-09-30</td>\n",
       "      <td>38.901111</td>\n",
       "      <td>-77.265556</td>\n",
       "    </tr>\n",
       "    <tr>\n",
       "      <th>80331</th>\n",
       "      <td>2013-09-09 23:00:00</td>\n",
       "      <td>edmond</td>\n",
       "      <td>ok</td>\n",
       "      <td>us</td>\n",
       "      <td>cigar</td>\n",
       "      <td>1020.0</td>\n",
       "      <td>17 minutes</td>\n",
       "      <td>2 witnesses 2  miles apart&amp;#44 Red &amp;amp; White...</td>\n",
       "      <td>2013-09-30</td>\n",
       "      <td>35.652778</td>\n",
       "      <td>-97.477778</td>\n",
       "    </tr>\n",
       "  </tbody>\n",
       "</table>\n",
       "<p>80332 rows × 11 columns</p>\n",
       "</div>"
      ],
      "text/plain": [
       "                     date                  city    state  country     shape  \\\n",
       "0     1949-10-10 20:30:00            san marcos       tx       us  cylinder   \n",
       "1     1949-10-10 21:00:00          lackland afb       tx  unknown     light   \n",
       "2     1955-10-10 17:00:00  chester (uk/england)  unknown       gb    circle   \n",
       "3     1956-10-10 21:00:00                  edna       tx       us    circle   \n",
       "4     1960-10-10 20:00:00               kaneohe       hi       us     light   \n",
       "...                   ...                   ...      ...      ...       ...   \n",
       "80327 2013-09-09 21:15:00             nashville       tn       us     light   \n",
       "80328 2013-09-09 22:00:00                 boise       id       us    circle   \n",
       "80329 2013-09-09 22:00:00                  napa       ca       us     other   \n",
       "80330 2013-09-09 22:20:00                vienna       va       us    circle   \n",
       "80331 2013-09-09 23:00:00                edmond       ok       us     cigar   \n",
       "\n",
       "       duration_seconds    duration  \\\n",
       "0                2700.0  45 minutes   \n",
       "1                7200.0     1-2 hrs   \n",
       "2                  20.0  20 seconds   \n",
       "3                  20.0    1/2 hour   \n",
       "4                 900.0  15 minutes   \n",
       "...                 ...         ...   \n",
       "80327             600.0  10 minutes   \n",
       "80328            1200.0  20 minutes   \n",
       "80329            1200.0        hour   \n",
       "80330               5.0   5 seconds   \n",
       "80331            1020.0  17 minutes   \n",
       "\n",
       "                                                 comment report_date  \\\n",
       "0      This event took place in early fall around 194...  2004-04-27   \n",
       "1      1949 Lackland AFB&#44 TX.  Lights racing acros...  2005-12-16   \n",
       "2      Green/Orange circular disc over Chester&#44 En...  2008-01-21   \n",
       "3      My older brother and twin sister were leaving ...  2004-01-17   \n",
       "4      AS a Marine 1st Lt. flying an FJ4B fighter/att...  2004-01-22   \n",
       "...                                                  ...         ...   \n",
       "80327  Round from the distance/slowly changing colors...  2013-09-30   \n",
       "80328  Boise&#44 ID&#44 spherical&#44 20 min&#44 10 r...  2013-09-30   \n",
       "80329                                       Napa UFO&#44  2013-09-30   \n",
       "80330  Saw a five gold lit cicular craft moving fastl...  2013-09-30   \n",
       "80331  2 witnesses 2  miles apart&#44 Red &amp; White...  2013-09-30   \n",
       "\n",
       "        latitude   longitude  \n",
       "0      29.883056  -97.941111  \n",
       "1      29.384210  -98.581082  \n",
       "2      53.200000   -2.916667  \n",
       "3      28.978333  -96.645833  \n",
       "4      21.418056 -157.803611  \n",
       "...          ...         ...  \n",
       "80327  36.165833  -86.784444  \n",
       "80328  43.613611 -116.202500  \n",
       "80329  38.297222 -122.284444  \n",
       "80330  38.901111  -77.265556  \n",
       "80331  35.652778  -97.477778  \n",
       "\n",
       "[80332 rows x 11 columns]"
      ]
     },
     "execution_count": 108,
     "metadata": {},
     "output_type": "execute_result"
    }
   ],
   "source": [
    "ufos"
   ]
  },
  {
   "cell_type": "code",
   "execution_count": 110,
   "id": "12384384",
   "metadata": {},
   "outputs": [],
   "source": [
    "# for when we are debugging/testing possible visualizations -- downsampling\n",
    "nsample = 1000\n",
    "downSampleMask = np.random.choice(range(len(ufos)), nsample, replace=False)"
   ]
  },
  {
   "cell_type": "code",
   "execution_count": 111,
   "id": "ccd57ffc",
   "metadata": {},
   "outputs": [
    {
     "data": {
      "text/plain": [
       "array([70114,  4795, 60011, 28916, 12883, 54150, 67563, 79776, 67405,\n",
       "         192, 19302, 13772, 22719, 52486, 47303, 22799, 18485, 38840,\n",
       "       34194, 26857, 37310, 14715, 29768, 12078, 30055, 67337, 70129,\n",
       "       70848, 66882, 68540, 58576, 51919, 41927, 13041, 23204, 69201,\n",
       "        5341,  7202,  8341,  3086, 16524,  5361, 16273, 64059,  6711,\n",
       "       23779, 59488, 45832, 18224, 18530, 18950, 11341, 34032,  8666,\n",
       "       14765, 57987, 67290, 73882, 30519, 16410,  9564, 43501, 33928,\n",
       "       36533, 25568, 48492, 62304,  8409, 40135,  8227, 38465, 47288,\n",
       "       55286, 22942, 44372,  2329, 78237, 53014,  6741,  1364,  2909,\n",
       "       52828,  4196, 16712, 14260, 69087, 63026, 32306, 25061, 41185,\n",
       "       19065, 45530, 52934, 44435, 30177, 35914, 17638, 47910, 20663,\n",
       "       74630,  2904, 13695, 27148, 66960,  5780, 40983, 21249, 57838,\n",
       "       33974, 24663, 59630, 63126,   133, 73822, 24643, 39070,  8996,\n",
       "       46804, 73892, 20819, 48504, 15052, 31620, 79058, 23387, 48368,\n",
       "       58564, 25046, 60505, 52522, 61999, 16063, 69680,  6655, 79470,\n",
       "       47647, 30965, 49895, 24151, 77112, 20163, 53143, 19518, 55569,\n",
       "       54981, 53319, 10105, 17697,  1387, 21955, 13722, 76232,  5928,\n",
       "       13179, 64647, 11861, 62445, 66050,  4855, 68997, 44861, 19822,\n",
       "       27516, 22356, 80302, 39910, 80231, 16803,  2276, 16348, 27681,\n",
       "       15232, 60328, 51948, 72474, 71806,  6425, 75252, 74232,  4723,\n",
       "       32148, 59744, 31345, 63670, 53958, 67652, 34982,   629, 27167,\n",
       "       24524, 74599, 80170, 23894, 16227, 41752, 64319,  5839, 75046,\n",
       "       51747, 50743, 43651, 15499, 76670, 54183, 62513, 36731,  4327,\n",
       "        9262, 68172, 69615, 24183, 67107, 54050, 28195, 20791, 57132,\n",
       "       59946, 28313, 17726, 20212, 74487, 38974, 56770, 13810, 25293,\n",
       "        8334, 34920,  2217,  5570, 46437, 68211, 27164, 76714,  7933,\n",
       "       79850, 23760, 76667, 60157, 31115, 57781,  5167, 71638, 67239,\n",
       "       63571, 11327, 58188, 79194, 31667, 62413, 75662,   464, 60940,\n",
       "       23818, 73001, 42623,  2026,  5099, 77023, 58522,  3040, 66183,\n",
       "       48651, 27855,  1823, 74440, 20554, 31291, 59311,  1534, 39205,\n",
       "       67037, 35016, 19830, 37397, 65972, 75432, 36251, 56429, 18220,\n",
       "       16557, 67931, 14865,    80, 27876, 58148,  2939, 35999, 75915,\n",
       "       52563, 34086, 77372, 28848, 65912, 65838, 44736, 29048, 47035,\n",
       "       35542, 58325, 41618,  6176, 10069, 69606, 38243, 28866, 52547,\n",
       "       47530, 33421,  4946, 65380, 62354, 23340, 25224,  9460, 70460,\n",
       "       60988, 44402, 59583, 36959, 40005, 62647,  1027, 71480, 16408,\n",
       "       75452, 74771, 58052, 24512, 58932, 60209, 75511, 71746, 12685,\n",
       "       78794, 13414, 20298, 57444, 78149, 56368,  4267,  4884, 15602,\n",
       "        7499, 19601, 43887, 62231,  8245,  4362, 22226, 39557, 74846,\n",
       "         905, 24066, 50644,  4143, 42512, 66282, 47992, 25423, 50581,\n",
       "       32639, 30382, 11720, 74801, 71708,  2134, 14749, 70689, 80197,\n",
       "       48706, 50907, 62925, 45888,  5887, 32061, 16136, 68918, 14565,\n",
       "       19750, 54671, 50273, 22307, 38363, 71725, 33321, 78907, 77332,\n",
       "       38344, 21111, 35787, 61201, 66720, 64954, 13158, 49861, 50006,\n",
       "       53137, 16607, 36776, 33738, 47198, 75787, 44660, 34937,   987,\n",
       "        5270, 13113, 32932, 16088, 38473, 34439, 76269, 36932,  3591,\n",
       "       60601,  8840, 43499, 29757, 55941, 52294, 76936, 13183, 76777,\n",
       "       46371, 10592, 11044, 61490, 39922, 59049, 69525, 79248,  7941,\n",
       "       69304, 49957, 79673, 57389,  4347, 42579, 13244, 74974, 20100,\n",
       "       54784, 33256, 66944, 80020, 10514, 20958,  9211, 21812, 10114,\n",
       "       31897, 31230, 74345, 26801, 35038, 27216, 33867, 62018, 55127,\n",
       "        9936, 36808, 75075,  5030, 34912, 16991, 60881, 70373, 53976,\n",
       "        4764, 55313, 40835, 58159, 12041, 35357, 28339, 77731, 54578,\n",
       "       18492, 47959, 22684, 38448, 58022, 52273, 35068, 68690, 46970,\n",
       "       13689, 24147, 60260, 16207, 55986, 39288, 14866,  5551, 12949,\n",
       "       37365, 67622, 72165, 42691, 57228, 48186,  2626, 32318,  8905,\n",
       "       33354, 45590, 68051, 61746, 50282, 24227, 57982, 49789, 45239,\n",
       "       24043, 63442, 11943, 48610, 31442, 23742, 64219,  9402, 31030,\n",
       "       19109, 31346, 18030, 61702, 53304, 64613, 63198, 54088, 57799,\n",
       "        4025,  7114, 19737, 61538, 65555, 55931, 41204, 38847, 49485,\n",
       "       48180, 18278, 52329, 45524,  2869, 38772,  7669, 36780, 25177,\n",
       "       10921, 64799, 47739, 36485, 55382, 73051, 16629,  8226, 27711,\n",
       "       76092, 47430, 25075, 38998, 49864, 72574, 43476, 16562, 28584,\n",
       "       66729, 66096, 23423, 49258, 30674, 59497, 37734, 49430, 37401,\n",
       "       52416, 30780,  8015, 69017, 11234, 76858, 46649,  5601, 35158,\n",
       "       54842, 73834,  8805, 32381,  9550,  4628, 18290, 69998, 51788,\n",
       "       12397, 65198, 15235, 54925, 74655, 29501,   440, 56860, 47020,\n",
       "       78299, 63482, 76080,  9165, 30137, 46159, 50215, 19334, 46924,\n",
       "       37500, 12330,  2607, 69882, 69781, 51171, 27679, 44129, 72185,\n",
       "       43636,  9491, 35705, 62160, 17636, 16606, 36273, 62228, 45055,\n",
       "       35873,  5814, 74925, 71942, 15675, 71110, 49090, 63516, 39881,\n",
       "       17155, 65150, 76530, 18652, 56772, 69549, 79997, 61824, 58726,\n",
       "       26152, 72473, 45225,  9664, 17312, 76624,  2091, 65799, 69255,\n",
       "       55467, 42958,  5148, 55285, 68300, 54182, 60339, 26747, 65321,\n",
       "       53490, 20974, 18157, 74780, 10601,  5962, 32866, 56089, 10012,\n",
       "       42937, 11557, 16973, 29412, 60362, 55350, 80000, 23566,  1720,\n",
       "       77300, 47743, 71610, 42964, 64556, 56618, 11930, 11042, 12228,\n",
       "        6154, 23913, 33445, 57023, 24153, 48908,  9119, 73298, 62620,\n",
       "       73071, 63240, 76573,  6158, 25539, 11564, 37707, 60347, 23160,\n",
       "       41761, 27044, 19588, 17693, 58579, 75441, 61264, 33379, 70821,\n",
       "       61388, 36934, 72465, 20005, 74532, 50765, 23881, 59893,   708,\n",
       "       72687, 68371, 18306, 17819, 68366, 19733, 60801, 55961,  2838,\n",
       "       25246, 55062, 16580, 30895, 27430, 31428, 55718, 53453, 48364,\n",
       "       41690, 16302, 12106, 36302,  2963, 22598, 53272, 14991, 63644,\n",
       "       76397, 64763, 66425, 14079, 61714,  8451, 38076, 52296, 62026,\n",
       "       57210,  3063, 70382, 75604, 32512, 32158, 56680, 65415, 18212,\n",
       "       73999, 16336, 32371, 31537, 67016, 31280, 33925,  4009, 24602,\n",
       "        3405, 19448, 43112, 62629, 17796, 36523, 18786, 21538, 14926,\n",
       "       56873, 61559, 71018, 20195, 32168, 28977, 57247, 65106, 52252,\n",
       "        3299, 12679, 39616, 43535, 42798, 29770, 45679, 66313, 27663,\n",
       "       25400,  4582, 24180, 17981, 66982, 29999, 69193, 63703, 71174,\n",
       "       78473, 66055, 30306, 13124, 65070, 79637, 58461,   981, 67073,\n",
       "       67759,  3609, 76850, 27674, 38046,  5508, 49337, 61286,  3208,\n",
       "       18355, 70188, 28934, 35104, 73977, 56668, 23468, 13256, 64337,\n",
       "        7261, 15443, 66405,   988, 58600, 17467, 72005, 80310, 39438,\n",
       "       76098, 66596, 27041, 19947, 70400,  8206, 46651,  7771, 79176,\n",
       "       76727, 43350, 78833, 35531, 41826,  8935,  1796, 76167, 63089,\n",
       "       48562, 72630, 54268, 46055,  1544, 38549, 15483, 54707, 17112,\n",
       "       12811, 28576, 14404,  5641, 34661,  4853, 23014, 46509, 38810,\n",
       "       49667, 61674, 56904, 11176,  6388, 66598, 76706, 60002, 49281,\n",
       "       42715, 74694, 49405, 71900, 70524, 49528, 61311, 55167, 59992,\n",
       "       40819, 14930, 50117, 29883, 38923, 72559, 13627, 30650, 50127,\n",
       "        8233, 63071, 21851, 47854, 62204,  3590, 44183, 68577, 54411,\n",
       "       26272, 47847, 71991, 78391, 22456, 55228, 28429, 21738, 36138,\n",
       "       17118, 37403, 10205, 34638, 45966, 67947, 65272, 45660, 24125,\n",
       "       27620, 55763, 17648, 55666, 44781, 50989, 27706, 19724, 79829,\n",
       "       25905, 27900, 78395, 31094,  2357, 25699, 34403, 74690, 52768,\n",
       "        9513, 61329, 79177, 70905, 50243, 31737, 79699, 23221, 76155,\n",
       "       20457, 57819,   722, 19195,  5938, 51262, 51148,  1195, 14747,\n",
       "        7629, 34931, 29618, 24469,  5604, 64188, 37383, 51806, 48944,\n",
       "       38278, 53662, 61426,  1176, 57390, 66780, 10837, 57534, 48570,\n",
       "       36088])"
      ]
     },
     "execution_count": 111,
     "metadata": {},
     "output_type": "execute_result"
    }
   ],
   "source": [
    "downSampleMask # yours will look different and that is totally fine!"
   ]
  },
  {
   "cell_type": "code",
   "execution_count": 112,
   "id": "5d663bdb",
   "metadata": {},
   "outputs": [],
   "source": [
    "ufosDS = ufos.loc[downSampleMask]"
   ]
  },
  {
   "cell_type": "code",
   "execution_count": 113,
   "id": "535e8180",
   "metadata": {},
   "outputs": [
    {
     "data": {
      "text/html": [
       "<div>\n",
       "<style scoped>\n",
       "    .dataframe tbody tr th:only-of-type {\n",
       "        vertical-align: middle;\n",
       "    }\n",
       "\n",
       "    .dataframe tbody tr th {\n",
       "        vertical-align: top;\n",
       "    }\n",
       "\n",
       "    .dataframe thead th {\n",
       "        text-align: right;\n",
       "    }\n",
       "</style>\n",
       "<table border=\"1\" class=\"dataframe\">\n",
       "  <thead>\n",
       "    <tr style=\"text-align: right;\">\n",
       "      <th></th>\n",
       "      <th>date</th>\n",
       "      <th>city</th>\n",
       "      <th>state</th>\n",
       "      <th>country</th>\n",
       "      <th>shape</th>\n",
       "      <th>duration_seconds</th>\n",
       "      <th>duration</th>\n",
       "      <th>comment</th>\n",
       "      <th>report_date</th>\n",
       "      <th>latitude</th>\n",
       "      <th>longitude</th>\n",
       "    </tr>\n",
       "  </thead>\n",
       "  <tbody>\n",
       "    <tr>\n",
       "      <th>70114</th>\n",
       "      <td>2013-08-27 17:00:00</td>\n",
       "      <td>atlanta</td>\n",
       "      <td>ga</td>\n",
       "      <td>us</td>\n",
       "      <td>fireball</td>\n",
       "      <td>5.0</td>\n",
       "      <td>5 seconds</td>\n",
       "      <td>Green  fireballs 2 different sightings over At...</td>\n",
       "      <td>2013-09-09</td>\n",
       "      <td>33.748889</td>\n",
       "      <td>-84.388056</td>\n",
       "    </tr>\n",
       "    <tr>\n",
       "      <th>4795</th>\n",
       "      <td>2013-10-26 05:00:00</td>\n",
       "      <td>honolulu</td>\n",
       "      <td>hi</td>\n",
       "      <td>us</td>\n",
       "      <td>flash</td>\n",
       "      <td>3600.0</td>\n",
       "      <td>1 hour</td>\n",
       "      <td>Lightning without thunder and flickering that ...</td>\n",
       "      <td>2013-11-11</td>\n",
       "      <td>21.306944</td>\n",
       "      <td>-157.858333</td>\n",
       "    </tr>\n",
       "    <tr>\n",
       "      <th>60011</th>\n",
       "      <td>2012-07-26 23:30:00</td>\n",
       "      <td>avon</td>\n",
       "      <td>nc</td>\n",
       "      <td>us</td>\n",
       "      <td>fireball</td>\n",
       "      <td>1200.0</td>\n",
       "      <td>15-20 minutes</td>\n",
       "      <td>Around 11:30 PM on 7/26/12 me and two of my co...</td>\n",
       "      <td>2012-08-05</td>\n",
       "      <td>35.351944</td>\n",
       "      <td>-75.510833</td>\n",
       "    </tr>\n",
       "    <tr>\n",
       "      <th>28916</th>\n",
       "      <td>1983-02-28 21:30:00</td>\n",
       "      <td>tilden</td>\n",
       "      <td>tx</td>\n",
       "      <td>us</td>\n",
       "      <td>fireball</td>\n",
       "      <td>300.0</td>\n",
       "      <td>5 mintues</td>\n",
       "      <td>South Texas non illuminating ball of fire</td>\n",
       "      <td>2008-02-14</td>\n",
       "      <td>28.461667</td>\n",
       "      <td>-98.548889</td>\n",
       "    </tr>\n",
       "    <tr>\n",
       "      <th>12883</th>\n",
       "      <td>1999-11-25 18:00:00</td>\n",
       "      <td>angleton</td>\n",
       "      <td>tx</td>\n",
       "      <td>us</td>\n",
       "      <td>light</td>\n",
       "      <td>2.0</td>\n",
       "      <td>a few seconds</td>\n",
       "      <td>Driving home from fishing&amp;#44 and saw a light ...</td>\n",
       "      <td>1999-11-30</td>\n",
       "      <td>29.169167</td>\n",
       "      <td>-95.431667</td>\n",
       "    </tr>\n",
       "    <tr>\n",
       "      <th>...</th>\n",
       "      <td>...</td>\n",
       "      <td>...</td>\n",
       "      <td>...</td>\n",
       "      <td>...</td>\n",
       "      <td>...</td>\n",
       "      <td>...</td>\n",
       "      <td>...</td>\n",
       "      <td>...</td>\n",
       "      <td>...</td>\n",
       "      <td>...</td>\n",
       "      <td>...</td>\n",
       "    </tr>\n",
       "    <tr>\n",
       "      <th>66780</th>\n",
       "      <td>2009-08-15 23:55:00</td>\n",
       "      <td>percilla</td>\n",
       "      <td>tx</td>\n",
       "      <td>us</td>\n",
       "      <td>light</td>\n",
       "      <td>5.0</td>\n",
       "      <td>5 seconds</td>\n",
       "      <td>Bright yellow light appeared twice</td>\n",
       "      <td>2009-08-27</td>\n",
       "      <td>31.546944</td>\n",
       "      <td>-95.398889</td>\n",
       "    </tr>\n",
       "    <tr>\n",
       "      <th>10837</th>\n",
       "      <td>1969-01-01 20:00:00</td>\n",
       "      <td>farmerville</td>\n",
       "      <td>la</td>\n",
       "      <td>us</td>\n",
       "      <td>other</td>\n",
       "      <td>120.0</td>\n",
       "      <td>2 minutes</td>\n",
       "      <td>Five bright white&amp;#44 small balls jumped out o...</td>\n",
       "      <td>1999-07-05</td>\n",
       "      <td>32.773333</td>\n",
       "      <td>-92.405556</td>\n",
       "    </tr>\n",
       "    <tr>\n",
       "      <th>57534</th>\n",
       "      <td>2002-07-17 16:30:00</td>\n",
       "      <td>fremont</td>\n",
       "      <td>oh</td>\n",
       "      <td>us</td>\n",
       "      <td>circle</td>\n",
       "      <td>180.0</td>\n",
       "      <td>2-3 minutes</td>\n",
       "      <td>A small silver craft...</td>\n",
       "      <td>2002-08-16</td>\n",
       "      <td>41.350278</td>\n",
       "      <td>-83.121944</td>\n",
       "    </tr>\n",
       "    <tr>\n",
       "      <th>48570</th>\n",
       "      <td>1947-06-15 10:00:00</td>\n",
       "      <td>winona (aprox.20 mi.north west of)</td>\n",
       "      <td>mn</td>\n",
       "      <td>us</td>\n",
       "      <td>disk</td>\n",
       "      <td>15.0</td>\n",
       "      <td>15 sec</td>\n",
       "      <td>2 unmoving round objets side my side like eyes...</td>\n",
       "      <td>1999-04-02</td>\n",
       "      <td>44.050000</td>\n",
       "      <td>-91.639167</td>\n",
       "    </tr>\n",
       "    <tr>\n",
       "      <th>36088</th>\n",
       "      <td>2001-04-01 17:05:00</td>\n",
       "      <td>tucson/marana</td>\n",
       "      <td>az</td>\n",
       "      <td>unknown</td>\n",
       "      <td>disk</td>\n",
       "      <td>2100.0</td>\n",
       "      <td>35 min</td>\n",
       "      <td>Returning South from Picacho Peak on Interstat...</td>\n",
       "      <td>2001-04-28</td>\n",
       "      <td>32.436381</td>\n",
       "      <td>-111.222442</td>\n",
       "    </tr>\n",
       "  </tbody>\n",
       "</table>\n",
       "<p>1000 rows × 11 columns</p>\n",
       "</div>"
      ],
      "text/plain": [
       "                     date                                city state  country  \\\n",
       "70114 2013-08-27 17:00:00                             atlanta    ga       us   \n",
       "4795  2013-10-26 05:00:00                            honolulu    hi       us   \n",
       "60011 2012-07-26 23:30:00                                avon    nc       us   \n",
       "28916 1983-02-28 21:30:00                              tilden    tx       us   \n",
       "12883 1999-11-25 18:00:00                            angleton    tx       us   \n",
       "...                   ...                                 ...   ...      ...   \n",
       "66780 2009-08-15 23:55:00                            percilla    tx       us   \n",
       "10837 1969-01-01 20:00:00                         farmerville    la       us   \n",
       "57534 2002-07-17 16:30:00                             fremont    oh       us   \n",
       "48570 1947-06-15 10:00:00  winona (aprox.20 mi.north west of)    mn       us   \n",
       "36088 2001-04-01 17:05:00                       tucson/marana    az  unknown   \n",
       "\n",
       "          shape  duration_seconds       duration  \\\n",
       "70114  fireball               5.0      5 seconds   \n",
       "4795      flash            3600.0         1 hour   \n",
       "60011  fireball            1200.0  15-20 minutes   \n",
       "28916  fireball             300.0      5 mintues   \n",
       "12883     light               2.0  a few seconds   \n",
       "...         ...               ...            ...   \n",
       "66780     light               5.0      5 seconds   \n",
       "10837     other             120.0      2 minutes   \n",
       "57534    circle             180.0    2-3 minutes   \n",
       "48570      disk              15.0         15 sec   \n",
       "36088      disk            2100.0         35 min   \n",
       "\n",
       "                                                 comment report_date  \\\n",
       "70114  Green  fireballs 2 different sightings over At...  2013-09-09   \n",
       "4795   Lightning without thunder and flickering that ...  2013-11-11   \n",
       "60011  Around 11:30 PM on 7/26/12 me and two of my co...  2012-08-05   \n",
       "28916          South Texas non illuminating ball of fire  2008-02-14   \n",
       "12883  Driving home from fishing&#44 and saw a light ...  1999-11-30   \n",
       "...                                                  ...         ...   \n",
       "66780                 Bright yellow light appeared twice  2009-08-27   \n",
       "10837  Five bright white&#44 small balls jumped out o...  1999-07-05   \n",
       "57534                            A small silver craft...  2002-08-16   \n",
       "48570  2 unmoving round objets side my side like eyes...  1999-04-02   \n",
       "36088  Returning South from Picacho Peak on Interstat...  2001-04-28   \n",
       "\n",
       "        latitude   longitude  \n",
       "70114  33.748889  -84.388056  \n",
       "4795   21.306944 -157.858333  \n",
       "60011  35.351944  -75.510833  \n",
       "28916  28.461667  -98.548889  \n",
       "12883  29.169167  -95.431667  \n",
       "...          ...         ...  \n",
       "66780  31.546944  -95.398889  \n",
       "10837  32.773333  -92.405556  \n",
       "57534  41.350278  -83.121944  \n",
       "48570  44.050000  -91.639167  \n",
       "36088  32.436381 -111.222442  \n",
       "\n",
       "[1000 rows x 11 columns]"
      ]
     },
     "execution_count": 113,
     "metadata": {},
     "output_type": "execute_result"
    }
   ],
   "source": [
    "ufosDS"
   ]
  },
  {
   "cell_type": "code",
   "execution_count": 114,
   "id": "b03c9b07",
   "metadata": {},
   "outputs": [
    {
     "data": {
      "image/png": "[encoded data removed]",
      "text/plain": [
       "<Figure size 432x288 with 1 Axes>"
      ]
     },
     "metadata": {
      "needs_background": "light"
     },
     "output_type": "display_data"
    }
   ],
   "source": [
    "# quick plot\n",
    "plt.plot(ufos['longitude'], ufos['latitude'],'.')\n",
    "plt.show()"
   ]
  },
  {
   "cell_type": "code",
   "execution_count": 115,
   "id": "927dceaf",
   "metadata": {},
   "outputs": [
    {
     "data": {
      "image/png": "[encoded data removed]",
      "text/plain": [
       "<Figure size 432x288 with 1 Axes>"
      ]
     },
     "metadata": {
      "needs_background": "light"
     },
     "output_type": "display_data"
    }
   ],
   "source": [
    "plt.plot(ufosDS['longitude'], ufosDS['latitude'],'.')\n",
    "plt.show()"
   ]
  },
  {
   "cell_type": "code",
   "execution_count": 130,
   "id": "1f02c9b0",
   "metadata": {},
   "outputs": [
    {
     "data": {
      "image/png": "[encoded data removed]",
      "text/plain": [
       "<Figure size 432x288 with 1 Axes>"
      ]
     },
     "metadata": {
      "needs_background": "light"
     },
     "output_type": "display_data"
    }
   ],
   "source": [
    "# instead of plot, I'll use scatter:\n",
    "plt.scatter(ufos['longitude'],ufos['latitude'], c=ufos['duration_seconds'])\n",
    "plt.show()"
   ]
  },
  {
   "cell_type": "code",
   "execution_count": 117,
   "id": "511c1584",
   "metadata": {},
   "outputs": [
    {
     "data": {
      "text/plain": [
       "0        2700.0\n",
       "1        7200.0\n",
       "2          20.0\n",
       "3          20.0\n",
       "4         900.0\n",
       "          ...  \n",
       "80327     600.0\n",
       "80328    1200.0\n",
       "80329    1200.0\n",
       "80330       5.0\n",
       "80331    1020.0\n",
       "Name: duration_seconds, Length: 80332, dtype: float64"
      ]
     },
     "execution_count": 117,
     "metadata": {},
     "output_type": "execute_result"
    }
   ],
   "source": [
    "ufos['duration_seconds']"
   ]
  },
  {
   "cell_type": "code",
   "execution_count": 118,
   "id": "c63288c6",
   "metadata": {},
   "outputs": [
    {
     "data": {
      "text/plain": [
       "(0.001, 97836000.0)"
      ]
     },
     "execution_count": 118,
     "metadata": {},
     "output_type": "execute_result"
    }
   ],
   "source": [
    "ufos['duration_seconds'].min(), ufos['duration_seconds'].max()"
   ]
  },
  {
   "cell_type": "code",
   "execution_count": 119,
   "id": "9c9fc243",
   "metadata": {},
   "outputs": [
    {
     "data": {
      "image/png": "[encoded data removed]",
      "text/plain": [
       "<Figure size 432x288 with 1 Axes>"
      ]
     },
     "metadata": {
      "needs_background": "light"
     },
     "output_type": "display_data"
    }
   ],
   "source": [
    "plt.scatter(ufos['longitude'],ufos['latitude'], c=np.log10(ufos['duration_seconds']))\n",
    "plt.show()"
   ]
  },
  {
   "cell_type": "code",
   "execution_count": 120,
   "id": "f24cf03e",
   "metadata": {},
   "outputs": [],
   "source": [
    "ufos.plot?"
   ]
  },
  {
   "cell_type": "markdown",
   "id": "d27f4e4d",
   "metadata": {},
   "source": [
    "## Few more fun things with widgets"
   ]
  },
  {
   "cell_type": "code",
   "execution_count": 122,
   "id": "87b65df6",
   "metadata": {},
   "outputs": [
    {
     "data": {
      "application/vnd.jupyter.widget-view+json": {
       "model_id": "eb63609861c44d8baf7ea7529b90ac91",
       "version_major": 2,
       "version_minor": 0
      },
      "text/plain": [
       "IntProgress(value=50)"
      ]
     },
     "metadata": {},
     "output_type": "display_data"
    }
   ],
   "source": [
    "ip = ipywidgets.IntProgress(value=50)\n",
    "ip"
   ]
  },
  {
   "cell_type": "code",
   "execution_count": 123,
   "id": "373eeb2c",
   "metadata": {},
   "outputs": [
    {
     "data": {
      "application/vnd.jupyter.widget-view+json": {
       "model_id": "439cfdfdcada49dfa7a7784fc59cb8b8",
       "version_major": 2,
       "version_minor": 0
      },
      "text/plain": [
       "Button(description='+10', style=ButtonStyle())"
      ]
     },
     "metadata": {},
     "output_type": "display_data"
    }
   ],
   "source": [
    "button_plus = ipywidgets.Button(description=\"+10\")\n",
    "button_plus"
   ]
  },
  {
   "cell_type": "code",
   "execution_count": 124,
   "id": "aadcb74f",
   "metadata": {},
   "outputs": [
    {
     "data": {
      "application/vnd.jupyter.widget-view+json": {
       "model_id": "628af84f2a104d8a96ed61d7b3fae897",
       "version_major": 2,
       "version_minor": 0
      },
      "text/plain": [
       "Button(description='-10', style=ButtonStyle())"
      ]
     },
     "metadata": {},
     "output_type": "display_data"
    }
   ],
   "source": [
    "button_minus = ipywidgets.Button(description=\"-10\")\n",
    "button_minus"
   ]
  },
  {
   "cell_type": "code",
   "execution_count": 125,
   "id": "1ce6ba2f",
   "metadata": {},
   "outputs": [
    {
     "data": {
      "application/vnd.jupyter.widget-view+json": {
       "model_id": "4afe0053166e4b36ad9ac78c3b3bca66",
       "version_major": 2,
       "version_minor": 0
      },
      "text/plain": [
       "HBox(children=(Button(description='-10', style=ButtonStyle()), IntProgress(value=50), Button(description='+10'…"
      ]
     },
     "metadata": {},
     "output_type": "display_data"
    }
   ],
   "source": [
    "ipywidgets.HBox([button_minus, ip, button_plus])"
   ]
  },
  {
   "cell_type": "code",
   "execution_count": 126,
   "id": "c22488d2",
   "metadata": {},
   "outputs": [],
   "source": [
    "def click_down(event):\n",
    "    ip.value -= 10"
   ]
  },
  {
   "cell_type": "code",
   "execution_count": 127,
   "id": "4d499351",
   "metadata": {},
   "outputs": [],
   "source": [
    "button_minus.on_click(click_down)"
   ]
  },
  {
   "cell_type": "code",
   "execution_count": 128,
   "id": "923cd669",
   "metadata": {},
   "outputs": [],
   "source": [
    "def click_up(event):\n",
    "    ip.value += 10\n",
    "button_plus.on_click(click_up)"
   ]
  },
  {
   "cell_type": "code",
   "execution_count": 129,
   "id": "27dde0a3",
   "metadata": {},
   "outputs": [
    {
     "data": {
      "application/vnd.jupyter.widget-view+json": {
       "model_id": "5f6af0f60b774bf1b06e30f1eb3baf85",
       "version_major": 2,
       "version_minor": 0
      },
      "text/plain": [
       "VBox(children=(HBox(children=(Button(description='-10', style=ButtonStyle()), Button(description='+10', style=…"
      ]
     },
     "metadata": {},
     "output_type": "display_data"
    }
   ],
   "source": [
    "# example -- layout with HBox and VBox\n",
    "\n",
    "ipywidgets.VBox([ipywidgets.HBox([button_minus, button_plus]),ip])"
   ]
  },
  {
   "cell_type": "code",
   "execution_count": null,
   "id": "94323f19",
   "metadata": {},
   "outputs": [],
   "source": []
  }
 ],
 "metadata": {
  "kernelspec": {
   "display_name": "Python 3 (ipykernel)",
   "language": "python",
   "name": "python3"
  },
  "language_info": {
   "codemirror_mode": {
    "name": "ipython",
    "version": 3
   },
   "file_extension": ".py",
   "mimetype": "text/x-python",
   "name": "python",
   "nbconvert_exporter": "python",
   "pygments_lexer": "ipython3",
   "version": "3.7.10"
  }
 },
 "nbformat": 4,
 "nbformat_minor": 5
}
