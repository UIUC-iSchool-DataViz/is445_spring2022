{
 "cells": [
  {
   "cell_type": "markdown",
   "id": "respective-store",
   "metadata": {},
   "source": [
    "# In Class Notebook, Week 06"
   ]
  },
  {
   "cell_type": "markdown",
   "id": "2a597611",
   "metadata": {},
   "source": [
    "You can always paste the URL of this notebook (https://github.com/UIUC-iSchool-DataViz/is445_spring2022/blob/master/week06/inClass_week06.ipynb ) into the nbviewer interface for a plain-text rendering:\n",
    "\n",
    "https://kokes.github.io/nbviewer.js/viewer.html"
   ]
  },
  {
   "cell_type": "markdown",
   "id": "1c30fc3c",
   "metadata": {},
   "source": []
  },
  {
   "cell_type": "code",
   "execution_count": 1,
   "id": "84f1b982",
   "metadata": {},
   "outputs": [],
   "source": [
    "import bqplot\n",
    "import numpy as np\n",
    "import ipywidgets"
   ]
  },
  {
   "cell_type": "code",
   "execution_count": 2,
   "id": "d059d1b4",
   "metadata": {},
   "outputs": [
    {
     "data": {
      "text/plain": [
       "array([ 0,  1,  2,  3,  4,  5,  6,  7,  8,  9, 10, 11, 12, 13, 14, 15, 16,\n",
       "       17, 18, 19, 20, 21, 22, 23, 24, 25, 26, 27, 28, 29, 30, 31, 32, 33,\n",
       "       34, 35, 36, 37, 38, 39, 40, 41, 42, 43, 44, 45, 46, 47, 48, 49, 50,\n",
       "       51, 52, 53, 54, 55, 56, 57, 58, 59, 60, 61, 62, 63, 64, 65, 66, 67,\n",
       "       68, 69, 70, 71, 72, 73, 74, 75, 76, 77, 78, 79, 80, 81, 82, 83, 84,\n",
       "       85, 86, 87, 88, 89, 90, 91, 92, 93, 94, 95, 96, 97, 98, 99])"
      ]
     },
     "execution_count": 2,
     "metadata": {},
     "output_type": "execute_result"
    }
   ],
   "source": [
    "# #1 in GoG (Grammar of Graphics) is the data!\n",
    "x = np.arange(100)\n",
    "x"
   ]
  },
  {
   "cell_type": "code",
   "execution_count": 3,
   "id": "000a9e61",
   "metadata": {},
   "outputs": [
    {
     "data": {
      "text/plain": [
       "array([0.74834301, 0.12034855, 0.61114136, 0.39294883, 0.03662979,\n",
       "       0.22368963, 0.97037616, 0.61499508, 0.32417564, 0.81313179,\n",
       "       0.18968267, 0.59096305, 0.55551813, 0.51394554, 0.00102795,\n",
       "       0.08458884, 0.62087629, 0.41249747, 0.0605261 , 0.95480678,\n",
       "       0.27538721, 0.33129882, 0.70467139, 0.12697277, 0.87841244,\n",
       "       0.06339405, 0.14793161, 0.03824327, 0.36352111, 0.38953838,\n",
       "       0.80548825, 0.28345535, 0.31704475, 0.76036026, 0.87913638,\n",
       "       0.0013208 , 0.39163861, 0.27976268, 0.12753653, 0.74749476,\n",
       "       0.26626977, 0.04927151, 0.90757209, 0.45213034, 0.66324023,\n",
       "       0.91703347, 0.66232932, 0.22928813, 0.89160544, 0.84123687,\n",
       "       0.44143626, 0.5647203 , 0.35192449, 0.52572725, 0.34442051,\n",
       "       0.79082822, 0.06833873, 0.69793728, 0.56151945, 0.33400306,\n",
       "       0.52154899, 0.99312135, 0.45379439, 0.7846463 , 0.88974152,\n",
       "       0.17845129, 0.6638428 , 0.06349036, 0.65988712, 0.81578915,\n",
       "       0.58106948, 0.15215742, 0.03565336, 0.99005736, 0.50871824,\n",
       "       0.35227627, 0.22150517, 0.96191417, 0.63027614, 0.02399972,\n",
       "       0.00106088, 0.43135546, 0.66596558, 0.17430413, 0.27887084,\n",
       "       0.94475102, 0.54659179, 0.03074504, 0.75324713, 0.91209971,\n",
       "       0.57926411, 0.03738733, 0.07348801, 0.1897735 , 0.70322575,\n",
       "       0.49241308, 0.50654217, 0.45244143, 0.40230025, 0.81404577])"
      ]
     },
     "execution_count": 3,
     "metadata": {},
     "output_type": "execute_result"
    }
   ],
   "source": [
    "y = np.random.random(100)\n",
    "y"
   ]
  },
  {
   "cell_type": "code",
   "execution_count": 4,
   "id": "cf950129",
   "metadata": {},
   "outputs": [],
   "source": [
    "bqplot.LinearScale?"
   ]
  },
  {
   "cell_type": "code",
   "execution_count": 5,
   "id": "fd8d8616",
   "metadata": {},
   "outputs": [],
   "source": [
    "#2 Scales -- our data is linear so let's use linear scales\n",
    "x_sc = bqplot.LinearScale()\n",
    "y_sc = bqplot.LinearScale()"
   ]
  },
  {
   "cell_type": "code",
   "execution_count": 6,
   "id": "08cac1d8",
   "metadata": {},
   "outputs": [],
   "source": [
    "# #3 Marks -- x/y are linearly related, line is probably a good choice -- Line Mark\n",
    "bqplot.Lines?"
   ]
  },
  {
   "cell_type": "code",
   "execution_count": 7,
   "id": "1d635a31",
   "metadata": {},
   "outputs": [],
   "source": [
    "lines = bqplot.Lines(x=x, y=y, scales={'x':x_sc, 'y':y_sc})"
   ]
  },
  {
   "cell_type": "code",
   "execution_count": 8,
   "id": "b7e40cc3",
   "metadata": {},
   "outputs": [],
   "source": [
    "# #4 Axis -- where to plot? \n",
    "bqplot.Axis?"
   ]
  },
  {
   "cell_type": "code",
   "execution_count": 9,
   "id": "40bb9d4e",
   "metadata": {},
   "outputs": [],
   "source": [
    "ax_x = bqplot.Axis(scale=x_sc, label='X')\n",
    "ax_y = bqplot.Axis(scale=y_sc, label='Y', orientation='vertical')"
   ]
  },
  {
   "cell_type": "code",
   "execution_count": 10,
   "id": "60cafdc4",
   "metadata": {},
   "outputs": [],
   "source": [
    "# #5 is put together as a figure\n",
    "bqplot.Figure?"
   ]
  },
  {
   "cell_type": "code",
   "execution_count": 11,
   "id": "027c26cc",
   "metadata": {},
   "outputs": [],
   "source": [
    "fig = bqplot.Figure(marks=[lines], axes=[ax_x,ax_y])"
   ]
  },
  {
   "cell_type": "code",
   "execution_count": 12,
   "id": "8559a126",
   "metadata": {},
   "outputs": [
    {
     "data": {
      "application/vnd.jupyter.widget-view+json": {
       "model_id": "db8ed81bcc7343d78c029c08f16cf14f",
       "version_major": 2,
       "version_minor": 0
      },
      "text/plain": [
       "Figure(axes=[Axis(label='X', scale=LinearScale(), side='bottom'), Axis(label='Y', orientation='vertical', scal…"
      ]
     },
     "metadata": {},
     "output_type": "display_data"
    }
   ],
   "source": [
    "fig"
   ]
  },
  {
   "cell_type": "code",
   "execution_count": 13,
   "id": "4c25d933",
   "metadata": {},
   "outputs": [],
   "source": [
    "bqplot.interacts?"
   ]
  },
  {
   "cell_type": "code",
   "execution_count": 14,
   "id": "0d9f575a",
   "metadata": {},
   "outputs": [],
   "source": [
    "# let's add a pan-zoom interaction\n",
    "pz = bqplot.interacts.PanZoom(scales={'x':[x_sc], 'y':[y_sc]})"
   ]
  },
  {
   "cell_type": "code",
   "execution_count": 15,
   "id": "804e41dd",
   "metadata": {},
   "outputs": [],
   "source": [
    "fig = bqplot.Figure(marks=[lines], axes=[ax_x, ax_y], interaction=pz)"
   ]
  },
  {
   "cell_type": "code",
   "execution_count": 16,
   "id": "f276fbfc",
   "metadata": {},
   "outputs": [
    {
     "data": {
      "application/vnd.jupyter.widget-view+json": {
       "model_id": "dcda8e71c9f14f05ab3786daf922d947",
       "version_major": 2,
       "version_minor": 0
      },
      "text/plain": [
       "Figure(axes=[Axis(label='X', scale=LinearScale(), side='bottom'), Axis(label='Y', orientation='vertical', scal…"
      ]
     },
     "metadata": {},
     "output_type": "display_data"
    }
   ],
   "source": [
    "fig"
   ]
  },
  {
   "cell_type": "markdown",
   "id": "29428ea3",
   "metadata": {},
   "source": [
    "So far, pretty neat, but could could be neater!\n",
    "\n",
    "### Another example: scatter plot with random data"
   ]
  },
  {
   "cell_type": "code",
   "execution_count": 17,
   "id": "6127b409",
   "metadata": {},
   "outputs": [],
   "source": [
    "# 1. Data\n",
    "x = np.random.random(100)\n",
    "y = np.random.random(100)"
   ]
  },
  {
   "cell_type": "code",
   "execution_count": 19,
   "id": "70168d82",
   "metadata": {},
   "outputs": [],
   "source": [
    "#x,y"
   ]
  },
  {
   "cell_type": "code",
   "execution_count": 20,
   "id": "d52b664b",
   "metadata": {},
   "outputs": [],
   "source": [
    "# 2. scales\n",
    "x_sc = bqplot.LinearScale()\n",
    "y_sc = bqplot.LinearScale()\n",
    "\n",
    "# 3. axis (sometimes this can be #4 if we aren't sure what mark to use!)\n",
    "x_ax = bqplot.Axis(scale=x_sc, label='X')\n",
    "y_ax = bqplot.Axis(scale=y_sc, label='Y', orientation='vertical')"
   ]
  },
  {
   "cell_type": "code",
   "execution_count": 21,
   "id": "939ceb30",
   "metadata": {},
   "outputs": [],
   "source": [
    "bqplot.Scatter?"
   ]
  },
  {
   "cell_type": "code",
   "execution_count": 22,
   "id": "170b8311",
   "metadata": {},
   "outputs": [],
   "source": [
    "# 4. marks\n",
    "scatters = bqplot.Scatter(x=x, y=y, scales={'x':x_sc, 'y':y_sc})"
   ]
  },
  {
   "cell_type": "code",
   "execution_count": 23,
   "id": "1aaf446b",
   "metadata": {},
   "outputs": [],
   "source": [
    "# 5. think about interactions (around step 5)\n",
    "bqplot.interacts.FastIntervalSelector?"
   ]
  },
  {
   "cell_type": "code",
   "execution_count": 24,
   "id": "59157895",
   "metadata": {},
   "outputs": [],
   "source": [
    "selector = bqplot.interacts.FastIntervalSelector(scale=x_sc, marks=[scatters])"
   ]
  },
  {
   "cell_type": "code",
   "execution_count": 25,
   "id": "4438b009",
   "metadata": {},
   "outputs": [
    {
     "data": {
      "application/vnd.jupyter.widget-view+json": {
       "model_id": "4a2961da24b64b6d99046418e56b2852",
       "version_major": 2,
       "version_minor": 0
      },
      "text/plain": [
       "Figure(axes=[Axis(label='X', scale=LinearScale(), side='bottom'), Axis(label='Y', orientation='vertical', scal…"
      ]
     },
     "metadata": {},
     "output_type": "display_data"
    }
   ],
   "source": [
    "# Finally -- together as a fig!\n",
    "fig = bqplot.Figure(marks=[scatters], axes=[x_ax,y_ax], interaction=selector)\n",
    "fig"
   ]
  },
  {
   "cell_type": "code",
   "execution_count": 26,
   "id": "1a98dde9",
   "metadata": {},
   "outputs": [
    {
     "data": {
      "text/plain": [
       "array([0.44144185, 0.77678304])"
      ]
     },
     "execution_count": 26,
     "metadata": {},
     "output_type": "execute_result"
    }
   ],
   "source": [
    "selector.selected"
   ]
  },
  {
   "cell_type": "code",
   "execution_count": 27,
   "id": "b6b1616e",
   "metadata": {},
   "outputs": [],
   "source": [
    "scatters.unselected_style={'opacity':0.8} #make unselected a bit see-through\n",
    "scatters.selected_style ={'fill':'red', 'stroke':'yellow'}\n",
    "# fill selected with red and outline with yellow"
   ]
  },
  {
   "cell_type": "markdown",
   "id": "d8bc9480",
   "metadata": {},
   "source": [
    "## Thinking to higher dimensions (dashboards) -- Random Heatmap in 2D"
   ]
  },
  {
   "cell_type": "code",
   "execution_count": 28,
   "id": "3288355c",
   "metadata": {},
   "outputs": [],
   "source": [
    "data = np.random.random((10,10))"
   ]
  },
  {
   "cell_type": "code",
   "execution_count": 30,
   "id": "b336274b",
   "metadata": {},
   "outputs": [],
   "source": [
    "#data"
   ]
  },
  {
   "cell_type": "code",
   "execution_count": 31,
   "id": "36a95188",
   "metadata": {},
   "outputs": [],
   "source": [
    "bqplot.GridHeatMap?"
   ]
  },
  {
   "cell_type": "code",
   "execution_count": null,
   "id": "33867585",
   "metadata": {},
   "outputs": [],
   "source": []
  }
 ],
 "metadata": {
  "kernelspec": {
   "display_name": "Python 3 (ipykernel)",
   "language": "python",
   "name": "python3"
  },
  "language_info": {
   "codemirror_mode": {
    "name": "ipython",
    "version": 3
   },
   "file_extension": ".py",
   "mimetype": "text/x-python",
   "name": "python",
   "nbconvert_exporter": "python",
   "pygments_lexer": "ipython3",
   "version": "3.7.12"
  }
 },
 "nbformat": 4,
 "nbformat_minor": 5
}
