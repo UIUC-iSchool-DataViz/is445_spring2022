{
 "cells": [
  {
   "cell_type": "markdown",
   "id": "respective-store",
   "metadata": {},
   "source": [
    "# In Class Notebook, Week 08"
   ]
  },
  {
   "cell_type": "markdown",
   "id": "2a597611",
   "metadata": {},
   "source": [
    "You can always paste the URL of this notebook (https://github.com/UIUC-iSchool-DataViz/is445_spring2022/blob/master/week08/inClass_week08.ipynb ) into the nbviewer interface for a plain-text rendering:\n",
    "\n",
    "https://kokes.github.io/nbviewer.js/viewer.html"
   ]
  },
  {
   "cell_type": "code",
   "execution_count": 1,
   "id": "73edca31",
   "metadata": {},
   "outputs": [],
   "source": [
    "import pandas as pd\n",
    "import matplotlib.pyplot as plt\n",
    "import geopandas \n",
    "import numpy as np\n",
    "import bqplot"
   ]
  },
  {
   "cell_type": "code",
   "execution_count": 2,
   "id": "455a82a3",
   "metadata": {},
   "outputs": [],
   "source": [
    "# 1. data (data/axis)\n",
    "shape_data = bqplot.topo_load('map_data/WorldMap.json')"
   ]
  },
  {
   "cell_type": "code",
   "execution_count": 3,
   "id": "9dca4a6b",
   "metadata": {},
   "outputs": [],
   "source": [
    "# 2. scales\n",
    "sc_geo = bqplot.Mercator()"
   ]
  },
  {
   "cell_type": "code",
   "execution_count": 4,
   "id": "47370400",
   "metadata": {},
   "outputs": [],
   "source": [
    "# 3. Marks\n",
    "shape_map = bqplot.Map(map_data=shape_data, scales={'projection':sc_geo})"
   ]
  },
  {
   "cell_type": "code",
   "execution_count": 6,
   "id": "06175f7a",
   "metadata": {},
   "outputs": [
    {
     "data": {
      "application/vnd.jupyter.widget-view+json": {
       "model_id": "747edfb5a2bb4470bc5923a5174728fa",
       "version_major": 2,
       "version_minor": 0
      },
      "text/plain": [
       "Figure(fig_margin={'top': 0, 'bottom': 0, 'left': 0, 'right': 0}, marks=[Map(hovered_styles={'hovered_fill': '…"
      ]
     },
     "metadata": {},
     "output_type": "display_data"
    }
   ],
   "source": [
    "# put it all together as a figure\n",
    "fig = bqplot.Figure(marks=[shape_map], \n",
    "                   fig_margin={'top':0, 'bottom':0,'left':0, 'right':0})\n",
    "fig"
   ]
  },
  {
   "cell_type": "code",
   "execution_count": 7,
   "id": "9f431bc1",
   "metadata": {},
   "outputs": [
    {
     "data": {
      "application/vnd.jupyter.widget-view+json": {
       "model_id": "18ad7ac8cfe44b658cb3e078bea2093b",
       "version_major": 2,
       "version_minor": 0
      },
      "text/plain": [
       "Figure(fig_margin={'top': 0, 'bottom': 0, 'left': 0, 'right': 0}, marks=[Map(hovered_styles={'hovered_fill': '…"
      ]
     },
     "metadata": {},
     "output_type": "display_data"
    }
   ],
   "source": [
    "# 1. axis/data\n",
    "shape_data = bqplot.topo_load('map_data/WorldMap.json') # shapes we want to draw\n",
    "\n",
    "# 2. scales\n",
    "sc_geo = bqplot.Gnomonic() # a nightmare!\n",
    "\n",
    "# 3. marks\n",
    "shape_map = bqplot.Map(map_data=shape_data, scales={'projection':sc_geo})\n",
    "\n",
    "# 4. figur\n",
    "fig = bqplot.Figure(marks=[shape_map], \n",
    "                    fig_margin={'top':0,'bottom':0,'left':0,'right':0})\n",
    "fig"
   ]
  },
  {
   "cell_type": "code",
   "execution_count": 9,
   "id": "df6e2450",
   "metadata": {},
   "outputs": [
    {
     "data": {
      "application/vnd.jupyter.widget-view+json": {
       "model_id": "4312779a88204aacb6a12968675486ea",
       "version_major": 2,
       "version_minor": 0
      },
      "text/plain": [
       "Figure(fig_margin={'top': 0, 'bottom': 0, 'left': 0, 'right': 0}, marks=[Map(hovered_styles={'hovered_fill': '…"
      ]
     },
     "metadata": {},
     "output_type": "display_data"
    }
   ],
   "source": [
    "# axis/data\n",
    "state_data = bqplot.topo_load('map_data/USStatesMap.json')\n",
    "\n",
    "# scales\n",
    "sc_geo = bqplot.AlbersUSA() # USA-specific projection\n",
    "\n",
    "# marks\n",
    "states_map = bqplot.Map(map_data = state_data, scales={'projection':sc_geo})\n",
    "\n",
    "# in figure\n",
    "fig = bqplot.Figure(marks=[states_map], fig_margin={'top':0,'bottom':0,'left':0,'right':0})\n",
    "fig"
   ]
  },
  {
   "cell_type": "code",
   "execution_count": 11,
   "id": "be544c51",
   "metadata": {},
   "outputs": [
    {
     "name": "stdout",
     "output_type": "stream",
     "text": [
      "EuropeMap.json     USCountiesMap.json USStatesMap.json   WorldMap.json\r\n"
     ]
    }
   ],
   "source": [
    "!ls /Users/jillnaiman/opt/anaconda3/pkgs/bqplot-0.12.2-py_0/site-packages/bqplot/map_data"
   ]
  },
  {
   "cell_type": "code",
   "execution_count": 10,
   "id": "b1774078",
   "metadata": {},
   "outputs": [
    {
     "data": {
      "application/vnd.jupyter.widget-view+json": {
       "model_id": "5cf41fe604f64e9fb1d0eaccf77f131e",
       "version_major": 2,
       "version_minor": 0
      },
      "text/plain": [
       "Figure(fig_margin={'top': 0, 'bottom': 0, 'left': 0, 'right': 0}, marks=[Map(hovered_styles={'hovered_fill': '…"
      ]
     },
     "metadata": {},
     "output_type": "display_data"
    }
   ],
   "source": [
    "# axis/data\n",
    "state_data = bqplot.topo_load('map_data/USStatesMap.json')\n",
    "\n",
    "# scales\n",
    "sc_geo = bqplot.AlbersUSA() # USA-specific projection\n",
    "\n",
    "# tool tip!\n",
    "tt = bqplot.Tooltip(fields=['id','name'])\n",
    "states_map.interactions = {'click':'select', 'hover':'tooltip'}\n",
    "\n",
    "# marks\n",
    "states_map = bqplot.Map(map_data = state_data, scales={'projection':sc_geo},\n",
    "                       tooltip=tt)\n",
    "\n",
    "# in figure\n",
    "fig = bqplot.Figure(marks=[states_map], fig_margin={'top':0,'bottom':0,'left':0,'right':0})\n",
    "fig"
   ]
  },
  {
   "cell_type": "markdown",
   "id": "29e1e07c",
   "metadata": {},
   "source": [
    "## Geopandas"
   ]
  },
  {
   "cell_type": "code",
   "execution_count": 12,
   "id": "51898af9",
   "metadata": {},
   "outputs": [
    {
     "data": {
      "text/plain": [
       "['naturalearth_cities', 'naturalearth_lowres', 'nybb']"
      ]
     },
     "execution_count": 12,
     "metadata": {},
     "output_type": "execute_result"
    }
   ],
   "source": [
    "geopandas.datasets.available"
   ]
  },
  {
   "cell_type": "code",
   "execution_count": 13,
   "id": "7aec9205",
   "metadata": {},
   "outputs": [],
   "source": [
    "gdf = geopandas.read_file(geopandas.datasets.get_path('nybb'))"
   ]
  },
  {
   "cell_type": "code",
   "execution_count": 15,
   "id": "d5dbc520",
   "metadata": {},
   "outputs": [
    {
     "data": {
      "text/plain": [
       "<matplotlib.axes._subplots.AxesSubplot at 0x7ff320eca110>"
      ]
     },
     "execution_count": 15,
     "metadata": {},
     "output_type": "execute_result"
    },
    {
     "data": {
      "image/png": "[encoded data removed]",
      "text/plain": [
       "<Figure size 432x288 with 1 Axes>"
      ]
     },
     "metadata": {
      "needs_background": "light"
     },
     "output_type": "display_data"
    }
   ],
   "source": [
    "gdf.plot(alpha=0.5, edgecolor='k')"
   ]
  },
  {
   "cell_type": "code",
   "execution_count": 16,
   "id": "454feb89",
   "metadata": {},
   "outputs": [],
   "source": [
    "gdf_councils = geopandas.read_file('https://opendata.arcgis.com/datasets/1f75636917604299861fb408bbf79378_1.geojson')"
   ]
  },
  {
   "cell_type": "code",
   "execution_count": 17,
   "id": "a9d53ae2",
   "metadata": {},
   "outputs": [
    {
     "data": {
      "text/html": [
       "<div>\n",
       "<style scoped>\n",
       "    .dataframe tbody tr th:only-of-type {\n",
       "        vertical-align: middle;\n",
       "    }\n",
       "\n",
       "    .dataframe tbody tr th {\n",
       "        vertical-align: top;\n",
       "    }\n",
       "\n",
       "    .dataframe thead th {\n",
       "        text-align: right;\n",
       "    }\n",
       "</style>\n",
       "<table border=\"1\" class=\"dataframe\">\n",
       "  <thead>\n",
       "    <tr style=\"text-align: right;\">\n",
       "      <th></th>\n",
       "      <th>OBJECTID_1</th>\n",
       "      <th>District</th>\n",
       "      <th>Council_me</th>\n",
       "      <th>ShapeSTArea</th>\n",
       "      <th>ShapeSTLength</th>\n",
       "      <th>geometry</th>\n",
       "    </tr>\n",
       "  </thead>\n",
       "  <tbody>\n",
       "    <tr>\n",
       "      <th>0</th>\n",
       "      <td>811</td>\n",
       "      <td>5</td>\n",
       "      <td>Vanna Pianfetti</td>\n",
       "      <td>1.838498e+08</td>\n",
       "      <td>211060.175261</td>\n",
       "      <td>POLYGON ((-88.31441 40.11699, -88.31454 40.116...</td>\n",
       "    </tr>\n",
       "    <tr>\n",
       "      <th>1</th>\n",
       "      <td>812</td>\n",
       "      <td>3</td>\n",
       "      <td>Daniel Iniguez</td>\n",
       "      <td>2.009197e+08</td>\n",
       "      <td>144362.359386</td>\n",
       "      <td>POLYGON ((-88.27716 40.16364, -88.27732 40.163...</td>\n",
       "    </tr>\n",
       "    <tr>\n",
       "      <th>2</th>\n",
       "      <td>813</td>\n",
       "      <td>1</td>\n",
       "      <td>Davion Williams</td>\n",
       "      <td>1.078965e+08</td>\n",
       "      <td>83420.727939</td>\n",
       "      <td>POLYGON ((-88.22283 40.16000, -88.22283 40.160...</td>\n",
       "    </tr>\n",
       "    <tr>\n",
       "      <th>3</th>\n",
       "      <td>814</td>\n",
       "      <td>4</td>\n",
       "      <td>Michael Foellmer</td>\n",
       "      <td>1.049800e+08</td>\n",
       "      <td>77363.320814</td>\n",
       "      <td>POLYGON ((-88.26890 40.12733, -88.27076 40.127...</td>\n",
       "    </tr>\n",
       "    <tr>\n",
       "      <th>4</th>\n",
       "      <td>815</td>\n",
       "      <td>2</td>\n",
       "      <td>Alicia Beck</td>\n",
       "      <td>5.164512e+07</td>\n",
       "      <td>62243.277115</td>\n",
       "      <td>POLYGON ((-88.23537 40.10798, -88.23537 40.107...</td>\n",
       "    </tr>\n",
       "  </tbody>\n",
       "</table>\n",
       "</div>"
      ],
      "text/plain": [
       "   OBJECTID_1 District        Council_me   ShapeSTArea  ShapeSTLength  \\\n",
       "0         811        5   Vanna Pianfetti  1.838498e+08  211060.175261   \n",
       "1         812        3    Daniel Iniguez  2.009197e+08  144362.359386   \n",
       "2         813        1   Davion Williams  1.078965e+08   83420.727939   \n",
       "3         814        4  Michael Foellmer  1.049800e+08   77363.320814   \n",
       "4         815        2       Alicia Beck  5.164512e+07   62243.277115   \n",
       "\n",
       "                                            geometry  \n",
       "0  POLYGON ((-88.31441 40.11699, -88.31454 40.116...  \n",
       "1  POLYGON ((-88.27716 40.16364, -88.27732 40.163...  \n",
       "2  POLYGON ((-88.22283 40.16000, -88.22283 40.160...  \n",
       "3  POLYGON ((-88.26890 40.12733, -88.27076 40.127...  \n",
       "4  POLYGON ((-88.23537 40.10798, -88.23537 40.107...  "
      ]
     },
     "execution_count": 17,
     "metadata": {},
     "output_type": "execute_result"
    }
   ],
   "source": [
    "gdf_councils.head()"
   ]
  },
  {
   "cell_type": "code",
   "execution_count": 18,
   "id": "7e243bde",
   "metadata": {},
   "outputs": [
    {
     "data": {
      "text/html": [
       "<div>\n",
       "<style scoped>\n",
       "    .dataframe tbody tr th:only-of-type {\n",
       "        vertical-align: middle;\n",
       "    }\n",
       "\n",
       "    .dataframe tbody tr th {\n",
       "        vertical-align: top;\n",
       "    }\n",
       "\n",
       "    .dataframe thead th {\n",
       "        text-align: right;\n",
       "    }\n",
       "</style>\n",
       "<table border=\"1\" class=\"dataframe\">\n",
       "  <thead>\n",
       "    <tr style=\"text-align: right;\">\n",
       "      <th></th>\n",
       "      <th>OBJECTID_1</th>\n",
       "      <th>ShapeSTArea</th>\n",
       "      <th>ShapeSTLength</th>\n",
       "    </tr>\n",
       "  </thead>\n",
       "  <tbody>\n",
       "    <tr>\n",
       "      <th>count</th>\n",
       "      <td>5.000000</td>\n",
       "      <td>5.000000e+00</td>\n",
       "      <td>5.000000</td>\n",
       "    </tr>\n",
       "    <tr>\n",
       "      <th>mean</th>\n",
       "      <td>813.000000</td>\n",
       "      <td>1.298582e+08</td>\n",
       "      <td>115689.972103</td>\n",
       "    </tr>\n",
       "    <tr>\n",
       "      <th>std</th>\n",
       "      <td>1.581139</td>\n",
       "      <td>6.161040e+07</td>\n",
       "      <td>61814.979912</td>\n",
       "    </tr>\n",
       "    <tr>\n",
       "      <th>min</th>\n",
       "      <td>811.000000</td>\n",
       "      <td>5.164512e+07</td>\n",
       "      <td>62243.277115</td>\n",
       "    </tr>\n",
       "    <tr>\n",
       "      <th>25%</th>\n",
       "      <td>812.000000</td>\n",
       "      <td>1.049800e+08</td>\n",
       "      <td>77363.320814</td>\n",
       "    </tr>\n",
       "    <tr>\n",
       "      <th>50%</th>\n",
       "      <td>813.000000</td>\n",
       "      <td>1.078965e+08</td>\n",
       "      <td>83420.727939</td>\n",
       "    </tr>\n",
       "    <tr>\n",
       "      <th>75%</th>\n",
       "      <td>814.000000</td>\n",
       "      <td>1.838498e+08</td>\n",
       "      <td>144362.359386</td>\n",
       "    </tr>\n",
       "    <tr>\n",
       "      <th>max</th>\n",
       "      <td>815.000000</td>\n",
       "      <td>2.009197e+08</td>\n",
       "      <td>211060.175261</td>\n",
       "    </tr>\n",
       "  </tbody>\n",
       "</table>\n",
       "</div>"
      ],
      "text/plain": [
       "       OBJECTID_1   ShapeSTArea  ShapeSTLength\n",
       "count    5.000000  5.000000e+00       5.000000\n",
       "mean   813.000000  1.298582e+08  115689.972103\n",
       "std      1.581139  6.161040e+07   61814.979912\n",
       "min    811.000000  5.164512e+07   62243.277115\n",
       "25%    812.000000  1.049800e+08   77363.320814\n",
       "50%    813.000000  1.078965e+08   83420.727939\n",
       "75%    814.000000  1.838498e+08  144362.359386\n",
       "max    815.000000  2.009197e+08  211060.175261"
      ]
     },
     "execution_count": 18,
     "metadata": {},
     "output_type": "execute_result"
    }
   ],
   "source": [
    "gdf_councils.describe()"
   ]
  },
  {
   "cell_type": "code",
   "execution_count": 19,
   "id": "007b7ac2",
   "metadata": {},
   "outputs": [
    {
     "data": {
      "text/plain": [
       "<matplotlib.axes._subplots.AxesSubplot at 0x7ff2f07ba490>"
      ]
     },
     "execution_count": 19,
     "metadata": {},
     "output_type": "execute_result"
    },
    {
     "data": {
      "image/png": "[encoded data removed]",
      "text/plain": [
       "<Figure size 432x288 with 1 Axes>"
      ]
     },
     "metadata": {
      "needs_background": "light"
     },
     "output_type": "display_data"
    }
   ],
   "source": [
    "gdf_councils.plot()"
   ]
  },
  {
   "cell_type": "code",
   "execution_count": null,
   "id": "53e1e807",
   "metadata": {},
   "outputs": [],
   "source": []
  }
 ],
 "metadata": {
  "kernelspec": {
   "display_name": "Python 3 (ipykernel)",
   "language": "python",
   "name": "python3"
  },
  "language_info": {
   "codemirror_mode": {
    "name": "ipython",
    "version": 3
   },
   "file_extension": ".py",
   "mimetype": "text/x-python",
   "name": "python",
   "nbconvert_exporter": "python",
   "pygments_lexer": "ipython3",
   "version": "3.7.12"
  }
 },
 "nbformat": 4,
 "nbformat_minor": 5
}
