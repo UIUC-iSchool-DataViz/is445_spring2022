{
 "cells": [
  {
   "cell_type": "markdown",
   "id": "respective-store",
   "metadata": {},
   "source": [
    "# In Class Notebook, Week 07"
   ]
  },
  {
   "cell_type": "markdown",
   "id": "2a597611",
   "metadata": {},
   "source": [
    "You can always paste the URL of this notebook (https://github.com/UIUC-iSchool-DataViz/is445_spring2022/blob/master/week07/inClass_week07.ipynb ) into the nbviewer interface for a plain-text rendering:\n",
    "\n",
    "https://kokes.github.io/nbviewer.js/viewer.html"
   ]
  },
  {
   "cell_type": "code",
   "execution_count": 1,
   "id": "518e75cc",
   "metadata": {},
   "outputs": [],
   "source": [
    "# import our usual things\n",
    "import pandas as pd\n",
    "import bqplot \n",
    "import numpy as np\n",
    "import ipywidgets\n",
    "import matplotlib.pyplot as plt"
   ]
  },
  {
   "cell_type": "code",
   "execution_count": 2,
   "id": "79f478a7",
   "metadata": {},
   "outputs": [],
   "source": [
    "data = np.random.random((10,10,20))"
   ]
  },
  {
   "cell_type": "code",
   "execution_count": 3,
   "id": "1a2b2028",
   "metadata": {},
   "outputs": [
    {
     "data": {
      "text/plain": [
       "(10, 10, 20)"
      ]
     },
     "execution_count": 3,
     "metadata": {},
     "output_type": "execute_result"
    }
   ],
   "source": [
    "data.shape"
   ]
  },
  {
   "cell_type": "code",
   "execution_count": 4,
   "id": "782c7c6b",
   "metadata": {},
   "outputs": [
    {
     "data": {
      "text/plain": [
       "array([0.07119276, 0.5339507 , 0.80583913, 0.80294036, 0.41181973,\n",
       "       0.55648532, 0.81195724, 0.69063172, 0.21087759, 0.38714765,\n",
       "       0.33739521, 0.91308073, 0.08896405, 0.45384509, 0.43151658,\n",
       "       0.80063635, 0.07901114, 0.88916352, 0.50246675, 0.19728234])"
      ]
     },
     "execution_count": 4,
     "metadata": {},
     "output_type": "execute_result"
    }
   ],
   "source": [
    "data[0,0,:]"
   ]
  },
  {
   "cell_type": "code",
   "execution_count": 5,
   "id": "1fe510bd",
   "metadata": {},
   "outputs": [],
   "source": [
    "myLabel = ipywidgets.Label()"
   ]
  },
  {
   "cell_type": "code",
   "execution_count": 10,
   "id": "95d9011a",
   "metadata": {},
   "outputs": [],
   "source": [
    "myLabel.value = str(data[0,0,:].mean())"
   ]
  },
  {
   "cell_type": "code",
   "execution_count": 9,
   "id": "8c8a77d7",
   "metadata": {},
   "outputs": [
    {
     "data": {
      "application/vnd.jupyter.widget-view+json": {
       "model_id": "5e25b10616b54692a42b6e4b4ef1d9de",
       "version_major": 2,
       "version_minor": 0
      },
      "text/plain": [
       "Label(value='[[0.4988102  0.50040233 0.60487685 0.52798817 0.56697864 0.56730042\\n  0.58249943 0.51037515 0.60…"
      ]
     },
     "metadata": {},
     "output_type": "display_data"
    }
   ],
   "source": [
    "myLabel"
   ]
  },
  {
   "cell_type": "code",
   "execution_count": 11,
   "id": "c2fe2a51",
   "metadata": {},
   "outputs": [
    {
     "data": {
      "text/plain": [
       "(10, 10)"
      ]
     },
     "execution_count": 11,
     "metadata": {},
     "output_type": "execute_result"
    }
   ],
   "source": [
    "data.mean(axis=2).shape # taking a mean along the \"Z\" or \"3rd\" axis"
   ]
  },
  {
   "cell_type": "code",
   "execution_count": 14,
   "id": "ec67cd1a",
   "metadata": {},
   "outputs": [
    {
     "data": {
      "text/plain": [
       "(10, 20)"
      ]
     },
     "execution_count": 14,
     "metadata": {},
     "output_type": "execute_result"
    }
   ],
   "source": [
    "data.mean(axis=0).shape"
   ]
  },
  {
   "cell_type": "code",
   "execution_count": 15,
   "id": "75b57508",
   "metadata": {},
   "outputs": [
    {
     "data": {
      "text/plain": [
       "(10, 20)"
      ]
     },
     "execution_count": 15,
     "metadata": {},
     "output_type": "execute_result"
    }
   ],
   "source": [
    "data.mean(axis=1).shape"
   ]
  },
  {
   "cell_type": "code",
   "execution_count": 12,
   "id": "cacbd050",
   "metadata": {},
   "outputs": [],
   "source": [
    "# reminder of what a \"on selection\" function looks like\n",
    "def on_selected(change):\n",
    "    #print(change)\n",
    "    #print(change['owner'])\n",
    "    if len(change['owner'].selected) == 1: # only allow user to select one bin at a time\n",
    "        i,j = change['owner'].selected[0]\n",
    "        print(i,j)"
   ]
  },
  {
   "cell_type": "code",
   "execution_count": 13,
   "id": "c7635222",
   "metadata": {},
   "outputs": [
    {
     "data": {
      "application/vnd.jupyter.widget-view+json": {
       "model_id": "9612145b606743dfb8f6fda1dec3da70",
       "version_major": 2,
       "version_minor": 0
      },
      "text/plain": [
       "VBox(children=(Label(value='0.4988101979601356'), Figure(axes=[ColorAxis(orientation='vertical', scale=ColorSc…"
      ]
     },
     "metadata": {},
     "output_type": "display_data"
    },
    {
     "name": "stdout",
     "output_type": "stream",
     "text": [
      "5 2\n",
      "1 1\n",
      "2 3\n",
      "0 0\n",
      "0 1\n",
      "0 2\n"
     ]
    }
   ],
   "source": [
    "# 1. data (random dataset)\n",
    "\n",
    "#2. Scales\n",
    "col_sc = bqplot.ColorScale(scheme='Greens')\n",
    "x_sc = bqplot.OrdinalScale()\n",
    "y_sc = bqplot.OrdinalScale()\n",
    "\n",
    "# 3. axis\n",
    "ax_col = bqplot.ColorAxis(scale=col_sc, orientation='vertical', side='right')\n",
    "ax_x = bqplot.Axis(scale=x_sc)\n",
    "ax_y = bqplot.Axis(scale=y_sc, orientation='vertical')\n",
    "\n",
    "# 4. Mark (heatmap)\n",
    "heat_map = bqplot.GridHeatMap(color=data.mean(axis=2),\n",
    "                              scales={'color':col_sc, 'row':y_sc, 'column':x_sc},\n",
    "                              interactions={'click':'select'},\n",
    "                              selected_style={'fill':'magenta'})\n",
    "\n",
    "# 5. interaction, cont.\n",
    "heat_map.observe(on_selected,'selected')\n",
    "\n",
    "# combine into a figure\n",
    "fig = bqplot.Figure(marks=[heat_map],axes=[ax_col, ax_x, ax_y])\n",
    "\n",
    "# Finally dashboard\n",
    "myDashboard = ipywidgets.VBox([myLabel,fig])\n",
    "myDashboard"
   ]
  },
  {
   "cell_type": "code",
   "execution_count": 16,
   "id": "b7da71bc",
   "metadata": {},
   "outputs": [],
   "source": [
    "# reminder of what a \"on selection\" function looks like\n",
    "def on_selected(change):\n",
    "    #print(change)\n",
    "    #print(change['owner'])\n",
    "    if len(change['owner'].selected) == 1: # only allow user to select one bin at a time\n",
    "        i,j = change['owner'].selected[0]\n",
    "        #print(i,j)\n",
    "        v = data[i,j,:].mean()\n",
    "        myLabel.value = 'Mean Data Value for Selection=' + str(v)"
   ]
  },
  {
   "cell_type": "code",
   "execution_count": 17,
   "id": "ccb1e891",
   "metadata": {},
   "outputs": [
    {
     "data": {
      "application/vnd.jupyter.widget-view+json": {
       "model_id": "082a31931f0a423f955506d759e0fa03",
       "version_major": 2,
       "version_minor": 0
      },
      "text/plain": [
       "VBox(children=(Label(value='0.4988101979601356'), Figure(axes=[ColorAxis(orientation='vertical', scale=ColorSc…"
      ]
     },
     "metadata": {},
     "output_type": "display_data"
    }
   ],
   "source": [
    "# 1. data (random dataset)\n",
    "\n",
    "#2. Scales\n",
    "col_sc = bqplot.ColorScale(scheme='Greens')\n",
    "x_sc = bqplot.OrdinalScale()\n",
    "y_sc = bqplot.OrdinalScale()\n",
    "\n",
    "# 3. axis\n",
    "ax_col = bqplot.ColorAxis(scale=col_sc, orientation='vertical', side='right')\n",
    "ax_x = bqplot.Axis(scale=x_sc)\n",
    "ax_y = bqplot.Axis(scale=y_sc, orientation='vertical')\n",
    "\n",
    "# 4. Mark (heatmap)\n",
    "heat_map = bqplot.GridHeatMap(color=data.mean(axis=2),\n",
    "                              scales={'color':col_sc, 'row':y_sc, 'column':x_sc},\n",
    "                              interactions={'click':'select'},\n",
    "                              selected_style={'fill':'magenta'})\n",
    "\n",
    "# 5. interaction, cont.\n",
    "heat_map.observe(on_selected,'selected')\n",
    "\n",
    "# combine into a figure\n",
    "fig = bqplot.Figure(marks=[heat_map],axes=[ax_col, ax_x, ax_y])\n",
    "\n",
    "# Finally dashboard\n",
    "myDashboard = ipywidgets.VBox([myLabel,fig])\n",
    "myDashboard"
   ]
  },
  {
   "cell_type": "code",
   "execution_count": 18,
   "id": "fd610350",
   "metadata": {},
   "outputs": [
    {
     "data": {
      "text/plain": [
       "array([0.07119276, 0.5339507 , 0.80583913, 0.80294036, 0.41181973,\n",
       "       0.55648532, 0.81195724, 0.69063172, 0.21087759, 0.38714765,\n",
       "       0.33739521, 0.91308073, 0.08896405, 0.45384509, 0.43151658,\n",
       "       0.80063635, 0.07901114, 0.88916352, 0.50246675, 0.19728234])"
      ]
     },
     "execution_count": 18,
     "metadata": {},
     "output_type": "execute_result"
    }
   ],
   "source": [
    "# 1. data\n",
    "i,j=0,0\n",
    "\n",
    "data[i,j,:]"
   ]
  },
  {
   "cell_type": "code",
   "execution_count": 19,
   "id": "5989bf96",
   "metadata": {},
   "outputs": [],
   "source": [
    "# 2. scales\n",
    "x_sch = bqplot.LinearScale()\n",
    "y_sch = bqplot.LinearScale()\n",
    "\n",
    "# 3. Axis\n",
    "x_axh = bqplot.Axis(scale=x_sch, label='Value of 3rd Axis')\n",
    "y_axh = bqplot.Axis(scale=y_sch, label='Frequency', orientation='vertical')"
   ]
  },
  {
   "cell_type": "code",
   "execution_count": 20,
   "id": "84b349cf",
   "metadata": {},
   "outputs": [],
   "source": [
    "bqplot.Hist?"
   ]
  },
  {
   "cell_type": "code",
   "execution_count": null,
   "id": "310117cd",
   "metadata": {},
   "outputs": [],
   "source": [
    "hist = bqplot.Hist(sample=data[i,j,:])"
   ]
  }
 ],
 "metadata": {
  "kernelspec": {
   "display_name": "Python 3 (ipykernel)",
   "language": "python",
   "name": "python3"
  },
  "language_info": {
   "codemirror_mode": {
    "name": "ipython",
    "version": 3
   },
   "file_extension": ".py",
   "mimetype": "text/x-python",
   "name": "python",
   "nbconvert_exporter": "python",
   "pygments_lexer": "ipython3",
   "version": "3.7.12"
  }
 },
 "nbformat": 4,
 "nbformat_minor": 5
}
