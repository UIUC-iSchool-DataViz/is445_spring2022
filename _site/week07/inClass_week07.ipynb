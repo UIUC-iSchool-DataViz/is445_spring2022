{
 "cells": [
  {
   "cell_type": "markdown",
   "id": "respective-store",
   "metadata": {},
   "source": [
    "# In Class Notebook, Week 07"
   ]
  },
  {
   "cell_type": "markdown",
   "id": "2a597611",
   "metadata": {},
   "source": [
    "You can always paste the URL of this notebook (https://github.com/UIUC-iSchool-DataViz/is445_spring2022/blob/master/week07/inClass_week07.ipynb ) into the nbviewer interface for a plain-text rendering:\n",
    "\n",
    "https://kokes.github.io/nbviewer.js/viewer.html"
   ]
  },
  {
   "cell_type": "code",
   "execution_count": 1,
   "id": "518e75cc",
   "metadata": {},
   "outputs": [],
   "source": [
    "# import our usual things\n",
    "import pandas as pd\n",
    "import bqplot \n",
    "import numpy as np\n",
    "import ipywidgets\n",
    "import matplotlib.pyplot as plt"
   ]
  },
  {
   "cell_type": "code",
   "execution_count": 2,
   "id": "e58bf09d",
   "metadata": {},
   "outputs": [],
   "source": [
    "data = np.random.random((10,10,20))"
   ]
  },
  {
   "cell_type": "code",
   "execution_count": 3,
   "id": "2c5c9907",
   "metadata": {},
   "outputs": [
    {
     "data": {
      "text/plain": [
       "(10, 10, 20)"
      ]
     },
     "execution_count": 3,
     "metadata": {},
     "output_type": "execute_result"
    }
   ],
   "source": [
    "data.shape"
   ]
  },
  {
   "cell_type": "code",
   "execution_count": 4,
   "id": "2d335cb7",
   "metadata": {},
   "outputs": [
    {
     "data": {
      "text/plain": [
       "array([0.07119276, 0.5339507 , 0.80583913, 0.80294036, 0.41181973,\n",
       "       0.55648532, 0.81195724, 0.69063172, 0.21087759, 0.38714765,\n",
       "       0.33739521, 0.91308073, 0.08896405, 0.45384509, 0.43151658,\n",
       "       0.80063635, 0.07901114, 0.88916352, 0.50246675, 0.19728234])"
      ]
     },
     "execution_count": 4,
     "metadata": {},
     "output_type": "execute_result"
    }
   ],
   "source": [
    "data[0,0,:]"
   ]
  },
  {
   "cell_type": "code",
   "execution_count": 5,
   "id": "c61e99b0",
   "metadata": {},
   "outputs": [],
   "source": [
    "myLabel = ipywidgets.Label()"
   ]
  },
  {
   "cell_type": "code",
   "execution_count": 10,
   "id": "1517d1d7",
   "metadata": {},
   "outputs": [],
   "source": [
    "myLabel.value = str(data[0,0,:].mean())"
   ]
  },
  {
   "cell_type": "code",
   "execution_count": 9,
   "id": "5e4fe63c",
   "metadata": {},
   "outputs": [
    {
     "data": {
      "application/vnd.jupyter.widget-view+json": {
       "model_id": "5e25b10616b54692a42b6e4b4ef1d9de",
       "version_major": 2,
       "version_minor": 0
      },
      "text/plain": [
       "Label(value='[[0.4988102  0.50040233 0.60487685 0.52798817 0.56697864 0.56730042\\n  0.58249943 0.51037515 0.60…"
      ]
     },
     "metadata": {},
     "output_type": "display_data"
    }
   ],
   "source": [
    "myLabel"
   ]
  },
  {
   "cell_type": "code",
   "execution_count": 11,
   "id": "b0a6c037",
   "metadata": {},
   "outputs": [
    {
     "data": {
      "text/plain": [
       "(10, 10)"
      ]
     },
     "execution_count": 11,
     "metadata": {},
     "output_type": "execute_result"
    }
   ],
   "source": [
    "data.mean(axis=2).shape # taking a mean along the \"Z\" or \"3rd\" axis"
   ]
  },
  {
   "cell_type": "code",
   "execution_count": 14,
   "id": "59083d49",
   "metadata": {},
   "outputs": [
    {
     "data": {
      "text/plain": [
       "(10, 20)"
      ]
     },
     "execution_count": 14,
     "metadata": {},
     "output_type": "execute_result"
    }
   ],
   "source": [
    "data.mean(axis=0).shape"
   ]
  },
  {
   "cell_type": "code",
   "execution_count": 15,
   "id": "81c5a6fe",
   "metadata": {},
   "outputs": [
    {
     "data": {
      "text/plain": [
       "(10, 20)"
      ]
     },
     "execution_count": 15,
     "metadata": {},
     "output_type": "execute_result"
    }
   ],
   "source": [
    "data.mean(axis=1).shape"
   ]
  },
  {
   "cell_type": "code",
   "execution_count": 12,
   "id": "03d04d02",
   "metadata": {},
   "outputs": [],
   "source": [
    "# reminder of what a \"on selection\" function looks like\n",
    "def on_selected(change):\n",
    "    #print(change)\n",
    "    #print(change['owner'])\n",
    "    if len(change['owner'].selected) == 1: # only allow user to select one bin at a time\n",
    "        i,j = change['owner'].selected[0]\n",
    "        print(i,j)"
   ]
  },
  {
   "cell_type": "code",
   "execution_count": 13,
   "id": "b60328bd",
   "metadata": {},
   "outputs": [
    {
     "data": {
      "application/vnd.jupyter.widget-view+json": {
       "model_id": "9612145b606743dfb8f6fda1dec3da70",
       "version_major": 2,
       "version_minor": 0
      },
      "text/plain": [
       "VBox(children=(Label(value='0.4988101979601356'), Figure(axes=[ColorAxis(orientation='vertical', scale=ColorSc…"
      ]
     },
     "metadata": {},
     "output_type": "display_data"
    },
    {
     "name": "stdout",
     "output_type": "stream",
     "text": [
      "5 2\n",
      "1 1\n",
      "2 3\n",
      "0 0\n",
      "0 1\n",
      "0 2\n"
     ]
    }
   ],
   "source": [
    "# 1. data (random dataset)\n",
    "\n",
    "#2. Scales\n",
    "col_sc = bqplot.ColorScale(scheme='Greens')\n",
    "x_sc = bqplot.OrdinalScale()\n",
    "y_sc = bqplot.OrdinalScale()\n",
    "\n",
    "# 3. axis\n",
    "ax_col = bqplot.ColorAxis(scale=col_sc, orientation='vertical', side='right')\n",
    "ax_x = bqplot.Axis(scale=x_sc)\n",
    "ax_y = bqplot.Axis(scale=y_sc, orientation='vertical')\n",
    "\n",
    "# 4. Mark (heatmap)\n",
    "heat_map = bqplot.GridHeatMap(color=data.mean(axis=2),\n",
    "                              scales={'color':col_sc, 'row':y_sc, 'column':x_sc},\n",
    "                              interactions={'click':'select'},\n",
    "                              selected_style={'fill':'magenta'})\n",
    "\n",
    "# 5. interaction, cont.\n",
    "heat_map.observe(on_selected,'selected')\n",
    "\n",
    "# combine into a figure\n",
    "fig = bqplot.Figure(marks=[heat_map],axes=[ax_col, ax_x, ax_y])\n",
    "\n",
    "# Finally dashboard\n",
    "myDashboard = ipywidgets.VBox([myLabel,fig])\n",
    "myDashboard"
   ]
  },
  {
   "cell_type": "code",
   "execution_count": 16,
   "id": "1c783e68",
   "metadata": {},
   "outputs": [],
   "source": [
    "# reminder of what a \"on selection\" function looks like\n",
    "def on_selected(change):\n",
    "    #print(change)\n",
    "    #print(change['owner'])\n",
    "    if len(change['owner'].selected) == 1: # only allow user to select one bin at a time\n",
    "        i,j = change['owner'].selected[0]\n",
    "        #print(i,j)\n",
    "        v = data[i,j,:].mean()\n",
    "        myLabel.value = 'Mean Data Value for Selection=' + str(v)"
   ]
  },
  {
   "cell_type": "code",
   "execution_count": 17,
   "id": "77ae65f2",
   "metadata": {},
   "outputs": [
    {
     "data": {
      "application/vnd.jupyter.widget-view+json": {
       "model_id": "082a31931f0a423f955506d759e0fa03",
       "version_major": 2,
       "version_minor": 0
      },
      "text/plain": [
       "VBox(children=(Label(value='0.4988101979601356'), Figure(axes=[ColorAxis(orientation='vertical', scale=ColorSc…"
      ]
     },
     "metadata": {},
     "output_type": "display_data"
    }
   ],
   "source": [
    "# 1. data (random dataset)\n",
    "\n",
    "#2. Scales\n",
    "col_sc = bqplot.ColorScale(scheme='Greens')\n",
    "x_sc = bqplot.OrdinalScale()\n",
    "y_sc = bqplot.OrdinalScale()\n",
    "\n",
    "# 3. axis\n",
    "ax_col = bqplot.ColorAxis(scale=col_sc, orientation='vertical', side='right')\n",
    "ax_x = bqplot.Axis(scale=x_sc)\n",
    "ax_y = bqplot.Axis(scale=y_sc, orientation='vertical')\n",
    "\n",
    "# 4. Mark (heatmap)\n",
    "heat_map = bqplot.GridHeatMap(color=data.mean(axis=2),\n",
    "                              scales={'color':col_sc, 'row':y_sc, 'column':x_sc},\n",
    "                              interactions={'click':'select'},\n",
    "                              selected_style={'fill':'magenta'})\n",
    "\n",
    "# 5. interaction, cont.\n",
    "heat_map.observe(on_selected,'selected')\n",
    "\n",
    "# combine into a figure\n",
    "fig = bqplot.Figure(marks=[heat_map],axes=[ax_col, ax_x, ax_y])\n",
    "\n",
    "# Finally dashboard\n",
    "myDashboard = ipywidgets.VBox([myLabel,fig])\n",
    "myDashboard"
   ]
  },
  {
   "cell_type": "code",
   "execution_count": 18,
   "id": "e946cead",
   "metadata": {},
   "outputs": [
    {
     "data": {
      "text/plain": [
       "array([0.07119276, 0.5339507 , 0.80583913, 0.80294036, 0.41181973,\n",
       "       0.55648532, 0.81195724, 0.69063172, 0.21087759, 0.38714765,\n",
       "       0.33739521, 0.91308073, 0.08896405, 0.45384509, 0.43151658,\n",
       "       0.80063635, 0.07901114, 0.88916352, 0.50246675, 0.19728234])"
      ]
     },
     "execution_count": 18,
     "metadata": {},
     "output_type": "execute_result"
    }
   ],
   "source": [
    "# 1. data\n",
    "i,j=0,0\n",
    "\n",
    "data[i,j,:]"
   ]
  },
  {
   "cell_type": "code",
   "execution_count": 19,
   "id": "24bd4773",
   "metadata": {},
   "outputs": [],
   "source": [
    "# 2. scales\n",
    "x_sch = bqplot.LinearScale()\n",
    "y_sch = bqplot.LinearScale()\n",
    "\n",
    "# 3. Axis\n",
    "x_axh = bqplot.Axis(scale=x_sch, label='Value of 3rd Axis')\n",
    "y_axh = bqplot.Axis(scale=y_sch, label='Frequency', orientation='vertical')"
   ]
  },
  {
   "cell_type": "code",
   "execution_count": 20,
   "id": "79a4fc6e",
   "metadata": {},
   "outputs": [],
   "source": [
    "bqplot.Hist?"
   ]
  },
  {
   "cell_type": "code",
   "execution_count": 21,
   "id": "e529c4ea",
   "metadata": {},
   "outputs": [],
   "source": [
    "# 4. Mark\n",
    "hist = bqplot.Hist(sample=data[i,j,:], scales={'sample':x_sch, 'count':y_sch}, bins=5)"
   ]
  },
  {
   "cell_type": "code",
   "execution_count": 22,
   "id": "e0143b3c",
   "metadata": {},
   "outputs": [
    {
     "data": {
      "application/vnd.jupyter.widget-view+json": {
       "model_id": "e2177332c9ba46fc9e87876da062ed3c",
       "version_major": 2,
       "version_minor": 0
      },
      "text/plain": [
       "Figure(axes=[Axis(label='Value of 3rd Axis', scale=LinearScale(), side='bottom'), Axis(label='Frequency', orie…"
      ]
     },
     "metadata": {},
     "output_type": "display_data"
    }
   ],
   "source": [
    "# 5. Interactions here (but none yet!)\n",
    "\n",
    "# finally a figure\n",
    "figh = bqplot.Figure(marks=[hist], axes=[x_axh, y_axh])\n",
    "figh"
   ]
  },
  {
   "cell_type": "code",
   "execution_count": 23,
   "id": "abe72db7",
   "metadata": {},
   "outputs": [
    {
     "data": {
      "text/plain": [
       "['_model_module',\n",
       " '_model_module_version',\n",
       " '_model_name',\n",
       " '_view_count',\n",
       " '_view_module',\n",
       " '_view_module_version',\n",
       " '_view_name',\n",
       " 'apply_clip',\n",
       " 'bins',\n",
       " 'colors',\n",
       " 'count',\n",
       " 'display_legend',\n",
       " 'enable_hover',\n",
       " 'interactions',\n",
       " 'labels',\n",
       " 'midpoints',\n",
       " 'normalized',\n",
       " 'opacities',\n",
       " 'preserve_domain',\n",
       " 'sample',\n",
       " 'scales',\n",
       " 'scales_metadata',\n",
       " 'selected',\n",
       " 'selected_style',\n",
       " 'stroke',\n",
       " 'tooltip',\n",
       " 'tooltip_location',\n",
       " 'tooltip_style',\n",
       " 'unselected_style',\n",
       " 'visible']"
      ]
     },
     "execution_count": 23,
     "metadata": {},
     "output_type": "execute_result"
    }
   ],
   "source": [
    "hist.keys"
   ]
  },
  {
   "cell_type": "code",
   "execution_count": 24,
   "id": "96fb105e",
   "metadata": {},
   "outputs": [
    {
     "data": {
      "text/plain": [
       "array([0.07119276, 0.5339507 , 0.80583913, 0.80294036, 0.41181973,\n",
       "       0.55648532, 0.81195724, 0.69063172, 0.21087759, 0.38714765,\n",
       "       0.33739521, 0.91308073, 0.08896405, 0.45384509, 0.43151658,\n",
       "       0.80063635, 0.07901114, 0.88916352, 0.50246675, 0.19728234])"
      ]
     },
     "execution_count": 24,
     "metadata": {},
     "output_type": "execute_result"
    }
   ],
   "source": [
    "hist.sample"
   ]
  },
  {
   "cell_type": "code",
   "execution_count": 25,
   "id": "105fbb24",
   "metadata": {},
   "outputs": [],
   "source": [
    "# ######### GRID HEAT MAP #########\n",
    "# Left, the driver of changes\n",
    "\n",
    "#2. Scales\n",
    "col_sc = bqplot.ColorScale(scheme='Greens')\n",
    "x_sc = bqplot.OrdinalScale()\n",
    "y_sc = bqplot.OrdinalScale()\n",
    "\n",
    "# 3. axis\n",
    "ax_col = bqplot.ColorAxis(scale=col_sc, orientation='vertical', side='right')\n",
    "ax_x = bqplot.Axis(scale=x_sc)\n",
    "ax_y = bqplot.Axis(scale=y_sc, orientation='vertical')\n",
    "\n",
    "# 4. Mark (heatmap)\n",
    "heat_map = bqplot.GridHeatMap(color=data.mean(axis=2),\n",
    "                              scales={'color':col_sc, 'row':y_sc, 'column':x_sc},\n",
    "                              interactions={'click':'select'},\n",
    "                              selected_style={'fill':'magenta'})\n",
    "\n",
    "# 5. interaction, cont.\n",
    "######heat_map.observe(on_selected,'selected')\n",
    "\n",
    "# combine into a figure\n",
    "fig = bqplot.Figure(marks=[heat_map],axes=[ax_col, ax_x, ax_y])"
   ]
  },
  {
   "cell_type": "code",
   "execution_count": 26,
   "id": "6548cad2",
   "metadata": {},
   "outputs": [],
   "source": [
    "########## HISTOGRAM ########\n",
    "# 2. scales\n",
    "x_sch = bqplot.LinearScale()\n",
    "y_sch = bqplot.LinearScale()\n",
    "\n",
    "# 3. Axis\n",
    "x_axh = bqplot.Axis(scale=x_sch, label='Value of 3rd Axis')\n",
    "y_axh = bqplot.Axis(scale=y_sch, label='Frequency', orientation='vertical')\n",
    "\n",
    "# 4. Mark\n",
    "hist = bqplot.Hist(sample=data[i,j,:], scales={'sample':x_sch, 'count':y_sch}, bins=5)\n",
    "\n",
    "# finally a figure\n",
    "figh = bqplot.Figure(marks=[hist], axes=[x_axh, y_axh])"
   ]
  },
  {
   "cell_type": "code",
   "execution_count": 27,
   "id": "cfe3f7eb",
   "metadata": {},
   "outputs": [],
   "source": [
    "myLabel = ipywidgets.Label()"
   ]
  },
  {
   "cell_type": "code",
   "execution_count": 28,
   "id": "096421c2",
   "metadata": {},
   "outputs": [],
   "source": [
    "# Function defining interactions between all dashboard elements\n",
    "def on_selected(change):\n",
    "    if len(change['owner'].selected) == 1: # only allow user to select one bin at a time\n",
    "        i,j = change['owner'].selected[0]\n",
    "        v = data[i,j,:].mean()\n",
    "        myLabel.value = 'Mean Data Value for Selection=' + str(v)\n",
    "        hist.sample = data[i,j,:]"
   ]
  },
  {
   "cell_type": "code",
   "execution_count": 29,
   "id": "408072ba",
   "metadata": {},
   "outputs": [],
   "source": [
    "# make sure we have heatmap OBSERVE with this function\n",
    "heat_map.observe(on_selected, 'selected')"
   ]
  },
  {
   "cell_type": "code",
   "execution_count": 33,
   "id": "e7a5bfa5",
   "metadata": {},
   "outputs": [
    {
     "data": {
      "application/vnd.jupyter.widget-view+json": {
       "model_id": "d484e339e8be42a991e46373175ae758",
       "version_major": 2,
       "version_minor": 0
      },
      "text/plain": [
       "VBox(children=(Label(value='Mean Data Value for Selection=0.5806456545794433'), HBox(children=(Figure(axes=[Co…"
      ]
     },
     "metadata": {},
     "output_type": "display_data"
    }
   ],
   "source": [
    "# make a dashboard!\n",
    "fig.layout.min_width='400px'\n",
    "figh.layout.min_width='400px'\n",
    "\n",
    "figures = ipywidgets.HBox([fig,figh])\n",
    "myDashboard = ipywidgets.VBox([myLabel, figures])\n",
    "myDashboard"
   ]
  },
  {
   "cell_type": "code",
   "execution_count": 35,
   "id": "def68a15",
   "metadata": {},
   "outputs": [
    {
     "data": {
      "text/plain": [
       "['_model_module',\n",
       " '_model_module_version',\n",
       " '_model_name',\n",
       " '_view_count',\n",
       " '_view_module',\n",
       " '_view_module_version',\n",
       " '_view_name',\n",
       " 'apply_clip',\n",
       " 'bins',\n",
       " 'colors',\n",
       " 'count',\n",
       " 'display_legend',\n",
       " 'enable_hover',\n",
       " 'interactions',\n",
       " 'labels',\n",
       " 'midpoints',\n",
       " 'normalized',\n",
       " 'opacities',\n",
       " 'preserve_domain',\n",
       " 'sample',\n",
       " 'scales',\n",
       " 'scales_metadata',\n",
       " 'selected',\n",
       " 'selected_style',\n",
       " 'stroke',\n",
       " 'tooltip',\n",
       " 'tooltip_location',\n",
       " 'tooltip_style',\n",
       " 'unselected_style',\n",
       " 'visible']"
      ]
     },
     "execution_count": 35,
     "metadata": {},
     "output_type": "execute_result"
    }
   ],
   "source": [
    "hist.keys"
   ]
  },
  {
   "cell_type": "code",
   "execution_count": null,
   "id": "7fb97ee3",
   "metadata": {},
   "outputs": [],
   "source": []
  }
 ],
 "metadata": {
  "kernelspec": {
   "display_name": "Python 3 (ipykernel)",
   "language": "python",
   "name": "python3"
  },
  "language_info": {
   "codemirror_mode": {
    "name": "ipython",
    "version": 3
   },
   "file_extension": ".py",
   "mimetype": "text/x-python",
   "name": "python",
   "nbconvert_exporter": "python",
   "pygments_lexer": "ipython3",
   "version": "3.7.12"
  }
 },
 "nbformat": 4,
 "nbformat_minor": 5
}
