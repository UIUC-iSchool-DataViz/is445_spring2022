{
 "cells": [
  {
   "cell_type": "markdown",
   "id": "respective-store",
   "metadata": {},
   "source": [
    "# In Class Notebook, Week 07"
   ]
  },
  {
   "cell_type": "markdown",
   "id": "2a597611",
   "metadata": {},
   "source": [
    "You can always paste the URL of this notebook (https://github.com/UIUC-iSchool-DataViz/is445_spring2022/blob/master/week07/inClass_week07.ipynb ) into the nbviewer interface for a plain-text rendering:\n",
    "\n",
    "https://kokes.github.io/nbviewer.js/viewer.html"
   ]
  },
  {
   "cell_type": "code",
   "execution_count": 1,
   "id": "518e75cc",
   "metadata": {},
   "outputs": [],
   "source": [
    "# import our usual things\n",
    "import pandas as pd\n",
    "import bqplot \n",
    "import numpy as np\n",
    "import ipywidgets\n",
    "import matplotlib.pyplot as plt"
   ]
  },
  {
   "cell_type": "code",
   "execution_count": 2,
   "id": "275eaa2d",
   "metadata": {},
   "outputs": [],
   "source": [
    "data = np.random.random((10,10,20))"
   ]
  },
  {
   "cell_type": "code",
   "execution_count": 3,
   "id": "24c8606c",
   "metadata": {},
   "outputs": [
    {
     "data": {
      "text/plain": [
       "(10, 10, 20)"
      ]
     },
     "execution_count": 3,
     "metadata": {},
     "output_type": "execute_result"
    }
   ],
   "source": [
    "data.shape"
   ]
  },
  {
   "cell_type": "code",
   "execution_count": 4,
   "id": "e70957fd",
   "metadata": {},
   "outputs": [
    {
     "data": {
      "text/plain": [
       "array([0.07119276, 0.5339507 , 0.80583913, 0.80294036, 0.41181973,\n",
       "       0.55648532, 0.81195724, 0.69063172, 0.21087759, 0.38714765,\n",
       "       0.33739521, 0.91308073, 0.08896405, 0.45384509, 0.43151658,\n",
       "       0.80063635, 0.07901114, 0.88916352, 0.50246675, 0.19728234])"
      ]
     },
     "execution_count": 4,
     "metadata": {},
     "output_type": "execute_result"
    }
   ],
   "source": [
    "data[0,0,:]"
   ]
  },
  {
   "cell_type": "code",
   "execution_count": 5,
   "id": "dbe1ff24",
   "metadata": {},
   "outputs": [],
   "source": [
    "myLabel = ipywidgets.Label()"
   ]
  },
  {
   "cell_type": "code",
   "execution_count": 10,
   "id": "2ecc9aaf",
   "metadata": {},
   "outputs": [],
   "source": [
    "myLabel.value = str(data[0,0,:].mean())"
   ]
  },
  {
   "cell_type": "code",
   "execution_count": 9,
   "id": "b87b5477",
   "metadata": {},
   "outputs": [
    {
     "data": {
      "application/vnd.jupyter.widget-view+json": {
       "model_id": "5e25b10616b54692a42b6e4b4ef1d9de",
       "version_major": 2,
       "version_minor": 0
      },
      "text/plain": [
       "Label(value='[[0.4988102  0.50040233 0.60487685 0.52798817 0.56697864 0.56730042\\n  0.58249943 0.51037515 0.60…"
      ]
     },
     "metadata": {},
     "output_type": "display_data"
    }
   ],
   "source": [
    "myLabel"
   ]
  },
  {
   "cell_type": "code",
   "execution_count": 11,
   "id": "d604b028",
   "metadata": {},
   "outputs": [
    {
     "data": {
      "text/plain": [
       "(10, 10)"
      ]
     },
     "execution_count": 11,
     "metadata": {},
     "output_type": "execute_result"
    }
   ],
   "source": [
    "data.mean(axis=2).shape # taking a mean along the \"Z\" or \"3rd\" axis"
   ]
  },
  {
   "cell_type": "code",
   "execution_count": 14,
   "id": "d55692e9",
   "metadata": {},
   "outputs": [
    {
     "data": {
      "text/plain": [
       "(10, 20)"
      ]
     },
     "execution_count": 14,
     "metadata": {},
     "output_type": "execute_result"
    }
   ],
   "source": [
    "data.mean(axis=0).shape"
   ]
  },
  {
   "cell_type": "code",
   "execution_count": 15,
   "id": "32a9febd",
   "metadata": {},
   "outputs": [
    {
     "data": {
      "text/plain": [
       "(10, 20)"
      ]
     },
     "execution_count": 15,
     "metadata": {},
     "output_type": "execute_result"
    }
   ],
   "source": [
    "data.mean(axis=1).shape"
   ]
  },
  {
   "cell_type": "code",
   "execution_count": 12,
   "id": "5fd43dd9",
   "metadata": {},
   "outputs": [],
   "source": [
    "# reminder of what a \"on selection\" function looks like\n",
    "def on_selected(change):\n",
    "    #print(change)\n",
    "    #print(change['owner'])\n",
    "    if len(change['owner'].selected) == 1: # only allow user to select one bin at a time\n",
    "        i,j = change['owner'].selected[0]\n",
    "        print(i,j)"
   ]
  },
  {
   "cell_type": "code",
   "execution_count": 13,
   "id": "bc4c8c71",
   "metadata": {},
   "outputs": [
    {
     "data": {
      "application/vnd.jupyter.widget-view+json": {
       "model_id": "9612145b606743dfb8f6fda1dec3da70",
       "version_major": 2,
       "version_minor": 0
      },
      "text/plain": [
       "VBox(children=(Label(value='0.4988101979601356'), Figure(axes=[ColorAxis(orientation='vertical', scale=ColorSc…"
      ]
     },
     "metadata": {},
     "output_type": "display_data"
    },
    {
     "name": "stdout",
     "output_type": "stream",
     "text": [
      "5 2\n",
      "1 1\n",
      "2 3\n",
      "0 0\n",
      "0 1\n",
      "0 2\n"
     ]
    }
   ],
   "source": [
    "# 1. data (random dataset)\n",
    "\n",
    "#2. Scales\n",
    "col_sc = bqplot.ColorScale(scheme='Greens')\n",
    "x_sc = bqplot.OrdinalScale()\n",
    "y_sc = bqplot.OrdinalScale()\n",
    "\n",
    "# 3. axis\n",
    "ax_col = bqplot.ColorAxis(scale=col_sc, orientation='vertical', side='right')\n",
    "ax_x = bqplot.Axis(scale=x_sc)\n",
    "ax_y = bqplot.Axis(scale=y_sc, orientation='vertical')\n",
    "\n",
    "# 4. Mark (heatmap)\n",
    "heat_map = bqplot.GridHeatMap(color=data.mean(axis=2),\n",
    "                              scales={'color':col_sc, 'row':y_sc, 'column':x_sc},\n",
    "                              interactions={'click':'select'},\n",
    "                              selected_style={'fill':'magenta'})\n",
    "\n",
    "# 5. interaction, cont.\n",
    "heat_map.observe(on_selected,'selected')\n",
    "\n",
    "# combine into a figure\n",
    "fig = bqplot.Figure(marks=[heat_map],axes=[ax_col, ax_x, ax_y])\n",
    "\n",
    "# Finally dashboard\n",
    "myDashboard = ipywidgets.VBox([myLabel,fig])\n",
    "myDashboard"
   ]
  },
  {
   "cell_type": "code",
   "execution_count": 16,
   "id": "d1ccf8b4",
   "metadata": {},
   "outputs": [],
   "source": [
    "# reminder of what a \"on selection\" function looks like\n",
    "def on_selected(change):\n",
    "    #print(change)\n",
    "    #print(change['owner'])\n",
    "    if len(change['owner'].selected) == 1: # only allow user to select one bin at a time\n",
    "        i,j = change['owner'].selected[0]\n",
    "        #print(i,j)\n",
    "        v = data[i,j,:].mean()\n",
    "        myLabel.value = 'Mean Data Value for Selection=' + str(v)"
   ]
  },
  {
   "cell_type": "code",
   "execution_count": 17,
   "id": "08d52f6a",
   "metadata": {},
   "outputs": [
    {
     "data": {
      "application/vnd.jupyter.widget-view+json": {
       "model_id": "082a31931f0a423f955506d759e0fa03",
       "version_major": 2,
       "version_minor": 0
      },
      "text/plain": [
       "VBox(children=(Label(value='0.4988101979601356'), Figure(axes=[ColorAxis(orientation='vertical', scale=ColorSc…"
      ]
     },
     "metadata": {},
     "output_type": "display_data"
    }
   ],
   "source": [
    "# 1. data (random dataset)\n",
    "\n",
    "#2. Scales\n",
    "col_sc = bqplot.ColorScale(scheme='Greens')\n",
    "x_sc = bqplot.OrdinalScale()\n",
    "y_sc = bqplot.OrdinalScale()\n",
    "\n",
    "# 3. axis\n",
    "ax_col = bqplot.ColorAxis(scale=col_sc, orientation='vertical', side='right')\n",
    "ax_x = bqplot.Axis(scale=x_sc)\n",
    "ax_y = bqplot.Axis(scale=y_sc, orientation='vertical')\n",
    "\n",
    "# 4. Mark (heatmap)\n",
    "heat_map = bqplot.GridHeatMap(color=data.mean(axis=2),\n",
    "                              scales={'color':col_sc, 'row':y_sc, 'column':x_sc},\n",
    "                              interactions={'click':'select'},\n",
    "                              selected_style={'fill':'magenta'})\n",
    "\n",
    "# 5. interaction, cont.\n",
    "heat_map.observe(on_selected,'selected')\n",
    "\n",
    "# combine into a figure\n",
    "fig = bqplot.Figure(marks=[heat_map],axes=[ax_col, ax_x, ax_y])\n",
    "\n",
    "# Finally dashboard\n",
    "myDashboard = ipywidgets.VBox([myLabel,fig])\n",
    "myDashboard"
   ]
  },
  {
   "cell_type": "code",
   "execution_count": 18,
   "id": "723ec6b8",
   "metadata": {},
   "outputs": [
    {
     "data": {
      "text/plain": [
       "array([0.07119276, 0.5339507 , 0.80583913, 0.80294036, 0.41181973,\n",
       "       0.55648532, 0.81195724, 0.69063172, 0.21087759, 0.38714765,\n",
       "       0.33739521, 0.91308073, 0.08896405, 0.45384509, 0.43151658,\n",
       "       0.80063635, 0.07901114, 0.88916352, 0.50246675, 0.19728234])"
      ]
     },
     "execution_count": 18,
     "metadata": {},
     "output_type": "execute_result"
    }
   ],
   "source": [
    "# 1. data\n",
    "i,j=0,0\n",
    "\n",
    "data[i,j,:]"
   ]
  },
  {
   "cell_type": "code",
   "execution_count": 19,
   "id": "e78dc82f",
   "metadata": {},
   "outputs": [],
   "source": [
    "# 2. scales\n",
    "x_sch = bqplot.LinearScale()\n",
    "y_sch = bqplot.LinearScale()\n",
    "\n",
    "# 3. Axis\n",
    "x_axh = bqplot.Axis(scale=x_sch, label='Value of 3rd Axis')\n",
    "y_axh = bqplot.Axis(scale=y_sch, label='Frequency', orientation='vertical')"
   ]
  },
  {
   "cell_type": "code",
   "execution_count": 20,
   "id": "cca7bf77",
   "metadata": {},
   "outputs": [],
   "source": [
    "bqplot.Hist?"
   ]
  },
  {
   "cell_type": "code",
   "execution_count": 21,
   "id": "8d245551",
   "metadata": {},
   "outputs": [],
   "source": [
    "# 4. Mark\n",
    "hist = bqplot.Hist(sample=data[i,j,:], scales={'sample':x_sch, 'count':y_sch}, bins=5)"
   ]
  },
  {
   "cell_type": "code",
   "execution_count": 22,
   "id": "32b8a2af",
   "metadata": {},
   "outputs": [
    {
     "data": {
      "application/vnd.jupyter.widget-view+json": {
       "model_id": "e2177332c9ba46fc9e87876da062ed3c",
       "version_major": 2,
       "version_minor": 0
      },
      "text/plain": [
       "Figure(axes=[Axis(label='Value of 3rd Axis', scale=LinearScale(), side='bottom'), Axis(label='Frequency', orie…"
      ]
     },
     "metadata": {},
     "output_type": "display_data"
    }
   ],
   "source": [
    "# 5. Interactions here (but none yet!)\n",
    "\n",
    "# finally a figure\n",
    "figh = bqplot.Figure(marks=[hist], axes=[x_axh, y_axh])\n",
    "figh"
   ]
  },
  {
   "cell_type": "code",
   "execution_count": 23,
   "id": "ad7b6ec2",
   "metadata": {},
   "outputs": [
    {
     "data": {
      "text/plain": [
       "['_model_module',\n",
       " '_model_module_version',\n",
       " '_model_name',\n",
       " '_view_count',\n",
       " '_view_module',\n",
       " '_view_module_version',\n",
       " '_view_name',\n",
       " 'apply_clip',\n",
       " 'bins',\n",
       " 'colors',\n",
       " 'count',\n",
       " 'display_legend',\n",
       " 'enable_hover',\n",
       " 'interactions',\n",
       " 'labels',\n",
       " 'midpoints',\n",
       " 'normalized',\n",
       " 'opacities',\n",
       " 'preserve_domain',\n",
       " 'sample',\n",
       " 'scales',\n",
       " 'scales_metadata',\n",
       " 'selected',\n",
       " 'selected_style',\n",
       " 'stroke',\n",
       " 'tooltip',\n",
       " 'tooltip_location',\n",
       " 'tooltip_style',\n",
       " 'unselected_style',\n",
       " 'visible']"
      ]
     },
     "execution_count": 23,
     "metadata": {},
     "output_type": "execute_result"
    }
   ],
   "source": [
    "hist.keys"
   ]
  },
  {
   "cell_type": "code",
   "execution_count": 24,
   "id": "64d6c70e",
   "metadata": {},
   "outputs": [
    {
     "data": {
      "text/plain": [
       "array([0.07119276, 0.5339507 , 0.80583913, 0.80294036, 0.41181973,\n",
       "       0.55648532, 0.81195724, 0.69063172, 0.21087759, 0.38714765,\n",
       "       0.33739521, 0.91308073, 0.08896405, 0.45384509, 0.43151658,\n",
       "       0.80063635, 0.07901114, 0.88916352, 0.50246675, 0.19728234])"
      ]
     },
     "execution_count": 24,
     "metadata": {},
     "output_type": "execute_result"
    }
   ],
   "source": [
    "hist.sample"
   ]
  },
  {
   "cell_type": "code",
   "execution_count": 25,
   "id": "b9c9d4ef",
   "metadata": {},
   "outputs": [],
   "source": [
    "# ######### GRID HEAT MAP #########\n",
    "# Left, the driver of changes\n",
    "\n",
    "#2. Scales\n",
    "col_sc = bqplot.ColorScale(scheme='Greens')\n",
    "x_sc = bqplot.OrdinalScale()\n",
    "y_sc = bqplot.OrdinalScale()\n",
    "\n",
    "# 3. axis\n",
    "ax_col = bqplot.ColorAxis(scale=col_sc, orientation='vertical', side='right')\n",
    "ax_x = bqplot.Axis(scale=x_sc)\n",
    "ax_y = bqplot.Axis(scale=y_sc, orientation='vertical')\n",
    "\n",
    "# 4. Mark (heatmap)\n",
    "heat_map = bqplot.GridHeatMap(color=data.mean(axis=2),\n",
    "                              scales={'color':col_sc, 'row':y_sc, 'column':x_sc},\n",
    "                              interactions={'click':'select'},\n",
    "                              selected_style={'fill':'magenta'})\n",
    "\n",
    "# 5. interaction, cont.\n",
    "######heat_map.observe(on_selected,'selected')\n",
    "\n",
    "# combine into a figure\n",
    "fig = bqplot.Figure(marks=[heat_map],axes=[ax_col, ax_x, ax_y])"
   ]
  },
  {
   "cell_type": "code",
   "execution_count": 26,
   "id": "9ec02c19",
   "metadata": {},
   "outputs": [],
   "source": [
    "########## HISTOGRAM ########\n",
    "# 2. scales\n",
    "x_sch = bqplot.LinearScale()\n",
    "y_sch = bqplot.LinearScale()\n",
    "\n",
    "# 3. Axis\n",
    "x_axh = bqplot.Axis(scale=x_sch, label='Value of 3rd Axis')\n",
    "y_axh = bqplot.Axis(scale=y_sch, label='Frequency', orientation='vertical')\n",
    "\n",
    "# 4. Mark\n",
    "hist = bqplot.Hist(sample=data[i,j,:], scales={'sample':x_sch, 'count':y_sch}, bins=5)\n",
    "\n",
    "# finally a figure\n",
    "figh = bqplot.Figure(marks=[hist], axes=[x_axh, y_axh])"
   ]
  },
  {
   "cell_type": "code",
   "execution_count": 27,
   "id": "08c12618",
   "metadata": {},
   "outputs": [],
   "source": [
    "myLabel = ipywidgets.Label()"
   ]
  },
  {
   "cell_type": "code",
   "execution_count": 28,
   "id": "82957031",
   "metadata": {},
   "outputs": [],
   "source": [
    "# Function defining interactions between all dashboard elements\n",
    "def on_selected(change):\n",
    "    if len(change['owner'].selected) == 1: # only allow user to select one bin at a time\n",
    "        i,j = change['owner'].selected[0]\n",
    "        v = data[i,j,:].mean()\n",
    "        myLabel.value = 'Mean Data Value for Selection=' + str(v)\n",
    "        hist.sample = data[i,j,:]"
   ]
  },
  {
   "cell_type": "code",
   "execution_count": 29,
   "id": "eaf03955",
   "metadata": {},
   "outputs": [],
   "source": [
    "# make sure we have heatmap OBSERVE with this function\n",
    "heat_map.observe(on_selected, 'selected')"
   ]
  },
  {
   "cell_type": "code",
   "execution_count": 33,
   "id": "72346fa3",
   "metadata": {},
   "outputs": [
    {
     "data": {
      "application/vnd.jupyter.widget-view+json": {
       "model_id": "d484e339e8be42a991e46373175ae758",
       "version_major": 2,
       "version_minor": 0
      },
      "text/plain": [
       "VBox(children=(Label(value='Mean Data Value for Selection=0.5806456545794433'), HBox(children=(Figure(axes=[Co…"
      ]
     },
     "metadata": {},
     "output_type": "display_data"
    }
   ],
   "source": [
    "# make a dashboard!\n",
    "fig.layout.min_width='400px'\n",
    "figh.layout.min_width='400px'\n",
    "\n",
    "figures = ipywidgets.HBox([fig,figh])\n",
    "myDashboard = ipywidgets.VBox([myLabel, figures])\n",
    "myDashboard"
   ]
  },
  {
   "cell_type": "code",
   "execution_count": 35,
   "id": "4ad5279a",
   "metadata": {},
   "outputs": [
    {
     "data": {
      "text/plain": [
       "['_model_module',\n",
       " '_model_module_version',\n",
       " '_model_name',\n",
       " '_view_count',\n",
       " '_view_module',\n",
       " '_view_module_version',\n",
       " '_view_name',\n",
       " 'apply_clip',\n",
       " 'bins',\n",
       " 'colors',\n",
       " 'count',\n",
       " 'display_legend',\n",
       " 'enable_hover',\n",
       " 'interactions',\n",
       " 'labels',\n",
       " 'midpoints',\n",
       " 'normalized',\n",
       " 'opacities',\n",
       " 'preserve_domain',\n",
       " 'sample',\n",
       " 'scales',\n",
       " 'scales_metadata',\n",
       " 'selected',\n",
       " 'selected_style',\n",
       " 'stroke',\n",
       " 'tooltip',\n",
       " 'tooltip_location',\n",
       " 'tooltip_style',\n",
       " 'unselected_style',\n",
       " 'visible']"
      ]
     },
     "execution_count": 35,
     "metadata": {},
     "output_type": "execute_result"
    }
   ],
   "source": [
    "hist.keys"
   ]
  },
  {
   "cell_type": "code",
   "execution_count": 36,
   "id": "adc65d5b",
   "metadata": {},
   "outputs": [
    {
     "data": {
      "text/plain": [
       "['steelblue']"
      ]
     },
     "execution_count": 36,
     "metadata": {},
     "output_type": "execute_result"
    }
   ],
   "source": [
    "hist.colors"
   ]
  },
  {
   "cell_type": "code",
   "execution_count": 38,
   "id": "18aec3eb",
   "metadata": {},
   "outputs": [],
   "source": [
    "hist.colors='cyan'"
   ]
  },
  {
   "cell_type": "code",
   "execution_count": 39,
   "id": "5a61052a",
   "metadata": {},
   "outputs": [
    {
     "data": {
      "text/plain": [
       "5"
      ]
     },
     "execution_count": 39,
     "metadata": {},
     "output_type": "execute_result"
    }
   ],
   "source": [
    "hist.bins"
   ]
  },
  {
   "cell_type": "code",
   "execution_count": 40,
   "id": "e5a085ec",
   "metadata": {},
   "outputs": [],
   "source": [
    "hist.bins=10"
   ]
  },
  {
   "cell_type": "code",
   "execution_count": 41,
   "id": "b7085163",
   "metadata": {},
   "outputs": [],
   "source": [
    "bins_slider = ipywidgets.IntSlider(min=1,max=data.shape[2],value=5)"
   ]
  },
  {
   "cell_type": "code",
   "execution_count": 42,
   "id": "ca0ac695",
   "metadata": {},
   "outputs": [
    {
     "data": {
      "application/vnd.jupyter.widget-view+json": {
       "model_id": "9e215d912bd040ce8c3ebc97bcf9e971",
       "version_major": 2,
       "version_minor": 0
      },
      "text/plain": [
       "IntSlider(value=5, max=20, min=1)"
      ]
     },
     "metadata": {},
     "output_type": "display_data"
    }
   ],
   "source": [
    "bins_slider"
   ]
  },
  {
   "cell_type": "code",
   "execution_count": 43,
   "id": "15129433",
   "metadata": {},
   "outputs": [
    {
     "data": {
      "text/plain": [
       "10"
      ]
     },
     "execution_count": 43,
     "metadata": {},
     "output_type": "execute_result"
    }
   ],
   "source": [
    "hist.bins # histogram attribute/trait of bins"
   ]
  },
  {
   "cell_type": "code",
   "execution_count": 44,
   "id": "87a592e1",
   "metadata": {},
   "outputs": [
    {
     "data": {
      "text/plain": [
       "14"
      ]
     },
     "execution_count": 44,
     "metadata": {},
     "output_type": "execute_result"
    }
   ],
   "source": [
    "bins_slider.value # slider attribute/trait"
   ]
  },
  {
   "cell_type": "code",
   "execution_count": 45,
   "id": "03c5e243",
   "metadata": {},
   "outputs": [
    {
     "data": {
      "text/plain": [
       "Link(source=(IntSlider(value=14, max=20, min=1), 'value'), target=(Hist(colors=['cyan'], count=array([4., 2., …"
      ]
     },
     "metadata": {},
     "output_type": "display_data"
    }
   ],
   "source": [
    "ipywidgets.jslink((bins_slider,'value'), (hist,'bins'))"
   ]
  },
  {
   "cell_type": "code",
   "execution_count": 46,
   "id": "fd58056c",
   "metadata": {},
   "outputs": [
    {
     "data": {
      "application/vnd.jupyter.widget-view+json": {
       "model_id": "fa17c4b95c2e4ca98d8265a0067540c8",
       "version_major": 2,
       "version_minor": 0
      },
      "text/plain": [
       "VBox(children=(HBox(children=(Label(value='Mean Data Value for Selection=0.4385038133756245'), IntSlider(value…"
      ]
     },
     "metadata": {},
     "output_type": "display_data"
    }
   ],
   "source": [
    "controls = ipywidgets.HBox([myLabel, bins_slider])\n",
    "figures = ipywidgets.HBox([fig,figh])\n",
    "myDashboard = ipywidgets.VBox([controls,figures])\n",
    "\n",
    "fig.layout.min_width='400px'\n",
    "figh.layout.min_width='400px'\n",
    "\n",
    "myDashboard"
   ]
  },
  {
   "cell_type": "markdown",
   "id": "ab9acbb1",
   "metadata": {},
   "source": [
    "## Dashboards with \"real\" data"
   ]
  },
  {
   "cell_type": "code",
   "execution_count": 47,
   "id": "4fdd3ff9",
   "metadata": {},
   "outputs": [],
   "source": [
    "ufos = pd.read_csv(\"https://uiuc-ischool-dataviz.github.io/spring2019online/week04/data/ufo-scrubbed-geocoded-time-standardized-00.csv\",\n",
    "                  names = [\"date\", \"city\", \"state\", \"country\",\n",
    "                          \"shape\", \"duration_seconds\", \"duration\",\n",
    "                          \"comment\", \"report_date\", \n",
    "                           \"latitude\", \"longitude\"],\n",
    "                  parse_dates = [\"date\", \"report_date\"])"
   ]
  },
  {
   "cell_type": "code",
   "execution_count": 48,
   "id": "3e1a9210",
   "metadata": {},
   "outputs": [
    {
     "data": {
      "text/plain": [
       "80332"
      ]
     },
     "execution_count": 48,
     "metadata": {},
     "output_type": "execute_result"
    }
   ],
   "source": [
    "len(ufos)"
   ]
  },
  {
   "cell_type": "code",
   "execution_count": 50,
   "id": "57a9661a",
   "metadata": {},
   "outputs": [
    {
     "data": {
      "text/plain": [
       "array([34800, 54423, 57542, 42394, 16450,   834, 27375, 47840, 52116,\n",
       "        2264, 18220, 50522,  5213, 12226, 35957, 16332, 62667,  4983,\n",
       "       72779, 20586, 70062, 67307, 15606,  8824, 47485, 42790, 54367,\n",
       "       42295, 70307, 26885,  3840, 64105, 18932, 78861, 21018, 50512,\n",
       "       60620, 25942, 36038, 16287, 31084, 12158, 59253, 42564, 78305,\n",
       "       47709, 64004,  6235, 12411,  1881, 47328, 19263, 77113, 15708,\n",
       "       10539,  4906,   957, 11361, 41735, 59306, 36550, 79422, 27605,\n",
       "        9618, 12054, 28167, 72229, 38594, 72087, 59846,  9721, 36197,\n",
       "       57403, 79776,   722, 58278, 26000, 20419, 46731, 13170, 70457,\n",
       "       59473, 36470, 10288, 27324, 31642, 65862, 64405, 64381, 43322,\n",
       "       41747,  1424, 78197, 71391, 44473, 26836, 37756, 20956,  3824,\n",
       "       71445, 46395, 70948, 14170, 24573, 69851,  8554, 27167, 70417,\n",
       "       68257,  9581, 50912, 17936, 69632, 33884, 19078, 41782, 10278,\n",
       "       25803,  6561, 75380, 12627, 71702, 29068, 69727, 20618, 74032,\n",
       "       68406,  3649, 49338, 39052, 55443, 40115, 22820, 60694, 74933,\n",
       "        3216, 62943, 50089,  2233, 79103, 49461, 41216, 15615, 58054,\n",
       "       44154, 16734, 67528, 34655, 28009, 18351, 59932, 66735, 31127,\n",
       "       66787, 31420, 63434, 56291, 25386, 50253, 25300, 42213, 50840,\n",
       "       33863, 49728, 26181, 18107, 77771, 43177, 52072, 62755, 76463,\n",
       "       29500, 58772,  2771, 72058, 69845, 55490, 75655, 48037, 78307,\n",
       "       45295, 18948, 40330,  1367, 24042, 76613, 36256, 17064, 70819,\n",
       "       73192, 10610, 20202, 42336, 46146, 57794,  5860, 24104, 67848,\n",
       "       68274, 65941, 48667,  8221, 43504, 16097, 76688, 23836, 21277,\n",
       "       74102, 35239, 66441, 20817, 24813, 34835, 74069, 24187, 47584,\n",
       "       59838, 36683, 42002, 76238, 50519, 62167, 17098, 26186, 32631,\n",
       "       69803, 71315, 23382, 45640, 52011, 67927, 17556, 75434, 58104,\n",
       "        5065, 73521, 61053, 73356,  9661, 65631, 55708, 13260, 16984,\n",
       "       45388, 38659, 69055, 64075, 54602, 13225, 51340,  6987,  7918,\n",
       "       58273, 18095, 73594, 62950, 59709, 66972, 32207,   567, 63074,\n",
       "       43403, 31253, 33280, 49884, 26362, 44619, 51831, 49682, 42270,\n",
       "       58732, 20882, 65937, 53414, 27421, 16943, 30354, 43665, 13741,\n",
       "       28085, 80262, 19837, 47134, 30805, 54594, 69835, 75061,  9819,\n",
       "       51856, 58790,   326, 56424, 35698, 72081, 65874, 26608, 68670,\n",
       "       44866, 64891, 78508, 13586, 15332,  2615, 73370, 76136, 78262,\n",
       "       79771, 23840, 51773, 28423, 78196,  4309, 61032, 61118, 79772,\n",
       "       42994, 58222, 52950, 61101, 18177,  7587, 77927, 32791, 33550,\n",
       "       20543, 61033, 54772, 52793, 23139, 71790, 29188, 11910, 73341,\n",
       "        4712, 73824, 38402, 34054, 17453, 14349, 78018, 64619, 51782,\n",
       "       32538, 74843, 51518,  5329, 75130, 44587, 10779, 79573,  9930,\n",
       "       20291, 17058, 44527, 20284, 55642, 78086,  6470, 40806,  9018,\n",
       "       37716, 18911, 52033, 18860, 31578, 71749, 46377, 11434, 70020,\n",
       "       52528,  8391, 17608, 36050, 20823,  1772, 68649, 23632, 37233,\n",
       "       16180, 21658,  7061, 73570, 18709, 34450,  8473, 42967, 36855,\n",
       "       72815, 33682,  9188, 25525, 65881, 24151, 63094, 36988, 20044,\n",
       "       46858, 60715, 37755, 49146, 55591, 50148,  5189, 66468, 74951,\n",
       "       17317, 26070, 56063, 59494, 42255, 64865, 56850, 40327,  5083,\n",
       "       66645, 36039, 38315, 27026,   601, 69827, 77610,  9150, 43899,\n",
       "        3543, 31295,  9800, 32650,  2346, 77082, 47529, 69900, 29700,\n",
       "       49979, 67818, 33844, 35970, 72595, 21618, 53288, 26265, 62029,\n",
       "       59289, 30122, 10714,  9850, 59542, 77224,  9407, 48916,  2556,\n",
       "       29687, 10746, 14312,  4404, 67942, 53213, 35437, 46473,  2458,\n",
       "       42692, 21660, 20057, 49025, 57807, 48127, 17589, 33724, 18606,\n",
       "       75591, 54332, 67508, 71323,  6875, 55036, 58492, 10522, 16908,\n",
       "       53636, 40108, 14027, 40329, 62208, 53821, 70473,   832, 47184,\n",
       "       22713, 53494, 69543, 59104, 61483, 29243, 48279, 70082, 12461,\n",
       "       15704,  1494, 41332,  6402, 36020, 19907, 29867, 70758, 37359,\n",
       "       14760, 25179, 78571, 32939, 33086,  4371, 67046, 47319, 44805,\n",
       "       50321, 78494, 79730, 59310, 40041, 17687, 65482, 33513, 26809,\n",
       "       15737, 18208, 27753,  4636, 66970, 74572, 65407,  4817, 24607,\n",
       "       43252, 52416, 77593, 50844, 65532,  9082, 61826, 23865, 77534,\n",
       "       46556, 38483, 56923, 75711, 79005,  4127, 19898, 34701, 63907,\n",
       "        4607,  4927, 28238, 56708, 62706, 72767, 48706, 73417, 76221,\n",
       "       27968, 24369,  3439, 45729, 70051,  6481, 35694, 33134, 36492,\n",
       "       43754, 69722, 12895, 35510, 59362, 26154,  1417, 64696, 16506,\n",
       "       27969, 47687, 47902, 79428, 78386, 60412, 43781,  2475, 41120,\n",
       "       19203, 14181, 62124,  4124, 21509, 12039, 70534, 64462, 77007,\n",
       "       42973,  2618, 45173, 37518, 23401, 76883, 79374, 40645, 47693,\n",
       "       42722,  7422, 22749,  3989, 58301, 13799, 70754,  2619, 71816,\n",
       "       47890, 28714,   193, 52829, 11604, 41329, 59987, 68844, 45854,\n",
       "       77860,  6134, 74367, 19660, 56486, 48128, 46142,  3943, 79203,\n",
       "       66065, 48663, 19057, 36307, 28524, 73694, 80273, 27231, 40876,\n",
       "       12222, 17477, 50545, 12597, 32001,  7924, 59128,  8744, 49145,\n",
       "       34853, 60873,  3875, 25679, 25918, 61703, 55317, 75568, 53249,\n",
       "       20720, 68104, 52480, 79398,  2109,  2625,    76, 40138, 20809,\n",
       "       65863, 18622, 18931, 52499, 40894, 13572, 49802,  2478, 16042,\n",
       "       11269, 22631, 61192, 79996, 10009, 78330, 30543,  6610, 45506,\n",
       "       69940, 46134, 71517,  9919, 21264,  3391, 39939, 40717, 55208,\n",
       "       25896, 56322,  4441, 24071, 35461, 41657, 19612, 68018, 48577,\n",
       "       59372, 48735, 57438, 15429, 58021, 24207, 71266, 65628, 41507,\n",
       "       58727, 24126, 50976, 52993, 45672, 37258, 10279, 39270, 51574,\n",
       "       53022, 66618, 44938, 30082,  7250, 33040, 26596, 11594, 16120,\n",
       "        6128,  5634, 54836, 14429, 26051,  1719, 69449, 24052, 42146,\n",
       "       53090, 35387, 63956, 44110, 16174, 11763, 34253, 22066, 11917,\n",
       "       56960, 73384, 56573, 32172, 78584, 49335, 50855, 28104, 45773,\n",
       "       16684, 64318, 63145, 77938,  3109, 25111, 63105, 17369, 11492,\n",
       "       22482, 79588, 35614, 28733, 68812,  9471, 77314, 71624, 71209,\n",
       "       65465,  7964,  1524, 55501, 31443, 56677, 63896, 12952, 73816,\n",
       "        6915, 48537, 65189, 70565, 60912, 40508, 59663, 22003, 78889,\n",
       "       19675, 35187,  3244,  5170, 40835, 50843,  3264,  9717, 27500,\n",
       "       63930, 12361,  8769, 31885, 18646, 61024,  4450, 25149, 18513,\n",
       "       30187,  1751, 14025, 55474,   630, 11673, 34916, 61480,  3063,\n",
       "        4930, 58127, 42674, 67711, 70413, 39457, 51910, 75746, 22566,\n",
       "       80266, 12665, 28629, 45818, 42291, 10167, 56131, 68564, 11846,\n",
       "       12026,  6096,   388,  8078, 32127, 37798, 24616, 33269, 20498,\n",
       "       23334, 14325, 47148, 17636, 76506,  2256, 26553, 41463, 53747,\n",
       "       10326, 71261, 13833, 33698, 44793, 16882, 80008, 69157, 72225,\n",
       "       13998, 15657, 67525, 26911, 50295, 48915, 63359, 79609, 57557,\n",
       "       70268,  4654, 67144, 46227, 50718, 76749, 77583,    10,  5880,\n",
       "       45060, 61609,  2351, 32363, 23726,  5010, 20423, 11692, 51086,\n",
       "       57160,   184, 21068, 36562,   958, 66413, 74440, 26583, 43636,\n",
       "       41601, 57210, 21997,  6762, 31374, 26480, 24828, 47783, 75366,\n",
       "       27378, 24583, 13092, 16003, 75316, 64365, 48362, 50972, 12377,\n",
       "       21836, 16297, 26216, 49462, 69482, 18324, 29309,   911, 42060,\n",
       "       42543, 56337, 58334,  5301, 60494, 19226, 55301, 41489, 68755,\n",
       "       15175, 73669, 29213, 65418,  9529, 55988, 41658, 28430, 73482,\n",
       "       72520, 54409,  2324,  1179, 13405, 62418, 49937, 74859, 16972,\n",
       "       21161, 17852,  1100, 41197,   235, 42188, 11982, 13044, 72007,\n",
       "       59514, 63958, 52297, 11019, 77710, 28998, 16095, 48393, 36347,\n",
       "       43675,  5839, 43386, 15894,  7853, 18844, 76570, 16233, 75450,\n",
       "       37228, 68619, 52080, 42578, 74539, 20565,  4914,  9090, 66295,\n",
       "       47503,  9706, 67812, 19451, 30034, 49322, 11155, 67852, 22286,\n",
       "        2624])"
      ]
     },
     "execution_count": 50,
     "metadata": {},
     "output_type": "execute_result"
    }
   ],
   "source": [
    "nsamples = 1000 # downsample to this range\n",
    "downSampleMask = np.random.choice(range(len(ufos)-1),nsamples,replace=False)\n",
    "downSampleMask"
   ]
  },
  {
   "cell_type": "code",
   "execution_count": 51,
   "id": "ad9b2908",
   "metadata": {},
   "outputs": [],
   "source": [
    "ufosDS = ufos.loc[downSampleMask]"
   ]
  },
  {
   "cell_type": "code",
   "execution_count": 52,
   "id": "30d4a2bb",
   "metadata": {},
   "outputs": [
    {
     "data": {
      "text/html": [
       "<div>\n",
       "<style scoped>\n",
       "    .dataframe tbody tr th:only-of-type {\n",
       "        vertical-align: middle;\n",
       "    }\n",
       "\n",
       "    .dataframe tbody tr th {\n",
       "        vertical-align: top;\n",
       "    }\n",
       "\n",
       "    .dataframe thead th {\n",
       "        text-align: right;\n",
       "    }\n",
       "</style>\n",
       "<table border=\"1\" class=\"dataframe\">\n",
       "  <thead>\n",
       "    <tr style=\"text-align: right;\">\n",
       "      <th></th>\n",
       "      <th>date</th>\n",
       "      <th>city</th>\n",
       "      <th>state</th>\n",
       "      <th>country</th>\n",
       "      <th>shape</th>\n",
       "      <th>duration_seconds</th>\n",
       "      <th>duration</th>\n",
       "      <th>comment</th>\n",
       "      <th>report_date</th>\n",
       "      <th>latitude</th>\n",
       "      <th>longitude</th>\n",
       "    </tr>\n",
       "  </thead>\n",
       "  <tbody>\n",
       "    <tr>\n",
       "      <th>34800</th>\n",
       "      <td>2006-03-05 14:00:00</td>\n",
       "      <td>stryker (near)  (nw ohio)</td>\n",
       "      <td>oh</td>\n",
       "      <td>us</td>\n",
       "      <td>disk</td>\n",
       "      <td>30.0</td>\n",
       "      <td>appx 30 seconds</td>\n",
       "      <td>Saw a floating object in the sky for about 30 ...</td>\n",
       "      <td>2006-03-11</td>\n",
       "      <td>41.503611</td>\n",
       "      <td>-84.414167</td>\n",
       "    </tr>\n",
       "    <tr>\n",
       "      <th>54423</th>\n",
       "      <td>1999-06-09 23:43:00</td>\n",
       "      <td>sacramento</td>\n",
       "      <td>ca</td>\n",
       "      <td>us</td>\n",
       "      <td>light</td>\n",
       "      <td>5.0</td>\n",
       "      <td>5 seconds</td>\n",
       "      <td>Orange-white light traveling approx. from Sout...</td>\n",
       "      <td>1999-06-23</td>\n",
       "      <td>38.581667</td>\n",
       "      <td>-121.493333</td>\n",
       "    </tr>\n",
       "    <tr>\n",
       "      <th>57542</th>\n",
       "      <td>2003-07-17 01:15:00</td>\n",
       "      <td>terrace (canada)</td>\n",
       "      <td>bc</td>\n",
       "      <td>ca</td>\n",
       "      <td>light</td>\n",
       "      <td>300.0</td>\n",
       "      <td>5 mins.</td>\n",
       "      <td>HBCCUFO CANADIAN REPORT:  Object/Light explode...</td>\n",
       "      <td>2003-07-23</td>\n",
       "      <td>54.500000</td>\n",
       "      <td>-128.583333</td>\n",
       "    </tr>\n",
       "    <tr>\n",
       "      <th>42394</th>\n",
       "      <td>1991-05-15 04:05:00</td>\n",
       "      <td>sparwood (canada)</td>\n",
       "      <td>bc</td>\n",
       "      <td>NaN</td>\n",
       "      <td>light</td>\n",
       "      <td>360.0</td>\n",
       "      <td>5-6 minutes</td>\n",
       "      <td>I observed  three stationary interconected lig...</td>\n",
       "      <td>2005-12-16</td>\n",
       "      <td>49.731705</td>\n",
       "      <td>-114.887624</td>\n",
       "    </tr>\n",
       "    <tr>\n",
       "      <th>16450</th>\n",
       "      <td>2007-11-09 18:30:00</td>\n",
       "      <td>indian trail</td>\n",
       "      <td>nc</td>\n",
       "      <td>us</td>\n",
       "      <td>light</td>\n",
       "      <td>2.0</td>\n",
       "      <td>about 2 seconds</td>\n",
       "      <td>a bright red light seen to grow in size and in...</td>\n",
       "      <td>2007-11-28</td>\n",
       "      <td>35.076667</td>\n",
       "      <td>-80.669444</td>\n",
       "    </tr>\n",
       "    <tr>\n",
       "      <th>...</th>\n",
       "      <td>...</td>\n",
       "      <td>...</td>\n",
       "      <td>...</td>\n",
       "      <td>...</td>\n",
       "      <td>...</td>\n",
       "      <td>...</td>\n",
       "      <td>...</td>\n",
       "      <td>...</td>\n",
       "      <td>...</td>\n",
       "      <td>...</td>\n",
       "      <td>...</td>\n",
       "    </tr>\n",
       "    <tr>\n",
       "      <th>49322</th>\n",
       "      <td>2006-06-15 15:00:00</td>\n",
       "      <td>fallon</td>\n",
       "      <td>nv</td>\n",
       "      <td>us</td>\n",
       "      <td>sphere</td>\n",
       "      <td>1800.0</td>\n",
       "      <td>30 minutes+</td>\n",
       "      <td>UFO sighting east of Fallon&amp;#44 NV&amp;#44 at Navy...</td>\n",
       "      <td>2012-12-20</td>\n",
       "      <td>39.473611</td>\n",
       "      <td>-118.776389</td>\n",
       "    </tr>\n",
       "    <tr>\n",
       "      <th>11155</th>\n",
       "      <td>2009-01-01 19:00:00</td>\n",
       "      <td>concord</td>\n",
       "      <td>ca</td>\n",
       "      <td>us</td>\n",
       "      <td>unknown</td>\n",
       "      <td>7200.0</td>\n",
       "      <td>1-2 hours</td>\n",
       "      <td>Regular&amp;#44 almost nightly sightings of bright...</td>\n",
       "      <td>2009-03-19</td>\n",
       "      <td>37.978056</td>\n",
       "      <td>-122.030000</td>\n",
       "    </tr>\n",
       "    <tr>\n",
       "      <th>67852</th>\n",
       "      <td>2012-08-19 22:15:00</td>\n",
       "      <td>cougar</td>\n",
       "      <td>wa</td>\n",
       "      <td>us</td>\n",
       "      <td>circle</td>\n",
       "      <td>300.0</td>\n",
       "      <td>5 minutes</td>\n",
       "      <td>Saw to bright white circular/spherical shapes ...</td>\n",
       "      <td>2012-09-24</td>\n",
       "      <td>46.051667</td>\n",
       "      <td>-122.298333</td>\n",
       "    </tr>\n",
       "    <tr>\n",
       "      <th>22286</th>\n",
       "      <td>2007-01-24 16:48:00</td>\n",
       "      <td>spokane</td>\n",
       "      <td>wa</td>\n",
       "      <td>us</td>\n",
       "      <td>triangle</td>\n",
       "      <td>60.0</td>\n",
       "      <td>1 minute approximately</td>\n",
       "      <td>January 24&amp;#44 2007&amp;#44 flying West to East ov...</td>\n",
       "      <td>2008-06-12</td>\n",
       "      <td>47.658889</td>\n",
       "      <td>-117.425000</td>\n",
       "    </tr>\n",
       "    <tr>\n",
       "      <th>2624</th>\n",
       "      <td>2010-10-17 04:00:00</td>\n",
       "      <td>santa ana</td>\n",
       "      <td>ca</td>\n",
       "      <td>us</td>\n",
       "      <td>light</td>\n",
       "      <td>120.0</td>\n",
       "      <td>2 min</td>\n",
       "      <td>Green and Blue lights in the sky followed by t...</td>\n",
       "      <td>2010-11-21</td>\n",
       "      <td>33.745556</td>\n",
       "      <td>-117.866944</td>\n",
       "    </tr>\n",
       "  </tbody>\n",
       "</table>\n",
       "<p>1000 rows × 11 columns</p>\n",
       "</div>"
      ],
      "text/plain": [
       "                     date                       city state country     shape  \\\n",
       "34800 2006-03-05 14:00:00  stryker (near)  (nw ohio)    oh      us      disk   \n",
       "54423 1999-06-09 23:43:00                 sacramento    ca      us     light   \n",
       "57542 2003-07-17 01:15:00           terrace (canada)    bc      ca     light   \n",
       "42394 1991-05-15 04:05:00          sparwood (canada)    bc     NaN     light   \n",
       "16450 2007-11-09 18:30:00               indian trail    nc      us     light   \n",
       "...                   ...                        ...   ...     ...       ...   \n",
       "49322 2006-06-15 15:00:00                     fallon    nv      us    sphere   \n",
       "11155 2009-01-01 19:00:00                    concord    ca      us   unknown   \n",
       "67852 2012-08-19 22:15:00                     cougar    wa      us    circle   \n",
       "22286 2007-01-24 16:48:00                    spokane    wa      us  triangle   \n",
       "2624  2010-10-17 04:00:00                  santa ana    ca      us     light   \n",
       "\n",
       "       duration_seconds                duration  \\\n",
       "34800              30.0         appx 30 seconds   \n",
       "54423               5.0               5 seconds   \n",
       "57542             300.0                 5 mins.   \n",
       "42394             360.0             5-6 minutes   \n",
       "16450               2.0         about 2 seconds   \n",
       "...                 ...                     ...   \n",
       "49322            1800.0             30 minutes+   \n",
       "11155            7200.0               1-2 hours   \n",
       "67852             300.0               5 minutes   \n",
       "22286              60.0  1 minute approximately   \n",
       "2624              120.0                   2 min   \n",
       "\n",
       "                                                 comment report_date  \\\n",
       "34800  Saw a floating object in the sky for about 30 ...  2006-03-11   \n",
       "54423  Orange-white light traveling approx. from Sout...  1999-06-23   \n",
       "57542  HBCCUFO CANADIAN REPORT:  Object/Light explode...  2003-07-23   \n",
       "42394  I observed  three stationary interconected lig...  2005-12-16   \n",
       "16450  a bright red light seen to grow in size and in...  2007-11-28   \n",
       "...                                                  ...         ...   \n",
       "49322  UFO sighting east of Fallon&#44 NV&#44 at Navy...  2012-12-20   \n",
       "11155  Regular&#44 almost nightly sightings of bright...  2009-03-19   \n",
       "67852  Saw to bright white circular/spherical shapes ...  2012-09-24   \n",
       "22286  January 24&#44 2007&#44 flying West to East ov...  2008-06-12   \n",
       "2624   Green and Blue lights in the sky followed by t...  2010-11-21   \n",
       "\n",
       "        latitude   longitude  \n",
       "34800  41.503611  -84.414167  \n",
       "54423  38.581667 -121.493333  \n",
       "57542  54.500000 -128.583333  \n",
       "42394  49.731705 -114.887624  \n",
       "16450  35.076667  -80.669444  \n",
       "...          ...         ...  \n",
       "49322  39.473611 -118.776389  \n",
       "11155  37.978056 -122.030000  \n",
       "67852  46.051667 -122.298333  \n",
       "22286  47.658889 -117.425000  \n",
       "2624   33.745556 -117.866944  \n",
       "\n",
       "[1000 rows x 11 columns]"
      ]
     },
     "execution_count": 52,
     "metadata": {},
     "output_type": "execute_result"
    }
   ],
   "source": [
    "ufosDS"
   ]
  },
  {
   "cell_type": "code",
   "execution_count": 53,
   "id": "e28fd298",
   "metadata": {},
   "outputs": [
    {
     "data": {
      "application/vnd.jupyter.widget-view+json": {
       "model_id": "ac6cd5577b114cea8abfe64a05d449c8",
       "version_major": 2,
       "version_minor": 0
      },
      "text/plain": [
       "Figure(axes=[Axis(label='Longitude', scale=LinearScale()), Axis(label='Latitude', orientation='vertical', scal…"
      ]
     },
     "metadata": {},
     "output_type": "display_data"
    }
   ],
   "source": [
    "# 1. let's try bqplot with a scatter plot of this data (downsampled for now)\n",
    "\n",
    "# 2. scales\n",
    "x_sc = bqplot.LinearScale()\n",
    "y_sc = bqplot.LinearScale()\n",
    "\n",
    "# 3. axis\n",
    "x_ax = bqplot.Axis(scale=x_sc,label='Longitude')\n",
    "y_ax = bqplot.Axis(scale=y_sc, orientation='vertical', label='Latitude')\n",
    "\n",
    "# 4. marks\n",
    "scatters = bqplot.Scatter(x=ufosDS['longitude'], y=ufosDS['latitude'], \n",
    "                         scales={'x':x_sc, 'y':y_sc})\n",
    "\n",
    "# figure\n",
    "fig = bqplot.Figure(marks=[scatters], axes=[x_ax,y_ax])\n",
    "fig"
   ]
  },
  {
   "cell_type": "code",
   "execution_count": 55,
   "id": "597da6e8",
   "metadata": {},
   "outputs": [
    {
     "data": {
      "application/vnd.jupyter.widget-view+json": {
       "model_id": "2d9b2eaf7041412f9987a055daeab7dd",
       "version_major": 2,
       "version_minor": 0
      },
      "text/plain": [
       "Figure(axes=[Axis(label='Longitude', scale=LinearScale()), Axis(label='Latitude', orientation='vertical', scal…"
      ]
     },
     "metadata": {},
     "output_type": "display_data"
    }
   ],
   "source": [
    "# 1. let's try bqplot with a scatter plot of this data (downsampled for now)\n",
    "\n",
    "# 2. scales\n",
    "x_sc = bqplot.LinearScale()\n",
    "y_sc = bqplot.LinearScale()\n",
    "col_sc = bqplot.ColorScale()\n",
    "\n",
    "# 3. axis\n",
    "x_ax = bqplot.Axis(scale=x_sc,label='Longitude')\n",
    "y_ax = bqplot.Axis(scale=y_sc, orientation='vertical', label='Latitude')\n",
    "col_ax = bqplot.ColorAxis(scale=col_sc, label='Duration in seconds', orientation='vertical', side='right')\n",
    "\n",
    "# 4. marks\n",
    "scatters = bqplot.Scatter(x=ufosDS['longitude'], y=ufosDS['latitude'], color=ufosDS['duration_seconds'],\n",
    "                         scales={'x':x_sc, 'y':y_sc, 'color':col_sc})\n",
    "\n",
    "# figure\n",
    "fig = bqplot.Figure(marks=[scatters], axes=[x_ax,y_ax,col_ax])\n",
    "fig"
   ]
  },
  {
   "cell_type": "code",
   "execution_count": 57,
   "id": "c6a82b0f",
   "metadata": {},
   "outputs": [
    {
     "data": {
      "application/vnd.jupyter.widget-view+json": {
       "model_id": "edc6551a796d49b6999dfab58c379392",
       "version_major": 2,
       "version_minor": 0
      },
      "text/plain": [
       "Figure(axes=[Axis(label='Longitude', scale=LinearScale()), Axis(label='Latitude', orientation='vertical', scal…"
      ]
     },
     "metadata": {},
     "output_type": "display_data"
    }
   ],
   "source": [
    "# 1. let's try bqplot with a scatter plot of this data (downsampled for now)\n",
    "\n",
    "# 2. scales\n",
    "x_sc = bqplot.LinearScale()\n",
    "y_sc = bqplot.LinearScale()\n",
    "col_sc = bqplot.ColorScale()\n",
    "\n",
    "# 3. axis\n",
    "x_ax = bqplot.Axis(scale=x_sc,label='Longitude')\n",
    "y_ax = bqplot.Axis(scale=y_sc, orientation='vertical', label='Latitude')\n",
    "col_ax = bqplot.ColorAxis(scale=col_sc, label='log(seconds)', orientation='vertical', side='right')\n",
    "\n",
    "# 4. marks\n",
    "scatters = bqplot.Scatter(x=ufosDS['longitude'], y=ufosDS['latitude'], color=np.log10(ufosDS['duration_seconds']),\n",
    "                         scales={'x':x_sc, 'y':y_sc, 'color':col_sc})\n",
    "\n",
    "# figure\n",
    "fig = bqplot.Figure(marks=[scatters], axes=[x_ax,y_ax,col_ax])\n",
    "fig"
   ]
  },
  {
   "cell_type": "code",
   "execution_count": 59,
   "id": "2b498702",
   "metadata": {},
   "outputs": [],
   "source": [
    "def generate_histogram_from_lat_long(ufos, nlong=20, nlat=20, longmin=-150, longmax=150,\n",
    "                                     latmin=-40, latmax=70,\n",
    "                                     takeLog=True):\n",
    "    long_bins = np.linspace(longmin, longmax, nlong+1)\n",
    "    lat_bins = np.linspace(latmin, latmax, nlat+1)\n",
    "    hist2d, long_edges, lat_edges = np.histogram2d(ufos['longitude'], \n",
    "                                                   ufos['latitude'], \n",
    "                                                   weights=ufos['duration_seconds'],\n",
    "                                                  bins = [long_bins,lat_bins])\n",
    "    hist2d = hist2d.T\n",
    "    if takeLog:\n",
    "        hist2d[hist2d <= 0] = np.nan # set zeros to NaNs\n",
    "        # then take log\n",
    "        hist2d = np.log10(hist2d)\n",
    "    long_centers = (long_edges[:-1] + long_edges[1:]) / 2\n",
    "    lat_centers = (lat_edges[:-1] + lat_edges[1:]) / 2\n",
    "    return hist2d, long_centers, lat_centers, long_edges, lat_edges"
   ]
  },
  {
   "cell_type": "code",
   "execution_count": 60,
   "id": "77ca64d9",
   "metadata": {},
   "outputs": [],
   "source": [
    "hist2d, long_centers, lat_centers, long_edges, lat_edges = generate_histogram_from_lat_long(ufos)"
   ]
  },
  {
   "cell_type": "code",
   "execution_count": 63,
   "id": "24989898",
   "metadata": {},
   "outputs": [
    {
     "data": {
      "text/plain": [
       "(20, 20)"
      ]
     },
     "execution_count": 63,
     "metadata": {},
     "output_type": "execute_result"
    }
   ],
   "source": [
    "hist2d.shape"
   ]
  },
  {
   "cell_type": "code",
   "execution_count": 64,
   "id": "b5645f32",
   "metadata": {},
   "outputs": [
    {
     "data": {
      "text/plain": [
       "array([-142.5, -127.5, -112.5,  -97.5,  -82.5,  -67.5,  -52.5,  -37.5,\n",
       "        -22.5,   -7.5,    7.5,   22.5,   37.5,   52.5,   67.5,   82.5,\n",
       "         97.5,  112.5,  127.5,  142.5])"
      ]
     },
     "execution_count": 64,
     "metadata": {},
     "output_type": "execute_result"
    }
   ],
   "source": [
    "long_centers"
   ]
  },
  {
   "cell_type": "code",
   "execution_count": 65,
   "id": "49e348a5",
   "metadata": {},
   "outputs": [
    {
     "data": {
      "text/plain": [
       "array([-150., -135., -120., -105.,  -90.,  -75.,  -60.,  -45.,  -30.,\n",
       "        -15.,    0.,   15.,   30.,   45.,   60.,   75.,   90.,  105.,\n",
       "        120.,  135.,  150.])"
      ]
     },
     "execution_count": 65,
     "metadata": {},
     "output_type": "execute_result"
    }
   ],
   "source": [
    "long_edges"
   ]
  },
  {
   "cell_type": "code",
   "execution_count": 66,
   "id": "0a888dbf",
   "metadata": {},
   "outputs": [
    {
     "data": {
      "text/plain": [
       "(20, 21)"
      ]
     },
     "execution_count": 66,
     "metadata": {},
     "output_type": "execute_result"
    }
   ],
   "source": [
    "len(long_centers), len(long_edges)"
   ]
  },
  {
   "cell_type": "code",
   "execution_count": null,
   "id": "549470e4",
   "metadata": {},
   "outputs": [],
   "source": [
    "# plot data with grid heat map\n",
    "\n",
    "# 2. scales\n",
    "col_sc = bqplot.ColorScale(scheme='RdPu')\n",
    "x_sc = bqplot.LinearScale()\n",
    "y_sc = bqplot.LinearScale()\n",
    "\n",
    "# 3. axis\n",
    "col_ax = bqplot.ColorAxis(scale=col_sc, orientation='vertical', side='right')\n",
    "x_ax = bqplot.Axis(scale=x_sc, label='Longitude')\n",
    "y_ax = bqplot.Axis(scale=y_sc, orientation='vertical', label='Latitude')\n",
    "\n",
    "# 4. marks\n",
    "heat_map = bqplot.GridHeatMap(color=hist2d)"
   ]
  }
 ],
 "metadata": {
  "kernelspec": {
   "display_name": "Python 3 (ipykernel)",
   "language": "python",
   "name": "python3"
  },
  "language_info": {
   "codemirror_mode": {
    "name": "ipython",
    "version": 3
   },
   "file_extension": ".py",
   "mimetype": "text/x-python",
   "name": "python",
   "nbconvert_exporter": "python",
   "pygments_lexer": "ipython3",
   "version": "3.7.12"
  }
 },
 "nbformat": 4,
 "nbformat_minor": 5
}
