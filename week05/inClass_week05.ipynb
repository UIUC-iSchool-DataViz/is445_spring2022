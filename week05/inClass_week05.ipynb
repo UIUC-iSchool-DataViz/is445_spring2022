{
 "cells": [
  {
   "cell_type": "markdown",
   "id": "respective-store",
   "metadata": {},
   "source": [
    "# In Class Notebook, Week 05"
   ]
  },
  {
   "cell_type": "markdown",
   "id": "2a597611",
   "metadata": {},
   "source": [
    "You can always paste the URL of this notebook (https://github.com/UIUC-iSchool-DataViz/is445_spring2022/blob/master/week05/inClass_week05.ipynb ) into the nbviewer interface for a plain-text rendering:\n",
    "\n",
    "https://kokes.github.io/nbviewer.js/viewer.html"
   ]
  },
  {
   "cell_type": "code",
   "execution_count": 1,
   "id": "94323f19",
   "metadata": {},
   "outputs": [],
   "source": [
    "# import our usual things\n",
    "import matplotlib.pyplot as plt\n",
    "import matplotlib\n",
    "import numpy as np\n",
    "import pandas as pd"
   ]
  },
  {
   "cell_type": "code",
   "execution_count": 2,
   "id": "4ba3511c",
   "metadata": {},
   "outputs": [],
   "source": [
    "# also import widgets library\n",
    "import ipywidgets"
   ]
  },
  {
   "cell_type": "markdown",
   "id": "46a663f3",
   "metadata": {},
   "source": [
    "## Review from last week"
   ]
  },
  {
   "cell_type": "code",
   "execution_count": 3,
   "id": "e4340ed9",
   "metadata": {},
   "outputs": [],
   "source": [
    "michigan_file = '/Users/jillnaiman/Downloads/michigan_lld.flt'\n",
    "# can be found with tab completes!"
   ]
  },
  {
   "cell_type": "code",
   "execution_count": 4,
   "id": "ce1edf05",
   "metadata": {},
   "outputs": [],
   "source": [
    "np.fromfile?"
   ]
  },
  {
   "cell_type": "code",
   "execution_count": 5,
   "id": "3e6386e2",
   "metadata": {},
   "outputs": [],
   "source": [
    "michigan = np.fromfile(michigan_file,dtype='f4').reshape((5365,4201))"
   ]
  },
  {
   "cell_type": "code",
   "execution_count": 6,
   "id": "19191d6e",
   "metadata": {},
   "outputs": [],
   "source": [
    "# take out -9999 tags for missing data\n",
    "michigan[michigan==-9999] = np.nan"
   ]
  },
  {
   "cell_type": "code",
   "execution_count": null,
   "id": "eda81a8e",
   "metadata": {},
   "outputs": [],
   "source": [
    "# step 1: hard code any parameters we may want to widgetize(?)\n",
    "colormap_name = 'seismic'\n",
    "take_log = True\n",
    "\n",
    "if take_log:\n",
    "    norm = matplotlib.colors.SymLogNorm(10) # symmetric log, base 10\n",
    "else:\n",
    "    norm = matplotlib.colors.Normalize() # \"the usual\" linear map"
   ]
  }
 ],
 "metadata": {
  "kernelspec": {
   "display_name": "Python 3 (ipykernel)",
   "language": "python",
   "name": "python3"
  },
  "language_info": {
   "codemirror_mode": {
    "name": "ipython",
    "version": 3
   },
   "file_extension": ".py",
   "mimetype": "text/x-python",
   "name": "python",
   "nbconvert_exporter": "python",
   "pygments_lexer": "ipython3",
   "version": "3.7.12"
  }
 },
 "nbformat": 4,
 "nbformat_minor": 5
}
