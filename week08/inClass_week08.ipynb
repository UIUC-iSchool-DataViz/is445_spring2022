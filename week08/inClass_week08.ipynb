{
 "cells": [
  {
   "cell_type": "markdown",
   "id": "respective-store",
   "metadata": {},
   "source": [
    "# In Class Notebook, Week 08"
   ]
  },
  {
   "cell_type": "markdown",
   "id": "2a597611",
   "metadata": {},
   "source": [
    "You can always paste the URL of this notebook (https://github.com/UIUC-iSchool-DataViz/is445_spring2022/blob/master/week08/inClass_week08.ipynb ) into the nbviewer interface for a plain-text rendering:\n",
    "\n",
    "https://kokes.github.io/nbviewer.js/viewer.html"
   ]
  },
  {
   "cell_type": "code",
   "execution_count": 1,
   "id": "73edca31",
   "metadata": {},
   "outputs": [],
   "source": [
    "import pandas as pd\n",
    "import matplotlib.pyplot as plt\n",
    "import geopandas \n",
    "import numpy as np\n",
    "import bqplot"
   ]
  },
  {
   "cell_type": "code",
   "execution_count": 2,
   "id": "a8243424",
   "metadata": {},
   "outputs": [],
   "source": [
    "# 1. data (data/axis)\n",
    "shape_data = bqplot.topo_load('map_data/WorldMap.json')"
   ]
  },
  {
   "cell_type": "code",
   "execution_count": 3,
   "id": "79694be5",
   "metadata": {},
   "outputs": [],
   "source": [
    "# 2. scales\n",
    "sc_geo = bqplot.Mercator()"
   ]
  },
  {
   "cell_type": "code",
   "execution_count": 4,
   "id": "6bba81b0",
   "metadata": {},
   "outputs": [],
   "source": [
    "# 3. Marks\n",
    "shape_map = bqplot.Map(map_data=shape_data, scales={'projection':sc_geo})"
   ]
  },
  {
   "cell_type": "code",
   "execution_count": 6,
   "id": "1c820586",
   "metadata": {},
   "outputs": [
    {
     "data": {
      "application/vnd.jupyter.widget-view+json": {
       "model_id": "747edfb5a2bb4470bc5923a5174728fa",
       "version_major": 2,
       "version_minor": 0
      },
      "text/plain": [
       "Figure(fig_margin={'top': 0, 'bottom': 0, 'left': 0, 'right': 0}, marks=[Map(hovered_styles={'hovered_fill': '…"
      ]
     },
     "metadata": {},
     "output_type": "display_data"
    }
   ],
   "source": [
    "# put it all together as a figure\n",
    "fig = bqplot.Figure(marks=[shape_map], \n",
    "                   fig_margin={'top':0, 'bottom':0,'left':0, 'right':0})\n",
    "fig"
   ]
  },
  {
   "cell_type": "code",
   "execution_count": 7,
   "id": "eae8db71",
   "metadata": {},
   "outputs": [
    {
     "data": {
      "application/vnd.jupyter.widget-view+json": {
       "model_id": "18ad7ac8cfe44b658cb3e078bea2093b",
       "version_major": 2,
       "version_minor": 0
      },
      "text/plain": [
       "Figure(fig_margin={'top': 0, 'bottom': 0, 'left': 0, 'right': 0}, marks=[Map(hovered_styles={'hovered_fill': '…"
      ]
     },
     "metadata": {},
     "output_type": "display_data"
    }
   ],
   "source": [
    "# 1. axis/data\n",
    "shape_data = bqplot.topo_load('map_data/WorldMap.json') # shapes we want to draw\n",
    "\n",
    "# 2. scales\n",
    "sc_geo = bqplot.Gnomonic() # a nightmare!\n",
    "\n",
    "# 3. marks\n",
    "shape_map = bqplot.Map(map_data=shape_data, scales={'projection':sc_geo})\n",
    "\n",
    "# 4. figur\n",
    "fig = bqplot.Figure(marks=[shape_map], \n",
    "                    fig_margin={'top':0,'bottom':0,'left':0,'right':0})\n",
    "fig"
   ]
  },
  {
   "cell_type": "code",
   "execution_count": 9,
   "id": "b9f6e802",
   "metadata": {},
   "outputs": [
    {
     "data": {
      "application/vnd.jupyter.widget-view+json": {
       "model_id": "4312779a88204aacb6a12968675486ea",
       "version_major": 2,
       "version_minor": 0
      },
      "text/plain": [
       "Figure(fig_margin={'top': 0, 'bottom': 0, 'left': 0, 'right': 0}, marks=[Map(hovered_styles={'hovered_fill': '…"
      ]
     },
     "metadata": {},
     "output_type": "display_data"
    }
   ],
   "source": [
    "# axis/data\n",
    "state_data = bqplot.topo_load('map_data/USStatesMap.json')\n",
    "\n",
    "# scales\n",
    "sc_geo = bqplot.AlbersUSA() # USA-specific projection\n",
    "\n",
    "# marks\n",
    "states_map = bqplot.Map(map_data = state_data, scales={'projection':sc_geo})\n",
    "\n",
    "# in figure\n",
    "fig = bqplot.Figure(marks=[states_map], fig_margin={'top':0,'bottom':0,'left':0,'right':0})\n",
    "fig"
   ]
  },
  {
   "cell_type": "code",
   "execution_count": 11,
   "id": "20b1c661",
   "metadata": {},
   "outputs": [
    {
     "name": "stdout",
     "output_type": "stream",
     "text": [
      "EuropeMap.json     USCountiesMap.json USStatesMap.json   WorldMap.json\r\n"
     ]
    }
   ],
   "source": [
    "!ls /Users/jillnaiman/opt/anaconda3/pkgs/bqplot-0.12.2-py_0/site-packages/bqplot/map_data"
   ]
  },
  {
   "cell_type": "code",
   "execution_count": 10,
   "id": "adb3490f",
   "metadata": {},
   "outputs": [
    {
     "data": {
      "application/vnd.jupyter.widget-view+json": {
       "model_id": "5cf41fe604f64e9fb1d0eaccf77f131e",
       "version_major": 2,
       "version_minor": 0
      },
      "text/plain": [
       "Figure(fig_margin={'top': 0, 'bottom': 0, 'left': 0, 'right': 0}, marks=[Map(hovered_styles={'hovered_fill': '…"
      ]
     },
     "metadata": {},
     "output_type": "display_data"
    }
   ],
   "source": [
    "# axis/data\n",
    "state_data = bqplot.topo_load('map_data/USStatesMap.json')\n",
    "\n",
    "# scales\n",
    "sc_geo = bqplot.AlbersUSA() # USA-specific projection\n",
    "\n",
    "# tool tip!\n",
    "tt = bqplot.Tooltip(fields=['id','name'])\n",
    "states_map.interactions = {'click':'select', 'hover':'tooltip'}\n",
    "\n",
    "# marks\n",
    "states_map = bqplot.Map(map_data = state_data, scales={'projection':sc_geo},\n",
    "                       tooltip=tt)\n",
    "\n",
    "# in figure\n",
    "fig = bqplot.Figure(marks=[states_map], fig_margin={'top':0,'bottom':0,'left':0,'right':0})\n",
    "fig"
   ]
  },
  {
   "cell_type": "markdown",
   "id": "f166e436",
   "metadata": {},
   "source": [
    "## Geopandas"
   ]
  },
  {
   "cell_type": "code",
   "execution_count": 12,
   "id": "8be82857",
   "metadata": {},
   "outputs": [
    {
     "data": {
      "text/plain": [
       "['naturalearth_cities', 'naturalearth_lowres', 'nybb']"
      ]
     },
     "execution_count": 12,
     "metadata": {},
     "output_type": "execute_result"
    }
   ],
   "source": [
    "geopandas.datasets.available"
   ]
  },
  {
   "cell_type": "code",
   "execution_count": 13,
   "id": "7821fca8",
   "metadata": {},
   "outputs": [],
   "source": [
    "gdf = geopandas.read_file(geopandas.datasets.get_path('nybb'))"
   ]
  },
  {
   "cell_type": "code",
   "execution_count": 15,
   "id": "f5467592",
   "metadata": {},
   "outputs": [
    {
     "data": {
      "text/plain": [
       "<matplotlib.axes._subplots.AxesSubplot at 0x7ff320eca110>"
      ]
     },
     "execution_count": 15,
     "metadata": {},
     "output_type": "execute_result"
    },
    {
     "data": {
      "image/png": "[encoded data removed]",
      "text/plain": [
       "<Figure size 432x288 with 1 Axes>"
      ]
     },
     "metadata": {
      "needs_background": "light"
     },
     "output_type": "display_data"
    }
   ],
   "source": [
    "gdf.plot(alpha=0.5, edgecolor='k')"
   ]
  },
  {
   "cell_type": "code",
   "execution_count": null,
   "id": "131d7884",
   "metadata": {},
   "outputs": [],
   "source": []
  }
 ],
 "metadata": {
  "kernelspec": {
   "display_name": "Python 3 (ipykernel)",
   "language": "python",
   "name": "python3"
  },
  "language_info": {
   "codemirror_mode": {
    "name": "ipython",
    "version": 3
   },
   "file_extension": ".py",
   "mimetype": "text/x-python",
   "name": "python",
   "nbconvert_exporter": "python",
   "pygments_lexer": "ipython3",
   "version": "3.7.12"
  }
 },
 "nbformat": 4,
 "nbformat_minor": 5
}
