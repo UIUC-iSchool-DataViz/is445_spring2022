{
 "cells": [
  {
   "cell_type": "markdown",
   "id": "respective-store",
   "metadata": {},
   "source": [
    "# In Class Notebook, Week 02"
   ]
  },
  {
   "cell_type": "markdown",
   "id": "patent-merit",
   "metadata": {},
   "source": [
    "You can always paste the URL of this notebook (https://github.com/UIUC-iSchool-DataViz/is445_spring2022/blob/master/week02/inClass_week02.ipynb ) into the nbviewer interface for a plain-text rendering:\n",
    "\n",
    "https://kokes.github.io/nbviewer.js/viewer.html"
   ]
  },
  {
   "cell_type": "markdown",
   "id": "bf815c34",
   "metadata": {},
   "source": [
    "Hi hello, this is me writing stuff."
   ]
  },
  {
   "cell_type": "markdown",
   "id": "b4042ba1",
   "metadata": {},
   "source": [
    "This is me writing some notes.\n",
    "\n",
    "# This is a large header\n",
    "\n",
    "## This is a smaller header\n",
    "\n",
    "### dinky header\n",
    "\n",
    "I can also make ordered lists:\n",
    "1. this is item 1\n",
    "1. this is item 2\n",
    "1. this is item3\n",
    "\n",
    "Unordered lists:\n",
    "* first thing\n",
    "* second thing\n",
    "* third thing\n",
    "\n",
    "$\\frac{x}{y} = \\frac{5}{3}$\n",
    "\n",
    "SHIFT+Return = run the cell"
   ]
  },
  {
   "cell_type": "code",
   "execution_count": 1,
   "id": "fbd9d582",
   "metadata": {},
   "outputs": [
    {
     "data": {
      "text/plain": [
       "9"
      ]
     },
     "execution_count": 1,
     "metadata": {},
     "output_type": "execute_result"
    }
   ],
   "source": [
    "4+5"
   ]
  },
  {
   "cell_type": "code",
   "execution_count": 2,
   "id": "2aaa6a7e",
   "metadata": {},
   "outputs": [
    {
     "name": "stdout",
     "output_type": "stream",
     "text": [
      "hi there\n"
     ]
    }
   ],
   "source": [
    "print('hi there')"
   ]
  },
  {
   "cell_type": "code",
   "execution_count": 3,
   "id": "bce04936",
   "metadata": {},
   "outputs": [
    {
     "data": {
      "text/plain": [
       "'hi there'"
      ]
     },
     "execution_count": 3,
     "metadata": {},
     "output_type": "execute_result"
    }
   ],
   "source": [
    "'hi there'"
   ]
  },
  {
   "cell_type": "markdown",
   "id": "bd64b28b",
   "metadata": {},
   "source": [
    "# Simple plots\n",
    "\n",
    "ESC-M to get into this markdown cell"
   ]
  },
  {
   "cell_type": "code",
   "execution_count": 5,
   "id": "b3aa84a7",
   "metadata": {},
   "outputs": [],
   "source": [
    "import matplotlib\n",
    "import matplotlib.pyplot as plt # importing a library with a shorthand\n",
    "import datetime\n",
    "import numpy as np # again, another shorthand"
   ]
  },
  {
   "cell_type": "code",
   "execution_count": 6,
   "id": "cae7aa65",
   "metadata": {},
   "outputs": [],
   "source": [
    "time = [20070101, 20070401, 20070701, 20071001, 20080101, 20080401, 20080701, 20081001, 20090101]"
   ]
  },
  {
   "cell_type": "code",
   "execution_count": 7,
   "id": "7b72e22e",
   "metadata": {},
   "outputs": [
    {
     "data": {
      "text/plain": [
       "[20070101,\n",
       " 20070401,\n",
       " 20070701,\n",
       " 20071001,\n",
       " 20080101,\n",
       " 20080401,\n",
       " 20080701,\n",
       " 20081001,\n",
       " 20090101]"
      ]
     },
     "execution_count": 7,
     "metadata": {},
     "output_type": "execute_result"
    }
   ],
   "source": [
    "time"
   ]
  },
  {
   "cell_type": "code",
   "execution_count": 10,
   "id": "bc1406b6",
   "metadata": {},
   "outputs": [
    {
     "data": {
      "text/plain": [
       "Text(0, 0.5, 'YearMonthDay')"
      ]
     },
     "execution_count": 10,
     "metadata": {},
     "output_type": "execute_result"
    },
    {
     "data": {
      "image/png": "[encoded data removed]",
      "text/plain": [
       "<Figure size 432x288 with 1 Axes>"
      ]
     },
     "metadata": {
      "needs_background": "light"
     },
     "output_type": "display_data"
    }
   ],
   "source": [
    "plt.plot(time)\n",
    "plt.xlabel('Measurement #') # x-axis label\n",
    "plt.ylabel('YearMonthDay')"
   ]
  },
  {
   "cell_type": "code",
   "execution_count": null,
   "id": "eb08e254",
   "metadata": {},
   "outputs": [],
   "source": [
    "gdp = [14233.2, 14422.3, 14569.7, 14685.3, 14668.4, 14813.0, 14843.0, 14549.9, 14383.9]\n"
   ]
  }
 ],
 "metadata": {
  "kernelspec": {
   "display_name": "Python 3 (ipykernel)",
   "language": "python",
   "name": "python3"
  },
  "language_info": {
   "codemirror_mode": {
    "name": "ipython",
    "version": 3
   },
   "file_extension": ".py",
   "mimetype": "text/x-python",
   "name": "python",
   "nbconvert_exporter": "python",
   "pygments_lexer": "ipython3",
   "version": "3.7.12"
  }
 },
 "nbformat": 4,
 "nbformat_minor": 5
}
