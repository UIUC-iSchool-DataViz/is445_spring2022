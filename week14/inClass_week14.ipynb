{
 "cells": [
  {
   "cell_type": "markdown",
   "id": "innovative-airplane",
   "metadata": {},
   "source": [
    "# In Class Notebook, Week 14"
   ]
  },
  {
   "cell_type": "markdown",
   "id": "27102a29",
   "metadata": {},
   "source": [
    "You can always paste the URL of this notebook (https://github.com/UIUC-iSchool-DataViz/is445_spring2022/blob/master/week14/inClass_week14.ipynb ) into the nbviewer interface for a plain-text rendering:\n",
    "\n",
    "https://kokes.github.io/nbviewer.js/viewer.html"
   ]
  },
  {
   "cell_type": "code",
   "execution_count": 1,
   "id": "0912ef4e",
   "metadata": {},
   "outputs": [],
   "source": [
    "import numpy as np\n",
    "import pandas as pd\n",
    "import ipyvolume"
   ]
  },
  {
   "cell_type": "code",
   "execution_count": 2,
   "id": "cd887e6b",
   "metadata": {},
   "outputs": [],
   "source": [
    "x,y,z = np.random.random((3,100))"
   ]
  },
  {
   "cell_type": "code",
   "execution_count": 4,
   "id": "e581b5ec",
   "metadata": {},
   "outputs": [
    {
     "data": {
      "application/vnd.jupyter.widget-view+json": {
       "model_id": "d8c57c32e19f4d49a69192e279d81772",
       "version_major": 2,
       "version_minor": 0
      },
      "text/plain": [
       "VBox(children=(Figure(camera=PerspectiveCamera(fov=45.0, position=(0.0, 0.0, 2.0), projectionMatrix=(1.0, 0.0,…"
      ]
     },
     "metadata": {},
     "output_type": "display_data"
    }
   ],
   "source": [
    "ipyvolume.quickscatter(x,y,z,size=1, marker='sphere')"
   ]
  },
  {
   "cell_type": "code",
   "execution_count": 6,
   "id": "02baaf19",
   "metadata": {},
   "outputs": [],
   "source": [
    "from sys import path"
   ]
  },
  {
   "cell_type": "code",
   "execution_count": 7,
   "id": "17bf38c1",
   "metadata": {},
   "outputs": [
    {
     "data": {
      "text/plain": [
       "['/Users/jnaiman/is445_spring2022/week14',\n",
       " '/Users/jnaiman/opt/anaconda3/envs/DataViz/lib/python37.zip',\n",
       " '/Users/jnaiman/opt/anaconda3/envs/DataViz/lib/python3.7',\n",
       " '/Users/jnaiman/opt/anaconda3/envs/DataViz/lib/python3.7/lib-dynload',\n",
       " '',\n",
       " '/Users/jnaiman/opt/anaconda3/envs/DataViz/lib/python3.7/site-packages',\n",
       " '/Users/jnaiman/opt/anaconda3/envs/DataViz/lib/python3.7/site-packages/IPython/extensions',\n",
       " '/Users/jnaiman/.ipython']"
      ]
     },
     "execution_count": 7,
     "metadata": {},
     "output_type": "execute_result"
    }
   ],
   "source": [
    "path"
   ]
  },
  {
   "cell_type": "code",
   "execution_count": 8,
   "id": "a67c77e8",
   "metadata": {},
   "outputs": [
    {
     "data": {
      "text/plain": [
       "['/Users/jnaiman/is445_spring2022/week14',\n",
       " '/Users/jnaiman/opt/anaconda3/envs/DataViz/lib/python37.zip',\n",
       " '/Users/jnaiman/opt/anaconda3/envs/DataViz/lib/python3.7',\n",
       " '/Users/jnaiman/opt/anaconda3/envs/DataViz/lib/python3.7/lib-dynload',\n",
       " '',\n",
       " '/Users/jnaiman/opt/anaconda3/envs/DataViz/lib/python3.7/site-packages',\n",
       " '/Users/jnaiman/opt/anaconda3/envs/DataViz/lib/python3.7/site-packages/IPython/extensions',\n",
       " '/Users/jnaiman/.ipython',\n",
       " '/Users/jnaiman/Downloads/']"
      ]
     },
     "execution_count": 8,
     "metadata": {},
     "output_type": "execute_result"
    }
   ],
   "source": [
    "path.append('/Users/jnaiman/Downloads/')\n",
    "path"
   ]
  },
  {
   "cell_type": "code",
   "execution_count": 9,
   "id": "bdae43d2",
   "metadata": {},
   "outputs": [],
   "source": [
    "from solverlibs import read_in_galaxy_data"
   ]
  },
  {
   "cell_type": "code",
   "execution_count": 10,
   "id": "ca9b459a",
   "metadata": {},
   "outputs": [],
   "source": [
    "galaxy_file ='/Users/jnaiman/Downloads/galaxyFiles/outarrsnap_001_fac1n3.txt'\n",
    "t_h, r_h, v_h, e_h, N, part_type = read_in_galaxy_data(galaxy_file)\n",
    "# t_h = time\n",
    "# r_h = x,y,z positional vector for each timestep and each particle\n",
    "# v_h = vx,vy,vz for each particle, each timestep\n",
    "# e_h = energy (physics element)\n",
    "# N = number of particles\n",
    "# part_type = type of particle"
   ]
  },
  {
   "cell_type": "code",
   "execution_count": 11,
   "id": "a72bdc76",
   "metadata": {},
   "outputs": [
    {
     "data": {
      "text/plain": [
       "(82, 3, 500)"
      ]
     },
     "execution_count": 11,
     "metadata": {},
     "output_type": "execute_result"
    }
   ],
   "source": [
    "r_h.shape"
   ]
  },
  {
   "cell_type": "code",
   "execution_count": 12,
   "id": "ed67d597",
   "metadata": {},
   "outputs": [
    {
     "data": {
      "text/plain": [
       "82"
      ]
     },
     "execution_count": 12,
     "metadata": {},
     "output_type": "execute_result"
    }
   ],
   "source": [
    "N"
   ]
  },
  {
   "cell_type": "code",
   "execution_count": 14,
   "id": "64462303",
   "metadata": {},
   "outputs": [
    {
     "data": {
      "text/plain": [
       "array([1., 2.])"
      ]
     },
     "execution_count": 14,
     "metadata": {},
     "output_type": "execute_result"
    }
   ],
   "source": [
    "np.unique(part_type)"
   ]
  },
  {
   "cell_type": "code",
   "execution_count": 17,
   "id": "5f22b20c",
   "metadata": {},
   "outputs": [],
   "source": [
    "tstep = 50\n",
    "\n",
    "# r_h [particles, x/y/z, time step out of 500]\n",
    "x,y,z = r_h[:,0,tstep], r_h[:,1,tstep], r_h[:,2,tstep]"
   ]
  },
  {
   "cell_type": "code",
   "execution_count": 18,
   "id": "0f96694f",
   "metadata": {},
   "outputs": [
    {
     "data": {
      "application/vnd.jupyter.widget-view+json": {
       "model_id": "3932bd8a5a0f4895b6326cd6bda0350d",
       "version_major": 2,
       "version_minor": 0
      },
      "text/plain": [
       "VBox(children=(Figure(camera=PerspectiveCamera(fov=45.0, position=(0.0, 0.0, 2.0), projectionMatrix=(1.0, 0.0,…"
      ]
     },
     "metadata": {},
     "output_type": "display_data"
    }
   ],
   "source": [
    "ipyvolume.quickscatter(x,y,z,size=1,marker='sphere')"
   ]
  },
  {
   "cell_type": "code",
   "execution_count": 19,
   "id": "401d1cd2",
   "metadata": {},
   "outputs": [],
   "source": [
    "ipyvolume.quiver?"
   ]
  },
  {
   "cell_type": "code",
   "execution_count": 22,
   "id": "7be90487",
   "metadata": {},
   "outputs": [
    {
     "data": {
      "application/vnd.jupyter.widget-view+json": {
       "model_id": "74e501ca9d124f9b9b69b37c33040e6c",
       "version_major": 2,
       "version_minor": 0
      },
      "text/plain": [
       "VBox(children=(Figure(camera=PerspectiveCamera(fov=45.0, position=(0.0, 0.0, 2.0), projectionMatrix=(1.0, 0.0,…"
      ]
     },
     "metadata": {},
     "output_type": "display_data"
    }
   ],
   "source": [
    "ipyvolume.figure()\n",
    "for i in range(r_h.shape[0]): # loop over all particles\n",
    "    ipyvolume.quiver(r_h[i,0,:250], # ith particle, x position, up to 100 time steps\n",
    "                    r_h[i,1,:250], # ith particle, y position, up to 100 time steps\n",
    "                    r_h[i,2,:250], # ith particle, z position, up to 100 time steps\n",
    "                    v_h[i,0,:250], # ith particle, velocity in the x-direction, up to 100 timesteps\n",
    "                    v_h[i,1,:250], # ith particle, vy, up to 100\n",
    "                    v_h[i,2,:250], size=1) # ith particle, vz, up to 100\n",
    "ipyvolume.show()"
   ]
  },
  {
   "cell_type": "code",
   "execution_count": 23,
   "id": "fcb524f6",
   "metadata": {},
   "outputs": [
    {
     "data": {
      "text/plain": [
       "(82, 3, 500)"
      ]
     },
     "execution_count": 23,
     "metadata": {},
     "output_type": "execute_result"
    }
   ],
   "source": [
    "v_h.shape"
   ]
  },
  {
   "cell_type": "code",
   "execution_count": 25,
   "id": "4e713420",
   "metadata": {},
   "outputs": [
    {
     "data": {
      "application/vnd.jupyter.widget-view+json": {
       "model_id": "e835544e3d21496dae8eacac853bfeb0",
       "version_major": 2,
       "version_minor": 0
      },
      "text/plain": [
       "VBox(children=(Figure(camera=PerspectiveCamera(fov=45.0, position=(0.0, 0.0, 2.0), projectionMatrix=(1.0, 0.0,…"
      ]
     },
     "metadata": {},
     "output_type": "display_data"
    }
   ],
   "source": [
    "step = 50 # plot every \"step\"th timestep\n",
    "Nt = v_h.shape[2] # 500, or full, timesteps\n",
    "\n",
    "ipyvolume.figure()\n",
    "for i in range(r_h.shape[0]): # loop over all particles\n",
    "    ipyvolume.quiver(r_h[i,0,0:Nt:step], # ith particle, x position, 0 to Nt (500 timesteps) in steps of \"step\"\n",
    "                    r_h[i,1,0:Nt:step], # ith particle, y position, 0 to Nt (500 timesteps) in steps of \"step\"\n",
    "                    r_h[i,2,0:Nt:step], # ith particle, z position, 0 to Nt (500 timesteps) in steps of \"step\"\n",
    "                    v_h[i,0,0:Nt:step], # ith particle, velocity in the x-direction, 0 to Nt (500 timesteps) in steps of \"step\"\n",
    "                    v_h[i,1,0:Nt:step], # ith particle, vy, 0 to Nt (500 timesteps) in steps of \"step\"\n",
    "                    v_h[i,2,0:Nt:step], size=1) # ith particle, vz, 0 to Nt (500 timesteps) in steps of \"step\"\n",
    "ipyvolume.show()"
   ]
  },
  {
   "cell_type": "markdown",
   "id": "62eeb394",
   "metadata": {},
   "source": [
    "## 3d animations with ipyvolume"
   ]
  },
  {
   "cell_type": "code",
   "execution_count": 27,
   "id": "472f2fae",
   "metadata": {},
   "outputs": [
    {
     "data": {
      "text/plain": [
       "(82, 500)"
      ]
     },
     "execution_count": 27,
     "metadata": {},
     "output_type": "execute_result"
    }
   ],
   "source": [
    "# all particles, x position, all timesteps\n",
    "r_h[:,0,:].shape"
   ]
  },
  {
   "cell_type": "code",
   "execution_count": 28,
   "id": "d9b896fa",
   "metadata": {},
   "outputs": [
    {
     "data": {
      "text/plain": [
       "(500, 82)"
      ]
     },
     "execution_count": 28,
     "metadata": {},
     "output_type": "execute_result"
    }
   ],
   "source": [
    "r_h[:,0,:].T.shape # 'swaps' the number of particles and timesteps (Transpose of a matrix)"
   ]
  },
  {
   "cell_type": "code",
   "execution_count": 36,
   "id": "981f5d2d",
   "metadata": {},
   "outputs": [],
   "source": [
    "step = 10 # only plot with every 10th time step\n",
    "\n",
    "r = r_h[:,:,0:Nt:step] # all particles, x/y/z, subsampled \n",
    "v = v_h[:,:,0:Nt:step]\n",
    "\n",
    "# r = r_h[:,:,Nt:0:-step] # all particles, x/y/z, subsampled \n",
    "# v = v_h[:,:,Nt:0:-step]"
   ]
  },
  {
   "cell_type": "code",
   "execution_count": 37,
   "id": "3ca1be5a",
   "metadata": {},
   "outputs": [
    {
     "data": {
      "text/plain": [
       "((82, 3, 500), (82, 3, 50), (50, 82))"
      ]
     },
     "execution_count": 37,
     "metadata": {},
     "output_type": "execute_result"
    }
   ],
   "source": [
    "r_h.shape, r.shape, r[:,0,:].T.shape"
   ]
  },
  {
   "cell_type": "code",
   "execution_count": 38,
   "id": "81015fae",
   "metadata": {},
   "outputs": [
    {
     "data": {
      "application/vnd.jupyter.widget-view+json": {
       "model_id": "071454946dcb4347b39004adfac30f10",
       "version_major": 2,
       "version_minor": 0
      },
      "text/plain": [
       "VBox(children=(Figure(animation=200.0, camera=PerspectiveCamera(fov=45.0, position=(0.0, 0.0, 2.0), projection…"
      ]
     },
     "metadata": {},
     "output_type": "display_data"
    }
   ],
   "source": [
    "ipyvolume.figure()\n",
    "\n",
    "s = ipyvolume.scatter(r[:,0,:].T, r[:,1,:].T, r[:,2,:].T,\n",
    "                     marker='sphere')\n",
    "\n",
    "ani = ipyvolume.animation_control(s,interval=200) # animate our scatter plot with 200 milisec invervals\n",
    "\n",
    "ipyvolume.show()"
   ]
  },
  {
   "cell_type": "markdown",
   "id": "c5e3d2af",
   "metadata": {},
   "source": [
    "## Adding widgets"
   ]
  },
  {
   "cell_type": "code",
   "execution_count": 43,
   "id": "1789ecf2",
   "metadata": {},
   "outputs": [
    {
     "data": {
      "application/vnd.jupyter.widget-view+json": {
       "model_id": "4a69f254b460461880db04a1d074369c",
       "version_major": 2,
       "version_minor": 0
      },
      "text/plain": [
       "VBox(children=(Figure(camera=PerspectiveCamera(fov=45.0, position=(0.0, 0.0, 2.0), projectionMatrix=(1.0, 0.0,…"
      ]
     },
     "metadata": {},
     "output_type": "display_data"
    }
   ],
   "source": [
    "ipyvolume.figure()\n",
    "s = ipyvolume.scatter(r[:,0,25], r[:,1,25], r[:,2,25],marker='sphere', color='blue')\n",
    "ipyvolume.show()"
   ]
  },
  {
   "cell_type": "code",
   "execution_count": 40,
   "id": "b5d0c0c3",
   "metadata": {},
   "outputs": [],
   "source": [
    "import ipywidgets"
   ]
  },
  {
   "cell_type": "code",
   "execution_count": 41,
   "id": "1d95eb9d",
   "metadata": {},
   "outputs": [],
   "source": [
    "color = ipywidgets.ColorPicker()"
   ]
  },
  {
   "cell_type": "code",
   "execution_count": 42,
   "id": "ae37ebec",
   "metadata": {},
   "outputs": [
    {
     "data": {
      "application/vnd.jupyter.widget-view+json": {
       "model_id": "798cf7b00240424ab5e4b499f0154926",
       "version_major": 2,
       "version_minor": 0
      },
      "text/plain": [
       "ColorPicker(value='black')"
      ]
     },
     "metadata": {},
     "output_type": "display_data"
    }
   ],
   "source": [
    "color"
   ]
  },
  {
   "cell_type": "code",
   "execution_count": 44,
   "id": "3c6423f8",
   "metadata": {},
   "outputs": [
    {
     "data": {
      "text/plain": [
       "array('blue', dtype='<U4')"
      ]
     },
     "execution_count": 44,
     "metadata": {},
     "output_type": "execute_result"
    }
   ],
   "source": [
    "s.color"
   ]
  },
  {
   "cell_type": "code",
   "execution_count": 45,
   "id": "5daf0c55",
   "metadata": {},
   "outputs": [
    {
     "data": {
      "text/plain": [
       "'#2b2fa1'"
      ]
     },
     "execution_count": 45,
     "metadata": {},
     "output_type": "execute_result"
    }
   ],
   "source": [
    "color.value"
   ]
  },
  {
   "cell_type": "code",
   "execution_count": 46,
   "id": "ae0ebf15",
   "metadata": {},
   "outputs": [
    {
     "data": {
      "text/plain": [
       "Link(source=(Scatter(color=array('blue', dtype='<U4'), color_selected=array('white', dtype='<U5'), geo='sphere…"
      ]
     },
     "metadata": {},
     "output_type": "display_data"
    }
   ],
   "source": [
    "ipywidgets.jslink((s,'color'),(color,'value'))"
   ]
  },
  {
   "cell_type": "code",
   "execution_count": 48,
   "id": "e1afcc0a",
   "metadata": {},
   "outputs": [],
   "source": [
    "ipyvolume.figure()\n",
    "s2 = ipyvolume.scatter(r[:,0,25], r[:,1,25], r[:,2,25],marker='sphere', color='blue')"
   ]
  },
  {
   "cell_type": "code",
   "execution_count": 49,
   "id": "e41f0e86",
   "metadata": {},
   "outputs": [
    {
     "data": {
      "text/plain": [
       "Link(source=(Scatter(color=array('blue', dtype='<U4'), color_selected=array('white', dtype='<U5'), geo='sphere…"
      ]
     },
     "metadata": {},
     "output_type": "display_data"
    }
   ],
   "source": [
    "ipywidgets.jslink((s2,'color'),(color,'value')) # linking"
   ]
  },
  {
   "cell_type": "code",
   "execution_count": 52,
   "id": "50684c12",
   "metadata": {},
   "outputs": [
    {
     "data": {
      "application/vnd.jupyter.widget-view+json": {
       "model_id": "13512c0be81d4aa29023b297de4a8e34",
       "version_major": 2,
       "version_minor": 0
      },
      "text/plain": [
       "HBox(children=(VBox(children=(Figure(camera=PerspectiveCamera(aspect=0.8, fov=45.0, matrixWorldNeedsUpdate=Tru…"
      ]
     },
     "metadata": {},
     "output_type": "display_data"
    }
   ],
   "source": [
    "#ipywidgets.VBox([ipyvolume.gcc(),color])\n",
    "ipywidgets.HBox([ipyvolume.gcc(),color])"
   ]
  },
  {
   "cell_type": "code",
   "execution_count": 53,
   "id": "44c66530",
   "metadata": {},
   "outputs": [
    {
     "data": {
      "text/plain": [
       "array(2)"
      ]
     },
     "execution_count": 53,
     "metadata": {},
     "output_type": "execute_result"
    }
   ],
   "source": [
    "s2.size"
   ]
  },
  {
   "cell_type": "code",
   "execution_count": 54,
   "id": "f8a1680b",
   "metadata": {},
   "outputs": [],
   "source": [
    "size = ipywidgets.FloatSlider(min=0,max=30, step=0.1)"
   ]
  },
  {
   "cell_type": "code",
   "execution_count": 55,
   "id": "41e1df7b",
   "metadata": {},
   "outputs": [
    {
     "data": {
      "application/vnd.jupyter.widget-view+json": {
       "model_id": "63d64798f0774bfc8405a33ab2b9fb59",
       "version_major": 2,
       "version_minor": 0
      },
      "text/plain": [
       "FloatSlider(value=0.0, max=30.0)"
      ]
     },
     "metadata": {},
     "output_type": "display_data"
    }
   ],
   "source": [
    "size"
   ]
  },
  {
   "cell_type": "code",
   "execution_count": 56,
   "id": "970e1d85",
   "metadata": {},
   "outputs": [
    {
     "data": {
      "text/plain": [
       "Link(source=(Scatter(color=array('blue', dtype='<U4'), color_selected=array('white', dtype='<U5'), geo='sphere…"
      ]
     },
     "metadata": {},
     "output_type": "display_data"
    }
   ],
   "source": [
    "ipywidgets.jslink((s2,'size'),(size,'value'))"
   ]
  },
  {
   "cell_type": "code",
   "execution_count": 57,
   "id": "10e76130",
   "metadata": {},
   "outputs": [
    {
     "data": {
      "application/vnd.jupyter.widget-view+json": {
       "model_id": "955242ac4ed14fa8a28e94e52712b8a9",
       "version_major": 2,
       "version_minor": 0
      },
      "text/plain": [
       "HBox(children=(VBox(children=(Figure(camera=PerspectiveCamera(aspect=0.8, fov=45.0, matrixWorldNeedsUpdate=Tru…"
      ]
     },
     "metadata": {},
     "output_type": "display_data"
    }
   ],
   "source": [
    "controls = ipywidgets.VBox([color,size])\n",
    "ipywidgets.HBox([ipyvolume.gcc(),controls])"
   ]
  },
  {
   "cell_type": "code",
   "execution_count": 58,
   "id": "efbed581",
   "metadata": {},
   "outputs": [],
   "source": [
    "myOutBox = ipywidgets.HBox([ipyvolume.gcc(),controls])"
   ]
  },
  {
   "cell_type": "code",
   "execution_count": 60,
   "id": "9836d0fd",
   "metadata": {},
   "outputs": [],
   "source": [
    "ipyvolume.embed.layout = myOutBox.children[1].layout # just trust me or try it without it!\n",
    "ipyvolume.embed.layout.min_width = \"400px\""
   ]
  },
  {
   "cell_type": "code",
   "execution_count": 63,
   "id": "d69f00e8",
   "metadata": {},
   "outputs": [],
   "source": [
    "ipyvolume.embed.embed_html(\"firstPage.html\",myOutBox, offline=True, devmode=False)"
   ]
  },
  {
   "cell_type": "code",
   "execution_count": 64,
   "id": "a548ce6a",
   "metadata": {},
   "outputs": [],
   "source": [
    "!open firstPage.html"
   ]
  },
  {
   "cell_type": "code",
   "execution_count": 65,
   "id": "3fb55d4a",
   "metadata": {},
   "outputs": [],
   "source": [
    "# for windows I *think* it is \"start\""
   ]
  },
  {
   "cell_type": "markdown",
   "id": "2f556b01",
   "metadata": {},
   "source": [
    "## Widgets + 3d animation"
   ]
  },
  {
   "cell_type": "code",
   "execution_count": 66,
   "id": "8776ea61",
   "metadata": {},
   "outputs": [],
   "source": [
    "step = 10 # animate every 10th data point\n",
    "# position vector\n",
    "r = r_h[:,:,0:Nt:step]"
   ]
  },
  {
   "cell_type": "code",
   "execution_count": 67,
   "id": "4e246659",
   "metadata": {},
   "outputs": [],
   "source": [
    "ipyvolume.figure()\n",
    "\n",
    "s3 = ipyvolume.scatter(r[:,0,:].T, r[:,1,:].T, r[:,2,:].T, marker='sphere')"
   ]
  },
  {
   "cell_type": "code",
   "execution_count": 68,
   "id": "ca22d026",
   "metadata": {},
   "outputs": [],
   "source": [
    "size3  = ipywidgets.FloatSlider(min=0,max=30,step=0.1, description='Particle Size')\n",
    "color3 = ipywidgets.ColorPicker()"
   ]
  },
  {
   "cell_type": "code",
   "execution_count": 69,
   "id": "95f5a08d",
   "metadata": {},
   "outputs": [
    {
     "data": {
      "text/plain": [
       "Link(source=(Scatter(color_selected=array('white', dtype='<U5'), geo='sphere', line_material=ShaderMaterial(),…"
      ]
     },
     "metadata": {},
     "output_type": "display_data"
    }
   ],
   "source": [
    "# linking widgets with scatter plot traits\n",
    "ipywidgets.jslink((s3,'size'),(size3,'value'))\n",
    "ipywidgets.jslink((s3,'color'),(color3,'value'))"
   ]
  },
  {
   "cell_type": "code",
   "execution_count": 70,
   "id": "92a371ed",
   "metadata": {},
   "outputs": [],
   "source": [
    "ani = ipyvolume.animation_control(s3,interval=200)"
   ]
  },
  {
   "cell_type": "code",
   "execution_count": 71,
   "id": "55415447",
   "metadata": {},
   "outputs": [
    {
     "data": {
      "application/vnd.jupyter.widget-view+json": {
       "model_id": "e3cfc360134247fe8ea566d8b8200883",
       "version_major": 2,
       "version_minor": 0
      },
      "text/plain": [
       "VBox(children=(VBox(children=(Figure(animation=200.0, camera=PerspectiveCamera(fov=45.0, position=(0.0, 0.0, 2…"
      ]
     },
     "metadata": {},
     "output_type": "display_data"
    }
   ],
   "source": [
    "ipywidgets.VBox([ipyvolume.gcc(),size3,color3])"
   ]
  },
  {
   "cell_type": "code",
   "execution_count": 72,
   "id": "d8f89431",
   "metadata": {},
   "outputs": [],
   "source": [
    "# also save to a webpage\n",
    "boxOut = ipywidgets.VBox([ipyvolume.gcc(),size3,color3])\n",
    "ipyvolume.embed.layout = boxOut.children[1].layout\n",
    "ipyvolume.embed.layout.min_width='400px'\n",
    "ipyvolume.embed.embed_html(\"secondPage.html\", boxOut, offline=True, devmode=False)"
   ]
  },
  {
   "cell_type": "code",
   "execution_count": 73,
   "id": "f2ed8744",
   "metadata": {},
   "outputs": [],
   "source": [
    "!open secondPage.html"
   ]
  },
  {
   "cell_type": "code",
   "execution_count": null,
   "id": "5533d385",
   "metadata": {},
   "outputs": [],
   "source": [
    "# better science dataset\n",
    "galaxy_file_better = '/Users/'"
   ]
  }
 ],
 "metadata": {
  "kernelspec": {
   "display_name": "Python 3 (ipykernel)",
   "language": "python",
   "name": "python3"
  },
  "language_info": {
   "codemirror_mode": {
    "name": "ipython",
    "version": 3
   },
   "file_extension": ".py",
   "mimetype": "text/x-python",
   "name": "python",
   "nbconvert_exporter": "python",
   "pygments_lexer": "ipython3",
   "version": "3.7.12"
  }
 },
 "nbformat": 4,
 "nbformat_minor": 5
}
