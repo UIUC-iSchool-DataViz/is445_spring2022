{
 "cells": [
  {
   "cell_type": "markdown",
   "id": "innovative-airplane",
   "metadata": {},
   "source": [
    "# In Class Notebook, Week 14"
   ]
  },
  {
   "cell_type": "markdown",
   "id": "27102a29",
   "metadata": {},
   "source": [
    "You can always paste the URL of this notebook (https://github.com/UIUC-iSchool-DataViz/is445_spring2022/blob/master/week14/inClass_week14.ipynb ) into the nbviewer interface for a plain-text rendering:\n",
    "\n",
    "https://kokes.github.io/nbviewer.js/viewer.html"
   ]
  },
  {
   "cell_type": "code",
   "execution_count": 1,
   "id": "0912ef4e",
   "metadata": {},
   "outputs": [],
   "source": [
    "import numpy as np\n",
    "import pandas as pd\n",
    "import ipyvolume"
   ]
  },
  {
   "cell_type": "code",
   "execution_count": 2,
   "id": "28644de5",
   "metadata": {},
   "outputs": [],
   "source": [
    "x,y,z = np.random.random((3,100))"
   ]
  },
  {
   "cell_type": "code",
   "execution_count": 4,
   "id": "d17ca7b0",
   "metadata": {},
   "outputs": [
    {
     "data": {
      "application/vnd.jupyter.widget-view+json": {
       "model_id": "d8c57c32e19f4d49a69192e279d81772",
       "version_major": 2,
       "version_minor": 0
      },
      "text/plain": [
       "VBox(children=(Figure(camera=PerspectiveCamera(fov=45.0, position=(0.0, 0.0, 2.0), projectionMatrix=(1.0, 0.0,…"
      ]
     },
     "metadata": {},
     "output_type": "display_data"
    }
   ],
   "source": [
    "ipyvolume.quickscatter(x,y,z,size=1, marker='sphere')"
   ]
  },
  {
   "cell_type": "code",
   "execution_count": 6,
   "id": "cc2f16aa",
   "metadata": {},
   "outputs": [],
   "source": [
    "from sys import path"
   ]
  },
  {
   "cell_type": "code",
   "execution_count": 7,
   "id": "51ccc979",
   "metadata": {},
   "outputs": [
    {
     "data": {
      "text/plain": [
       "['/Users/jnaiman/is445_spring2022/week14',\n",
       " '/Users/jnaiman/opt/anaconda3/envs/DataViz/lib/python37.zip',\n",
       " '/Users/jnaiman/opt/anaconda3/envs/DataViz/lib/python3.7',\n",
       " '/Users/jnaiman/opt/anaconda3/envs/DataViz/lib/python3.7/lib-dynload',\n",
       " '',\n",
       " '/Users/jnaiman/opt/anaconda3/envs/DataViz/lib/python3.7/site-packages',\n",
       " '/Users/jnaiman/opt/anaconda3/envs/DataViz/lib/python3.7/site-packages/IPython/extensions',\n",
       " '/Users/jnaiman/.ipython']"
      ]
     },
     "execution_count": 7,
     "metadata": {},
     "output_type": "execute_result"
    }
   ],
   "source": [
    "path"
   ]
  },
  {
   "cell_type": "code",
   "execution_count": 8,
   "id": "901f1c3d",
   "metadata": {},
   "outputs": [
    {
     "data": {
      "text/plain": [
       "['/Users/jnaiman/is445_spring2022/week14',\n",
       " '/Users/jnaiman/opt/anaconda3/envs/DataViz/lib/python37.zip',\n",
       " '/Users/jnaiman/opt/anaconda3/envs/DataViz/lib/python3.7',\n",
       " '/Users/jnaiman/opt/anaconda3/envs/DataViz/lib/python3.7/lib-dynload',\n",
       " '',\n",
       " '/Users/jnaiman/opt/anaconda3/envs/DataViz/lib/python3.7/site-packages',\n",
       " '/Users/jnaiman/opt/anaconda3/envs/DataViz/lib/python3.7/site-packages/IPython/extensions',\n",
       " '/Users/jnaiman/.ipython',\n",
       " '/Users/jnaiman/Downloads/']"
      ]
     },
     "execution_count": 8,
     "metadata": {},
     "output_type": "execute_result"
    }
   ],
   "source": [
    "path.append('/Users/jnaiman/Downloads/')\n",
    "path"
   ]
  },
  {
   "cell_type": "code",
   "execution_count": 9,
   "id": "12acfc2f",
   "metadata": {},
   "outputs": [],
   "source": [
    "from solverlibs import read_in_galaxy_data"
   ]
  },
  {
   "cell_type": "code",
   "execution_count": 10,
   "id": "d0fa8808",
   "metadata": {},
   "outputs": [],
   "source": [
    "galaxy_file ='/Users/jnaiman/Downloads/galaxyFiles/outarrsnap_001_fac1n3.txt'\n",
    "t_h, r_h, v_h, e_h, N, part_type = read_in_galaxy_data(galaxy_file)\n",
    "# t_h = time\n",
    "# r_h = x,y,z positional vector for each timestep and each particle\n",
    "# v_h = vx,vy,vz for each particle, each timestep\n",
    "# e_h = energy (physics element)\n",
    "# N = number of particles\n",
    "# part_type = type of particle"
   ]
  },
  {
   "cell_type": "code",
   "execution_count": 11,
   "id": "78f4a916",
   "metadata": {},
   "outputs": [
    {
     "data": {
      "text/plain": [
       "(82, 3, 500)"
      ]
     },
     "execution_count": 11,
     "metadata": {},
     "output_type": "execute_result"
    }
   ],
   "source": [
    "r_h.shape"
   ]
  },
  {
   "cell_type": "code",
   "execution_count": 12,
   "id": "123f2739",
   "metadata": {},
   "outputs": [
    {
     "data": {
      "text/plain": [
       "82"
      ]
     },
     "execution_count": 12,
     "metadata": {},
     "output_type": "execute_result"
    }
   ],
   "source": [
    "N"
   ]
  },
  {
   "cell_type": "code",
   "execution_count": 14,
   "id": "c20ccde1",
   "metadata": {},
   "outputs": [
    {
     "data": {
      "text/plain": [
       "array([1., 2.])"
      ]
     },
     "execution_count": 14,
     "metadata": {},
     "output_type": "execute_result"
    }
   ],
   "source": [
    "np.unique(part_type)"
   ]
  },
  {
   "cell_type": "code",
   "execution_count": 17,
   "id": "0593969f",
   "metadata": {},
   "outputs": [],
   "source": [
    "tstep = 50\n",
    "\n",
    "# r_h [particles, x/y/z, time step out of 500]\n",
    "x,y,z = r_h[:,0,tstep], r_h[:,1,tstep], r_h[:,2,tstep]"
   ]
  },
  {
   "cell_type": "code",
   "execution_count": 18,
   "id": "252c4aec",
   "metadata": {},
   "outputs": [
    {
     "data": {
      "application/vnd.jupyter.widget-view+json": {
       "model_id": "3932bd8a5a0f4895b6326cd6bda0350d",
       "version_major": 2,
       "version_minor": 0
      },
      "text/plain": [
       "VBox(children=(Figure(camera=PerspectiveCamera(fov=45.0, position=(0.0, 0.0, 2.0), projectionMatrix=(1.0, 0.0,…"
      ]
     },
     "metadata": {},
     "output_type": "display_data"
    }
   ],
   "source": [
    "ipyvolume.quickscatter(x,y,z,size=1,marker='sphere')"
   ]
  },
  {
   "cell_type": "code",
   "execution_count": 19,
   "id": "16216ade",
   "metadata": {},
   "outputs": [],
   "source": [
    "ipyvolume.quiver?"
   ]
  },
  {
   "cell_type": "code",
   "execution_count": 22,
   "id": "4f6d5be6",
   "metadata": {},
   "outputs": [
    {
     "data": {
      "application/vnd.jupyter.widget-view+json": {
       "model_id": "74e501ca9d124f9b9b69b37c33040e6c",
       "version_major": 2,
       "version_minor": 0
      },
      "text/plain": [
       "VBox(children=(Figure(camera=PerspectiveCamera(fov=45.0, position=(0.0, 0.0, 2.0), projectionMatrix=(1.0, 0.0,…"
      ]
     },
     "metadata": {},
     "output_type": "display_data"
    }
   ],
   "source": [
    "ipyvolume.figure()\n",
    "for i in range(r_h.shape[0]): # loop over all particles\n",
    "    ipyvolume.quiver(r_h[i,0,:250], # ith particle, x position, up to 100 time steps\n",
    "                    r_h[i,1,:250], # ith particle, y position, up to 100 time steps\n",
    "                    r_h[i,2,:250], # ith particle, z position, up to 100 time steps\n",
    "                    v_h[i,0,:250], # ith particle, velocity in the x-direction, up to 100 timesteps\n",
    "                    v_h[i,1,:250], # ith particle, vy, up to 100\n",
    "                    v_h[i,2,:250], size=1) # ith particle, vz, up to 100\n",
    "ipyvolume.show()"
   ]
  },
  {
   "cell_type": "code",
   "execution_count": 23,
   "id": "53870246",
   "metadata": {},
   "outputs": [
    {
     "data": {
      "text/plain": [
       "(82, 3, 500)"
      ]
     },
     "execution_count": 23,
     "metadata": {},
     "output_type": "execute_result"
    }
   ],
   "source": [
    "v_h.shape"
   ]
  },
  {
   "cell_type": "code",
   "execution_count": 25,
   "id": "5383656a",
   "metadata": {},
   "outputs": [
    {
     "data": {
      "application/vnd.jupyter.widget-view+json": {
       "model_id": "e835544e3d21496dae8eacac853bfeb0",
       "version_major": 2,
       "version_minor": 0
      },
      "text/plain": [
       "VBox(children=(Figure(camera=PerspectiveCamera(fov=45.0, position=(0.0, 0.0, 2.0), projectionMatrix=(1.0, 0.0,…"
      ]
     },
     "metadata": {},
     "output_type": "display_data"
    }
   ],
   "source": [
    "step = 50 # plot every \"step\"th timestep\n",
    "Nt = v_h.shape[2] # 500, or full, timesteps\n",
    "\n",
    "ipyvolume.figure()\n",
    "for i in range(r_h.shape[0]): # loop over all particles\n",
    "    ipyvolume.quiver(r_h[i,0,0:Nt:step], # ith particle, x position, 0 to Nt (500 timesteps) in steps of \"step\"\n",
    "                    r_h[i,1,0:Nt:step], # ith particle, y position, 0 to Nt (500 timesteps) in steps of \"step\"\n",
    "                    r_h[i,2,0:Nt:step], # ith particle, z position, 0 to Nt (500 timesteps) in steps of \"step\"\n",
    "                    v_h[i,0,0:Nt:step], # ith particle, velocity in the x-direction, 0 to Nt (500 timesteps) in steps of \"step\"\n",
    "                    v_h[i,1,0:Nt:step], # ith particle, vy, 0 to Nt (500 timesteps) in steps of \"step\"\n",
    "                    v_h[i,2,0:Nt:step], size=1) # ith particle, vz, 0 to Nt (500 timesteps) in steps of \"step\"\n",
    "ipyvolume.show()"
   ]
  },
  {
   "cell_type": "markdown",
   "id": "ee7defce",
   "metadata": {},
   "source": [
    "## 3d animations with ipyvolume"
   ]
  },
  {
   "cell_type": "code",
   "execution_count": 27,
   "id": "9f70e08c",
   "metadata": {},
   "outputs": [
    {
     "data": {
      "text/plain": [
       "(82, 500)"
      ]
     },
     "execution_count": 27,
     "metadata": {},
     "output_type": "execute_result"
    }
   ],
   "source": [
    "# all particles, x position, all timesteps\n",
    "r_h[:,0,:].shape"
   ]
  },
  {
   "cell_type": "code",
   "execution_count": 28,
   "id": "744a144f",
   "metadata": {},
   "outputs": [
    {
     "data": {
      "text/plain": [
       "(500, 82)"
      ]
     },
     "execution_count": 28,
     "metadata": {},
     "output_type": "execute_result"
    }
   ],
   "source": [
    "r_h[:,0,:].T.shape # 'swaps' the number of particles and timesteps (Transpose of a matrix)"
   ]
  },
  {
   "cell_type": "code",
   "execution_count": 29,
   "id": "e70be619",
   "metadata": {},
   "outputs": [],
   "source": [
    "step = 10 # only plot with every 10th time step\n",
    "\n",
    "r = r_h[:,:,0:Nt:step] # all particles, x/y/z, subsampled \n",
    "v = v_h[:,:,0:Nt:step]"
   ]
  },
  {
   "cell_type": "code",
   "execution_count": 30,
   "id": "1d719df1",
   "metadata": {},
   "outputs": [
    {
     "data": {
      "text/plain": [
       "((82, 3, 500), (82, 3, 50), (50, 82))"
      ]
     },
     "execution_count": 30,
     "metadata": {},
     "output_type": "execute_result"
    }
   ],
   "source": [
    "r_h.shape, r.shape, r[:,0,:].T.shape"
   ]
  },
  {
   "cell_type": "code",
   "execution_count": null,
   "id": "7cd8c7f2",
   "metadata": {},
   "outputs": [],
   "source": []
  }
 ],
 "metadata": {
  "kernelspec": {
   "display_name": "Python 3 (ipykernel)",
   "language": "python",
   "name": "python3"
  },
  "language_info": {
   "codemirror_mode": {
    "name": "ipython",
    "version": 3
   },
   "file_extension": ".py",
   "mimetype": "text/x-python",
   "name": "python",
   "nbconvert_exporter": "python",
   "pygments_lexer": "ipython3",
   "version": "3.7.12"
  }
 },
 "nbformat": 4,
 "nbformat_minor": 5
}
