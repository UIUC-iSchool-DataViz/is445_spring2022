{
 "cells": [
  {
   "cell_type": "markdown",
   "id": "innovative-airplane",
   "metadata": {},
   "source": [
    "# In Class Notebook, Week 14"
   ]
  },
  {
   "cell_type": "markdown",
   "id": "27102a29",
   "metadata": {},
   "source": [
    "You can always paste the URL of this notebook (https://github.com/UIUC-iSchool-DataViz/is445_spring2022/blob/master/week14/inClass_week14.ipynb ) into the nbviewer interface for a plain-text rendering:\n",
    "\n",
    "https://kokes.github.io/nbviewer.js/viewer.html"
   ]
  },
  {
   "cell_type": "code",
   "execution_count": 1,
   "id": "0912ef4e",
   "metadata": {},
   "outputs": [],
   "source": [
    "import numpy as np\n",
    "import pandas as pd\n",
    "import ipyvolume"
   ]
  },
  {
   "cell_type": "code",
   "execution_count": 2,
   "id": "e69606a8",
   "metadata": {},
   "outputs": [],
   "source": [
    "x,y,z = np.random.random((3,100))"
   ]
  },
  {
   "cell_type": "code",
   "execution_count": 4,
   "id": "73fee987",
   "metadata": {},
   "outputs": [
    {
     "data": {
      "application/vnd.jupyter.widget-view+json": {
       "model_id": "d8c57c32e19f4d49a69192e279d81772",
       "version_major": 2,
       "version_minor": 0
      },
      "text/plain": [
       "VBox(children=(Figure(camera=PerspectiveCamera(fov=45.0, position=(0.0, 0.0, 2.0), projectionMatrix=(1.0, 0.0,…"
      ]
     },
     "metadata": {},
     "output_type": "display_data"
    }
   ],
   "source": [
    "ipyvolume.quickscatter(x,y,z,size=1, marker='sphere')"
   ]
  },
  {
   "cell_type": "code",
   "execution_count": 6,
   "id": "0049827c",
   "metadata": {},
   "outputs": [],
   "source": [
    "from sys import path"
   ]
  },
  {
   "cell_type": "code",
   "execution_count": 7,
   "id": "f1e8b01e",
   "metadata": {},
   "outputs": [
    {
     "data": {
      "text/plain": [
       "['/Users/jnaiman/is445_spring2022/week14',\n",
       " '/Users/jnaiman/opt/anaconda3/envs/DataViz/lib/python37.zip',\n",
       " '/Users/jnaiman/opt/anaconda3/envs/DataViz/lib/python3.7',\n",
       " '/Users/jnaiman/opt/anaconda3/envs/DataViz/lib/python3.7/lib-dynload',\n",
       " '',\n",
       " '/Users/jnaiman/opt/anaconda3/envs/DataViz/lib/python3.7/site-packages',\n",
       " '/Users/jnaiman/opt/anaconda3/envs/DataViz/lib/python3.7/site-packages/IPython/extensions',\n",
       " '/Users/jnaiman/.ipython']"
      ]
     },
     "execution_count": 7,
     "metadata": {},
     "output_type": "execute_result"
    }
   ],
   "source": [
    "path"
   ]
  },
  {
   "cell_type": "code",
   "execution_count": 8,
   "id": "df0d7775",
   "metadata": {},
   "outputs": [
    {
     "data": {
      "text/plain": [
       "['/Users/jnaiman/is445_spring2022/week14',\n",
       " '/Users/jnaiman/opt/anaconda3/envs/DataViz/lib/python37.zip',\n",
       " '/Users/jnaiman/opt/anaconda3/envs/DataViz/lib/python3.7',\n",
       " '/Users/jnaiman/opt/anaconda3/envs/DataViz/lib/python3.7/lib-dynload',\n",
       " '',\n",
       " '/Users/jnaiman/opt/anaconda3/envs/DataViz/lib/python3.7/site-packages',\n",
       " '/Users/jnaiman/opt/anaconda3/envs/DataViz/lib/python3.7/site-packages/IPython/extensions',\n",
       " '/Users/jnaiman/.ipython',\n",
       " '/Users/jnaiman/Downloads/']"
      ]
     },
     "execution_count": 8,
     "metadata": {},
     "output_type": "execute_result"
    }
   ],
   "source": [
    "path.append('/Users/jnaiman/Downloads/')\n",
    "path"
   ]
  },
  {
   "cell_type": "code",
   "execution_count": 9,
   "id": "1b07eb3d",
   "metadata": {},
   "outputs": [],
   "source": [
    "from solverlibs import read_in_galaxy_data"
   ]
  },
  {
   "cell_type": "code",
   "execution_count": null,
   "id": "76fdab39",
   "metadata": {},
   "outputs": [],
   "source": [
    "galaxy_file ='/Users/'\n",
    "t_h, r_h, v_h, e_h, N, part_type = read_in_galaxy_data()"
   ]
  }
 ],
 "metadata": {
  "kernelspec": {
   "display_name": "Python 3 (ipykernel)",
   "language": "python",
   "name": "python3"
  },
  "language_info": {
   "codemirror_mode": {
    "name": "ipython",
    "version": 3
   },
   "file_extension": ".py",
   "mimetype": "text/x-python",
   "name": "python",
   "nbconvert_exporter": "python",
   "pygments_lexer": "ipython3",
   "version": "3.7.12"
  }
 },
 "nbformat": 4,
 "nbformat_minor": 5
}
