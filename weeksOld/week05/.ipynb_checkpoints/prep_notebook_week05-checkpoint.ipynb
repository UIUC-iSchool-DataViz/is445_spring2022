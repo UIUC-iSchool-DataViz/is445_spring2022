{
 "cells": [
  {
   "cell_type": "markdown",
   "metadata": {},
   "source": [
    "# Beginning interactivity with tabular data: ipywidgets"
   ]
  },
  {
   "cell_type": "markdown",
   "metadata": {},
   "source": [
    "## Topics\n",
    "\n",
    " 1. Review from last week: ipywidgets with decorators\n",
    " 1. ipywidgets: More details\n",
    "\n",
    "\n",
    "If we have time: Changing the colormap with widgets in two ways -- The Michigan Depth Map\n"
   ]
  },
  {
   "cell_type": "markdown",
   "metadata": {},
   "source": [
    "Import our usual things:"
   ]
  },
  {
   "cell_type": "code",
   "execution_count": 1,
   "metadata": {},
   "outputs": [],
   "source": [
    "%matplotlib inline\n",
    "import matplotlib.pyplot as plt\n",
    "import numpy as np\n",
    "import pandas as pd"
   ]
  },
  {
   "cell_type": "markdown",
   "metadata": {},
   "source": [
    "Also import ipywidgets:"
   ]
  },
  {
   "cell_type": "code",
   "execution_count": 2,
   "metadata": {},
   "outputs": [],
   "source": [
    "import ipywidgets"
   ]
  },
  {
   "cell_type": "markdown",
   "metadata": {},
   "source": [
    "## 1. Review: from Last Week"
   ]
  },
  {
   "cell_type": "markdown",
   "metadata": {},
   "source": [
    "Last week we started using ipywidget \"decorators\" to make quick interactive functions.  Using the buildings dataset, we built up to an interactive plot that would allow us to change the \"style\" of the plot.  Let's recall what that looks like.\n",
    "\n",
    "First, import the buildings dataset (taking into account \"weird\" measurements):"
   ]
  },
  {
   "cell_type": "code",
   "execution_count": 3,
   "metadata": {},
   "outputs": [],
   "source": [
    "buildings = pd.read_csv('/Users/jillnaiman/Downloads/building_inventory.csv',\n",
    "               na_values={'Square Footage': 0, \n",
    "                         'Year Acquired': 0,\n",
    "                         'Year Constructed': 0, \n",
    "                         'Floors':0}) # specifying what 'Column Name': Value is NaN"
   ]
  },
  {
   "cell_type": "markdown",
   "metadata": {},
   "source": [
    "We used Pandas to calculate some statistics for this dataset and saved it as a new dataframe:"
   ]
  },
  {
   "cell_type": "code",
   "execution_count": 4,
   "metadata": {},
   "outputs": [],
   "source": [
    "stats = buildings.groupby(\"Year Acquired\")[\"Square Footage\"].describe()"
   ]
  },
  {
   "cell_type": "markdown",
   "metadata": {},
   "source": [
    "Our interactive function from last time:"
   ]
  },
  {
   "cell_type": "code",
   "execution_count": 5,
   "metadata": {},
   "outputs": [
    {
     "data": {
      "application/vnd.jupyter.widget-view+json": {
       "model_id": "66804efc7f874016a07f872f7bc5817e",
       "version_major": 2,
       "version_minor": 0
      },
      "text/plain": [
       "interactive(children=(Dropdown(description='style', options=('Solarize_Light2', '_classic_test_patch', 'bmh', …"
      ]
     },
     "metadata": {},
     "output_type": "display_data"
    }
   ],
   "source": [
    "@ipywidgets.interact(style = plt.style.available)\n",
    "def make_plot(style): # function!  its needs a colon!\n",
    "    with plt.style.context(style):\n",
    "        fig, ax = plt.subplots(1,1, figsize=(4,2))\n",
    "        ax.plot(stats[\"max\"], marker='.', linewidth=1.0, label=\"Max\")\n",
    "        ax.plot(stats[\"min\"], marker='.', linewidth=1.0, label=\"Min\")\n",
    "        ax.set_label('Year')\n",
    "        ax.set_ylabel(\"Square Footage\")\n",
    "        ax.set_yscale(\"log\")\n",
    "        ax.legend()\n",
    "    plt.show()"
   ]
  },
  {
   "cell_type": "markdown",
   "metadata": {},
   "source": [
    "This is how we've used widgets before for the most part with the weird \"decorator\" function that \"decorates\" whatever function directly follows it:"
   ]
  },
  {
   "cell_type": "code",
   "execution_count": 20,
   "metadata": {},
   "outputs": [
    {
     "data": {
      "application/vnd.jupyter.widget-view+json": {
       "model_id": "01f126a21cbf4938b2b10b0c0bbbe575",
       "version_major": 2,
       "version_minor": 0
      },
      "text/plain": [
       "interactive(children=(Dropdown(description='name', options=('Linda', 'Tina', 'Louise'), value='Linda'), Output…"
      ]
     },
     "metadata": {},
     "output_type": "display_data"
    }
   ],
   "source": [
    "@ipywidgets.interact(name = ['Linda', 'Tina', 'Louise'])\n",
    "def print_name(name):\n",
    "    print(name) # just a simple print out"
   ]
  },
  {
   "cell_type": "markdown",
   "metadata": {},
   "source": [
    "### Let's make sure we can mess with widgets\n",
    "\n",
    "But now, lets go into ipywidgets in a bit more detail and look at specific functions and call them directly from ipywidgets.\n",
    "\n",
    "For example, we can create a little display that increments integer numbers:"
   ]
  },
  {
   "cell_type": "code",
   "execution_count": 21,
   "metadata": {},
   "outputs": [
    {
     "data": {
      "application/vnd.jupyter.widget-view+json": {
       "model_id": "9a90d4d87c8d4cefb107471b7631dfc4",
       "version_major": 2,
       "version_minor": 0
      },
      "text/plain": [
       "IntText(value=0)"
      ]
     },
     "metadata": {},
     "output_type": "display_data"
    }
   ],
   "source": [
    "itext = ipywidgets.IntText()\n",
    "itext"
   ]
  },
  {
   "cell_type": "markdown",
   "metadata": {},
   "source": [
    "But what if that didn't display for you?  Depending on what version of jupyter notebook you have, you might have to use \"display\" to actually show your widgets.  \n",
    "\n",
    "Try (uncommenting) the following:"
   ]
  },
  {
   "cell_type": "code",
   "execution_count": 22,
   "metadata": {},
   "outputs": [],
   "source": [
    "#from IPython.display import display\n",
    "#display(itext)"
   ]
  },
  {
   "cell_type": "markdown",
   "metadata": {},
   "source": [
    "Still didn't work?  Try refreshing and/or restarting your notebook.\n",
    "\n",
    "*Still* not working?  You might have to install the jupyter notebook widget extension:"
   ]
  },
  {
   "cell_type": "code",
   "execution_count": 23,
   "metadata": {},
   "outputs": [],
   "source": [
    "#!jupyter nbextension enable --py widgetsnbextension"
   ]
  },
  {
   "cell_type": "markdown",
   "metadata": {},
   "source": [
    "If you end up running the above cell (uncommented naturally!) then you might have to refresh or restart your jupyter notebook."
   ]
  },
  {
   "cell_type": "markdown",
   "metadata": {},
   "source": [
    "Moving on: \n",
    "\n",
    "The value of `itext` is then stored - so we could in theory generate a toggle and then do stuff with its value:"
   ]
  },
  {
   "cell_type": "code",
   "execution_count": 24,
   "metadata": {},
   "outputs": [
    {
     "data": {
      "text/plain": [
       "0"
      ]
     },
     "execution_count": 24,
     "metadata": {},
     "output_type": "execute_result"
    }
   ],
   "source": [
    "itext.value"
   ]
  },
  {
   "cell_type": "markdown",
   "metadata": {},
   "source": [
    "Note if I go up and change the toggle value I have to re-run this cell to print out the newly stored value."
   ]
  },
  {
   "cell_type": "markdown",
   "metadata": {},
   "source": [
    "I can also set the value \"by hand\":"
   ]
  },
  {
   "cell_type": "code",
   "execution_count": 25,
   "metadata": {},
   "outputs": [],
   "source": [
    "itext.value = 10"
   ]
  },
  {
   "cell_type": "markdown",
   "metadata": {},
   "source": [
    "Once I run this cell, now the toggle values are updated above."
   ]
  },
  {
   "cell_type": "markdown",
   "metadata": {},
   "source": [
    "### Building up interfaces with ipywidgets"
   ]
  },
  {
   "cell_type": "markdown",
   "metadata": {},
   "source": [
    "Let's start thinking about how we can link up widgets together to make interfaces!"
   ]
  },
  {
   "cell_type": "markdown",
   "metadata": {},
   "source": [
    "Let's start making up a little progress bar, and I'm going to set it at 90%:"
   ]
  },
  {
   "cell_type": "code",
   "execution_count": 26,
   "metadata": {},
   "outputs": [
    {
     "data": {
      "application/vnd.jupyter.widget-view+json": {
       "model_id": "7eb74cf8be9e4d54863b482823261f87",
       "version_major": 2,
       "version_minor": 0
      },
      "text/plain": [
       "IntProgress(value=90)"
      ]
     },
     "metadata": {},
     "output_type": "display_data"
    }
   ],
   "source": [
    "ip = ipywidgets.IntProgress(value = 90)\n",
    "ip"
   ]
  },
  {
   "cell_type": "markdown",
   "metadata": {},
   "source": [
    "Let's think about how we'd link up this with a little integer slider to change our value:"
   ]
  },
  {
   "cell_type": "code",
   "execution_count": 27,
   "metadata": {},
   "outputs": [
    {
     "data": {
      "application/vnd.jupyter.widget-view+json": {
       "model_id": "55c77aed177041248097294f2424351a",
       "version_major": 2,
       "version_minor": 0
      },
      "text/plain": [
       "IntSlider(value=0)"
      ]
     },
     "metadata": {},
     "output_type": "display_data"
    }
   ],
   "source": [
    "irange = ipywidgets.IntSlider(min = 0, max = 100, step = 1)\n",
    "irange"
   ]
  },
  {
   "cell_type": "markdown",
   "metadata": {},
   "source": [
    "Right now I can change one and not the other, so that's not what we are going for.  We have to \"link\" whatever is in our widgets that controls both our progress bar and our integer slider.  \n",
    "\n",
    "But what do we link?  Let's see whats \"in\" our different widgets:"
   ]
  },
  {
   "cell_type": "code",
   "execution_count": 28,
   "metadata": {},
   "outputs": [
    {
     "data": {
      "text/plain": [
       "['_dom_classes',\n",
       " '_model_module',\n",
       " '_model_module_version',\n",
       " '_model_name',\n",
       " '_view_count',\n",
       " '_view_module',\n",
       " '_view_module_version',\n",
       " '_view_name',\n",
       " 'bar_style',\n",
       " 'description',\n",
       " 'description_tooltip',\n",
       " 'layout',\n",
       " 'max',\n",
       " 'min',\n",
       " 'orientation',\n",
       " 'style',\n",
       " 'value']"
      ]
     },
     "execution_count": 28,
     "metadata": {},
     "output_type": "execute_result"
    }
   ],
   "source": [
    "ip.keys"
   ]
  },
  {
   "cell_type": "code",
   "execution_count": 29,
   "metadata": {},
   "outputs": [
    {
     "data": {
      "text/plain": [
       "['_dom_classes',\n",
       " '_model_module',\n",
       " '_model_module_version',\n",
       " '_model_name',\n",
       " '_view_count',\n",
       " '_view_module',\n",
       " '_view_module_version',\n",
       " '_view_name',\n",
       " 'continuous_update',\n",
       " 'description',\n",
       " 'description_tooltip',\n",
       " 'disabled',\n",
       " 'layout',\n",
       " 'max',\n",
       " 'min',\n",
       " 'orientation',\n",
       " 'readout',\n",
       " 'readout_format',\n",
       " 'step',\n",
       " 'style',\n",
       " 'value']"
      ]
     },
     "execution_count": 29,
     "metadata": {},
     "output_type": "execute_result"
    }
   ],
   "source": [
    "irange.keys"
   ]
  },
  {
   "cell_type": "markdown",
   "metadata": {},
   "source": [
    "So, there are a lot of parameters here, but one thing that is pretty standard across all widgets is that they have some sort of \"value\" that can be updated, for example, behold:"
   ]
  },
  {
   "cell_type": "code",
   "execution_count": 30,
   "metadata": {},
   "outputs": [
    {
     "data": {
      "application/vnd.jupyter.widget-view+json": {
       "model_id": "7eb74cf8be9e4d54863b482823261f87",
       "version_major": 2,
       "version_minor": 0
      },
      "text/plain": [
       "IntProgress(value=90)"
      ]
     },
     "metadata": {},
     "output_type": "display_data"
    }
   ],
   "source": [
    "ip"
   ]
  },
  {
   "cell_type": "code",
   "execution_count": 31,
   "metadata": {},
   "outputs": [],
   "source": [
    "ip.value=10"
   ]
  },
  {
   "cell_type": "markdown",
   "metadata": {},
   "source": [
    "How do we link the values of these two widgets?  With a function called `jslink`:"
   ]
  },
  {
   "cell_type": "code",
   "execution_count": 32,
   "metadata": {},
   "outputs": [],
   "source": [
    "ipywidgets.jslink?"
   ]
  },
  {
   "cell_type": "markdown",
   "metadata": {},
   "source": [
    "Let's give it a shot!"
   ]
  },
  {
   "cell_type": "code",
   "execution_count": 33,
   "metadata": {},
   "outputs": [
    {
     "data": {
      "text/plain": [
       "Link(source=(IntProgress(value=10), 'value'), target=(IntSlider(value=0), 'value'))"
      ]
     },
     "metadata": {},
     "output_type": "display_data"
    }
   ],
   "source": [
    "ipywidgets.jslink((ip,'value'), (irange,'value'))"
   ]
  },
  {
   "cell_type": "markdown",
   "metadata": {},
   "source": [
    "Let's see!"
   ]
  },
  {
   "cell_type": "code",
   "execution_count": 34,
   "metadata": {},
   "outputs": [
    {
     "data": {
      "application/vnd.jupyter.widget-view+json": {
       "model_id": "7eb74cf8be9e4d54863b482823261f87",
       "version_major": 2,
       "version_minor": 0
      },
      "text/plain": [
       "IntProgress(value=10)"
      ]
     },
     "metadata": {},
     "output_type": "display_data"
    }
   ],
   "source": [
    "ip"
   ]
  },
  {
   "cell_type": "code",
   "execution_count": 35,
   "metadata": {},
   "outputs": [
    {
     "data": {
      "application/vnd.jupyter.widget-view+json": {
       "model_id": "55c77aed177041248097294f2424351a",
       "version_major": 2,
       "version_minor": 0
      },
      "text/plain": [
       "IntSlider(value=10)"
      ]
     },
     "metadata": {},
     "output_type": "display_data"
    }
   ],
   "source": [
    "irange"
   ]
  },
  {
   "cell_type": "markdown",
   "metadata": {},
   "source": [
    "Cool!  Note that they are all linked -- every instance!"
   ]
  },
  {
   "cell_type": "markdown",
   "metadata": {},
   "source": [
    "So, we probably want to display these two widgets on top of eachother, how can we do that?\n",
    "\n",
    "ipywidgets has a bunch of layout options we can use:"
   ]
  },
  {
   "cell_type": "code",
   "execution_count": 36,
   "metadata": {},
   "outputs": [
    {
     "data": {
      "application/vnd.jupyter.widget-view+json": {
       "model_id": "610677597ea5415d8b56642f0683b74d",
       "version_major": 2,
       "version_minor": 0
      },
      "text/plain": [
       "VBox(children=(IntProgress(value=10), IntSlider(value=10)))"
      ]
     },
     "metadata": {},
     "output_type": "display_data"
    }
   ],
   "source": [
    "ipywidgets.VBox([ip, irange])"
   ]
  },
  {
   "cell_type": "markdown",
   "metadata": {},
   "source": [
    "What does this `jslink` function do?  We know it links the values, but how?  It does this on the \"browser side\", but what does that mean?\n",
    "\n",
    "There are actually 2 different programming languages operating when you are using a jupyter notebook:\n",
    " 1. Python is used to do your calculations\n",
    " 1. Javascript is used to \"report\" back the outputs from Python\n",
    "\n",
    "Here `jslink` means that the link between your progress bar and slider is happening through Javascript, and happens all within your browser - Python is never contacted about anything in this case!\n",
    "\n",
    "We'll see in a second that there are some instances where we want more options than presented with `jslink` and so we'll actually want Python to get involved in the linking of things.  \n",
    "\n",
    "Let's redo what we just did but getting Python involved:"
   ]
  },
  {
   "cell_type": "code",
   "execution_count": 37,
   "metadata": {},
   "outputs": [
    {
     "data": {
      "application/vnd.jupyter.widget-view+json": {
       "model_id": "3f20b5ea387345a7ab9f8f9f05ca2f64",
       "version_major": 2,
       "version_minor": 0
      },
      "text/plain": [
       "VBox(children=(IntProgress(value=90), IntSlider(value=90)))"
      ]
     },
     "metadata": {},
     "output_type": "display_data"
    }
   ],
   "source": [
    "ip2 = ipywidgets.IntProgress(value = 90)\n",
    "irange2 = ipywidgets.IntSlider(min = 0, max = 100, step = 1)\n",
    "ipywidgets.link((ip2,'value'), (irange2,'value')) # here is the change: \"jslink\" changes to \"link\"\n",
    "ipywidgets.VBox([ip2, irange2])"
   ]
  },
  {
   "cell_type": "markdown",
   "metadata": {},
   "source": [
    "So, just looking at it, it looks exactly the same!  However, we did did this through *Python* this time."
   ]
  },
  {
   "cell_type": "markdown",
   "metadata": {},
   "source": [
    "In this sense we add an extra step:\n",
    " 1. first the browser senses a change when you move the slider (Javascript)\n",
    " 1. sends this info to the kernel (Javascript -> Python)\n",
    " 1. Python registers this change and figures out what to do with it, in this case it says to update the progress bar (Python)\n",
    " 1. Python then tells the browser to update the progress bar (Python -> Javascript)\n",
    " 1. the browser displays the change in the progress bar (Javascript)"
   ]
  },
  {
   "cell_type": "markdown",
   "metadata": {},
   "source": [
    "Ok, that's a little complicated.  The big question you can ask yourself is: Do we really care?  At the moment, no - we can do everything we want using Python/JS in these notebooks, doesn't really affect us one way or the other.  When we start thinking about developing for the web however, we have to think carefully about how to design things because a remote browser only has access to JS by default!  But by then we'll be learning Javascript anyway, so not to worry!\n",
    "\n",
    "For now, let's move on and worry about this JS/Python linking distinction later.\n",
    "\n",
    "Let's try making a button that does something when we press it:"
   ]
  },
  {
   "cell_type": "code",
   "execution_count": 38,
   "metadata": {},
   "outputs": [
    {
     "data": {
      "application/vnd.jupyter.widget-view+json": {
       "model_id": "97230b2c40634e0ba5c114f58a57d395",
       "version_major": 2,
       "version_minor": 0
      },
      "text/plain": [
       "Button(description='I am a Clicker', style=ButtonStyle())"
      ]
     },
     "metadata": {},
     "output_type": "display_data"
    }
   ],
   "source": [
    "button = ipywidgets.Button(description = \"I am a Clicker\")\n",
    "button"
   ]
  },
  {
   "cell_type": "markdown",
   "metadata": {},
   "source": [
    "So, obviously, we want to do something cool when the button is clicked.  To do that, first we make a function that will do something when we click our button:"
   ]
  },
  {
   "cell_type": "code",
   "execution_count": 39,
   "metadata": {},
   "outputs": [],
   "source": [
    "# let's just say I've clicked:\n",
    "def say_click(event):\n",
    "    print(\"I have clicked. Click.\")"
   ]
  },
  {
   "cell_type": "markdown",
   "metadata": {},
   "source": [
    "Now we have to link our button click to this function, which is more complicated then what `jslink` can handle, so we use the \"on_click\" function associated with this button through the Python-linking channel:"
   ]
  },
  {
   "cell_type": "code",
   "execution_count": 40,
   "metadata": {},
   "outputs": [],
   "source": [
    "button.on_click(say_click)"
   ]
  },
  {
   "cell_type": "markdown",
   "metadata": {},
   "source": [
    "Now, note that if we go back and press our button, it now prints our statement.  This seems indeed like magic, but its using \"callbacks\" to look for changes via Python.  Practically, we don't have to worry about what is going on under the hood for what we want to do with ipywidgets, but it is none-the-less pretty neat. :)"
   ]
  },
  {
   "cell_type": "markdown",
   "metadata": {},
   "source": [
    "Let's build up a bit more complex interactivity using our new friend the button and this \"on_click\" function to interactively update our progress bar."
   ]
  },
  {
   "cell_type": "markdown",
   "metadata": {},
   "source": [
    "Lets start by making a progress bar again:"
   ]
  },
  {
   "cell_type": "code",
   "execution_count": 41,
   "metadata": {},
   "outputs": [],
   "source": [
    "ip = ipywidgets.IntProgress()"
   ]
  },
  {
   "cell_type": "markdown",
   "metadata": {},
   "source": [
    "Now, lets add in a button that will add 10:"
   ]
  },
  {
   "cell_type": "code",
   "execution_count": 42,
   "metadata": {},
   "outputs": [],
   "source": [
    "button_plus = ipywidgets.Button(description = \"+10\")"
   ]
  },
  {
   "cell_type": "markdown",
   "metadata": {},
   "source": [
    "... and one that will subtract 10:"
   ]
  },
  {
   "cell_type": "code",
   "execution_count": 43,
   "metadata": {},
   "outputs": [],
   "source": [
    "button_minus = ipywidgets.Button(description = \"-10\")"
   ]
  },
  {
   "cell_type": "markdown",
   "metadata": {},
   "source": [
    "Lets see how this looks in a horizontal box row:"
   ]
  },
  {
   "cell_type": "code",
   "execution_count": 44,
   "metadata": {},
   "outputs": [
    {
     "data": {
      "application/vnd.jupyter.widget-view+json": {
       "model_id": "ffe9c479064a4882bea79109ba3a9bf6",
       "version_major": 2,
       "version_minor": 0
      },
      "text/plain": [
       "HBox(children=(Button(description='-10', style=ButtonStyle()), IntProgress(value=0), Button(description='+10',…"
      ]
     },
     "metadata": {},
     "output_type": "display_data"
    }
   ],
   "source": [
    "ipywidgets.HBox([button_minus, ip, button_plus])"
   ]
  },
  {
   "cell_type": "markdown",
   "metadata": {},
   "source": [
    "Note if we click these, nothing happens. This is because we haven't associated actions to our clicks just yet.  We have to make some functions that will tell our buttons and progress bar what to do when each respective button is clicked.  So, let's do that!"
   ]
  },
  {
   "cell_type": "markdown",
   "metadata": {},
   "source": [
    "First, let's remind ourselves what we want to be changing here -- the value of the progress bar:"
   ]
  },
  {
   "cell_type": "code",
   "execution_count": 45,
   "metadata": {},
   "outputs": [
    {
     "data": {
      "text/plain": [
       "0"
      ]
     },
     "execution_count": 45,
     "metadata": {},
     "output_type": "execute_result"
    }
   ],
   "source": [
    "ip.value"
   ]
  },
  {
   "cell_type": "markdown",
   "metadata": {},
   "source": [
    "Lets now associate a change in the value of our progress bar when we click the down button:"
   ]
  },
  {
   "cell_type": "code",
   "execution_count": 46,
   "metadata": {},
   "outputs": [],
   "source": [
    "def click_down(event):\n",
    "    ip.value -= 10"
   ]
  },
  {
   "cell_type": "markdown",
   "metadata": {},
   "source": [
    "Note that while I'm going to associate the click of my button with the `-10` button the *action* that happens when I click is to change the value of the progress bar!"
   ]
  },
  {
   "cell_type": "markdown",
   "metadata": {},
   "source": [
    "Lets tie this change in value to the click with the \"on_click\" function of our down button:"
   ]
  },
  {
   "cell_type": "code",
   "execution_count": 47,
   "metadata": {},
   "outputs": [],
   "source": [
    "button_minus.on_click(click_down)"
   ]
  },
  {
   "cell_type": "markdown",
   "metadata": {},
   "source": [
    "Now let's do the same for our \"+10\" button:"
   ]
  },
  {
   "cell_type": "code",
   "execution_count": 48,
   "metadata": {},
   "outputs": [],
   "source": [
    "def click_up(event):\n",
    "    ip.value += 10\n",
    "button_plus.on_click(click_up)"
   ]
  },
  {
   "cell_type": "markdown",
   "metadata": {},
   "source": [
    "We can now go back up and click on our progress bar, or we can re-display again as well:"
   ]
  },
  {
   "cell_type": "code",
   "execution_count": 49,
   "metadata": {},
   "outputs": [
    {
     "data": {
      "application/vnd.jupyter.widget-view+json": {
       "model_id": "6ae051bdda9b440db25b2419381e0777",
       "version_major": 2,
       "version_minor": 0
      },
      "text/plain": [
       "HBox(children=(Button(description='-10', style=ButtonStyle()), IntProgress(value=0), Button(description='+10',…"
      ]
     },
     "metadata": {},
     "output_type": "display_data"
    }
   ],
   "source": [
    "ipywidgets.HBox([button_minus, ip, button_plus])"
   ]
  },
  {
   "cell_type": "markdown",
   "metadata": {},
   "source": [
    "## A few more ipywidget linking practice examples\n",
    "\n",
    "Let's try a few more!"
   ]
  },
  {
   "cell_type": "markdown",
   "metadata": {},
   "source": [
    "### #1: More with layouts (and text boxes) -- OPTIONAL-ISH"
   ]
  },
  {
   "cell_type": "markdown",
   "metadata": {},
   "source": [
    "We can use ipywidgets to create text boxes:"
   ]
  },
  {
   "cell_type": "code",
   "execution_count": 50,
   "metadata": {},
   "outputs": [],
   "source": [
    "ta1 = ipywidgets.Textarea(\"Hi, this is a box of text. (1)\")\n",
    "\n",
    "ta2 = ipywidgets.Textarea(\"Hi, this is a box of text. (2)\")\n",
    "\n",
    "ta3 = ipywidgets.Textarea(\"Hi, this is a box of text. (3)\")\n",
    "\n",
    "ta4 = ipywidgets.Textarea(\"Hi, this is a box of text. (4)\")"
   ]
  },
  {
   "cell_type": "markdown",
   "metadata": {},
   "source": [
    "There are different ways we can layout these text boxes.\n",
    "\n",
    "We can make tabs:"
   ]
  },
  {
   "cell_type": "code",
   "execution_count": 51,
   "metadata": {},
   "outputs": [
    {
     "data": {
      "application/vnd.jupyter.widget-view+json": {
       "model_id": "186bf05b07484730a52569fa47125ca8",
       "version_major": 2,
       "version_minor": 0
      },
      "text/plain": [
       "Tab(children=(Textarea(value='Hi, this is a box of text. (1)'), Textarea(value='Hi, this is a box of text. (2)…"
      ]
     },
     "metadata": {},
     "output_type": "display_data"
    }
   ],
   "source": [
    "tabs = ipywidgets.Tab([ta1, ta2, ta3, ta4])\n",
    "tabs"
   ]
  },
  {
   "cell_type": "markdown",
   "metadata": {},
   "source": [
    "Or we can \"accordian\" them:"
   ]
  },
  {
   "cell_type": "code",
   "execution_count": 52,
   "metadata": {},
   "outputs": [
    {
     "data": {
      "application/vnd.jupyter.widget-view+json": {
       "model_id": "4a9055723fb8447ca56a92c843329500",
       "version_major": 2,
       "version_minor": 0
      },
      "text/plain": [
       "Accordion(children=(Textarea(value='Hi, this is a box of text. (1)'), Textarea(value='Hi, this is a box of tex…"
      ]
     },
     "metadata": {},
     "output_type": "display_data"
    }
   ],
   "source": [
    "acc = ipywidgets.Accordion([ta1, ta2, ta3, ta4])\n",
    "acc"
   ]
  },
  {
   "cell_type": "markdown",
   "metadata": {},
   "source": [
    "We can organize them into horizontal boxes like we did before:"
   ]
  },
  {
   "cell_type": "code",
   "execution_count": 53,
   "metadata": {},
   "outputs": [
    {
     "data": {
      "application/vnd.jupyter.widget-view+json": {
       "model_id": "9f4f826ea6e44af898e2ee87dd9191f3",
       "version_major": 2,
       "version_minor": 0
      },
      "text/plain": [
       "HBox(children=(Textarea(value='Hi, this is a box of text. (1)'), Textarea(value='Hi, this is a box of text. (2…"
      ]
     },
     "metadata": {},
     "output_type": "display_data"
    }
   ],
   "source": [
    "ipywidgets.HBox([ta1, ta2, ta3, ta4])"
   ]
  },
  {
   "cell_type": "markdown",
   "metadata": {},
   "source": [
    "Note this means a few of them are off screen so this might not be the best option in this calse.\n",
    "\n",
    "We can organize them in a vertical box instead:"
   ]
  },
  {
   "cell_type": "code",
   "execution_count": 54,
   "metadata": {},
   "outputs": [
    {
     "data": {
      "application/vnd.jupyter.widget-view+json": {
       "model_id": "dc4ea730aaca4d60b9124ed1f01e8be1",
       "version_major": 2,
       "version_minor": 0
      },
      "text/plain": [
       "VBox(children=(Textarea(value='Hi, this is a box of text. (1)'), Textarea(value='Hi, this is a box of text. (2…"
      ]
     },
     "metadata": {},
     "output_type": "display_data"
    }
   ],
   "source": [
    "ipywidgets.VBox([ta1, ta2, ta3, ta4])"
   ]
  },
  {
   "cell_type": "markdown",
   "metadata": {},
   "source": [
    "Or, if we want to be super fancy we can organize them in a verticle box of sets of horizontal boxes:"
   ]
  },
  {
   "cell_type": "code",
   "execution_count": 55,
   "metadata": {},
   "outputs": [
    {
     "data": {
      "application/vnd.jupyter.widget-view+json": {
       "model_id": "707f95c61d604ef790b35c8126885039",
       "version_major": 2,
       "version_minor": 0
      },
      "text/plain": [
       "VBox(children=(HBox(children=(Textarea(value='Hi, this is a box of text. (1)'), Textarea(value='Hi, this is a …"
      ]
     },
     "metadata": {},
     "output_type": "display_data"
    }
   ],
   "source": [
    "ipywidgets.VBox( [ipywidgets.HBox([ta1, ta2]),\n",
    "                  ipywidgets.HBox([ta3, ta4])] )"
   ]
  },
  {
   "cell_type": "markdown",
   "metadata": {},
   "source": [
    "We can even insert another widget in our array of horizontal boxes and see how ipywidgets would place it -- let's try it with a label widget:"
   ]
  },
  {
   "cell_type": "code",
   "execution_count": 56,
   "metadata": {},
   "outputs": [
    {
     "data": {
      "application/vnd.jupyter.widget-view+json": {
       "model_id": "7a52e909cec645d984fc7b807bfff718",
       "version_major": 2,
       "version_minor": 0
      },
      "text/plain": [
       "VBox(children=(HBox(children=(Textarea(value='Hi, this is a box of text. (1)'), Textarea(value='Hi, this is a …"
      ]
     },
     "metadata": {},
     "output_type": "display_data"
    }
   ],
   "source": [
    "ipywidgets.VBox( [ipywidgets.HBox([ta1, ta2]),\n",
    "                  ipywidgets.Label(\"Hello there!\"),\n",
    "                  ipywidgets.HBox([ta3, ta4])] )"
   ]
  },
  {
   "cell_type": "markdown",
   "metadata": {},
   "source": [
    "### #2: More with layouts (and text boxes) -- putting together sliders with play button -- OPTIONAL"
   ]
  },
  {
   "cell_type": "markdown",
   "metadata": {},
   "source": [
    "As a quick example, lets link an integer slider to our play button.  First, lets define the range of our play button:"
   ]
  },
  {
   "cell_type": "code",
   "execution_count": 57,
   "metadata": {},
   "outputs": [],
   "source": [
    "play = ipywidgets.Play(interval = 50, value = 50, min = 1, max = 100, step = 1, description = \"Press Play\")"
   ]
  },
  {
   "cell_type": "markdown",
   "metadata": {},
   "source": [
    "Here, we start at 50, and create min and max value around that. Now, lets create our slider:"
   ]
  },
  {
   "cell_type": "code",
   "execution_count": 58,
   "metadata": {},
   "outputs": [],
   "source": [
    "slider = ipywidgets.IntSlider()"
   ]
  },
  {
   "cell_type": "markdown",
   "metadata": {},
   "source": [
    "Now let's link the min and max of the play interval with the min and max of the integer slider using the `jslink` function:"
   ]
  },
  {
   "cell_type": "code",
   "execution_count": 59,
   "metadata": {},
   "outputs": [
    {
     "data": {
      "text/plain": [
       "Link(source=(Play(value=50, description='Press Play', interval=50, min=1), 'value'), target=(IntSlider(value=0…"
      ]
     },
     "metadata": {},
     "output_type": "display_data"
    }
   ],
   "source": [
    "ipywidgets.jslink((play, 'min'), (slider, 'min'))\n",
    "ipywidgets.jslink((play, 'max'), (slider, 'max'))\n",
    "ipywidgets.jslink((play, 'value'), (slider, 'value'))"
   ]
  },
  {
   "cell_type": "markdown",
   "metadata": {},
   "source": [
    "Note that we don't have to tell the .link function how to link these objects - it knows intuatively. How to link the play widget min & max to the slider min and max.\n",
    "\n",
    "Finally, let's display them side by side:"
   ]
  },
  {
   "cell_type": "code",
   "execution_count": 60,
   "metadata": {},
   "outputs": [
    {
     "data": {
      "application/vnd.jupyter.widget-view+json": {
       "model_id": "4de08f1bdba04682adebf4a8503aaf13",
       "version_major": 2,
       "version_minor": 0
      },
      "text/plain": [
       "HBox(children=(Play(value=1, description='Press Play', interval=50, min=1), IntSlider(value=50, min=1)))"
      ]
     },
     "metadata": {},
     "output_type": "display_data"
    }
   ],
   "source": [
    "ipywidgets.HBox([play, slider])"
   ]
  },
  {
   "cell_type": "markdown",
   "metadata": {},
   "source": [
    "### #3: slider colorpicker and an intro to traitlets and .observe -- NECESSARY FOR TRAITLETS"
   ]
  },
  {
   "cell_type": "markdown",
   "metadata": {},
   "source": [
    "Lets first make a slider:"
   ]
  },
  {
   "cell_type": "code",
   "execution_count": 61,
   "metadata": {},
   "outputs": [],
   "source": [
    "islider = ipywidgets.IntSlider(min = 0, max = 10, step = 1, orientation = 'vertical')"
   ]
  },
  {
   "cell_type": "markdown",
   "metadata": {},
   "source": [
    "Lets give this slider a base color that is sort of purple-y, using a hex code.  Recall: HTML hex codes are another way to \"name\" colors:\n",
    "\n",
    "<img src=\"https://i.pinimg.com/originals/7b/f7/c6/7bf7c6e53128592dcd608f368571821c.gif\">"
   ]
  },
  {
   "cell_type": "code",
   "execution_count": 62,
   "metadata": {},
   "outputs": [],
   "source": [
    "islider.style.handle_color = \"#750075\""
   ]
  },
  {
   "cell_type": "markdown",
   "metadata": {},
   "source": [
    "Let's take a quick look:"
   ]
  },
  {
   "cell_type": "code",
   "execution_count": 63,
   "metadata": {},
   "outputs": [
    {
     "data": {
      "application/vnd.jupyter.widget-view+json": {
       "model_id": "6d8cb53e549a49f18f55ff046ffee44b",
       "version_major": 2,
       "version_minor": 0
      },
      "text/plain": [
       "IntSlider(value=0, max=10, orientation='vertical', style=SliderStyle(handle_color='#750075'))"
      ]
     },
     "metadata": {},
     "output_type": "display_data"
    }
   ],
   "source": [
    "islider "
   ]
  },
  {
   "cell_type": "markdown",
   "metadata": {},
   "source": [
    "Just slides up and down, nothing too exciting.  Lets create a new widget object called a color picker to pick the color of our handle:"
   ]
  },
  {
   "cell_type": "code",
   "execution_count": 64,
   "metadata": {},
   "outputs": [
    {
     "data": {
      "application/vnd.jupyter.widget-view+json": {
       "model_id": "e9750836dd5b4b09a20346429d3cdb6d",
       "version_major": 2,
       "version_minor": 0
      },
      "text/plain": [
       "ColorPicker(value='black')"
      ]
     },
     "metadata": {},
     "output_type": "display_data"
    }
   ],
   "source": [
    "cp = ipywidgets.ColorPicker()\n",
    "cp"
   ]
  },
  {
   "cell_type": "markdown",
   "metadata": {},
   "source": [
    "When we show this we can click on the little box and it pops up a color picker we can mess around with!  Neato.\n",
    "\n",
    "Now let's link the slider's color with the color picker's value.  For practice, let's use the Python-based `link` function:"
   ]
  },
  {
   "cell_type": "code",
   "execution_count": 65,
   "metadata": {},
   "outputs": [
    {
     "data": {
      "text/plain": [
       "<traitlets.traitlets.link at 0x7fdec123e250>"
      ]
     },
     "execution_count": 65,
     "metadata": {},
     "output_type": "execute_result"
    }
   ],
   "source": [
    "ipywidgets.link( (cp, 'value'), (islider.style, 'handle_color') )"
   ]
  },
  {
   "cell_type": "markdown",
   "metadata": {},
   "source": [
    "And let's see them both together:"
   ]
  },
  {
   "cell_type": "code",
   "execution_count": 66,
   "metadata": {},
   "outputs": [
    {
     "data": {
      "application/vnd.jupyter.widget-view+json": {
       "model_id": "4d1ab8ef52b54c3683c43f5d043a200f",
       "version_major": 2,
       "version_minor": 0
      },
      "text/plain": [
       "VBox(children=(ColorPicker(value='black'), IntSlider(value=0, max=10, orientation='vertical', style=SliderStyl…"
      ]
     },
     "metadata": {},
     "output_type": "display_data"
    }
   ],
   "source": [
    "ipywidgets.VBox([cp, islider])"
   ]
  },
  {
   "cell_type": "markdown",
   "metadata": {},
   "source": [
    "But what is this `traitlets.traitlets` thing above that occurs when we use `link` instead of `jslink`?  I thought we were doing things with widgets!  Let's talk a bit about what `traitlets` are in Python."
   ]
  },
  {
   "cell_type": "markdown",
   "metadata": {},
   "source": [
    "## Traitlets \n",
    "\n",
    "Traitlets are a way to link the *change in a variable* to an action."
   ]
  },
  {
   "cell_type": "markdown",
   "metadata": {},
   "source": [
    "We'll start by making a class w/o using traitlets.  We've worked with classes before, just sort of \"under the radar\" like with Pandas objects.  Now we will define our own:"
   ]
  },
  {
   "cell_type": "code",
   "execution_count": 67,
   "metadata": {},
   "outputs": [],
   "source": [
    "class MyObject():\n",
    "    name = 'unnamed'\n",
    "    age = 0"
   ]
  },
  {
   "cell_type": "markdown",
   "metadata": {},
   "source": [
    "Let's define a new variable of this `class` type:"
   ]
  },
  {
   "cell_type": "code",
   "execution_count": 68,
   "metadata": {},
   "outputs": [],
   "source": [
    "my_obj = MyObject()"
   ]
  },
  {
   "cell_type": "code",
   "execution_count": 69,
   "metadata": {},
   "outputs": [
    {
     "data": {
      "text/plain": [
       "('unnamed', 0)"
      ]
     },
     "execution_count": 69,
     "metadata": {},
     "output_type": "execute_result"
    }
   ],
   "source": [
    "my_obj.name, my_obj.age"
   ]
  },
  {
   "cell_type": "markdown",
   "metadata": {},
   "source": [
    "We can update the values of these variables like we would any other object:"
   ]
  },
  {
   "cell_type": "code",
   "execution_count": 70,
   "metadata": {},
   "outputs": [],
   "source": [
    "my_obj.name = 'Bob'; my_obj.age = 47"
   ]
  },
  {
   "cell_type": "markdown",
   "metadata": {},
   "source": [
    "Now, let's check out our new values:"
   ]
  },
  {
   "cell_type": "code",
   "execution_count": 71,
   "metadata": {},
   "outputs": [
    {
     "name": "stdout",
     "output_type": "stream",
     "text": [
      "Hello, my name is: Bob and I am 47 years old\n"
     ]
    }
   ],
   "source": [
    "print('Hello, my name is:', my_obj.name, 'and I am', my_obj.age, 'years old')"
   ]
  },
  {
   "cell_type": "markdown",
   "metadata": {},
   "source": [
    "Now, let's say I wanted to re-set the values of the variables in my class -- to print out the above statement, I'd have to redo everything:"
   ]
  },
  {
   "cell_type": "code",
   "execution_count": 72,
   "metadata": {},
   "outputs": [],
   "source": [
    "my_obj.name = 'Linda'; my_obj.age = 45"
   ]
  },
  {
   "cell_type": "code",
   "execution_count": 73,
   "metadata": {},
   "outputs": [
    {
     "name": "stdout",
     "output_type": "stream",
     "text": [
      "Hello, my name is: Linda and I am 45 years old\n"
     ]
    }
   ],
   "source": [
    "print('Hello, my name is:', my_obj.name, 'and I am', my_obj.age, 'years old')"
   ]
  },
  {
   "cell_type": "markdown",
   "metadata": {},
   "source": [
    "The `traitlets` library allows us to \"track\" changes so that we can associate actions with updates to variables.  Let's try this example again:"
   ]
  },
  {
   "cell_type": "code",
   "execution_count": 74,
   "metadata": {},
   "outputs": [],
   "source": [
    "import traitlets"
   ]
  },
  {
   "cell_type": "code",
   "execution_count": 75,
   "metadata": {},
   "outputs": [],
   "source": [
    "class MyTraitletObject(traitlets.HasTraits):\n",
    "    # lets use the unicode trait to let our object have a name\n",
    "    name = traitlets.Unicode(\"unnamed\") \n",
    "    # lets also give our object an age\n",
    "    age = traitlets.Int(0)"
   ]
  },
  {
   "cell_type": "code",
   "execution_count": 76,
   "metadata": {},
   "outputs": [],
   "source": [
    "my_t_obj = MyTraitletObject()\n",
    "my_t_obj.age = 47\n",
    "my_t_obj.name = 'Bob'"
   ]
  },
  {
   "cell_type": "code",
   "execution_count": 77,
   "metadata": {},
   "outputs": [
    {
     "name": "stdout",
     "output_type": "stream",
     "text": [
      "Hello, my name is: Bob and I am 47 years old\n"
     ]
    }
   ],
   "source": [
    "print('Hello, my name is:', my_t_obj.name, 'and I am', my_t_obj.age, 'years old')"
   ]
  },
  {
   "cell_type": "markdown",
   "metadata": {},
   "source": [
    "So far this is not very exciting - we are back where we started!  However, there are options to \"observe\" changes in our traits:"
   ]
  },
  {
   "cell_type": "markdown",
   "metadata": {},
   "source": [
    "Let's create a function that can act on one of the variables of our variables, in particluar, its going to react to the name in my object:"
   ]
  },
  {
   "cell_type": "code",
   "execution_count": 78,
   "metadata": {},
   "outputs": [],
   "source": [
    "def name_changed(change):\n",
    "    print(change) # this is a format that is required of a traitlets class\n",
    "\n",
    "# lets tell traitlets that we are going to change something\n",
    "my_t_obj.observe(name_changed, ['name'])"
   ]
  },
  {
   "cell_type": "markdown",
   "metadata": {},
   "source": [
    "Now when we update, we get info about our update back:"
   ]
  },
  {
   "cell_type": "code",
   "execution_count": 79,
   "metadata": {},
   "outputs": [
    {
     "name": "stdout",
     "output_type": "stream",
     "text": [
      "{'name': 'name', 'old': 'Bob', 'new': 'Linda', 'owner': <__main__.MyTraitletObject object at 0x7fdec123e850>, 'type': 'change'}\n"
     ]
    }
   ],
   "source": [
    "my_t_obj.name = 'Linda'"
   ]
  },
  {
   "cell_type": "markdown",
   "metadata": {},
   "source": [
    "We can see that there are these weird \"new\" and \"old\" names -- this is tracking how things change. The \"owner\" is just pointing to the memory location of `my_t_obj`."
   ]
  },
  {
   "cell_type": "markdown",
   "metadata": {},
   "source": [
    "Let's do something a little more exciting - have a default print-out of the introduction:"
   ]
  },
  {
   "cell_type": "code",
   "execution_count": 80,
   "metadata": {},
   "outputs": [],
   "source": [
    "def name_changed2(change):\n",
    "    print('Hello, my name is', change['new'], 'and I am', change['owner'].age, 'years old')\n",
    "\n",
    "# lets tell traitlets that we are going to change something\n",
    "my_t_obj.observe(name_changed2, ['name'])"
   ]
  },
  {
   "cell_type": "code",
   "execution_count": 81,
   "metadata": {},
   "outputs": [],
   "source": [
    "my_t_obj.name = 'Linda'"
   ]
  },
  {
   "cell_type": "markdown",
   "metadata": {},
   "source": [
    "Note that now, I've got *2* things associated with any changes -- let's take off the first one:"
   ]
  },
  {
   "cell_type": "code",
   "execution_count": 82,
   "metadata": {},
   "outputs": [],
   "source": [
    "my_t_obj.unobserve(name_changed, ['name'])"
   ]
  },
  {
   "cell_type": "code",
   "execution_count": 83,
   "metadata": {},
   "outputs": [
    {
     "name": "stdout",
     "output_type": "stream",
     "text": [
      "Hello, my name is Bob and I am 47 years old\n"
     ]
    }
   ],
   "source": [
    "my_t_obj.name = \"Bob\""
   ]
  },
  {
   "cell_type": "markdown",
   "metadata": {},
   "source": [
    "We can practice by making a \"watching for a change\" function for age as well:"
   ]
  },
  {
   "cell_type": "code",
   "execution_count": 84,
   "metadata": {},
   "outputs": [],
   "source": [
    "def age_changed(change):\n",
    "    print('Hello, my name is', change['owner'].name, 'and I am', change['new'], 'years old')\n",
    "\n",
    "my_t_obj.observe(age_changed, ['age'])"
   ]
  },
  {
   "cell_type": "code",
   "execution_count": 85,
   "metadata": {},
   "outputs": [
    {
     "name": "stdout",
     "output_type": "stream",
     "text": [
      "Hello, my name is Bob and I am 48 years old\n"
     ]
    }
   ],
   "source": [
    "my_t_obj.age = 48"
   ]
  },
  {
   "cell_type": "code",
   "execution_count": 86,
   "metadata": {},
   "outputs": [
    {
     "name": "stdout",
     "output_type": "stream",
     "text": [
      "Hello, my name is Louise and I am 48 years old\n",
      "Hello, my name is Louise and I am 8 years old\n"
     ]
    }
   ],
   "source": [
    "my_t_obj.name, my_t_obj.age = 'Louise', 8"
   ]
  },
  {
   "cell_type": "markdown",
   "metadata": {},
   "source": [
    "# For the Homework this week: The UFO dataset"
   ]
  },
  {
   "cell_type": "markdown",
   "metadata": {},
   "source": [
    "Make sure you have this dataset downloaded from: https://uiuc-ischool-dataviz.github.io/spring2019online/week04/data/ufo-scrubbed-geocoded-time-standardized-00.csv"
   ]
  },
  {
   "cell_type": "markdown",
   "metadata": {},
   "source": [
    "You will be using this dataset for your HW so we will read it in and take a quick look.  The rest of the class is messing around with this dataset!"
   ]
  },
  {
   "cell_type": "markdown",
   "metadata": {},
   "source": [
    "Reading in the UFO dataset:"
   ]
  },
  {
   "cell_type": "code",
   "execution_count": 87,
   "metadata": {},
   "outputs": [],
   "source": [
    "import pandas as pd\n",
    "\n",
    "ufos = pd.read_csv(\"/Users/jillnaiman/Downloads/ufo-scrubbed-geocoded-time-standardized-00.csv\",\n",
    "                  names = [\"date\", \"city\", \"state\", \"country\",\n",
    "                          \"shape\", \"duration_seconds\", \"duration\",\n",
    "                          \"comment\", \"report_date\", \"latitude\", \"longitude\"],\n",
    "                  parse_dates = [\"date\", \"report_date\"])\n",
    "\n",
    "# you might get a memory warning thing, its just not deprecated correctly\n",
    "#  try not to panic :D\n"
   ]
  },
  {
   "cell_type": "code",
   "execution_count": 88,
   "metadata": {},
   "outputs": [
    {
     "data": {
      "text/html": [
       "<div>\n",
       "<style scoped>\n",
       "    .dataframe tbody tr th:only-of-type {\n",
       "        vertical-align: middle;\n",
       "    }\n",
       "\n",
       "    .dataframe tbody tr th {\n",
       "        vertical-align: top;\n",
       "    }\n",
       "\n",
       "    .dataframe thead th {\n",
       "        text-align: right;\n",
       "    }\n",
       "</style>\n",
       "<table border=\"1\" class=\"dataframe\">\n",
       "  <thead>\n",
       "    <tr style=\"text-align: right;\">\n",
       "      <th></th>\n",
       "      <th>date</th>\n",
       "      <th>city</th>\n",
       "      <th>state</th>\n",
       "      <th>country</th>\n",
       "      <th>shape</th>\n",
       "      <th>duration_seconds</th>\n",
       "      <th>duration</th>\n",
       "      <th>comment</th>\n",
       "      <th>report_date</th>\n",
       "      <th>latitude</th>\n",
       "      <th>longitude</th>\n",
       "    </tr>\n",
       "  </thead>\n",
       "  <tbody>\n",
       "    <tr>\n",
       "      <th>0</th>\n",
       "      <td>1949-10-10 20:30:00</td>\n",
       "      <td>san marcos</td>\n",
       "      <td>tx</td>\n",
       "      <td>us</td>\n",
       "      <td>cylinder</td>\n",
       "      <td>2700.0</td>\n",
       "      <td>45 minutes</td>\n",
       "      <td>This event took place in early fall around 194...</td>\n",
       "      <td>2004-04-27</td>\n",
       "      <td>29.883056</td>\n",
       "      <td>-97.941111</td>\n",
       "    </tr>\n",
       "    <tr>\n",
       "      <th>1</th>\n",
       "      <td>1949-10-10 21:00:00</td>\n",
       "      <td>lackland afb</td>\n",
       "      <td>tx</td>\n",
       "      <td>NaN</td>\n",
       "      <td>light</td>\n",
       "      <td>7200.0</td>\n",
       "      <td>1-2 hrs</td>\n",
       "      <td>1949 Lackland AFB&amp;#44 TX.  Lights racing acros...</td>\n",
       "      <td>2005-12-16</td>\n",
       "      <td>29.384210</td>\n",
       "      <td>-98.581082</td>\n",
       "    </tr>\n",
       "    <tr>\n",
       "      <th>2</th>\n",
       "      <td>1955-10-10 17:00:00</td>\n",
       "      <td>chester (uk/england)</td>\n",
       "      <td>NaN</td>\n",
       "      <td>gb</td>\n",
       "      <td>circle</td>\n",
       "      <td>20.0</td>\n",
       "      <td>20 seconds</td>\n",
       "      <td>Green/Orange circular disc over Chester&amp;#44 En...</td>\n",
       "      <td>2008-01-21</td>\n",
       "      <td>53.200000</td>\n",
       "      <td>-2.916667</td>\n",
       "    </tr>\n",
       "    <tr>\n",
       "      <th>3</th>\n",
       "      <td>1956-10-10 21:00:00</td>\n",
       "      <td>edna</td>\n",
       "      <td>tx</td>\n",
       "      <td>us</td>\n",
       "      <td>circle</td>\n",
       "      <td>20.0</td>\n",
       "      <td>1/2 hour</td>\n",
       "      <td>My older brother and twin sister were leaving ...</td>\n",
       "      <td>2004-01-17</td>\n",
       "      <td>28.978333</td>\n",
       "      <td>-96.645833</td>\n",
       "    </tr>\n",
       "    <tr>\n",
       "      <th>4</th>\n",
       "      <td>1960-10-10 20:00:00</td>\n",
       "      <td>kaneohe</td>\n",
       "      <td>hi</td>\n",
       "      <td>us</td>\n",
       "      <td>light</td>\n",
       "      <td>900.0</td>\n",
       "      <td>15 minutes</td>\n",
       "      <td>AS a Marine 1st Lt. flying an FJ4B fighter/att...</td>\n",
       "      <td>2004-01-22</td>\n",
       "      <td>21.418056</td>\n",
       "      <td>-157.803611</td>\n",
       "    </tr>\n",
       "    <tr>\n",
       "      <th>...</th>\n",
       "      <td>...</td>\n",
       "      <td>...</td>\n",
       "      <td>...</td>\n",
       "      <td>...</td>\n",
       "      <td>...</td>\n",
       "      <td>...</td>\n",
       "      <td>...</td>\n",
       "      <td>...</td>\n",
       "      <td>...</td>\n",
       "      <td>...</td>\n",
       "      <td>...</td>\n",
       "    </tr>\n",
       "    <tr>\n",
       "      <th>80327</th>\n",
       "      <td>2013-09-09 21:15:00</td>\n",
       "      <td>nashville</td>\n",
       "      <td>tn</td>\n",
       "      <td>us</td>\n",
       "      <td>light</td>\n",
       "      <td>600.0</td>\n",
       "      <td>10 minutes</td>\n",
       "      <td>Round from the distance/slowly changing colors...</td>\n",
       "      <td>2013-09-30</td>\n",
       "      <td>36.165833</td>\n",
       "      <td>-86.784444</td>\n",
       "    </tr>\n",
       "    <tr>\n",
       "      <th>80328</th>\n",
       "      <td>2013-09-09 22:00:00</td>\n",
       "      <td>boise</td>\n",
       "      <td>id</td>\n",
       "      <td>us</td>\n",
       "      <td>circle</td>\n",
       "      <td>1200.0</td>\n",
       "      <td>20 minutes</td>\n",
       "      <td>Boise&amp;#44 ID&amp;#44 spherical&amp;#44 20 min&amp;#44 10 r...</td>\n",
       "      <td>2013-09-30</td>\n",
       "      <td>43.613611</td>\n",
       "      <td>-116.202500</td>\n",
       "    </tr>\n",
       "    <tr>\n",
       "      <th>80329</th>\n",
       "      <td>2013-09-09 22:00:00</td>\n",
       "      <td>napa</td>\n",
       "      <td>ca</td>\n",
       "      <td>us</td>\n",
       "      <td>other</td>\n",
       "      <td>1200.0</td>\n",
       "      <td>hour</td>\n",
       "      <td>Napa UFO&amp;#44</td>\n",
       "      <td>2013-09-30</td>\n",
       "      <td>38.297222</td>\n",
       "      <td>-122.284444</td>\n",
       "    </tr>\n",
       "    <tr>\n",
       "      <th>80330</th>\n",
       "      <td>2013-09-09 22:20:00</td>\n",
       "      <td>vienna</td>\n",
       "      <td>va</td>\n",
       "      <td>us</td>\n",
       "      <td>circle</td>\n",
       "      <td>5.0</td>\n",
       "      <td>5 seconds</td>\n",
       "      <td>Saw a five gold lit cicular craft moving fastl...</td>\n",
       "      <td>2013-09-30</td>\n",
       "      <td>38.901111</td>\n",
       "      <td>-77.265556</td>\n",
       "    </tr>\n",
       "    <tr>\n",
       "      <th>80331</th>\n",
       "      <td>2013-09-09 23:00:00</td>\n",
       "      <td>edmond</td>\n",
       "      <td>ok</td>\n",
       "      <td>us</td>\n",
       "      <td>cigar</td>\n",
       "      <td>1020.0</td>\n",
       "      <td>17 minutes</td>\n",
       "      <td>2 witnesses 2  miles apart&amp;#44 Red &amp;amp; White...</td>\n",
       "      <td>2013-09-30</td>\n",
       "      <td>35.652778</td>\n",
       "      <td>-97.477778</td>\n",
       "    </tr>\n",
       "  </tbody>\n",
       "</table>\n",
       "<p>80332 rows × 11 columns</p>\n",
       "</div>"
      ],
      "text/plain": [
       "                     date                  city state country     shape  \\\n",
       "0     1949-10-10 20:30:00            san marcos    tx      us  cylinder   \n",
       "1     1949-10-10 21:00:00          lackland afb    tx     NaN     light   \n",
       "2     1955-10-10 17:00:00  chester (uk/england)   NaN      gb    circle   \n",
       "3     1956-10-10 21:00:00                  edna    tx      us    circle   \n",
       "4     1960-10-10 20:00:00               kaneohe    hi      us     light   \n",
       "...                   ...                   ...   ...     ...       ...   \n",
       "80327 2013-09-09 21:15:00             nashville    tn      us     light   \n",
       "80328 2013-09-09 22:00:00                 boise    id      us    circle   \n",
       "80329 2013-09-09 22:00:00                  napa    ca      us     other   \n",
       "80330 2013-09-09 22:20:00                vienna    va      us    circle   \n",
       "80331 2013-09-09 23:00:00                edmond    ok      us     cigar   \n",
       "\n",
       "       duration_seconds    duration  \\\n",
       "0                2700.0  45 minutes   \n",
       "1                7200.0     1-2 hrs   \n",
       "2                  20.0  20 seconds   \n",
       "3                  20.0    1/2 hour   \n",
       "4                 900.0  15 minutes   \n",
       "...                 ...         ...   \n",
       "80327             600.0  10 minutes   \n",
       "80328            1200.0  20 minutes   \n",
       "80329            1200.0        hour   \n",
       "80330               5.0   5 seconds   \n",
       "80331            1020.0  17 minutes   \n",
       "\n",
       "                                                 comment report_date  \\\n",
       "0      This event took place in early fall around 194...  2004-04-27   \n",
       "1      1949 Lackland AFB&#44 TX.  Lights racing acros...  2005-12-16   \n",
       "2      Green/Orange circular disc over Chester&#44 En...  2008-01-21   \n",
       "3      My older brother and twin sister were leaving ...  2004-01-17   \n",
       "4      AS a Marine 1st Lt. flying an FJ4B fighter/att...  2004-01-22   \n",
       "...                                                  ...         ...   \n",
       "80327  Round from the distance/slowly changing colors...  2013-09-30   \n",
       "80328  Boise&#44 ID&#44 spherical&#44 20 min&#44 10 r...  2013-09-30   \n",
       "80329                                       Napa UFO&#44  2013-09-30   \n",
       "80330  Saw a five gold lit cicular craft moving fastl...  2013-09-30   \n",
       "80331  2 witnesses 2  miles apart&#44 Red &amp; White...  2013-09-30   \n",
       "\n",
       "        latitude   longitude  \n",
       "0      29.883056  -97.941111  \n",
       "1      29.384210  -98.581082  \n",
       "2      53.200000   -2.916667  \n",
       "3      28.978333  -96.645833  \n",
       "4      21.418056 -157.803611  \n",
       "...          ...         ...  \n",
       "80327  36.165833  -86.784444  \n",
       "80328  43.613611 -116.202500  \n",
       "80329  38.297222 -122.284444  \n",
       "80330  38.901111  -77.265556  \n",
       "80331  35.652778  -97.477778  \n",
       "\n",
       "[80332 rows x 11 columns]"
      ]
     },
     "execution_count": 88,
     "metadata": {},
     "output_type": "execute_result"
    }
   ],
   "source": [
    "ufos"
   ]
  },
  {
   "cell_type": "markdown",
   "metadata": {},
   "source": [
    "One thing we might want to do is notice that there are a lot of NaN's and we might want to replace them with some placeholders for the time being.  Ideally, we'd want to see if we can clean them better (i.e. state='TX' probably means country = 'us')."
   ]
  },
  {
   "cell_type": "code",
   "execution_count": 89,
   "metadata": {},
   "outputs": [],
   "source": [
    "ufos = ufos.fillna({'country':'unknown', 'state': 'unknown', 'shape':'unknown'})"
   ]
  },
  {
   "cell_type": "markdown",
   "metadata": {},
   "source": [
    "Second thing to notice, is this is a pretty darn big dataset!  This can get a little cumbersome if you want to be able to do some quick prototyping of visualizations.  \n",
    "\n",
    "Depending on what sort of computer you are working on, you may want to consider working with a *random subset* of this dataframe for your \"prototyping\" phase, and then only use the full dataset when you are ready for *production*:"
   ]
  },
  {
   "cell_type": "code",
   "execution_count": 90,
   "metadata": {},
   "outputs": [
    {
     "data": {
      "text/plain": [
       "array([20334, 25196, 76644, 45225, 39897, 61019,  2405, 12898, 76433,\n",
       "       12579, 45377, 40489, 28689, 78757,  5467, 31528, 19613, 36661,\n",
       "        9169,  7676, 23936, 52925, 69934, 67405,  2799, 15201, 39166,\n",
       "       77362, 69632, 14640, 30022,  2863, 27236,  2517, 39728, 16287,\n",
       "       51294, 23934, 37567, 42273, 54719, 60422, 41192, 47108, 29199,\n",
       "        5824, 49504, 36039, 23718,  8681, 32530, 63009, 23384,  8930,\n",
       "        6685, 59044, 31582,  4170,  9957, 69496, 24726,  3605,  6291,\n",
       "       41911, 63998, 74869, 68141, 41376, 28067, 12805, 23960,  5801,\n",
       "       23709,  1347, 36287, 13284, 35481, 63157, 16238, 28742,  6653,\n",
       "       70900, 19210, 31862, 79773, 70804, 73862, 39129, 11905, 56755,\n",
       "       28821, 23021, 10264,  4922,  5815, 19010, 17341, 27242, 44120,\n",
       "       79167, 23883, 13554, 18895, 52564, 66497, 77740, 62795, 57625,\n",
       "       44214, 42289, 47860,   433, 39062, 20935,  1602, 40109, 44877,\n",
       "       33523, 25344, 50526, 78391,   389,  6987, 27726, 56634, 46454,\n",
       "       20030, 58101, 54991,  9036,  7322, 73895, 68512,  8998,  3289,\n",
       "        9818,  7084, 34406, 40806, 58637, 31081, 24088, 65329, 64625,\n",
       "       41550, 59220, 68252,  2489, 30703, 60455, 28154, 14546,  1844,\n",
       "       44842, 42626, 55353,  7793,  1491, 65063, 68014, 17909, 30861,\n",
       "       60182, 78290, 63056, 64803, 31097, 74238, 46873, 61484, 68211,\n",
       "       43742, 58057, 16754, 27624, 34226, 60070, 18614, 37972, 45433,\n",
       "       41298,  7926, 37313, 42914, 51376, 30937, 47458, 35895, 15454,\n",
       "       47580, 58641,  3718,  8533, 19529,  4564,  9675, 68100,  4861,\n",
       "        2365, 65022, 66381, 18059, 52650, 11996, 52196, 32480,  5773,\n",
       "       28945, 58558, 27440, 44398, 21458, 49608, 32634, 76529, 38779,\n",
       "       64077,  9217,  4391, 14071, 72331, 54406,  9667, 67342, 75208,\n",
       "       71350, 19971,  1704, 14733, 42459, 30809,  8201,   789,  9916,\n",
       "       13238, 73718,   964, 12049, 10526, 24007,  5557, 60343, 47294,\n",
       "       20314, 32214, 38419, 61461, 62806, 42116, 47184, 71082, 12135,\n",
       "       62895,  1856, 77727,  6608, 28458, 31510, 18812, 12128, 18095,\n",
       "       65150, 31086, 46072, 23965, 15468, 75353,  6151, 27715, 79443,\n",
       "       52483, 13128, 53749, 45535, 60607, 69151, 76850, 63775, 10930,\n",
       "       27331, 11236, 17905, 54917, 22763, 67510, 53570, 45658, 71470,\n",
       "       19908,   516, 55049, 37736, 23833, 36324, 60085,   119, 47390,\n",
       "       14268, 24959, 66731, 29370, 65413, 31869, 34864, 35582, 15148,\n",
       "       17422, 15854, 34433, 66570, 42259, 54471, 55592, 67362, 18625,\n",
       "       47354, 24195, 28346, 52059, 57745, 31579, 49038, 72879, 70435,\n",
       "       34875, 68384, 68162, 64284, 78525, 29255, 51323, 32046, 34599,\n",
       "       71483,  1354, 66798, 39664, 48785, 54699,  6084, 15943, 44184,\n",
       "       56538, 69500, 67898, 73172, 29181, 46963, 47946, 63248, 76334,\n",
       "       48004, 22243, 28474,  5009, 73678, 69532, 61949,  8158, 64387,\n",
       "        3360, 50205, 36873,  6734,  9523, 32968, 38758, 32363, 77308,\n",
       "       35688, 74434, 48978, 53528, 17596, 18460,  5501, 50314, 33355,\n",
       "       74857, 63874, 78405, 56712, 21561, 20968, 42527, 61824, 61586,\n",
       "       64725, 55748, 29089, 13488, 77290, 77077, 49745, 64476, 77831,\n",
       "       36115, 12516, 48090, 56541, 76617,  3080, 46917, 35741, 11457,\n",
       "       69161, 46481, 10631, 64364, 21749, 73286, 12115,  6317, 55217,\n",
       "       62959, 29479, 31928, 78572, 71152, 21330, 66040, 71110, 50531,\n",
       "        4486, 59608, 11604, 69544, 71783, 32020, 18752, 61881, 57876,\n",
       "       14069,   107, 74137, 56174, 11991, 72732, 37368, 21388, 33824,\n",
       "       45827, 66714, 17067, 51751, 35611, 51900, 17886, 67594, 45541,\n",
       "       24704,  9315, 67527,  6474, 48041, 69160, 54767, 46981, 37601,\n",
       "       22534, 62113, 14328, 67736, 51849, 53354,  9289, 27416,  9699,\n",
       "       70302, 28818, 54047, 12773, 74244,  9770, 18583, 22060, 62257,\n",
       "       37343, 47574, 17329, 64050, 54163, 63137, 63356, 48685, 59425,\n",
       "       28221, 34735, 65359, 14921,  2855, 57688, 19182, 19496, 77874,\n",
       "       80311, 10361, 62514, 73222, 72418, 30056,  3878,  6932,  3910,\n",
       "       37292, 37377, 44548, 57441, 70654, 10114, 27116, 17959, 52373,\n",
       "       46462,  3645, 25450, 43983, 62566, 46868, 22319,  5793, 73214,\n",
       "       62775, 47891, 40260, 34598, 23105, 53259, 20381, 56290, 33050,\n",
       "       67206, 79715, 10111, 73045,  2484,  7651, 73772, 18647, 30950,\n",
       "       27259, 35653, 69566, 12433, 51792, 37304, 66371, 42881, 78166,\n",
       "       45355, 76735, 65789, 37493,  9157, 62007, 26384, 65045, 27798,\n",
       "       32605, 33307, 54646, 44808, 30597, 13276, 17353, 63884, 60973,\n",
       "       46880, 49594, 38959, 68519,  1817, 53779,   741, 70924, 14724,\n",
       "       48596, 31900, 54052, 71750, 64134, 40784, 64918, 14886, 74607,\n",
       "       74550, 23415, 67941, 12364, 64049, 65052, 79846, 30080,  2736,\n",
       "       77082, 31197, 63278, 17972, 48303, 65923, 55874, 51829,  5590,\n",
       "       43035, 24630, 72636, 57274, 44835, 12477, 63069, 78662, 16158,\n",
       "       61403,  7118, 51152,    89, 28849, 57317, 31824, 31864, 63560,\n",
       "       69431, 76394, 45321, 11468, 34897, 15380, 39669, 76491, 21592,\n",
       "       47578, 51074, 49348, 67473, 61339, 59792, 12801, 40087, 17608,\n",
       "        7216, 63533, 32176, 55006, 23900, 77080, 48798, 55310, 64345,\n",
       "       74828, 12596, 33843, 18840, 34311, 24981, 78505, 61427, 39205,\n",
       "        2964, 65225, 35556, 72670, 71841, 73549, 74112, 12193,  7893,\n",
       "       35716, 11035, 69073, 54298, 66626,  5306, 31874, 52702, 54089,\n",
       "        8287, 65796, 30398, 26857, 16853, 48991,  2045, 71120, 60402,\n",
       "       40691, 30823, 65312, 48252, 23622, 71279, 22620, 15906, 29588,\n",
       "       62146, 44689, 77106, 73278, 76809,  5575, 79314, 20395, 17931,\n",
       "       34367, 58597, 37223, 57075, 40442,  9355, 78118,   379,  7309,\n",
       "       26660, 58735, 44039, 43764, 46972, 60257, 14325,  9035, 36337,\n",
       "       19297, 69174, 35682, 52621, 61772,  7989, 44769,  8207, 24973,\n",
       "       18611, 35303, 59233, 53310,  1277, 57651, 68986, 12776, 18142,\n",
       "       31022, 31380, 17072, 58398, 60740, 11647, 62870, 73262, 78957,\n",
       "       11204, 17598, 58776, 66350, 21307, 30266, 50535, 77908, 70002,\n",
       "       79025,  8009, 22658, 20898, 75658, 15221, 18398, 80075, 10034,\n",
       "       70267, 76487, 72343, 13361, 36932, 60938, 75962, 27961,  9202,\n",
       "       32368, 43780, 26673, 76110, 47090,  4803, 22264, 57371,  2628,\n",
       "       57424, 38756, 28514, 47479, 27217, 14826, 72108, 17969, 65970,\n",
       "       32590, 27998, 28004,   266, 35387, 22420,  7088, 36058,  4560,\n",
       "       33831,  6768, 26444, 55022, 16609, 12926, 41554, 58066, 78756,\n",
       "       49306, 32777, 16475, 27353,  9127, 56767, 22010, 57053, 23286,\n",
       "       29956, 31096, 57017, 70178, 42537, 30281, 37106, 24721,  9862,\n",
       "       77135, 12922, 62971, 64301, 18763, 57523, 60262,   830, 10727,\n",
       "       50066,  6601, 75384, 80295, 32049, 25103, 17649, 35945, 72165,\n",
       "       45233, 39702, 72677, 18436,  9616, 52079, 18103, 32286,  8445,\n",
       "       73072, 13650, 10571, 19952, 28662, 43570, 73118, 72766, 66127,\n",
       "       20865, 54038, 56020, 74030, 67393, 59493, 65419, 35794,  5900,\n",
       "       39474, 37366,  2074, 14908, 69365,  7047,  6604, 55813, 62513,\n",
       "         833, 14999,  6278, 10097, 64695, 78245, 51689,  4237, 60573,\n",
       "       65802, 50732, 67366, 30459, 43041, 31732, 22898, 13290, 44480,\n",
       "       63300, 54175, 65825, 40021, 27499,  4447, 33651, 65081, 44489,\n",
       "       76087, 61013, 46204, 68895, 61211, 39972, 55594, 34794,   654,\n",
       "       24429,   463, 60565, 33946, 61180,  5342, 73447, 59566,    62,\n",
       "        3125, 16645, 35334, 30535,  7707, 79604, 77117, 10844,  6499,\n",
       "       33338, 46734, 19621,   208,  6102, 15250, 21765, 69759, 77185,\n",
       "       30926, 26061, 20638, 50799, 72837, 50421, 56664, 42978,  9674,\n",
       "       17471, 65530, 40976, 29225, 62043, 45536,  4448, 72434, 45439,\n",
       "       44011, 24794, 55271,  7585, 72685, 56938, 66071, 14370, 35380,\n",
       "       70919, 72765, 12834, 72649, 67984, 29978, 55571, 31958, 56730,\n",
       "       16317, 20891, 37538, 78720, 17694, 38832,  2403,  9629, 28934,\n",
       "       42322, 80039,  1393, 48679, 61479, 20440, 15503, 21333, 24924,\n",
       "        5554])"
      ]
     },
     "execution_count": 90,
     "metadata": {},
     "output_type": "execute_result"
    }
   ],
   "source": [
    "# Lets down sample to 1000 samples:\n",
    "nsamples = 1000\n",
    "#nsamples = 5000\n",
    "downSampleMask = np.random.choice(range(len(ufos)-1), nsamples, replace=False)\n",
    "downSampleMask # take a look"
   ]
  },
  {
   "cell_type": "markdown",
   "metadata": {},
   "source": [
    "Note: I haven't set the \"seed\" for this random pull of indicies so your list might be different!\n",
    "\n",
    "So, downSampleMask is now a list of random indicies for the UFO dataset.  Let's downsample our UFO dataset:"
   ]
  },
  {
   "cell_type": "code",
   "execution_count": 91,
   "metadata": {},
   "outputs": [],
   "source": [
    "ufosDS = ufos.loc[downSampleMask]"
   ]
  },
  {
   "cell_type": "code",
   "execution_count": 92,
   "metadata": {},
   "outputs": [
    {
     "data": {
      "text/html": [
       "<div>\n",
       "<style scoped>\n",
       "    .dataframe tbody tr th:only-of-type {\n",
       "        vertical-align: middle;\n",
       "    }\n",
       "\n",
       "    .dataframe tbody tr th {\n",
       "        vertical-align: top;\n",
       "    }\n",
       "\n",
       "    .dataframe thead th {\n",
       "        text-align: right;\n",
       "    }\n",
       "</style>\n",
       "<table border=\"1\" class=\"dataframe\">\n",
       "  <thead>\n",
       "    <tr style=\"text-align: right;\">\n",
       "      <th></th>\n",
       "      <th>date</th>\n",
       "      <th>city</th>\n",
       "      <th>state</th>\n",
       "      <th>country</th>\n",
       "      <th>shape</th>\n",
       "      <th>duration_seconds</th>\n",
       "      <th>duration</th>\n",
       "      <th>comment</th>\n",
       "      <th>report_date</th>\n",
       "      <th>latitude</th>\n",
       "      <th>longitude</th>\n",
       "    </tr>\n",
       "  </thead>\n",
       "  <tbody>\n",
       "    <tr>\n",
       "      <th>20334</th>\n",
       "      <td>2012-12-24 18:45:00</td>\n",
       "      <td>deep river</td>\n",
       "      <td>ct</td>\n",
       "      <td>us</td>\n",
       "      <td>fireball</td>\n",
       "      <td>120.0</td>\n",
       "      <td>2 minutes</td>\n",
       "      <td>4 red glowing orbs in the southern sky &amp;#44&amp;#4...</td>\n",
       "      <td>2013-02-04</td>\n",
       "      <td>41.385556</td>\n",
       "      <td>-72.436111</td>\n",
       "    </tr>\n",
       "    <tr>\n",
       "      <th>25196</th>\n",
       "      <td>1999-01-08 23:30:00</td>\n",
       "      <td>carmel (i-49)</td>\n",
       "      <td>la</td>\n",
       "      <td>us</td>\n",
       "      <td>light</td>\n",
       "      <td>60.0</td>\n",
       "      <td>1min</td>\n",
       "      <td>i was driving on i49. when my tractortrailor s...</td>\n",
       "      <td>2002-09-19</td>\n",
       "      <td>32.087222</td>\n",
       "      <td>-93.620556</td>\n",
       "    </tr>\n",
       "    <tr>\n",
       "      <th>76644</th>\n",
       "      <td>2006-09-02 03:00:00</td>\n",
       "      <td>shelby township</td>\n",
       "      <td>mi</td>\n",
       "      <td>unknown</td>\n",
       "      <td>other</td>\n",
       "      <td>3600.0</td>\n",
       "      <td>1 hour</td>\n",
       "      <td>Craft that appeared as a flashing cloud hiding...</td>\n",
       "      <td>2006-10-30</td>\n",
       "      <td>42.670782</td>\n",
       "      <td>-83.032993</td>\n",
       "    </tr>\n",
       "    <tr>\n",
       "      <th>45225</th>\n",
       "      <td>2008-05-31 23:30:00</td>\n",
       "      <td>lake texoma</td>\n",
       "      <td>tx</td>\n",
       "      <td>unknown</td>\n",
       "      <td>triangle</td>\n",
       "      <td>180.0</td>\n",
       "      <td>3 minutes</td>\n",
       "      <td>Translucent UFO Triangle over Texas/Oaklahoma....</td>\n",
       "      <td>2008-06-12</td>\n",
       "      <td>33.894680</td>\n",
       "      <td>-96.674504</td>\n",
       "    </tr>\n",
       "    <tr>\n",
       "      <th>39897</th>\n",
       "      <td>2008-04-30 09:00:00</td>\n",
       "      <td>las vegan</td>\n",
       "      <td>nv</td>\n",
       "      <td>unknown</td>\n",
       "      <td>other</td>\n",
       "      <td>300.0</td>\n",
       "      <td>5 min</td>\n",
       "      <td>30 OR MORE STAR LIKE OBJECT FLYING IN MOVING F...</td>\n",
       "      <td>2008-06-12</td>\n",
       "      <td>36.255123</td>\n",
       "      <td>-115.238349</td>\n",
       "    </tr>\n",
       "    <tr>\n",
       "      <th>...</th>\n",
       "      <td>...</td>\n",
       "      <td>...</td>\n",
       "      <td>...</td>\n",
       "      <td>...</td>\n",
       "      <td>...</td>\n",
       "      <td>...</td>\n",
       "      <td>...</td>\n",
       "      <td>...</td>\n",
       "      <td>...</td>\n",
       "      <td>...</td>\n",
       "      <td>...</td>\n",
       "    </tr>\n",
       "    <tr>\n",
       "      <th>20440</th>\n",
       "      <td>2000-12-25 12:20:00</td>\n",
       "      <td>tucson</td>\n",
       "      <td>az</td>\n",
       "      <td>us</td>\n",
       "      <td>cigar</td>\n",
       "      <td>4.0</td>\n",
       "      <td>3-4 seconds</td>\n",
       "      <td>Shiny silver object that reflected the sun eme...</td>\n",
       "      <td>2001-01-03</td>\n",
       "      <td>32.221667</td>\n",
       "      <td>-110.925833</td>\n",
       "    </tr>\n",
       "    <tr>\n",
       "      <th>15503</th>\n",
       "      <td>2014-01-16 18:00:00</td>\n",
       "      <td>canon city</td>\n",
       "      <td>co</td>\n",
       "      <td>us</td>\n",
       "      <td>sphere</td>\n",
       "      <td>20.0</td>\n",
       "      <td>20 seconds</td>\n",
       "      <td>Bright&amp;#44 round object flashed brilliant whit...</td>\n",
       "      <td>2014-01-24</td>\n",
       "      <td>38.400000</td>\n",
       "      <td>-105.216667</td>\n",
       "    </tr>\n",
       "    <tr>\n",
       "      <th>21333</th>\n",
       "      <td>2004-12-30 20:30:00</td>\n",
       "      <td>wellsville</td>\n",
       "      <td>ny</td>\n",
       "      <td>us</td>\n",
       "      <td>fireball</td>\n",
       "      <td>180.0</td>\n",
       "      <td>3 minutes</td>\n",
       "      <td>Bright orange glowing object that hovered&amp;#44 ...</td>\n",
       "      <td>2005-01-11</td>\n",
       "      <td>42.121944</td>\n",
       "      <td>-77.948333</td>\n",
       "    </tr>\n",
       "    <tr>\n",
       "      <th>24924</th>\n",
       "      <td>2012-01-06 09:05:00</td>\n",
       "      <td>tucson</td>\n",
       "      <td>az</td>\n",
       "      <td>us</td>\n",
       "      <td>light</td>\n",
       "      <td>10.0</td>\n",
       "      <td>5 to 10 seconds</td>\n",
       "      <td>In Tucson Az I saw a point of light moving ove...</td>\n",
       "      <td>2012-01-12</td>\n",
       "      <td>32.221667</td>\n",
       "      <td>-110.925833</td>\n",
       "    </tr>\n",
       "    <tr>\n",
       "      <th>5554</th>\n",
       "      <td>2008-10-30 19:50:00</td>\n",
       "      <td>palos verdes</td>\n",
       "      <td>ca</td>\n",
       "      <td>unknown</td>\n",
       "      <td>circle</td>\n",
       "      <td>180.0</td>\n",
       "      <td>2-3 minutes</td>\n",
       "      <td>Circular Flying Craft with glowing tube of lig...</td>\n",
       "      <td>2009-01-10</td>\n",
       "      <td>33.744461</td>\n",
       "      <td>-118.387017</td>\n",
       "    </tr>\n",
       "  </tbody>\n",
       "</table>\n",
       "<p>1000 rows × 11 columns</p>\n",
       "</div>"
      ],
      "text/plain": [
       "                     date             city state  country     shape  \\\n",
       "20334 2012-12-24 18:45:00       deep river    ct       us  fireball   \n",
       "25196 1999-01-08 23:30:00    carmel (i-49)    la       us     light   \n",
       "76644 2006-09-02 03:00:00  shelby township    mi  unknown     other   \n",
       "45225 2008-05-31 23:30:00      lake texoma    tx  unknown  triangle   \n",
       "39897 2008-04-30 09:00:00        las vegan    nv  unknown     other   \n",
       "...                   ...              ...   ...      ...       ...   \n",
       "20440 2000-12-25 12:20:00           tucson    az       us     cigar   \n",
       "15503 2014-01-16 18:00:00       canon city    co       us    sphere   \n",
       "21333 2004-12-30 20:30:00       wellsville    ny       us  fireball   \n",
       "24924 2012-01-06 09:05:00           tucson    az       us     light   \n",
       "5554  2008-10-30 19:50:00     palos verdes    ca  unknown    circle   \n",
       "\n",
       "       duration_seconds         duration  \\\n",
       "20334             120.0        2 minutes   \n",
       "25196              60.0             1min   \n",
       "76644            3600.0           1 hour   \n",
       "45225             180.0        3 minutes   \n",
       "39897             300.0            5 min   \n",
       "...                 ...              ...   \n",
       "20440               4.0      3-4 seconds   \n",
       "15503              20.0       20 seconds   \n",
       "21333             180.0        3 minutes   \n",
       "24924              10.0  5 to 10 seconds   \n",
       "5554              180.0      2-3 minutes   \n",
       "\n",
       "                                                 comment report_date  \\\n",
       "20334  4 red glowing orbs in the southern sky &#44&#4...  2013-02-04   \n",
       "25196  i was driving on i49. when my tractortrailor s...  2002-09-19   \n",
       "76644  Craft that appeared as a flashing cloud hiding...  2006-10-30   \n",
       "45225  Translucent UFO Triangle over Texas/Oaklahoma....  2008-06-12   \n",
       "39897  30 OR MORE STAR LIKE OBJECT FLYING IN MOVING F...  2008-06-12   \n",
       "...                                                  ...         ...   \n",
       "20440  Shiny silver object that reflected the sun eme...  2001-01-03   \n",
       "15503  Bright&#44 round object flashed brilliant whit...  2014-01-24   \n",
       "21333  Bright orange glowing object that hovered&#44 ...  2005-01-11   \n",
       "24924  In Tucson Az I saw a point of light moving ove...  2012-01-12   \n",
       "5554   Circular Flying Craft with glowing tube of lig...  2009-01-10   \n",
       "\n",
       "        latitude   longitude  \n",
       "20334  41.385556  -72.436111  \n",
       "25196  32.087222  -93.620556  \n",
       "76644  42.670782  -83.032993  \n",
       "45225  33.894680  -96.674504  \n",
       "39897  36.255123 -115.238349  \n",
       "...          ...         ...  \n",
       "20440  32.221667 -110.925833  \n",
       "15503  38.400000 -105.216667  \n",
       "21333  42.121944  -77.948333  \n",
       "24924  32.221667 -110.925833  \n",
       "5554   33.744461 -118.387017  \n",
       "\n",
       "[1000 rows x 11 columns]"
      ]
     },
     "execution_count": 92,
     "metadata": {},
     "output_type": "execute_result"
    }
   ],
   "source": [
    "ufosDS"
   ]
  },
  {
   "cell_type": "markdown",
   "metadata": {},
   "source": [
    "Quick look:"
   ]
  },
  {
   "cell_type": "code",
   "execution_count": 93,
   "metadata": {},
   "outputs": [
    {
     "data": {
      "image/png": "[encoded data removed]",
      "text/plain": [
       "<Figure size 432x288 with 1 Axes>"
      ]
     },
     "metadata": {
      "needs_background": "light"
     },
     "output_type": "display_data"
    }
   ],
   "source": [
    "plt.clf() # might need this to \"get rid\" of Michigan data\n",
    "plt.plot(ufos['longitude'],ufos['latitude'],'.')\n",
    "plt.show()"
   ]
  },
  {
   "cell_type": "code",
   "execution_count": 94,
   "metadata": {},
   "outputs": [
    {
     "data": {
      "image/png": "[encoded data removed]",
      "text/plain": [
       "<Figure size 432x288 with 1 Axes>"
      ]
     },
     "metadata": {
      "needs_background": "light"
     },
     "output_type": "display_data"
    }
   ],
   "source": [
    "plt.clf() # might need this to \"get rid\" of Michigan data\n",
    "plt.plot(ufosDS['longitude'],ufosDS['latitude'],'.')\n",
    "plt.show()"
   ]
  },
  {
   "cell_type": "markdown",
   "metadata": {},
   "source": [
    "We can try with a scatter plot as well which allows us to add in another encoding with color:"
   ]
  },
  {
   "cell_type": "code",
   "execution_count": 95,
   "metadata": {},
   "outputs": [
    {
     "data": {
      "image/png": "[encoded data removed]",
      "text/plain": [
       "<Figure size 432x288 with 1 Axes>"
      ]
     },
     "metadata": {
      "needs_background": "light"
     },
     "output_type": "display_data"
    }
   ],
   "source": [
    "plt.clf()\n",
    "plt.scatter(ufosDS['longitude'],ufosDS['latitude'], c=np.log10(ufosDS['duration_seconds']), cmap='rainbow')\n",
    "plt.show()"
   ]
  },
  {
   "cell_type": "markdown",
   "metadata": {},
   "source": [
    "Hint:"
   ]
  },
  {
   "cell_type": "code",
   "execution_count": 96,
   "metadata": {},
   "outputs": [
    {
     "data": {
      "text/plain": [
       "<Figure size 432x288 with 0 Axes>"
      ]
     },
     "metadata": {},
     "output_type": "display_data"
    },
    {
     "data": {
      "image/png": "[encoded data removed]",
      "text/plain": [
       "<Figure size 1440x720 with 1 Axes>"
      ]
     },
     "metadata": {
      "needs_background": "light"
     },
     "output_type": "display_data"
    }
   ],
   "source": [
    "plt.clf()\n",
    "fig, ax = plt.subplots(figsize=(20,10))\n",
    "ufosDS.hist(column='longitude', ax=ax)\n",
    "plt.show()"
   ]
  },
  {
   "cell_type": "code",
   "execution_count": null,
   "metadata": {},
   "outputs": [],
   "source": []
  }
 ],
 "metadata": {
  "kernelspec": {
   "display_name": "Python 3",
   "language": "python",
   "name": "python3"
  },
  "language_info": {
   "codemirror_mode": {
    "name": "ipython",
    "version": 3
   },
   "file_extension": ".py",
   "mimetype": "text/x-python",
   "name": "python",
   "nbconvert_exporter": "python",
   "pygments_lexer": "ipython3",
   "version": "3.8.5"
  }
 },
 "nbformat": 4,
 "nbformat_minor": 4
}
