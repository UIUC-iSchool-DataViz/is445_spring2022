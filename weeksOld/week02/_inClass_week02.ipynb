{
 "cells": [
  {
   "cell_type": "markdown",
   "id": "extensive-annual",
   "metadata": {},
   "source": [
    "# In class, week 02\n",
    "\n",
    "## First: reminder of last week"
   ]
  },
  {
   "cell_type": "code",
   "execution_count": 3,
   "id": "recorded-basement",
   "metadata": {},
   "outputs": [],
   "source": [
    "import matplotlib.pyplot as plt\n",
    "import numpy as np\n",
    "from datetime import datetime"
   ]
  },
  {
   "cell_type": "markdown",
   "id": "cheap-poland",
   "metadata": {},
   "source": [
    "Reading in data from a CSV file (the hard way!)"
   ]
  },
  {
   "cell_type": "code",
   "execution_count": 4,
   "id": "reserved-spouse",
   "metadata": {},
   "outputs": [],
   "source": [
    "def converter(v): # a converter for our csv file (it has some dates)\n",
    "    return datetime.strptime(v.decode(\"ascii\"), '%Y-%m-%d')"
   ]
  },
  {
   "cell_type": "code",
   "execution_count": 5,
   "id": "alleged-marshall",
   "metadata": {},
   "outputs": [],
   "source": [
    "# link to where I have stored my GDP.csv\n",
    "myFredFile = '/Users/jillnaiman/Downloads/GDP.csv'"
   ]
  },
  {
   "cell_type": "code",
   "execution_count": 6,
   "id": "connected-advocacy",
   "metadata": {},
   "outputs": [],
   "source": [
    "myFredType = np.dtype([(\"date\", datetime), (\"gdp\", np.float64)])"
   ]
  },
  {
   "cell_type": "code",
   "execution_count": 7,
   "id": "combined-uniform",
   "metadata": {},
   "outputs": [],
   "source": [
    "with open(myFredFile, \"r\") as f:\n",
    "    data = np.loadtxt(f, skiprows=1, delimiter=\",\", \n",
    "                      converters={0: converter}, \n",
    "                      dtype=myFredType)"
   ]
  },
  {
   "cell_type": "code",
   "execution_count": 8,
   "id": "specific-thompson",
   "metadata": {},
   "outputs": [
    {
     "data": {
      "text/plain": [
       "array([(datetime.datetime(1947, 1, 1, 0, 0),   243.164),\n",
       "       (datetime.datetime(1947, 4, 1, 0, 0),   245.968),\n",
       "       (datetime.datetime(1947, 7, 1, 0, 0),   249.585),\n",
       "       (datetime.datetime(1947, 10, 1, 0, 0),   259.745),\n",
       "       (datetime.datetime(1948, 1, 1, 0, 0),   265.742),\n",
       "       (datetime.datetime(1948, 4, 1, 0, 0),   272.567),\n",
       "       (datetime.datetime(1948, 7, 1, 0, 0),   279.196),\n",
       "       (datetime.datetime(1948, 10, 1, 0, 0),   280.366),\n",
       "       (datetime.datetime(1949, 1, 1, 0, 0),   275.034),\n",
       "       (datetime.datetime(1949, 4, 1, 0, 0),   271.351),\n",
       "       (datetime.datetime(1949, 7, 1, 0, 0),   272.889),\n",
       "       (datetime.datetime(1949, 10, 1, 0, 0),   270.627),\n",
       "       (datetime.datetime(1950, 1, 1, 0, 0),   280.828),\n",
       "       (datetime.datetime(1950, 4, 1, 0, 0),   290.383),\n",
       "       (datetime.datetime(1950, 7, 1, 0, 0),   308.153),\n",
       "       (datetime.datetime(1950, 10, 1, 0, 0),   319.945),\n",
       "       (datetime.datetime(1951, 1, 1, 0, 0),   336.   ),\n",
       "       (datetime.datetime(1951, 4, 1, 0, 0),   344.09 ),\n",
       "       (datetime.datetime(1951, 7, 1, 0, 0),   351.385),\n",
       "       (datetime.datetime(1951, 10, 1, 0, 0),   356.178),\n",
       "       (datetime.datetime(1952, 1, 1, 0, 0),   359.82 ),\n",
       "       (datetime.datetime(1952, 4, 1, 0, 0),   361.03 ),\n",
       "       (datetime.datetime(1952, 7, 1, 0, 0),   367.701),\n",
       "       (datetime.datetime(1952, 10, 1, 0, 0),   380.812),\n",
       "       (datetime.datetime(1953, 1, 1, 0, 0),   387.98 ),\n",
       "       (datetime.datetime(1953, 4, 1, 0, 0),   391.749),\n",
       "       (datetime.datetime(1953, 7, 1, 0, 0),   391.171),\n",
       "       (datetime.datetime(1953, 10, 1, 0, 0),   385.97 ),\n",
       "       (datetime.datetime(1954, 1, 1, 0, 0),   385.345),\n",
       "       (datetime.datetime(1954, 4, 1, 0, 0),   386.121),\n",
       "       (datetime.datetime(1954, 7, 1, 0, 0),   390.996),\n",
       "       (datetime.datetime(1954, 10, 1, 0, 0),   399.734),\n",
       "       (datetime.datetime(1955, 1, 1, 0, 0),   413.073),\n",
       "       (datetime.datetime(1955, 4, 1, 0, 0),   421.532),\n",
       "       (datetime.datetime(1955, 7, 1, 0, 0),   430.221),\n",
       "       (datetime.datetime(1955, 10, 1, 0, 0),   437.092),\n",
       "       (datetime.datetime(1956, 1, 1, 0, 0),   439.746),\n",
       "       (datetime.datetime(1956, 4, 1, 0, 0),   446.01 ),\n",
       "       (datetime.datetime(1956, 7, 1, 0, 0),   451.191),\n",
       "       (datetime.datetime(1956, 10, 1, 0, 0),   460.463),\n",
       "       (datetime.datetime(1957, 1, 1, 0, 0),   469.779),\n",
       "       (datetime.datetime(1957, 4, 1, 0, 0),   472.025),\n",
       "       (datetime.datetime(1957, 7, 1, 0, 0),   479.49 ),\n",
       "       (datetime.datetime(1957, 10, 1, 0, 0),   474.864),\n",
       "       (datetime.datetime(1958, 1, 1, 0, 0),   467.54 ),\n",
       "       (datetime.datetime(1958, 4, 1, 0, 0),   471.978),\n",
       "       (datetime.datetime(1958, 7, 1, 0, 0),   485.841),\n",
       "       (datetime.datetime(1958, 10, 1, 0, 0),   499.555),\n",
       "       (datetime.datetime(1959, 1, 1, 0, 0),   510.33 ),\n",
       "       (datetime.datetime(1959, 4, 1, 0, 0),   522.653),\n",
       "       (datetime.datetime(1959, 7, 1, 0, 0),   525.034),\n",
       "       (datetime.datetime(1959, 10, 1, 0, 0),   528.6  ),\n",
       "       (datetime.datetime(1960, 1, 1, 0, 0),   542.648),\n",
       "       (datetime.datetime(1960, 4, 1, 0, 0),   541.08 ),\n",
       "       (datetime.datetime(1960, 7, 1, 0, 0),   545.604),\n",
       "       (datetime.datetime(1960, 10, 1, 0, 0),   540.197),\n",
       "       (datetime.datetime(1961, 1, 1, 0, 0),   545.018),\n",
       "       (datetime.datetime(1961, 4, 1, 0, 0),   555.545),\n",
       "       (datetime.datetime(1961, 7, 1, 0, 0),   567.664),\n",
       "       (datetime.datetime(1961, 10, 1, 0, 0),   580.612),\n",
       "       (datetime.datetime(1962, 1, 1, 0, 0),   594.013),\n",
       "       (datetime.datetime(1962, 4, 1, 0, 0),   600.366),\n",
       "       (datetime.datetime(1962, 7, 1, 0, 0),   609.027),\n",
       "       (datetime.datetime(1962, 10, 1, 0, 0),   612.28 ),\n",
       "       (datetime.datetime(1963, 1, 1, 0, 0),   621.672),\n",
       "       (datetime.datetime(1963, 4, 1, 0, 0),   629.752),\n",
       "       (datetime.datetime(1963, 7, 1, 0, 0),   644.444),\n",
       "       (datetime.datetime(1963, 10, 1, 0, 0),   653.938),\n",
       "       (datetime.datetime(1964, 1, 1, 0, 0),   669.822),\n",
       "       (datetime.datetime(1964, 4, 1, 0, 0),   678.674),\n",
       "       (datetime.datetime(1964, 7, 1, 0, 0),   692.031),\n",
       "       (datetime.datetime(1964, 10, 1, 0, 0),   697.319),\n",
       "       (datetime.datetime(1965, 1, 1, 0, 0),   717.79 ),\n",
       "       (datetime.datetime(1965, 4, 1, 0, 0),   730.191),\n",
       "       (datetime.datetime(1965, 7, 1, 0, 0),   749.323),\n",
       "       (datetime.datetime(1965, 10, 1, 0, 0),   771.857),\n",
       "       (datetime.datetime(1966, 1, 1, 0, 0),   795.734),\n",
       "       (datetime.datetime(1966, 4, 1, 0, 0),   804.981),\n",
       "       (datetime.datetime(1966, 7, 1, 0, 0),   819.638),\n",
       "       (datetime.datetime(1966, 10, 1, 0, 0),   833.302),\n",
       "       (datetime.datetime(1967, 1, 1, 0, 0),   844.17 ),\n",
       "       (datetime.datetime(1967, 4, 1, 0, 0),   848.983),\n",
       "       (datetime.datetime(1967, 7, 1, 0, 0),   865.233),\n",
       "       (datetime.datetime(1967, 10, 1, 0, 0),   881.439),\n",
       "       (datetime.datetime(1968, 1, 1, 0, 0),   909.387),\n",
       "       (datetime.datetime(1968, 4, 1, 0, 0),   934.344),\n",
       "       (datetime.datetime(1968, 7, 1, 0, 0),   950.825),\n",
       "       (datetime.datetime(1968, 10, 1, 0, 0),   968.03 ),\n",
       "       (datetime.datetime(1969, 1, 1, 0, 0),   993.337),\n",
       "       (datetime.datetime(1969, 4, 1, 0, 0),  1009.02 ),\n",
       "       (datetime.datetime(1969, 7, 1, 0, 0),  1029.956),\n",
       "       (datetime.datetime(1969, 10, 1, 0, 0),  1038.147),\n",
       "       (datetime.datetime(1970, 1, 1, 0, 0),  1051.2  ),\n",
       "       (datetime.datetime(1970, 4, 1, 0, 0),  1067.375),\n",
       "       (datetime.datetime(1970, 7, 1, 0, 0),  1086.059),\n",
       "       (datetime.datetime(1970, 10, 1, 0, 0),  1088.608),\n",
       "       (datetime.datetime(1971, 1, 1, 0, 0),  1135.156),\n",
       "       (datetime.datetime(1971, 4, 1, 0, 0),  1156.271),\n",
       "       (datetime.datetime(1971, 7, 1, 0, 0),  1177.675),\n",
       "       (datetime.datetime(1971, 10, 1, 0, 0),  1190.297),\n",
       "       (datetime.datetime(1972, 1, 1, 0, 0),  1230.609),\n",
       "       (datetime.datetime(1972, 4, 1, 0, 0),  1266.369),\n",
       "       (datetime.datetime(1972, 7, 1, 0, 0),  1290.566),\n",
       "       (datetime.datetime(1972, 10, 1, 0, 0),  1328.904),\n",
       "       (datetime.datetime(1973, 1, 1, 0, 0),  1377.49 ),\n",
       "       (datetime.datetime(1973, 4, 1, 0, 0),  1413.887),\n",
       "       (datetime.datetime(1973, 7, 1, 0, 0),  1433.838),\n",
       "       (datetime.datetime(1973, 10, 1, 0, 0),  1476.289),\n",
       "       (datetime.datetime(1974, 1, 1, 0, 0),  1491.209),\n",
       "       (datetime.datetime(1974, 4, 1, 0, 0),  1530.056),\n",
       "       (datetime.datetime(1974, 7, 1, 0, 0),  1560.026),\n",
       "       (datetime.datetime(1974, 10, 1, 0, 0),  1599.679),\n",
       "       (datetime.datetime(1975, 1, 1, 0, 0),  1616.116),\n",
       "       (datetime.datetime(1975, 4, 1, 0, 0),  1651.853),\n",
       "       (datetime.datetime(1975, 7, 1, 0, 0),  1709.82 ),\n",
       "       (datetime.datetime(1975, 10, 1, 0, 0),  1761.831),\n",
       "       (datetime.datetime(1976, 1, 1, 0, 0),  1820.487),\n",
       "       (datetime.datetime(1976, 4, 1, 0, 0),  1852.332),\n",
       "       (datetime.datetime(1976, 7, 1, 0, 0),  1886.558),\n",
       "       (datetime.datetime(1976, 10, 1, 0, 0),  1934.273),\n",
       "       (datetime.datetime(1977, 1, 1, 0, 0),  1988.648),\n",
       "       (datetime.datetime(1977, 4, 1, 0, 0),  2055.909),\n",
       "       (datetime.datetime(1977, 7, 1, 0, 0),  2118.473),\n",
       "       (datetime.datetime(1977, 10, 1, 0, 0),  2164.27 ),\n",
       "       (datetime.datetime(1978, 1, 1, 0, 0),  2202.76 ),\n",
       "       (datetime.datetime(1978, 4, 1, 0, 0),  2331.633),\n",
       "       (datetime.datetime(1978, 7, 1, 0, 0),  2395.053),\n",
       "       (datetime.datetime(1978, 10, 1, 0, 0),  2476.949),\n",
       "       (datetime.datetime(1979, 1, 1, 0, 0),  2526.61 ),\n",
       "       (datetime.datetime(1979, 4, 1, 0, 0),  2591.247),\n",
       "       (datetime.datetime(1979, 7, 1, 0, 0),  2667.565),\n",
       "       (datetime.datetime(1979, 10, 1, 0, 0),  2723.883),\n",
       "       (datetime.datetime(1980, 1, 1, 0, 0),  2789.842),\n",
       "       (datetime.datetime(1980, 4, 1, 0, 0),  2797.352),\n",
       "       (datetime.datetime(1980, 7, 1, 0, 0),  2856.483),\n",
       "       (datetime.datetime(1980, 10, 1, 0, 0),  2985.557),\n",
       "       (datetime.datetime(1981, 1, 1, 0, 0),  3124.206),\n",
       "       (datetime.datetime(1981, 4, 1, 0, 0),  3162.532),\n",
       "       (datetime.datetime(1981, 7, 1, 0, 0),  3260.609),\n",
       "       (datetime.datetime(1981, 10, 1, 0, 0),  3280.818),\n",
       "       (datetime.datetime(1982, 1, 1, 0, 0),  3274.302),\n",
       "       (datetime.datetime(1982, 4, 1, 0, 0),  3331.972),\n",
       "       (datetime.datetime(1982, 7, 1, 0, 0),  3366.322),\n",
       "       (datetime.datetime(1982, 10, 1, 0, 0),  3402.561),\n",
       "       (datetime.datetime(1983, 1, 1, 0, 0),  3473.413),\n",
       "       (datetime.datetime(1983, 4, 1, 0, 0),  3578.848),\n",
       "       (datetime.datetime(1983, 7, 1, 0, 0),  3689.179),\n",
       "       (datetime.datetime(1983, 10, 1, 0, 0),  3794.706),\n",
       "       (datetime.datetime(1984, 1, 1, 0, 0),  3908.054),\n",
       "       (datetime.datetime(1984, 4, 1, 0, 0),  4009.601),\n",
       "       (datetime.datetime(1984, 7, 1, 0, 0),  4084.25 ),\n",
       "       (datetime.datetime(1984, 10, 1, 0, 0),  4148.551),\n",
       "       (datetime.datetime(1985, 1, 1, 0, 0),  4230.168),\n",
       "       (datetime.datetime(1985, 4, 1, 0, 0),  4294.887),\n",
       "       (datetime.datetime(1985, 7, 1, 0, 0),  4386.773),\n",
       "       (datetime.datetime(1985, 10, 1, 0, 0),  4444.094),\n",
       "       (datetime.datetime(1986, 1, 1, 0, 0),  4507.894),\n",
       "       (datetime.datetime(1986, 4, 1, 0, 0),  4545.34 ),\n",
       "       (datetime.datetime(1986, 7, 1, 0, 0),  4607.669),\n",
       "       (datetime.datetime(1986, 10, 1, 0, 0),  4657.627),\n",
       "       (datetime.datetime(1987, 1, 1, 0, 0),  4722.156),\n",
       "       (datetime.datetime(1987, 4, 1, 0, 0),  4806.16 ),\n",
       "       (datetime.datetime(1987, 7, 1, 0, 0),  4884.555),\n",
       "       (datetime.datetime(1987, 10, 1, 0, 0),  5007.994),\n",
       "       (datetime.datetime(1988, 1, 1, 0, 0),  5073.372),\n",
       "       (datetime.datetime(1988, 4, 1, 0, 0),  5190.036),\n",
       "       (datetime.datetime(1988, 7, 1, 0, 0),  5282.835),\n",
       "       (datetime.datetime(1988, 10, 1, 0, 0),  5399.509),\n",
       "       (datetime.datetime(1989, 1, 1, 0, 0),  5511.253),\n",
       "       (datetime.datetime(1989, 4, 1, 0, 0),  5612.463),\n",
       "       (datetime.datetime(1989, 7, 1, 0, 0),  5695.365),\n",
       "       (datetime.datetime(1989, 10, 1, 0, 0),  5747.237),\n",
       "       (datetime.datetime(1990, 1, 1, 0, 0),  5872.701),\n",
       "       (datetime.datetime(1990, 4, 1, 0, 0),  5960.028),\n",
       "       (datetime.datetime(1990, 7, 1, 0, 0),  6015.116),\n",
       "       (datetime.datetime(1990, 10, 1, 0, 0),  6004.733),\n",
       "       (datetime.datetime(1991, 1, 1, 0, 0),  6035.178),\n",
       "       (datetime.datetime(1991, 4, 1, 0, 0),  6126.862),\n",
       "       (datetime.datetime(1991, 7, 1, 0, 0),  6205.937),\n",
       "       (datetime.datetime(1991, 10, 1, 0, 0),  6264.54 ),\n",
       "       (datetime.datetime(1992, 1, 1, 0, 0),  6363.102),\n",
       "       (datetime.datetime(1992, 4, 1, 0, 0),  6470.763),\n",
       "       (datetime.datetime(1992, 7, 1, 0, 0),  6566.641),\n",
       "       (datetime.datetime(1992, 10, 1, 0, 0),  6680.803),\n",
       "       (datetime.datetime(1993, 1, 1, 0, 0),  6729.459),\n",
       "       (datetime.datetime(1993, 4, 1, 0, 0),  6808.939),\n",
       "       (datetime.datetime(1993, 7, 1, 0, 0),  6882.098),\n",
       "       (datetime.datetime(1993, 10, 1, 0, 0),  7013.738),\n",
       "       (datetime.datetime(1994, 1, 1, 0, 0),  7115.652),\n",
       "       (datetime.datetime(1994, 4, 1, 0, 0),  7246.931),\n",
       "       (datetime.datetime(1994, 7, 1, 0, 0),  7331.075),\n",
       "       (datetime.datetime(1994, 10, 1, 0, 0),  7455.288),\n",
       "       (datetime.datetime(1995, 1, 1, 0, 0),  7522.289),\n",
       "       (datetime.datetime(1995, 4, 1, 0, 0),  7580.997),\n",
       "       (datetime.datetime(1995, 7, 1, 0, 0),  7683.125),\n",
       "       (datetime.datetime(1995, 10, 1, 0, 0),  7772.586),\n",
       "       (datetime.datetime(1996, 1, 1, 0, 0),  7868.468),\n",
       "       (datetime.datetime(1996, 4, 1, 0, 0),  8032.84 ),\n",
       "       (datetime.datetime(1996, 7, 1, 0, 0),  8131.408),\n",
       "       (datetime.datetime(1996, 10, 1, 0, 0),  8259.771),\n",
       "       (datetime.datetime(1997, 1, 1, 0, 0),  8362.655),\n",
       "       (datetime.datetime(1997, 4, 1, 0, 0),  8518.825),\n",
       "       (datetime.datetime(1997, 7, 1, 0, 0),  8662.823),\n",
       "       (datetime.datetime(1997, 10, 1, 0, 0),  8765.907),\n",
       "       (datetime.datetime(1998, 1, 1, 0, 0),  8866.48 ),\n",
       "       (datetime.datetime(1998, 4, 1, 0, 0),  8969.699),\n",
       "       (datetime.datetime(1998, 7, 1, 0, 0),  9121.097),\n",
       "       (datetime.datetime(1998, 10, 1, 0, 0),  9293.991),\n",
       "       (datetime.datetime(1999, 1, 1, 0, 0),  9417.264),\n",
       "       (datetime.datetime(1999, 4, 1, 0, 0),  9524.152),\n",
       "       (datetime.datetime(1999, 7, 1, 0, 0),  9681.856),\n",
       "       (datetime.datetime(1999, 10, 1, 0, 0),  9899.378),\n",
       "       (datetime.datetime(2000, 1, 1, 0, 0), 10002.857),\n",
       "       (datetime.datetime(2000, 4, 1, 0, 0), 10247.679),\n",
       "       (datetime.datetime(2000, 7, 1, 0, 0), 10319.825),\n",
       "       (datetime.datetime(2000, 10, 1, 0, 0), 10439.025),\n",
       "       (datetime.datetime(2001, 1, 1, 0, 0), 10472.879),\n",
       "       (datetime.datetime(2001, 4, 1, 0, 0), 10597.822),\n",
       "       (datetime.datetime(2001, 7, 1, 0, 0), 10596.294),\n",
       "       (datetime.datetime(2001, 10, 1, 0, 0), 10660.294),\n",
       "       (datetime.datetime(2002, 1, 1, 0, 0), 10788.952),\n",
       "       (datetime.datetime(2002, 4, 1, 0, 0), 10893.207),\n",
       "       (datetime.datetime(2002, 7, 1, 0, 0), 10992.051),\n",
       "       (datetime.datetime(2002, 10, 1, 0, 0), 11071.463),\n",
       "       (datetime.datetime(2003, 1, 1, 0, 0), 11183.507),\n",
       "       (datetime.datetime(2003, 4, 1, 0, 0), 11312.875),\n",
       "       (datetime.datetime(2003, 7, 1, 0, 0), 11567.326),\n",
       "       (datetime.datetime(2003, 10, 1, 0, 0), 11769.275),\n",
       "       (datetime.datetime(2004, 1, 1, 0, 0), 11920.169),\n",
       "       (datetime.datetime(2004, 4, 1, 0, 0), 12108.987),\n",
       "       (datetime.datetime(2004, 7, 1, 0, 0), 12303.34 ),\n",
       "       (datetime.datetime(2004, 10, 1, 0, 0), 12522.425),\n",
       "       (datetime.datetime(2005, 1, 1, 0, 0), 12761.337),\n",
       "       (datetime.datetime(2005, 4, 1, 0, 0), 12910.022),\n",
       "       (datetime.datetime(2005, 7, 1, 0, 0), 13142.873),\n",
       "       (datetime.datetime(2005, 10, 1, 0, 0), 13332.316),\n",
       "       (datetime.datetime(2006, 1, 1, 0, 0), 13603.933),\n",
       "       (datetime.datetime(2006, 4, 1, 0, 0), 13749.806),\n",
       "       (datetime.datetime(2006, 7, 1, 0, 0), 13867.469),\n",
       "       (datetime.datetime(2006, 10, 1, 0, 0), 14037.228),\n",
       "       (datetime.datetime(2007, 1, 1, 0, 0), 14208.569),\n",
       "       (datetime.datetime(2007, 4, 1, 0, 0), 14382.363),\n",
       "       (datetime.datetime(2007, 7, 1, 0, 0), 14535.003),\n",
       "       (datetime.datetime(2007, 10, 1, 0, 0), 14681.501),\n",
       "       (datetime.datetime(2008, 1, 1, 0, 0), 14651.039),\n",
       "       (datetime.datetime(2008, 4, 1, 0, 0), 14805.611),\n",
       "       (datetime.datetime(2008, 7, 1, 0, 0), 14835.187),\n",
       "       (datetime.datetime(2008, 10, 1, 0, 0), 14559.543),\n",
       "       (datetime.datetime(2009, 1, 1, 0, 0), 14394.547),\n",
       "       (datetime.datetime(2009, 4, 1, 0, 0), 14352.85 ),\n",
       "       (datetime.datetime(2009, 7, 1, 0, 0), 14420.312),\n",
       "       (datetime.datetime(2009, 10, 1, 0, 0), 14628.021),\n",
       "       (datetime.datetime(2010, 1, 1, 0, 0), 14721.35 ),\n",
       "       (datetime.datetime(2010, 4, 1, 0, 0), 14926.098),\n",
       "       (datetime.datetime(2010, 7, 1, 0, 0), 15079.917),\n",
       "       (datetime.datetime(2010, 10, 1, 0, 0), 15240.843),\n",
       "       (datetime.datetime(2011, 1, 1, 0, 0), 15285.828),\n",
       "       (datetime.datetime(2011, 4, 1, 0, 0), 15496.189),\n",
       "       (datetime.datetime(2011, 7, 1, 0, 0), 15591.85 ),\n",
       "       (datetime.datetime(2011, 10, 1, 0, 0), 15796.46 ),\n",
       "       (datetime.datetime(2012, 1, 1, 0, 0), 16019.758),\n",
       "       (datetime.datetime(2012, 4, 1, 0, 0), 16152.257),\n",
       "       (datetime.datetime(2012, 7, 1, 0, 0), 16257.151),\n",
       "       (datetime.datetime(2012, 10, 1, 0, 0), 16358.863),\n",
       "       (datetime.datetime(2013, 1, 1, 0, 0), 16569.591),\n",
       "       (datetime.datetime(2013, 4, 1, 0, 0), 16637.926),\n",
       "       (datetime.datetime(2013, 7, 1, 0, 0), 16848.748),\n",
       "       (datetime.datetime(2013, 10, 1, 0, 0), 17083.137),\n",
       "       (datetime.datetime(2014, 1, 1, 0, 0), 17104.555),\n",
       "       (datetime.datetime(2014, 4, 1, 0, 0), 17432.909),\n",
       "       (datetime.datetime(2014, 7, 1, 0, 0), 17721.657),\n",
       "       (datetime.datetime(2014, 10, 1, 0, 0), 17849.912),\n",
       "       (datetime.datetime(2015, 1, 1, 0, 0), 17984.178),\n",
       "       (datetime.datetime(2015, 4, 1, 0, 0), 18219.405),\n",
       "       (datetime.datetime(2015, 7, 1, 0, 0), 18344.713),\n",
       "       (datetime.datetime(2015, 10, 1, 0, 0), 18350.825),\n",
       "       (datetime.datetime(2016, 1, 1, 0, 0), 18424.283),\n",
       "       (datetime.datetime(2016, 4, 1, 0, 0), 18637.253),\n",
       "       (datetime.datetime(2016, 7, 1, 0, 0), 18806.743),\n",
       "       (datetime.datetime(2016, 10, 1, 0, 0), 18991.883),\n",
       "       (datetime.datetime(2017, 1, 1, 0, 0), 19190.431),\n",
       "       (datetime.datetime(2017, 4, 1, 0, 0), 19356.649),\n",
       "       (datetime.datetime(2017, 7, 1, 0, 0), 19611.704),\n",
       "       (datetime.datetime(2017, 10, 1, 0, 0), 19918.91 ),\n",
       "       (datetime.datetime(2018, 1, 1, 0, 0), 20163.159),\n",
       "       (datetime.datetime(2018, 4, 1, 0, 0), 20510.177),\n",
       "       (datetime.datetime(2018, 7, 1, 0, 0), 20749.752),\n",
       "       (datetime.datetime(2018, 10, 1, 0, 0), 20897.804),\n",
       "       (datetime.datetime(2019, 1, 1, 0, 0), 21098.827),\n",
       "       (datetime.datetime(2019, 4, 1, 0, 0), 21340.267),\n",
       "       (datetime.datetime(2019, 7, 1, 0, 0), 21542.54 )],\n",
       "      dtype=[('date', 'O'), ('gdp', '<f8')])"
      ]
     },
     "execution_count": 8,
     "metadata": {},
     "output_type": "execute_result"
    }
   ],
   "source": [
    "data"
   ]
  },
  {
   "cell_type": "code",
   "execution_count": 12,
   "id": "vietnamese-squad",
   "metadata": {},
   "outputs": [
    {
     "data": {
      "text/plain": [
       "Text(0, 0.5, 'GDP in Billions')"
      ]
     },
     "execution_count": 12,
     "metadata": {},
     "output_type": "execute_result"
    },
    {
     "data": {
      "image/png": "[encoded data removed]",
      "text/plain": [
       "<Figure size 432x288 with 1 Axes>"
      ]
     },
     "metadata": {
      "needs_background": "light"
     },
     "output_type": "display_data"
    }
   ],
   "source": [
    "plt.plot(data['date'], data['gdp'], 'o-')\n",
    "plt.xlabel('Date')\n",
    "plt.ylabel('GDP in Billions')"
   ]
  },
  {
   "cell_type": "markdown",
   "id": "alleged-causing",
   "metadata": {},
   "source": [
    "We've been using \"plt\" to make \"quick plots\" but sometimes we want to have access to the different objects that make up our plot (axis, figure canvas, etc)."
   ]
  },
  {
   "cell_type": "code",
   "execution_count": 18,
   "id": "convertible-territory",
   "metadata": {},
   "outputs": [
    {
     "data": {
      "image/png": "[encoded data removed]",
      "text/plain": [
       "<Figure size 360x216 with 1 Axes>"
      ]
     },
     "metadata": {
      "needs_background": "light"
     },
     "output_type": "display_data"
    }
   ],
   "source": [
    "fig, ax = plt.subplots(figsize=(5,3))\n",
    "\n",
    "ax.plot(data['date'], data['gdp'], 'o-')\n",
    "\n",
    "plt.show()"
   ]
  },
  {
   "cell_type": "code",
   "execution_count": 19,
   "id": "balanced-equivalent",
   "metadata": {},
   "outputs": [
    {
     "data": {
      "text/plain": [
       "<matplotlib.axes._subplots.AxesSubplot at 0x7feb688e9610>"
      ]
     },
     "execution_count": 19,
     "metadata": {},
     "output_type": "execute_result"
    }
   ],
   "source": [
    "ax\n",
    "# printing out what our axes object is"
   ]
  },
  {
   "cell_type": "markdown",
   "id": "endangered-sydney",
   "metadata": {},
   "source": [
    "## Dealing with Raster Images"
   ]
  },
  {
   "cell_type": "markdown",
   "id": "collectible-british",
   "metadata": {},
   "source": [
    "We'll be using the PILLOW image package to read in our image data.\n",
    "\n",
    "(OpenCV)"
   ]
  },
  {
   "cell_type": "code",
   "execution_count": 20,
   "id": "following-salad",
   "metadata": {},
   "outputs": [],
   "source": [
    "import PIL.Image as Image # importing ONLY the Image set of functions"
   ]
  },
  {
   "cell_type": "markdown",
   "id": "challenging-earth",
   "metadata": {},
   "source": [
    "The PILLOW package has a lot of drawing/cropping/etc functions in it, but we'll mostly be using it as a data reader."
   ]
  },
  {
   "cell_type": "code",
   "execution_count": 23,
   "id": "desirable-astronomy",
   "metadata": {},
   "outputs": [],
   "source": [
    "#im = Image.open(\"/Users/jillnaiman/Downloads/stitch_reworked.png\")\n",
    "# another option if you've stored the stitch_reworked.png in the same file as this notebook:\n",
    "im = Image.open(\"stitch_reworked.png\") # looking ahead: this is actually a better option!"
   ]
  },
  {
   "cell_type": "code",
   "execution_count": 24,
   "id": "capable-improvement",
   "metadata": {},
   "outputs": [
    {
     "data": {
      "image/png": "[encoded data removed]",
      "text/plain": [
       "<PIL.PngImagePlugin.PngImageFile image mode=RGBA size=430x483 at 0x7FEB485CB790>"
      ]
     },
     "execution_count": 24,
     "metadata": {},
     "output_type": "execute_result"
    }
   ],
   "source": [
    "im"
   ]
  },
  {
   "cell_type": "markdown",
   "id": "covered-belief",
   "metadata": {},
   "source": [
    "We can transform this Image into data we can work with using NumPy:"
   ]
  },
  {
   "cell_type": "code",
   "execution_count": 25,
   "id": "sought-campaign",
   "metadata": {},
   "outputs": [],
   "source": [
    "im_data = np.array(im)"
   ]
  },
  {
   "cell_type": "code",
   "execution_count": 26,
   "id": "binding-model",
   "metadata": {},
   "outputs": [
    {
     "data": {
      "text/plain": [
       "array([[[0, 0, 0, 0],\n",
       "        [0, 0, 0, 0],\n",
       "        [0, 0, 0, 0],\n",
       "        ...,\n",
       "        [0, 0, 0, 0],\n",
       "        [0, 0, 0, 0],\n",
       "        [0, 0, 0, 0]],\n",
       "\n",
       "       [[0, 0, 0, 0],\n",
       "        [0, 0, 0, 0],\n",
       "        [0, 0, 0, 0],\n",
       "        ...,\n",
       "        [0, 0, 0, 0],\n",
       "        [0, 0, 0, 0],\n",
       "        [0, 0, 0, 0]],\n",
       "\n",
       "       [[0, 0, 0, 0],\n",
       "        [0, 0, 0, 0],\n",
       "        [0, 0, 0, 0],\n",
       "        ...,\n",
       "        [0, 0, 0, 0],\n",
       "        [0, 0, 0, 0],\n",
       "        [0, 0, 0, 0]],\n",
       "\n",
       "       ...,\n",
       "\n",
       "       [[0, 0, 0, 0],\n",
       "        [0, 0, 0, 0],\n",
       "        [0, 0, 0, 0],\n",
       "        ...,\n",
       "        [0, 0, 0, 0],\n",
       "        [0, 0, 0, 0],\n",
       "        [0, 0, 0, 0]],\n",
       "\n",
       "       [[0, 0, 0, 0],\n",
       "        [0, 0, 0, 0],\n",
       "        [0, 0, 0, 0],\n",
       "        ...,\n",
       "        [0, 0, 0, 0],\n",
       "        [0, 0, 0, 0],\n",
       "        [0, 0, 0, 0]],\n",
       "\n",
       "       [[0, 0, 0, 0],\n",
       "        [0, 0, 0, 0],\n",
       "        [0, 0, 0, 0],\n",
       "        ...,\n",
       "        [0, 0, 0, 0],\n",
       "        [0, 0, 0, 0],\n",
       "        [0, 0, 0, 0]]], dtype=uint8)"
      ]
     },
     "execution_count": 26,
     "metadata": {},
     "output_type": "execute_result"
    }
   ],
   "source": [
    "im_data"
   ]
  },
  {
   "cell_type": "code",
   "execution_count": 27,
   "id": "nasty-destruction",
   "metadata": {},
   "outputs": [
    {
     "data": {
      "text/plain": [
       "(483, 430, 4)"
      ]
     },
     "execution_count": 27,
     "metadata": {},
     "output_type": "execute_result"
    }
   ],
   "source": [
    "im_data.shape # this tells us y,x, RGBA"
   ]
  },
  {
   "cell_type": "code",
   "execution_count": 30,
   "id": "upper-crystal",
   "metadata": {},
   "outputs": [
    {
     "data": {
      "text/plain": [
       "4"
      ]
     },
     "execution_count": 30,
     "metadata": {},
     "output_type": "execute_result"
    }
   ],
   "source": [
    "im_data.shape[2]"
   ]
  },
  {
   "cell_type": "code",
   "execution_count": 29,
   "id": "inappropriate-tokyo",
   "metadata": {},
   "outputs": [
    {
     "data": {
      "text/plain": [
       "array([  0,  22,  33, 126, 255], dtype=uint8)"
      ]
     },
     "execution_count": 29,
     "metadata": {},
     "output_type": "execute_result"
    }
   ],
   "source": [
    "np.unique(im_data) # tells us the unique numbers in the WHOLE of the data set"
   ]
  },
  {
   "cell_type": "markdown",
   "id": "checked-hearts",
   "metadata": {},
   "source": [
    "One way to see the unique RGBA combinations is to loop over the last element of the image shape and print them out:"
   ]
  },
  {
   "cell_type": "code",
   "execution_count": 33,
   "id": "experienced-claim",
   "metadata": {},
   "outputs": [
    {
     "name": "stdout",
     "output_type": "stream",
     "text": [
      "channel =  R , unique values= [  0 126 255]\n",
      "channel =  G , unique values= [  0  22 255]\n",
      "channel =  B , unique values= [  0  33 255]\n",
      "channel =  A , unique values= [  0 255]\n"
     ]
    }
   ],
   "source": [
    "channel_labels = ['R', 'G', 'B', 'A']\n",
    "for i in range(im_data.shape[2]):\n",
    "    print('channel = ', channel_labels[i], ', unique values=', np.unique(im_data[:,:,i])) \n",
    "                                            # prints out numbers in each channel"
   ]
  },
  {
   "cell_type": "markdown",
   "id": "opposed-winner",
   "metadata": {},
   "source": [
    "This is almost there, but not quite what we want.  So, we can do some \"numpy magic\"."
   ]
  },
  {
   "cell_type": "code",
   "execution_count": 34,
   "id": "electric-cricket",
   "metadata": {},
   "outputs": [
    {
     "data": {
      "text/plain": [
       "(483, 430, 4)"
      ]
     },
     "execution_count": 34,
     "metadata": {},
     "output_type": "execute_result"
    }
   ],
   "source": [
    "im_data.shape"
   ]
  },
  {
   "cell_type": "code",
   "execution_count": 36,
   "id": "original-courtesy",
   "metadata": {},
   "outputs": [],
   "source": [
    "im_data.reshape?"
   ]
  },
  {
   "cell_type": "markdown",
   "id": "through-bosnia",
   "metadata": {},
   "source": [
    "You can also google \".reshape numpy\" for examples."
   ]
  },
  {
   "cell_type": "code",
   "execution_count": 38,
   "id": "terminal-producer",
   "metadata": {},
   "outputs": [
    {
     "data": {
      "text/plain": [
       "(207690, 4)"
      ]
     },
     "execution_count": 38,
     "metadata": {},
     "output_type": "execute_result"
    }
   ],
   "source": [
    "im_data.reshape(-1, im_data.shape[2]).shape"
   ]
  },
  {
   "cell_type": "code",
   "execution_count": 39,
   "id": "stone-recording",
   "metadata": {},
   "outputs": [
    {
     "data": {
      "text/plain": [
       "207690"
      ]
     },
     "execution_count": 39,
     "metadata": {},
     "output_type": "execute_result"
    }
   ],
   "source": [
    "483*430"
   ]
  },
  {
   "cell_type": "code",
   "execution_count": 40,
   "id": "thirty-battlefield",
   "metadata": {},
   "outputs": [
    {
     "data": {
      "text/plain": [
       "array([[0, 0, 0, 0],\n",
       "       [0, 0, 0, 0],\n",
       "       [0, 0, 0, 0],\n",
       "       ...,\n",
       "       [0, 0, 0, 0],\n",
       "       [0, 0, 0, 0],\n",
       "       [0, 0, 0, 0]], dtype=uint8)"
      ]
     },
     "execution_count": 40,
     "metadata": {},
     "output_type": "execute_result"
    }
   ],
   "source": [
    "im_data.reshape(-1,im_data.shape[2]) # unpacked the x/y pixels into a long list of pixels"
   ]
  },
  {
   "cell_type": "code",
   "execution_count": 42,
   "id": "better-grounds",
   "metadata": {},
   "outputs": [
    {
     "data": {
      "text/plain": [
       "array([[  0,   0,   0,   0],\n",
       "       [  0,   0,   0, 255],\n",
       "       [126,  22,  33, 255],\n",
       "       [255, 255, 255, 255]], dtype=uint8)"
      ]
     },
     "execution_count": 42,
     "metadata": {},
     "output_type": "execute_result"
    }
   ],
   "source": [
    "np.unique(im_data.reshape(-1,im_data.shape[2]), axis=0) # look for unique values along the \"long\" axis"
   ]
  },
  {
   "cell_type": "code",
   "execution_count": 44,
   "id": "fleet-ireland",
   "metadata": {},
   "outputs": [
    {
     "data": {
      "image/png": "[encoded data removed]",
      "text/plain": [
       "<Figure size 360x360 with 1 Axes>"
      ]
     },
     "metadata": {
      "needs_background": "light"
     },
     "output_type": "display_data"
    }
   ],
   "source": [
    "fig, ax = plt.subplots(figsize=(5,5)) # generating figure & axis objects\n",
    "\n",
    "ax.imshow(im_data) # using the matplotlib imshow function to plot image data\n",
    "\n",
    "plt.show() # showing the image"
   ]
  },
  {
   "cell_type": "code",
   "execution_count": 47,
   "id": "dimensional-friendship",
   "metadata": {},
   "outputs": [
    {
     "data": {
      "image/png": "[encoded data removed]",
      "text/plain": [
       "<Figure size 360x360 with 1 Axes>"
      ]
     },
     "metadata": {
      "needs_background": "light"
     },
     "output_type": "display_data"
    }
   ],
   "source": [
    "fig, ax = plt.subplots(figsize=(5,5)) # generating figure & axis objects\n",
    "\n",
    "# to make the background a specific color\n",
    "ax.set_facecolor(\"gray\") # note: in the notes this is done a bit differently!\n",
    "ax.imshow(im_data) # using the matplotlib imshow function to plot image data\n",
    "\n",
    "plt.show() # showing the image"
   ]
  },
  {
   "cell_type": "markdown",
   "id": "legitimate-crown",
   "metadata": {},
   "source": [
    "Our task: want to measure and visualize the goodness and badness levels of Stitch.\n",
    "\n",
    "The issue with the current representation is that it violates the Principle of Proportional Ink -- the volume of pixels that are red is NOT the same as the \"level of badness\" if we are using a thermometer metaphor."
   ]
  },
  {
   "cell_type": "markdown",
   "id": "functioning-campaign",
   "metadata": {},
   "source": [
    "We are going to create a *filtering mask* to \"mask out\" only the \"good pixels\" of this image (filtering operation!)"
   ]
  },
  {
   "cell_type": "code",
   "execution_count": 48,
   "id": "native-former",
   "metadata": {},
   "outputs": [],
   "source": [
    "# create a red-channel \"good mask\"\n",
    "reds_good_mask = im_data[:,:,0] == 255 # if the red channel = 255, this is the white color"
   ]
  },
  {
   "cell_type": "code",
   "execution_count": 49,
   "id": "american-barrel",
   "metadata": {},
   "outputs": [
    {
     "data": {
      "text/plain": [
       "array([[False, False, False, ..., False, False, False],\n",
       "       [False, False, False, ..., False, False, False],\n",
       "       [False, False, False, ..., False, False, False],\n",
       "       ...,\n",
       "       [False, False, False, ..., False, False, False],\n",
       "       [False, False, False, ..., False, False, False],\n",
       "       [False, False, False, ..., False, False, False]])"
      ]
     },
     "execution_count": 49,
     "metadata": {},
     "output_type": "execute_result"
    }
   ],
   "source": [
    "reds_good_mask"
   ]
  },
  {
   "cell_type": "code",
   "execution_count": 50,
   "id": "ongoing-arrow",
   "metadata": {},
   "outputs": [
    {
     "data": {
      "text/plain": [
       "array([[255, 255, 255, 255],\n",
       "       [255, 255, 255, 255],\n",
       "       [255, 255, 255, 255],\n",
       "       ...,\n",
       "       [255, 255, 255, 255],\n",
       "       [255, 255, 255, 255],\n",
       "       [255, 255, 255, 255]], dtype=uint8)"
      ]
     },
     "execution_count": 50,
     "metadata": {},
     "output_type": "execute_result"
    }
   ],
   "source": [
    "im_data[reds_good_mask]"
   ]
  },
  {
   "cell_type": "markdown",
   "id": "detected-boating",
   "metadata": {},
   "source": [
    "To be *sure* we have only the white pixels, we should really do a mask over all channels:"
   ]
  },
  {
   "cell_type": "code",
   "execution_count": 51,
   "id": "charged-stock",
   "metadata": {},
   "outputs": [],
   "source": [
    "reds_good_mask = im_data[:,:,0] == 255 # if the red channel = 255, this is the white color\n",
    "greens_good_mask = im_data[:,:,1] == 255 # if the green channel = 255, this is the white color\n",
    "blues_good_mask = im_data[:,:,2] == 255 # if the blue channel = 255, this is the white color\n",
    "alphas_good_mask = im_data[:,:,3] == 255 # if the red channel = 255, this is the white color"
   ]
  },
  {
   "cell_type": "code",
   "execution_count": 52,
   "id": "perfect-certification",
   "metadata": {},
   "outputs": [],
   "source": [
    "# boolean combination mask:\n",
    "pixel_mask_good = reds_good_mask & greens_good_mask & blues_good_mask & alphas_good_mask"
   ]
  },
  {
   "cell_type": "markdown",
   "id": "amazing-detail",
   "metadata": {},
   "source": [
    "Using this full boolean filtering mask, we can calculate all of the \"good\" pixels:"
   ]
  },
  {
   "cell_type": "code",
   "execution_count": 53,
   "id": "ordinary-vampire",
   "metadata": {},
   "outputs": [],
   "source": [
    "good_pixels = im_data[pixel_mask_good]"
   ]
  },
  {
   "cell_type": "code",
   "execution_count": 54,
   "id": "collectible-amendment",
   "metadata": {},
   "outputs": [],
   "source": [
    "ngood = len(good_pixels)"
   ]
  },
  {
   "cell_type": "code",
   "execution_count": 55,
   "id": "polyphonic-penny",
   "metadata": {},
   "outputs": [
    {
     "data": {
      "text/plain": [
       "11929"
      ]
     },
     "execution_count": 55,
     "metadata": {},
     "output_type": "execute_result"
    }
   ],
   "source": [
    "ngood"
   ]
  },
  {
   "cell_type": "markdown",
   "id": "comfortable-romance",
   "metadata": {},
   "source": [
    "Quick example to check our logic -- a plot:"
   ]
  },
  {
   "cell_type": "code",
   "execution_count": 56,
   "id": "substantial-tobacco",
   "metadata": {},
   "outputs": [],
   "source": [
    "im_copy = im_data.copy() # copy of original image\n",
    "# turn everything into black & see-through that is NOT a good pixel:\n",
    "im_copy[~pixel_mask_good] = 0"
   ]
  },
  {
   "cell_type": "code",
   "execution_count": 57,
   "id": "visible-attempt",
   "metadata": {},
   "outputs": [
    {
     "data": {
      "image/png": "[encoded data removed]",
      "text/plain": [
       "<Figure size 360x360 with 1 Axes>"
      ]
     },
     "metadata": {
      "needs_background": "light"
     },
     "output_type": "display_data"
    }
   ],
   "source": [
    "fig, ax = plt.subplots(figsize=(5,5))\n",
    "\n",
    "ax.set_facecolor(\"gray\")\n",
    "ax.imshow(im_copy)\n",
    "plt.show()"
   ]
  },
  {
   "cell_type": "markdown",
   "id": "embedded-router",
   "metadata": {},
   "source": [
    "Make a mask for \"bad\" pixels:"
   ]
  },
  {
   "cell_type": "code",
   "execution_count": 58,
   "id": "shared-packing",
   "metadata": {},
   "outputs": [],
   "source": [
    "# [126,  22,  33, 255]\n",
    "pixel_mask_bad = (im_data[:,:,0] == 126) & \\\n",
    "                  (im_data[:,:,1] == 22) & \\\n",
    "                  (im_data[:,:,2] == 33) & \\\n",
    "                  (im_data[:,:,3] == 255)"
   ]
  },
  {
   "cell_type": "code",
   "execution_count": 59,
   "id": "known-planet",
   "metadata": {},
   "outputs": [],
   "source": [
    "nbad = len(im_data[pixel_mask_bad])"
   ]
  },
  {
   "cell_type": "code",
   "execution_count": 60,
   "id": "approximate-benjamin",
   "metadata": {},
   "outputs": [
    {
     "data": {
      "text/plain": [
       "40949"
      ]
     },
     "execution_count": 60,
     "metadata": {},
     "output_type": "execute_result"
    }
   ],
   "source": [
    "nbad"
   ]
  },
  {
   "cell_type": "markdown",
   "id": "settled-turkey",
   "metadata": {},
   "source": [
    "Assuming the principle of portional ink holds: we can calculate the percentages of good and bad pixels:"
   ]
  },
  {
   "cell_type": "code",
   "execution_count": 61,
   "id": "acute-prisoner",
   "metadata": {},
   "outputs": [],
   "source": [
    "total = ngood + nbad # ignores the background and black outlines\n",
    "badness = nbad/total\n",
    "goodness = ngood/total"
   ]
  },
  {
   "cell_type": "code",
   "execution_count": 62,
   "id": "acoustic-organic",
   "metadata": {},
   "outputs": [
    {
     "data": {
      "text/plain": [
       "(0.774405234691176, 0.22559476530882408)"
      ]
     },
     "execution_count": 62,
     "metadata": {},
     "output_type": "execute_result"
    }
   ],
   "source": [
    "badness, goodness"
   ]
  },
  {
   "cell_type": "markdown",
   "id": "behind-inquiry",
   "metadata": {},
   "source": [
    "To compare, let's use the therometer analogy and compare heights:"
   ]
  },
  {
   "cell_type": "code",
   "execution_count": 66,
   "id": "essential-windsor",
   "metadata": {},
   "outputs": [
    {
     "data": {
      "image/png": "[encoded data removed]",
      "text/plain": [
       "<Figure size 360x360 with 1 Axes>"
      ]
     },
     "metadata": {
      "needs_background": "light"
     },
     "output_type": "display_data"
    }
   ],
   "source": [
    "fig, ax = plt.subplots(figsize=(5,5))\n",
    "\n",
    "ax.imshow(im_data)\n",
    "# draw some lines to see approximate goodness/badness based on height\n",
    "ax.plot([0,430], [425, 425]) # approximate bottom line\n",
    "ax.plot([0,430], [75,75]) # top of stitch\n",
    "ax.plot([0,430], [150, 150]) # top of bad line\n",
    "\n",
    "plt.show()"
   ]
  },
  {
   "cell_type": "code",
   "execution_count": 67,
   "id": "conceptual-automation",
   "metadata": {},
   "outputs": [],
   "source": [
    "goodness_apparent = (75-150)/(75-425)"
   ]
  },
  {
   "cell_type": "code",
   "execution_count": 68,
   "id": "accomplished-coast",
   "metadata": {},
   "outputs": [
    {
     "data": {
      "text/plain": [
       "0.21428571428571427"
      ]
     },
     "execution_count": 68,
     "metadata": {},
     "output_type": "execute_result"
    }
   ],
   "source": [
    "goodness_apparent"
   ]
  },
  {
   "cell_type": "code",
   "execution_count": 69,
   "id": "japanese-catch",
   "metadata": {},
   "outputs": [
    {
     "data": {
      "text/plain": [
       "0.7857142857142857"
      ]
     },
     "execution_count": 69,
     "metadata": {},
     "output_type": "execute_result"
    }
   ],
   "source": [
    "1.0-goodness_apparent"
   ]
  },
  {
   "cell_type": "markdown",
   "id": "fleet-journalism",
   "metadata": {},
   "source": [
    "So far, we've done *filtering* and *mutation* - we'll use our new data to make some ~~histograms~~ bar charts.  Bar charts are a better choice for comparing different numbers along 1-axis (how to choose plots later)."
   ]
  },
  {
   "cell_type": "code",
   "execution_count": 70,
   "id": "coated-allowance",
   "metadata": {},
   "outputs": [
    {
     "data": {
      "image/png": "[encoded data removed]",
      "text/plain": [
       "<Figure size 360x360 with 1 Axes>"
      ]
     },
     "metadata": {
      "needs_background": "light"
     },
     "output_type": "display_data"
    }
   ],
   "source": [
    "fig, ax = plt.subplots(figsize=(5,5))\n",
    "\n",
    "labels = np.array(['badness', 'goodness']) # labels for our x-axis\n",
    "values = np.array([badness, goodness]) # heights for our y-axis\n",
    "\n",
    "ax.bar(labels, values) # is another plotting routine in matplotlib (barchart)\n",
    "\n",
    "plt.show()"
   ]
  },
  {
   "cell_type": "code",
   "execution_count": 71,
   "id": "lyric-accident",
   "metadata": {},
   "outputs": [
    {
     "data": {
      "image/png": "[encoded data removed]",
      "text/plain": [
       "<Figure size 360x360 with 1 Axes>"
      ]
     },
     "metadata": {
      "needs_background": "light"
     },
     "output_type": "display_data"
    }
   ],
   "source": [
    "fig, ax = plt.subplots(figsize=(5,5))\n",
    "\n",
    "labels = np.array(['badness', 'goodness']) # labels for our x-axis\n",
    "values = np.array([badness, goodness]) # heights for our y-axis\n",
    "# want to add the ability to visualize colors so we can compare to our image\n",
    "colors = np.array(['maroon', 'gray'])\n",
    "\n",
    "myBarChart = ax.bar(labels, values) # is another plotting routine in matplotlib (barchart)\n",
    "\n",
    "plt.show()"
   ]
  },
  {
   "cell_type": "code",
   "execution_count": 73,
   "id": "later-reviewer",
   "metadata": {},
   "outputs": [
    {
     "data": {
      "text/plain": [
       "<BarContainer object of 2 artists>"
      ]
     },
     "execution_count": 73,
     "metadata": {},
     "output_type": "execute_result"
    }
   ],
   "source": [
    "myBarChart # objects, which are my 2 bars"
   ]
  },
  {
   "cell_type": "code",
   "execution_count": 75,
   "id": "systematic-centre",
   "metadata": {},
   "outputs": [
    {
     "data": {
      "image/png": "[encoded data removed]",
      "text/plain": [
       "<Figure size 216x216 with 1 Axes>"
      ]
     },
     "metadata": {
      "needs_background": "light"
     },
     "output_type": "display_data"
    }
   ],
   "source": [
    "fig, ax = plt.subplots(figsize=(3,3))\n",
    "\n",
    "labels = np.array(['badness', 'goodness']) # labels for our x-axis\n",
    "values = np.array([badness, goodness]) # heights for our y-axis\n",
    "# want to add the ability to visualize colors so we can compare to our image\n",
    "colors = np.array(['maroon', 'gray'])\n",
    "\n",
    "myBarChart = ax.bar(labels, values) # is another plotting routine in matplotlib (barchart)\n",
    "\n",
    "# loop through each bar and set it to a particular color\n",
    "for i in range(len(myBarChart)): # through all bars\n",
    "    myBarChart[i].set_color(colors[i]) # setting the color of the ith bar\n",
    "\n",
    "plt.show()"
   ]
  },
  {
   "cell_type": "markdown",
   "id": "short-money",
   "metadata": {},
   "source": [
    "Ideally - we can use the unique colors in our image (calculated before) to make the colors of each bar."
   ]
  },
  {
   "cell_type": "code",
   "execution_count": 76,
   "id": "casual-summer",
   "metadata": {},
   "outputs": [],
   "source": [
    "number_of_pixels_of_a_color = [] # store the number of pixels of a particular color in my image\n",
    "color_labels = [] # store the color label for the x-axis\n",
    "color_values = [] # RGBA sequence"
   ]
  },
  {
   "cell_type": "code",
   "execution_count": 77,
   "id": "wound-tackle",
   "metadata": {},
   "outputs": [],
   "source": [
    "# grab unique colors in my image\n",
    "unique_colors = np.unique(im_data.reshape(-1, im_data.shape[2]),axis=0)"
   ]
  },
  {
   "cell_type": "code",
   "execution_count": 78,
   "id": "personal-economics",
   "metadata": {},
   "outputs": [
    {
     "data": {
      "text/plain": [
       "array([[  0,   0,   0,   0],\n",
       "       [  0,   0,   0, 255],\n",
       "       [126,  22,  33, 255],\n",
       "       [255, 255, 255, 255]], dtype=uint8)"
      ]
     },
     "execution_count": 78,
     "metadata": {},
     "output_type": "execute_result"
    }
   ],
   "source": [
    "unique_colors"
   ]
  },
  {
   "cell_type": "code",
   "execution_count": 95,
   "id": "elementary-facial",
   "metadata": {},
   "outputs": [],
   "source": [
    "number_of_pixels_of_a_color = [] # store the number of pixels of a particular color in my image\n",
    "color_labels = [] # store the color label for the x-axis\n",
    "color_values = [] # RGBA sequence\n",
    "\n",
    "for icolor, rgba in enumerate(unique_colors): # loop over every unique color (count with icolor), rgba=particular color\n",
    "    #print(icolor, rgba)\n",
    "    \n",
    "    # creating a filtering mask for a particular color\n",
    "    red_mask = im_data[:,:,0] == rgba[0] # [all y pixels, all x pixels, R color] == unique_color's Red channel\n",
    "    green_mask = im_data[:,:,1] == rgba[1] #[all y pixels, all x pixels, G color] == unique_color's Green channel\n",
    "    blue_mask = im_data[:,:,2] == rgba[2] #[all y pixels, all x pixels, B color] == unique_color's Blue channel\n",
    "    alpha_mask = im_data[:,:,3] == rgba[3] #[all y pixels, all x pixels, A channel] == unique_color's Alpha channel\n",
    "    \n",
    "    pixel_mask = red_mask & green_mask & blue_mask & alpha_mask\n",
    "    \n",
    "    # count all of the pixels of a particular color\n",
    "    npixels = len(im_data[pixel_mask])\n",
    "    #print(icolor, rgba, npixels)\n",
    "    number_of_pixels_of_a_color.append(npixels) # storing the number of pixels\n",
    "    \n",
    "    # store the color name for our x-axis\n",
    "    color_labels.append(\"Color #\"+str(icolor))\n",
    "    \n",
    "    # color values (for the color of each bar)\n",
    "    color_values.append(rgba/255) # for the barchart its expecting colors between 0-1"
   ]
  },
  {
   "cell_type": "code",
   "execution_count": 96,
   "id": "unnecessary-habitat",
   "metadata": {},
   "outputs": [
    {
     "data": {
      "text/plain": [
       "[135103, 19709, 40949, 11929]"
      ]
     },
     "execution_count": 96,
     "metadata": {},
     "output_type": "execute_result"
    }
   ],
   "source": [
    "number_of_pixels_of_a_color"
   ]
  },
  {
   "cell_type": "code",
   "execution_count": 97,
   "id": "smaller-procedure",
   "metadata": {},
   "outputs": [
    {
     "data": {
      "text/plain": [
       "['Color #0', 'Color #1', 'Color #2', 'Color #3']"
      ]
     },
     "execution_count": 97,
     "metadata": {},
     "output_type": "execute_result"
    }
   ],
   "source": [
    "color_labels"
   ]
  },
  {
   "cell_type": "code",
   "execution_count": 98,
   "id": "blocked-training",
   "metadata": {},
   "outputs": [
    {
     "data": {
      "text/plain": [
       "[array([0., 0., 0., 0.]),\n",
       " array([0., 0., 0., 1.]),\n",
       " array([0.49411765, 0.08627451, 0.12941176, 1.        ]),\n",
       " array([1., 1., 1., 1.])]"
      ]
     },
     "execution_count": 98,
     "metadata": {},
     "output_type": "execute_result"
    }
   ],
   "source": [
    "color_values"
   ]
  },
  {
   "cell_type": "markdown",
   "id": "distributed-notebook",
   "metadata": {},
   "source": [
    "Finally, we can use all of these to make our bar chart!"
   ]
  },
  {
   "cell_type": "code",
   "execution_count": 103,
   "id": "figured-warrant",
   "metadata": {},
   "outputs": [
    {
     "data": {
      "image/png": "[encoded data removed]",
      "text/plain": [
       "<Figure size 432x216 with 1 Axes>"
      ]
     },
     "metadata": {
      "needs_background": "light"
     },
     "output_type": "display_data"
    }
   ],
   "source": [
    "fig, ax = plt.subplots(figsize=(6,3))\n",
    "\n",
    "#labels = np.array(['badness', 'goodness']) # labels for our x-axis\n",
    "#values = np.array([badness, goodness]) # heights for our y-axis\n",
    "# want to add the ability to visualize colors so we can compare to our image\n",
    "#colors = np.array(['maroon', 'gray'])\n",
    "\n",
    "#myBarChart = ax.bar(labels, values) # is another plotting routine in matplotlib (barchart)\n",
    "ax.set_facecolor('gray')\n",
    "myBarChart = ax.bar(color_labels, number_of_pixels_of_a_color) # labels, # of pixels\n",
    "\n",
    "# loop through each bar and set it to a particular color\n",
    "for i in range(len(myBarChart)): # through all bars\n",
    "    #myBarChart[i].set_color(colors[i]) # setting the color of the ith bar\n",
    "    myBarChart[i].set_color(color_values[i]) # setting the color of the ith bar\n",
    "\n",
    "plt.show()"
   ]
  },
  {
   "cell_type": "code",
   "execution_count": 104,
   "id": "occupational-wagon",
   "metadata": {},
   "outputs": [
    {
     "data": {
      "image/png": "[encoded data removed]",
      "text/plain": [
       "<Figure size 432x216 with 1 Axes>"
      ]
     },
     "metadata": {
      "needs_background": "light"
     },
     "output_type": "display_data"
    }
   ],
   "source": [
    "fig, ax = plt.subplots(figsize=(6,3))\n",
    "\n",
    "ax.set_facecolor('gray')\n",
    "myBarChart = ax.bar(color_labels, number_of_pixels_of_a_color) # labels, # of pixels\n",
    "\n",
    "# loop through each bar and set it to a particular color\n",
    "for i in range(len(myBarChart)): # through all bars\n",
    "    myBarChart[i].set_color(color_values[i]) # setting the color of the ith bar\n",
    "    myBarChart[i].set_edgecolor('black')\n",
    "\n",
    "plt.show()"
   ]
  },
  {
   "cell_type": "code",
   "execution_count": 110,
   "id": "ahead-yemen",
   "metadata": {},
   "outputs": [
    {
     "data": {
      "image/png": "[encoded data removed]",
      "text/plain": [
       "<Figure size 864x216 with 2 Axes>"
      ]
     },
     "metadata": {
      "needs_background": "light"
     },
     "output_type": "display_data"
    }
   ],
   "source": [
    "# real quick: side-by-side images\n",
    "fig, ax = plt.subplots(1,2, figsize=(12,3))\n",
    "\n",
    "ax[0].set_facecolor('gray')\n",
    "myBarChart = ax[0].bar(color_labels, number_of_pixels_of_a_color) # labels, # of pixels\n",
    "\n",
    "# loop through each bar and set it to a particular color\n",
    "for i in range(len(myBarChart)): # through all bars\n",
    "    myBarChart[i].set_color(color_values[i]) # setting the color of the ith bar\n",
    "    myBarChart[i].set_edgecolor('black')\n",
    "    \n",
    "# also plot image\n",
    "ax[1].set_facecolor('gray')\n",
    "ax[1].imshow(im_data)\n",
    "\n",
    "plt.show()"
   ]
  },
  {
   "cell_type": "code",
   "execution_count": 106,
   "id": "metallic-dominant",
   "metadata": {},
   "outputs": [
    {
     "data": {
      "text/plain": [
       "array([<matplotlib.axes._subplots.AxesSubplot object at 0x7feb982fde10>,\n",
       "       <matplotlib.axes._subplots.AxesSubplot object at 0x7feb392625d0>],\n",
       "      dtype=object)"
      ]
     },
     "execution_count": 106,
     "metadata": {},
     "output_type": "execute_result"
    }
   ],
   "source": [
    "ax"
   ]
  },
  {
   "cell_type": "code",
   "execution_count": null,
   "id": "overall-archive",
   "metadata": {},
   "outputs": [],
   "source": []
  }
 ],
 "metadata": {
  "kernelspec": {
   "display_name": "Python 3",
   "language": "python",
   "name": "python3"
  },
  "language_info": {
   "codemirror_mode": {
    "name": "ipython",
    "version": 3
   },
   "file_extension": ".py",
   "mimetype": "text/x-python",
   "name": "python",
   "nbconvert_exporter": "python",
   "pygments_lexer": "ipython3",
   "version": "3.7.9"
  }
 },
 "nbformat": 4,
 "nbformat_minor": 5
}
