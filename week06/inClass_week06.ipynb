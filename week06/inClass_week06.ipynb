{
 "cells": [
  {
   "cell_type": "markdown",
   "id": "respective-store",
   "metadata": {},
   "source": [
    "# In Class Notebook, Week 06"
   ]
  },
  {
   "cell_type": "markdown",
   "id": "2a597611",
   "metadata": {},
   "source": [
    "You can always paste the URL of this notebook (https://github.com/UIUC-iSchool-DataViz/is445_spring2022/blob/master/week06/inClass_week06.ipynb ) into the nbviewer interface for a plain-text rendering:\n",
    "\n",
    "https://kokes.github.io/nbviewer.js/viewer.html"
   ]
  },
  {
   "cell_type": "markdown",
   "id": "1c30fc3c",
   "metadata": {},
   "source": []
  },
  {
   "cell_type": "code",
   "execution_count": 1,
   "id": "84f1b982",
   "metadata": {},
   "outputs": [],
   "source": [
    "import bqplot\n",
    "import numpy as np\n",
    "import ipywidgets"
   ]
  },
  {
   "cell_type": "code",
   "execution_count": 2,
   "id": "63b9accb",
   "metadata": {},
   "outputs": [
    {
     "data": {
      "text/plain": [
       "array([ 0,  1,  2,  3,  4,  5,  6,  7,  8,  9, 10, 11, 12, 13, 14, 15, 16,\n",
       "       17, 18, 19, 20, 21, 22, 23, 24, 25, 26, 27, 28, 29, 30, 31, 32, 33,\n",
       "       34, 35, 36, 37, 38, 39, 40, 41, 42, 43, 44, 45, 46, 47, 48, 49, 50,\n",
       "       51, 52, 53, 54, 55, 56, 57, 58, 59, 60, 61, 62, 63, 64, 65, 66, 67,\n",
       "       68, 69, 70, 71, 72, 73, 74, 75, 76, 77, 78, 79, 80, 81, 82, 83, 84,\n",
       "       85, 86, 87, 88, 89, 90, 91, 92, 93, 94, 95, 96, 97, 98, 99])"
      ]
     },
     "execution_count": 2,
     "metadata": {},
     "output_type": "execute_result"
    }
   ],
   "source": [
    "# #1 in GoG (Grammar of Graphics) is the data!\n",
    "x = np.arange(100)\n",
    "x"
   ]
  },
  {
   "cell_type": "code",
   "execution_count": 3,
   "id": "62b10bc9",
   "metadata": {},
   "outputs": [
    {
     "data": {
      "text/plain": [
       "array([0.74834301, 0.12034855, 0.61114136, 0.39294883, 0.03662979,\n",
       "       0.22368963, 0.97037616, 0.61499508, 0.32417564, 0.81313179,\n",
       "       0.18968267, 0.59096305, 0.55551813, 0.51394554, 0.00102795,\n",
       "       0.08458884, 0.62087629, 0.41249747, 0.0605261 , 0.95480678,\n",
       "       0.27538721, 0.33129882, 0.70467139, 0.12697277, 0.87841244,\n",
       "       0.06339405, 0.14793161, 0.03824327, 0.36352111, 0.38953838,\n",
       "       0.80548825, 0.28345535, 0.31704475, 0.76036026, 0.87913638,\n",
       "       0.0013208 , 0.39163861, 0.27976268, 0.12753653, 0.74749476,\n",
       "       0.26626977, 0.04927151, 0.90757209, 0.45213034, 0.66324023,\n",
       "       0.91703347, 0.66232932, 0.22928813, 0.89160544, 0.84123687,\n",
       "       0.44143626, 0.5647203 , 0.35192449, 0.52572725, 0.34442051,\n",
       "       0.79082822, 0.06833873, 0.69793728, 0.56151945, 0.33400306,\n",
       "       0.52154899, 0.99312135, 0.45379439, 0.7846463 , 0.88974152,\n",
       "       0.17845129, 0.6638428 , 0.06349036, 0.65988712, 0.81578915,\n",
       "       0.58106948, 0.15215742, 0.03565336, 0.99005736, 0.50871824,\n",
       "       0.35227627, 0.22150517, 0.96191417, 0.63027614, 0.02399972,\n",
       "       0.00106088, 0.43135546, 0.66596558, 0.17430413, 0.27887084,\n",
       "       0.94475102, 0.54659179, 0.03074504, 0.75324713, 0.91209971,\n",
       "       0.57926411, 0.03738733, 0.07348801, 0.1897735 , 0.70322575,\n",
       "       0.49241308, 0.50654217, 0.45244143, 0.40230025, 0.81404577])"
      ]
     },
     "execution_count": 3,
     "metadata": {},
     "output_type": "execute_result"
    }
   ],
   "source": [
    "y = np.random.random(100)\n",
    "y"
   ]
  },
  {
   "cell_type": "code",
   "execution_count": 4,
   "id": "6e1a8d42",
   "metadata": {},
   "outputs": [],
   "source": [
    "bqplot.LinearScale?"
   ]
  },
  {
   "cell_type": "code",
   "execution_count": 5,
   "id": "e0364f3f",
   "metadata": {},
   "outputs": [],
   "source": [
    "#2 Scales -- our data is linear so let's use linear scales\n",
    "x_sc = bqplot.LinearScale()\n",
    "y_sc = bqplot.LinearScale()"
   ]
  },
  {
   "cell_type": "code",
   "execution_count": 6,
   "id": "8b37da4a",
   "metadata": {},
   "outputs": [],
   "source": [
    "# #3 Marks -- x/y are linearly related, line is probably a good choice -- Line Mark\n",
    "bqplot.Lines?"
   ]
  },
  {
   "cell_type": "code",
   "execution_count": 7,
   "id": "b5889c42",
   "metadata": {},
   "outputs": [],
   "source": [
    "lines = bqplot.Lines(x=x, y=y, scales={'x':x_sc, 'y':y_sc})"
   ]
  },
  {
   "cell_type": "code",
   "execution_count": 8,
   "id": "23e1d508",
   "metadata": {},
   "outputs": [],
   "source": [
    "# #4 Axis -- where to plot? \n",
    "bqplot.Axis?"
   ]
  },
  {
   "cell_type": "code",
   "execution_count": 9,
   "id": "4ab9c465",
   "metadata": {},
   "outputs": [],
   "source": [
    "ax_x = bqplot.Axis(scale=x_sc, label='X')\n",
    "ax_y = bqplot.Axis(scale=y_sc, label='Y', orientation='vertical')"
   ]
  },
  {
   "cell_type": "code",
   "execution_count": 10,
   "id": "56a57748",
   "metadata": {},
   "outputs": [],
   "source": [
    "# #5 is put together as a figure\n",
    "bqplot.Figure?"
   ]
  },
  {
   "cell_type": "code",
   "execution_count": 11,
   "id": "b338d740",
   "metadata": {},
   "outputs": [],
   "source": [
    "fig = bqplot.Figure(marks=[lines], axes=[ax_x,ax_y])"
   ]
  },
  {
   "cell_type": "code",
   "execution_count": 12,
   "id": "57f80778",
   "metadata": {},
   "outputs": [
    {
     "data": {
      "application/vnd.jupyter.widget-view+json": {
       "model_id": "db8ed81bcc7343d78c029c08f16cf14f",
       "version_major": 2,
       "version_minor": 0
      },
      "text/plain": [
       "Figure(axes=[Axis(label='X', scale=LinearScale(), side='bottom'), Axis(label='Y', orientation='vertical', scal…"
      ]
     },
     "metadata": {},
     "output_type": "display_data"
    }
   ],
   "source": [
    "fig"
   ]
  },
  {
   "cell_type": "code",
   "execution_count": 13,
   "id": "6c4164e1",
   "metadata": {},
   "outputs": [],
   "source": [
    "bqplot.interacts?"
   ]
  },
  {
   "cell_type": "code",
   "execution_count": 14,
   "id": "31967178",
   "metadata": {},
   "outputs": [],
   "source": [
    "# let's add a pan-zoom interaction\n",
    "pz = bqplot.interacts.PanZoom(scales={'x':[x_sc], 'y':[y_sc]})"
   ]
  },
  {
   "cell_type": "code",
   "execution_count": 15,
   "id": "1c9b2f1e",
   "metadata": {},
   "outputs": [],
   "source": [
    "fig = bqplot.Figure(marks=[lines], axes=[ax_x, ax_y], interaction=pz)"
   ]
  },
  {
   "cell_type": "code",
   "execution_count": 16,
   "id": "a6afef91",
   "metadata": {},
   "outputs": [
    {
     "data": {
      "application/vnd.jupyter.widget-view+json": {
       "model_id": "dcda8e71c9f14f05ab3786daf922d947",
       "version_major": 2,
       "version_minor": 0
      },
      "text/plain": [
       "Figure(axes=[Axis(label='X', scale=LinearScale(), side='bottom'), Axis(label='Y', orientation='vertical', scal…"
      ]
     },
     "metadata": {},
     "output_type": "display_data"
    }
   ],
   "source": [
    "fig"
   ]
  },
  {
   "cell_type": "markdown",
   "id": "84944cd2",
   "metadata": {},
   "source": [
    "So far, pretty neat, but could could be neater!\n",
    "\n",
    "### Another example: scatter plot with random data"
   ]
  },
  {
   "cell_type": "code",
   "execution_count": 17,
   "id": "c44315b5",
   "metadata": {},
   "outputs": [],
   "source": [
    "# 1. Data\n",
    "x = np.random.random(100)\n",
    "y = np.random.random(100)"
   ]
  },
  {
   "cell_type": "code",
   "execution_count": 19,
   "id": "388d9177",
   "metadata": {},
   "outputs": [],
   "source": [
    "#x,y"
   ]
  },
  {
   "cell_type": "code",
   "execution_count": 20,
   "id": "c6382e52",
   "metadata": {},
   "outputs": [],
   "source": [
    "# 2. scales\n",
    "x_sc = bqplot.LinearScale()\n",
    "y_sc = bqplot.LinearScale()\n",
    "\n",
    "# 3. axis (sometimes this can be #4 if we aren't sure what mark to use!)\n",
    "x_ax = bqplot.Axis(scale=x_sc, label='X')\n",
    "y_ax = bqplot.Axis(scale=y_sc, label='Y', orientation='vertical')"
   ]
  },
  {
   "cell_type": "code",
   "execution_count": 21,
   "id": "4ad1c2b6",
   "metadata": {},
   "outputs": [],
   "source": [
    "bqplot.Scatter?"
   ]
  },
  {
   "cell_type": "code",
   "execution_count": 22,
   "id": "da8ad63f",
   "metadata": {},
   "outputs": [],
   "source": [
    "# 4. marks\n",
    "scatters = bqplot.Scatter(x=x, y=y, scales={'x':x_sc, 'y':y_sc})"
   ]
  },
  {
   "cell_type": "code",
   "execution_count": 23,
   "id": "4b58afaa",
   "metadata": {},
   "outputs": [],
   "source": [
    "# 5. think about interactions (around step 5)\n",
    "bqplot.interacts.FastIntervalSelector?"
   ]
  },
  {
   "cell_type": "code",
   "execution_count": 24,
   "id": "cf9a6d4b",
   "metadata": {},
   "outputs": [],
   "source": [
    "selector = bqplot.interacts.FastIntervalSelector(scale=x_sc, marks=[scatters])"
   ]
  },
  {
   "cell_type": "code",
   "execution_count": 25,
   "id": "09a64027",
   "metadata": {},
   "outputs": [
    {
     "data": {
      "application/vnd.jupyter.widget-view+json": {
       "model_id": "4a2961da24b64b6d99046418e56b2852",
       "version_major": 2,
       "version_minor": 0
      },
      "text/plain": [
       "Figure(axes=[Axis(label='X', scale=LinearScale(), side='bottom'), Axis(label='Y', orientation='vertical', scal…"
      ]
     },
     "metadata": {},
     "output_type": "display_data"
    }
   ],
   "source": [
    "# Finally -- together as a fig!\n",
    "fig = bqplot.Figure(marks=[scatters], axes=[x_ax,y_ax], interaction=selector)\n",
    "fig"
   ]
  },
  {
   "cell_type": "code",
   "execution_count": 26,
   "id": "276869d1",
   "metadata": {},
   "outputs": [
    {
     "data": {
      "text/plain": [
       "array([0.44144185, 0.77678304])"
      ]
     },
     "execution_count": 26,
     "metadata": {},
     "output_type": "execute_result"
    }
   ],
   "source": [
    "selector.selected"
   ]
  },
  {
   "cell_type": "code",
   "execution_count": 27,
   "id": "89d3d2cc",
   "metadata": {},
   "outputs": [],
   "source": [
    "scatters.unselected_style={'opacity':0.8} #make unselected a bit see-through\n",
    "scatters.selected_style ={'fill':'red', 'stroke':'yellow'}\n",
    "# fill selected with red and outline with yellow"
   ]
  },
  {
   "cell_type": "markdown",
   "id": "4fa86b64",
   "metadata": {},
   "source": [
    "## Thinking to higher dimensions (dashboards) -- Random Heatmap in 2D"
   ]
  },
  {
   "cell_type": "code",
   "execution_count": 28,
   "id": "781949b6",
   "metadata": {},
   "outputs": [],
   "source": [
    "data = np.random.random((10,10)) # #1 data!"
   ]
  },
  {
   "cell_type": "code",
   "execution_count": 30,
   "id": "9df7f6cb",
   "metadata": {},
   "outputs": [],
   "source": [
    "#data"
   ]
  },
  {
   "cell_type": "code",
   "execution_count": 31,
   "id": "46fc7a44",
   "metadata": {},
   "outputs": [],
   "source": [
    "bqplot.GridHeatMap?"
   ]
  },
  {
   "cell_type": "code",
   "execution_count": 32,
   "id": "97fd7b58",
   "metadata": {},
   "outputs": [],
   "source": [
    "bqplot.ColorScale?"
   ]
  },
  {
   "cell_type": "code",
   "execution_count": 33,
   "id": "a57c52ee",
   "metadata": {},
   "outputs": [
    {
     "data": {
      "application/vnd.jupyter.widget-view+json": {
       "model_id": "168ccc2c399d48bda6b86380bd8cceda",
       "version_major": 2,
       "version_minor": 0
      },
      "text/plain": [
       "Figure(fig_margin={'top': 60, 'bottom': 60, 'left': 60, 'right': 60}, marks=[GridHeatMap(color=array([[0.88300…"
      ]
     },
     "metadata": {},
     "output_type": "display_data"
    }
   ],
   "source": [
    "# 2 -- scales (just off with only color)\n",
    "col_sc = bqplot.ColorScale()\n",
    "\n",
    "# 3. axis (leave off for now)\n",
    "\n",
    "# 4. Mark -- heatmap using our colors to map to our data\n",
    "heat_map = bqplot.GridHeatMap(color=data, scales={'color':col_sc})\n",
    "\n",
    "# 5. skipping interactions\n",
    "\n",
    "# finally: figure\n",
    "fig = bqplot.Figure(marks=[heat_map])\n",
    "fig"
   ]
  },
  {
   "cell_type": "code",
   "execution_count": 34,
   "id": "603174c0",
   "metadata": {},
   "outputs": [],
   "source": [
    "bqplot.ColorScale?"
   ]
  },
  {
   "cell_type": "code",
   "execution_count": 36,
   "id": "45b8497e",
   "metadata": {},
   "outputs": [
    {
     "data": {
      "application/vnd.jupyter.widget-view+json": {
       "model_id": "6b817fa853334c1ab09bbbd95f60d43a",
       "version_major": 2,
       "version_minor": 0
      },
      "text/plain": [
       "Figure(fig_margin={'top': 60, 'bottom': 60, 'left': 60, 'right': 60}, marks=[GridHeatMap(color=array([[0.88300…"
      ]
     },
     "metadata": {},
     "output_type": "display_data"
    }
   ],
   "source": [
    "# 2 -- scales (just off with only color)\n",
    "col_sc = bqplot.ColorScale(scheme='Greens')\n",
    "\n",
    "# 3. axis (leave off for now)\n",
    "\n",
    "# 4. Mark -- heatmap using our colors to map to our data\n",
    "heat_map = bqplot.GridHeatMap(color=data, scales={'color':col_sc})\n",
    "\n",
    "# 5. skipping interactions\n",
    "\n",
    "# finally: figure\n",
    "fig = bqplot.Figure(marks=[heat_map])\n",
    "fig"
   ]
  },
  {
   "cell_type": "code",
   "execution_count": 37,
   "id": "0145caec",
   "metadata": {},
   "outputs": [],
   "source": [
    "bqplot.ColorAxis?"
   ]
  },
  {
   "cell_type": "code",
   "execution_count": 40,
   "id": "2ed4a908",
   "metadata": {},
   "outputs": [
    {
     "data": {
      "application/vnd.jupyter.widget-view+json": {
       "model_id": "c1ff03666b9944a6bc5558f8a248e109",
       "version_major": 2,
       "version_minor": 0
      },
      "text/plain": [
       "Figure(axes=[ColorAxis(orientation='vertical', scale=ColorScale(scheme='Greens'), side='right')], fig_margin={…"
      ]
     },
     "metadata": {},
     "output_type": "display_data"
    }
   ],
   "source": [
    "# 2 -- scales (just off with only color)\n",
    "col_sc = bqplot.ColorScale(scheme='Greens')\n",
    "\n",
    "# 3. axis \n",
    "c_ax = bqplot.ColorAxis(scale=col_sc,\n",
    "                       orientation='vertical',\n",
    "                             side='right')\n",
    "\n",
    "# 4. Mark -- heatmap using our colors to map to our data\n",
    "heat_map = bqplot.GridHeatMap(color=data, scales={'color':col_sc})\n",
    "\n",
    "# 5. skipping interactions\n",
    "\n",
    "# finally: figure\n",
    "fig = bqplot.Figure(marks=[heat_map], axes=[c_ax]) # added the colorbar to our Figure\n",
    "fig"
   ]
  },
  {
   "cell_type": "code",
   "execution_count": 41,
   "id": "ea6a1be1",
   "metadata": {},
   "outputs": [],
   "source": [
    "bqplot.OrdinalScale?"
   ]
  },
  {
   "cell_type": "code",
   "execution_count": 45,
   "id": "e831e6ad",
   "metadata": {},
   "outputs": [
    {
     "data": {
      "application/vnd.jupyter.widget-view+json": {
       "model_id": "6c72c962599444ea8091f9e090472a44",
       "version_major": 2,
       "version_minor": 0
      },
      "text/plain": [
       "Figure(axes=[ColorAxis(orientation='vertical', scale=ColorScale(scheme='Greens'), side='right'), Axis(scale=Or…"
      ]
     },
     "metadata": {},
     "output_type": "display_data"
    }
   ],
   "source": [
    "# 2 -- scales (just off with only color)\n",
    "col_sc = bqplot.ColorScale(scheme='Greens')\n",
    "# ordinal scales for x/y bins\n",
    "x_sc = bqplot.OrdinalScale()\n",
    "y_sc = bqplot.OrdinalScale()\n",
    "\n",
    "# 3. axis \n",
    "c_ax = bqplot.ColorAxis(scale=col_sc,\n",
    "                       orientation='vertical',\n",
    "                             side='right')\n",
    "x_ax = bqplot.Axis(scale=x_sc)\n",
    "y_ax = bqplot.Axis(scale=y_sc, orientation='vertical')\n",
    "\n",
    "# 4. Mark -- heatmap using our colors to map to our data\n",
    "heat_map = bqplot.GridHeatMap(color=data, scales={'color':col_sc})\n",
    "\n",
    "# 5. skipping interactions\n",
    "\n",
    "# finally: figure\n",
    "fig = bqplot.Figure(marks=[heat_map], axes=[c_ax, x_ax,y_ax]) # added the colorbar to our Figure\n",
    "fig"
   ]
  },
  {
   "cell_type": "code",
   "execution_count": 47,
   "id": "94ee3e4f",
   "metadata": {},
   "outputs": [],
   "source": [
    "bqplot.GridHeatMap?"
   ]
  },
  {
   "cell_type": "code",
   "execution_count": 48,
   "id": "faba48fd",
   "metadata": {},
   "outputs": [
    {
     "data": {
      "application/vnd.jupyter.widget-view+json": {
       "model_id": "933aa2afd35d475ba4abdfb4aefebda6",
       "version_major": 2,
       "version_minor": 0
      },
      "text/plain": [
       "Figure(axes=[ColorAxis(orientation='vertical', scale=ColorScale(scheme='Greens'), side='right'), Axis(scale=Or…"
      ]
     },
     "metadata": {},
     "output_type": "display_data"
    }
   ],
   "source": [
    "# 2 -- scales (just off with only color)\n",
    "col_sc = bqplot.ColorScale(scheme='Greens')\n",
    "# ordinal scales for x/y bins\n",
    "x_sc = bqplot.OrdinalScale()\n",
    "y_sc = bqplot.OrdinalScale()\n",
    "\n",
    "# 3. axis \n",
    "c_ax = bqplot.ColorAxis(scale=col_sc,\n",
    "                       orientation='vertical',\n",
    "                             side='right')\n",
    "x_ax = bqplot.Axis(scale=x_sc)\n",
    "y_ax = bqplot.Axis(scale=y_sc, orientation='vertical')\n",
    "\n",
    "# 4. Mark -- heatmap using our colors to map to our data\n",
    "heat_map = bqplot.GridHeatMap(color=data, scales={'color':col_sc, \n",
    "                                                 'row':y_sc, \n",
    "                                                 'column':x_sc})\n",
    "\n",
    "# 5. skipping interactions\n",
    "\n",
    "# finally: figure\n",
    "fig = bqplot.Figure(marks=[heat_map], axes=[c_ax, x_ax,y_ax]) # added the colorbar to our Figure\n",
    "fig"
   ]
  },
  {
   "cell_type": "code",
   "execution_count": 50,
   "id": "50db851f",
   "metadata": {},
   "outputs": [
    {
     "data": {
      "application/vnd.jupyter.widget-view+json": {
       "model_id": "62b393b093654b4abfe0dadd248c6996",
       "version_major": 2,
       "version_minor": 0
      },
      "text/plain": [
       "Figure(axes=[ColorAxis(orientation='vertical', scale=ColorScale(scheme='Greens'), side='right'), Axis(scale=Or…"
      ]
     },
     "metadata": {},
     "output_type": "display_data"
    }
   ],
   "source": [
    "# 2 -- scales (just off with only color)\n",
    "col_sc = bqplot.ColorScale(scheme='Greens')\n",
    "# ordinal scales for x/y bins\n",
    "x_sc = bqplot.OrdinalScale()\n",
    "y_sc = bqplot.OrdinalScale()\n",
    "#x_sc = bqplot.LinearScale()\n",
    "#y_sc = bqplot.LinearScale()\n",
    "\n",
    "# 3. axis \n",
    "c_ax = bqplot.ColorAxis(scale=col_sc,\n",
    "                       orientation='vertical',\n",
    "                             side='right')\n",
    "x_ax = bqplot.Axis(scale=x_sc)\n",
    "y_ax = bqplot.Axis(scale=y_sc, orientation='vertical')\n",
    "\n",
    "# 4. Mark -- heatmap using our colors to map to our data\n",
    "heat_map = bqplot.GridHeatMap(color=data, scales={'color':col_sc, \n",
    "                                                 'row':y_sc, \n",
    "                                                 'column':x_sc})\n",
    "\n",
    "# 5. skipping interactions\n",
    "\n",
    "# finally: figure\n",
    "fig = bqplot.Figure(marks=[heat_map], axes=[c_ax, x_ax,y_ax]) # added the colorbar to our Figure\n",
    "fig"
   ]
  },
  {
   "cell_type": "code",
   "execution_count": 56,
   "id": "c6759630",
   "metadata": {},
   "outputs": [
    {
     "data": {
      "application/vnd.jupyter.widget-view+json": {
       "model_id": "57698b35683140dead0ce84fd9042c1f",
       "version_major": 2,
       "version_minor": 0
      },
      "text/plain": [
       "Figure(axes=[ColorAxis(orientation='vertical', scale=ColorScale(scheme='Greens'), side='right'), Axis(scale=Or…"
      ]
     },
     "metadata": {},
     "output_type": "display_data"
    }
   ],
   "source": [
    "# 2 -- scales (just off with only color)\n",
    "col_sc = bqplot.ColorScale(scheme='Greens')\n",
    "# ordinal scales for x/y bins\n",
    "x_sc = bqplot.OrdinalScale()\n",
    "y_sc = bqplot.OrdinalScale()\n",
    "\n",
    "# 3. axis \n",
    "c_ax = bqplot.ColorAxis(scale=col_sc,\n",
    "                       orientation='vertical',\n",
    "                             side='right')\n",
    "x_ax = bqplot.Axis(scale=x_sc)\n",
    "y_ax = bqplot.Axis(scale=y_sc, orientation='vertical')\n",
    "\n",
    "# 4. Mark -- heatmap using our colors to map to our data\n",
    "heat_map = bqplot.GridHeatMap(color=data, scales={'color':col_sc, \n",
    "                                                 'row':y_sc, \n",
    "                                                 'column':x_sc},\n",
    "                              interactions={'click':'select'},\n",
    "                             selected_style={'fill':'magenta'})\n",
    "\n",
    "# 5. interactions happened in the mark call itself!\n",
    "\n",
    "# finally: figure\n",
    "fig = bqplot.Figure(marks=[heat_map], axes=[c_ax, x_ax,y_ax]) # added the colorbar to our Figure\n",
    "fig"
   ]
  },
  {
   "cell_type": "code",
   "execution_count": 52,
   "id": "de931197",
   "metadata": {},
   "outputs": [],
   "source": [
    "bqplot.GridHeatMap?"
   ]
  },
  {
   "cell_type": "code",
   "execution_count": 53,
   "id": "2c56bd17",
   "metadata": {},
   "outputs": [
    {
     "data": {
      "text/plain": [
       "['_model_module',\n",
       " '_model_module_version',\n",
       " '_model_name',\n",
       " '_view_count',\n",
       " '_view_module',\n",
       " '_view_module_version',\n",
       " '_view_name',\n",
       " 'anchor_style',\n",
       " 'apply_clip',\n",
       " 'color',\n",
       " 'column',\n",
       " 'column_align',\n",
       " 'display_format',\n",
       " 'display_legend',\n",
       " 'enable_hover',\n",
       " 'font_style',\n",
       " 'interactions',\n",
       " 'labels',\n",
       " 'null_color',\n",
       " 'opacity',\n",
       " 'preserve_domain',\n",
       " 'row',\n",
       " 'row_align',\n",
       " 'scales',\n",
       " 'scales_metadata',\n",
       " 'selected',\n",
       " 'selected_style',\n",
       " 'stroke',\n",
       " 'tooltip',\n",
       " 'tooltip_location',\n",
       " 'tooltip_style',\n",
       " 'unselected_style',\n",
       " 'visible']"
      ]
     },
     "execution_count": 53,
     "metadata": {},
     "output_type": "execute_result"
    }
   ],
   "source": [
    "heat_map.keys"
   ]
  },
  {
   "cell_type": "code",
   "execution_count": 58,
   "id": "583b1095",
   "metadata": {},
   "outputs": [
    {
     "data": {
      "text/plain": [
       "array([[0, 0]])"
      ]
     },
     "execution_count": 58,
     "metadata": {},
     "output_type": "execute_result"
    }
   ],
   "source": [
    "heat_map.selected"
   ]
  },
  {
   "cell_type": "code",
   "execution_count": 59,
   "id": "279d4180",
   "metadata": {},
   "outputs": [],
   "source": [
    "def on_selected(change):\n",
    "    print(change)"
   ]
  },
  {
   "cell_type": "code",
   "execution_count": null,
   "id": "e49b6e8e",
   "metadata": {},
   "outputs": [],
   "source": [
    "# 2 -- scales (just off with only color)\n",
    "col_sc = bqplot.ColorScale(scheme='Greens')\n",
    "# ordinal scales for x/y bins\n",
    "x_sc = bqplot.OrdinalScale()\n",
    "y_sc = bqplot.OrdinalScale()\n",
    "\n",
    "# 3. axis \n",
    "c_ax = bqplot.ColorAxis(scale=col_sc,\n",
    "                       orientation='vertical',\n",
    "                             side='right')\n",
    "x_ax = bqplot.Axis(scale=x_sc)\n",
    "y_ax = bqplot.Axis(scale=y_sc, orientation='vertical')\n",
    "\n",
    "# 4. Mark -- heatmap using our colors to map to our data\n",
    "heat_map = bqplot.GridHeatMap(color=data, scales={'color':col_sc, \n",
    "                                                 'row':y_sc, \n",
    "                                                 'column':x_sc},\n",
    "                              interactions={'click':'select'},\n",
    "                             selected_style={'fill':'magenta'})\n",
    "\n",
    "# 5. specify what happens when a s\n",
    "\n",
    "# finally: figure\n",
    "fig = bqplot.Figure(marks=[heat_map], axes=[c_ax, x_ax,y_ax]) # added the colorbar to our Figure\n",
    "fig"
   ]
  }
 ],
 "metadata": {
  "kernelspec": {
   "display_name": "Python 3 (ipykernel)",
   "language": "python",
   "name": "python3"
  },
  "language_info": {
   "codemirror_mode": {
    "name": "ipython",
    "version": 3
   },
   "file_extension": ".py",
   "mimetype": "text/x-python",
   "name": "python",
   "nbconvert_exporter": "python",
   "pygments_lexer": "ipython3",
   "version": "3.7.12"
  }
 },
 "nbformat": 4,
 "nbformat_minor": 5
}
