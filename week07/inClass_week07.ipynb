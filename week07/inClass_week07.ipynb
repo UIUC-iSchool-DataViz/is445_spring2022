{
 "cells": [
  {
   "cell_type": "markdown",
   "id": "respective-store",
   "metadata": {},
   "source": [
    "# In Class Notebook, Week 07"
   ]
  },
  {
   "cell_type": "markdown",
   "id": "2a597611",
   "metadata": {},
   "source": [
    "You can always paste the URL of this notebook (https://github.com/UIUC-iSchool-DataViz/is445_spring2022/blob/master/week07/inClass_week07.ipynb ) into the nbviewer interface for a plain-text rendering:\n",
    "\n",
    "https://kokes.github.io/nbviewer.js/viewer.html"
   ]
  },
  {
   "cell_type": "code",
   "execution_count": 1,
   "id": "518e75cc",
   "metadata": {},
   "outputs": [],
   "source": [
    "# import our usual things\n",
    "import pandas as pd\n",
    "import bqplot \n",
    "import numpy as np\n",
    "import ipywidgets\n",
    "import matplotlib.pyplot as plt"
   ]
  },
  {
   "cell_type": "code",
   "execution_count": 2,
   "id": "85b75088",
   "metadata": {},
   "outputs": [],
   "source": [
    "data = np.random.random((10,10,20))"
   ]
  },
  {
   "cell_type": "code",
   "execution_count": 3,
   "id": "f318646d",
   "metadata": {},
   "outputs": [
    {
     "data": {
      "text/plain": [
       "(10, 10, 20)"
      ]
     },
     "execution_count": 3,
     "metadata": {},
     "output_type": "execute_result"
    }
   ],
   "source": [
    "data.shape"
   ]
  },
  {
   "cell_type": "code",
   "execution_count": 4,
   "id": "042dbba3",
   "metadata": {},
   "outputs": [
    {
     "data": {
      "text/plain": [
       "array([0.07119276, 0.5339507 , 0.80583913, 0.80294036, 0.41181973,\n",
       "       0.55648532, 0.81195724, 0.69063172, 0.21087759, 0.38714765,\n",
       "       0.33739521, 0.91308073, 0.08896405, 0.45384509, 0.43151658,\n",
       "       0.80063635, 0.07901114, 0.88916352, 0.50246675, 0.19728234])"
      ]
     },
     "execution_count": 4,
     "metadata": {},
     "output_type": "execute_result"
    }
   ],
   "source": [
    "data[0,0,:]"
   ]
  },
  {
   "cell_type": "code",
   "execution_count": 5,
   "id": "0673c75e",
   "metadata": {},
   "outputs": [],
   "source": [
    "myLabel = ipywidgets.Label()"
   ]
  },
  {
   "cell_type": "code",
   "execution_count": 10,
   "id": "2db00933",
   "metadata": {},
   "outputs": [],
   "source": [
    "myLabel.value = str(data[0,0,:].mean())"
   ]
  },
  {
   "cell_type": "code",
   "execution_count": 9,
   "id": "3526e045",
   "metadata": {},
   "outputs": [
    {
     "data": {
      "application/vnd.jupyter.widget-view+json": {
       "model_id": "5e25b10616b54692a42b6e4b4ef1d9de",
       "version_major": 2,
       "version_minor": 0
      },
      "text/plain": [
       "Label(value='[[0.4988102  0.50040233 0.60487685 0.52798817 0.56697864 0.56730042\\n  0.58249943 0.51037515 0.60…"
      ]
     },
     "metadata": {},
     "output_type": "display_data"
    }
   ],
   "source": [
    "myLabel"
   ]
  },
  {
   "cell_type": "code",
   "execution_count": 11,
   "id": "3ba291c1",
   "metadata": {},
   "outputs": [
    {
     "data": {
      "text/plain": [
       "(10, 10)"
      ]
     },
     "execution_count": 11,
     "metadata": {},
     "output_type": "execute_result"
    }
   ],
   "source": [
    "data.mean(axis=2).shape"
   ]
  },
  {
   "cell_type": "code",
   "execution_count": 14,
   "id": "eae7aa8c",
   "metadata": {},
   "outputs": [
    {
     "data": {
      "text/plain": [
       "(10, 20)"
      ]
     },
     "execution_count": 14,
     "metadata": {},
     "output_type": "execute_result"
    }
   ],
   "source": [
    "data.mean(axis=0).shape"
   ]
  },
  {
   "cell_type": "code",
   "execution_count": null,
   "id": "d43ba927",
   "metadata": {},
   "outputs": [],
   "source": []
  },
  {
   "cell_type": "code",
   "execution_count": 12,
   "id": "d226de4a",
   "metadata": {},
   "outputs": [],
   "source": [
    "# reminder of what a \"on selection\" function looks like\n",
    "def on_selected(change):\n",
    "    #print(change)\n",
    "    #print(change['owner'])\n",
    "    if len(change['owner'].selected) == 1: # only allow user to select one bin at a time\n",
    "        i,j = change['owner'].selected[0]\n",
    "        print(i,j)"
   ]
  },
  {
   "cell_type": "code",
   "execution_count": 13,
   "id": "7cb177bb",
   "metadata": {},
   "outputs": [
    {
     "data": {
      "application/vnd.jupyter.widget-view+json": {
       "model_id": "9612145b606743dfb8f6fda1dec3da70",
       "version_major": 2,
       "version_minor": 0
      },
      "text/plain": [
       "VBox(children=(Label(value='0.4988101979601356'), Figure(axes=[ColorAxis(orientation='vertical', scale=ColorSc…"
      ]
     },
     "metadata": {},
     "output_type": "display_data"
    },
    {
     "name": "stdout",
     "output_type": "stream",
     "text": [
      "5 2\n",
      "1 1\n",
      "2 3\n",
      "0 0\n",
      "0 1\n",
      "0 2\n"
     ]
    }
   ],
   "source": [
    "# 1. data (random dataset)\n",
    "\n",
    "#2. Scales\n",
    "col_sc = bqplot.ColorScale(scheme='Greens')\n",
    "x_sc = bqplot.OrdinalScale()\n",
    "y_sc = bqplot.OrdinalScale()\n",
    "\n",
    "# 3. axis\n",
    "ax_col = bqplot.ColorAxis(scale=col_sc, orientation='vertical', side='right')\n",
    "ax_x = bqplot.Axis(scale=x_sc)\n",
    "ax_y = bqplot.Axis(scale=y_sc, orientation='vertical')\n",
    "\n",
    "# 4. Mark (heatmap)\n",
    "heat_map = bqplot.GridHeatMap(color=data.mean(axis=2),\n",
    "                              scales={'color':col_sc, 'row':y_sc, 'column':x_sc},\n",
    "                              interactions={'click':'select'},\n",
    "                              selected_style={'fill':'magenta'})\n",
    "\n",
    "# 5. interaction, cont.\n",
    "heat_map.observe(on_selected,'selected')\n",
    "\n",
    "# combine into a figure\n",
    "fig = bqplot.Figure(marks=[heat_map],axes=[ax_col, ax_x, ax_y])\n",
    "\n",
    "# Finally dashboard\n",
    "myDashboard = ipywidgets.VBox([myLabel,fig])\n",
    "myDashboard"
   ]
  },
  {
   "cell_type": "code",
   "execution_count": null,
   "id": "b0df15f0",
   "metadata": {},
   "outputs": [],
   "source": []
  }
 ],
 "metadata": {
  "kernelspec": {
   "display_name": "Python 3 (ipykernel)",
   "language": "python",
   "name": "python3"
  },
  "language_info": {
   "codemirror_mode": {
    "name": "ipython",
    "version": 3
   },
   "file_extension": ".py",
   "mimetype": "text/x-python",
   "name": "python",
   "nbconvert_exporter": "python",
   "pygments_lexer": "ipython3",
   "version": "3.7.12"
  }
 },
 "nbformat": 4,
 "nbformat_minor": 5
}
