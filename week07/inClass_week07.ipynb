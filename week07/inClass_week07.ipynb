{
 "cells": [
  {
   "cell_type": "markdown",
   "id": "respective-store",
   "metadata": {},
   "source": [
    "# In Class Notebook, Week 07"
   ]
  },
  {
   "cell_type": "markdown",
   "id": "2a597611",
   "metadata": {},
   "source": [
    "You can always paste the URL of this notebook (https://github.com/UIUC-iSchool-DataViz/is445_spring2022/blob/master/week07/inClass_week07.ipynb ) into the nbviewer interface for a plain-text rendering:\n",
    "\n",
    "https://kokes.github.io/nbviewer.js/viewer.html"
   ]
  },
  {
   "cell_type": "code",
   "execution_count": 1,
   "id": "518e75cc",
   "metadata": {},
   "outputs": [],
   "source": [
    "# import our usual things\n",
    "import pandas as pd\n",
    "import bqplot \n",
    "import numpy as np\n",
    "import ipywidgets\n",
    "import matplotlib.pyplot as plt"
   ]
  },
  {
   "cell_type": "code",
   "execution_count": 2,
   "id": "d20e1ccb",
   "metadata": {},
   "outputs": [],
   "source": [
    "data = np.random.random((10,10,20))"
   ]
  },
  {
   "cell_type": "code",
   "execution_count": 3,
   "id": "f93ee31f",
   "metadata": {},
   "outputs": [
    {
     "data": {
      "text/plain": [
       "(10, 10, 20)"
      ]
     },
     "execution_count": 3,
     "metadata": {},
     "output_type": "execute_result"
    }
   ],
   "source": [
    "data.shape"
   ]
  },
  {
   "cell_type": "code",
   "execution_count": 4,
   "id": "c4d0276e",
   "metadata": {},
   "outputs": [
    {
     "data": {
      "text/plain": [
       "array([0.07119276, 0.5339507 , 0.80583913, 0.80294036, 0.41181973,\n",
       "       0.55648532, 0.81195724, 0.69063172, 0.21087759, 0.38714765,\n",
       "       0.33739521, 0.91308073, 0.08896405, 0.45384509, 0.43151658,\n",
       "       0.80063635, 0.07901114, 0.88916352, 0.50246675, 0.19728234])"
      ]
     },
     "execution_count": 4,
     "metadata": {},
     "output_type": "execute_result"
    }
   ],
   "source": [
    "data[0,0,:]"
   ]
  },
  {
   "cell_type": "code",
   "execution_count": 5,
   "id": "d68da60a",
   "metadata": {},
   "outputs": [],
   "source": [
    "myLabel = ipywidgets.Label()"
   ]
  },
  {
   "cell_type": "code",
   "execution_count": 10,
   "id": "9df65b2f",
   "metadata": {},
   "outputs": [],
   "source": [
    "myLabel.value = str(data[0,0,:].mean())"
   ]
  },
  {
   "cell_type": "code",
   "execution_count": 9,
   "id": "ae8e539b",
   "metadata": {},
   "outputs": [
    {
     "data": {
      "application/vnd.jupyter.widget-view+json": {
       "model_id": "5e25b10616b54692a42b6e4b4ef1d9de",
       "version_major": 2,
       "version_minor": 0
      },
      "text/plain": [
       "Label(value='[[0.4988102  0.50040233 0.60487685 0.52798817 0.56697864 0.56730042\\n  0.58249943 0.51037515 0.60…"
      ]
     },
     "metadata": {},
     "output_type": "display_data"
    }
   ],
   "source": [
    "myLabel"
   ]
  },
  {
   "cell_type": "code",
   "execution_count": 11,
   "id": "d17f42b1",
   "metadata": {},
   "outputs": [
    {
     "data": {
      "text/plain": [
       "(10, 10)"
      ]
     },
     "execution_count": 11,
     "metadata": {},
     "output_type": "execute_result"
    }
   ],
   "source": [
    "data.mean(axis=2).shape"
   ]
  },
  {
   "cell_type": "code",
   "execution_count": null,
   "id": "f36d2f82",
   "metadata": {},
   "outputs": [],
   "source": [
    "# reminder of what a \"on selection\" function looks like\n",
    "def on_selected(change):\n",
    "    "
   ]
  }
 ],
 "metadata": {
  "kernelspec": {
   "display_name": "Python 3 (ipykernel)",
   "language": "python",
   "name": "python3"
  },
  "language_info": {
   "codemirror_mode": {
    "name": "ipython",
    "version": 3
   },
   "file_extension": ".py",
   "mimetype": "text/x-python",
   "name": "python",
   "nbconvert_exporter": "python",
   "pygments_lexer": "ipython3",
   "version": "3.7.12"
  }
 },
 "nbformat": 4,
 "nbformat_minor": 5
}
